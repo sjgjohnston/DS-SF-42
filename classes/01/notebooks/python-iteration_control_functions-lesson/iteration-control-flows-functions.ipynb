{
 "cells": [
  {
   "cell_type": "markdown",
   "metadata": {},
   "source": [
    "<img src=\"http://imgur.com/1ZcRyrc.png\" style=\"float: left; margin: 20px; height: 55px\">\n",
    "\n",
    "# Review python iteration, control flows, and functions\n",
    "\n",
    "_Author: Kiefer Katovich (SF) and Dave Yerrington (SF)_\n",
    "\n",
    "---\n",
    "\n",
    "\n",
    "\n",
    "\n",
    "### Learning Objectives\n",
    " \n",
    "- Explore `Python` control flow and conditional programming.  \n",
    "- Implement `For` and `While` loops to iterate through data structures.\n",
    "- Apply `if, else` conditional statements.\n",
    "- Create functions to perform repetitive actions.\n",
    "- Demonstrate error-handling using `try, except` statements.\n",
    "- Combine control flow and conditional statements to solve the classic \"FizzBuzz\" code challenge.\n",
    "- Use `Python` control flow and functions to help us parse, clean, edit and analyze the Coffee Preferences dataset.\n",
    "\n",
    "---\n",
    "### Lesson Guide\n",
    "\n",
    "- [If Else Statement](#if_else_statements)\n",
    "- [Iterating With For Loops](#for_loops)\n",
    "- [FizzBuzz](#fizz_buzz)\n",
    "- [Functions](#functions)\n",
    "- [While Loops](#while_loops)\n",
    "- [Practice control flow on Coffee Preference dataset](#coffee_preference)\n"
   ]
  },
  {
   "cell_type": "markdown",
   "metadata": {},
   "source": [
    "<a id='if_else_statements'></a>\n",
    "\n",
    "# If, Else Statements"
   ]
  },
  {
   "cell_type": "markdown",
   "metadata": {},
   "source": [
    "---\n",
    "\n",
    "### 1. Write an if-else statement to check whether the suitcase is over 50lb.\n",
    "\n",
    "Print a message indicating whether or not the suitcase is over 50lbs."
   ]
  },
  {
   "cell_type": "code",
   "execution_count": 2,
   "metadata": {},
   "outputs": [
    {
     "name": "stdout",
     "output_type": "stream",
     "text": [
      "How many pounds does your suitcase weigh? 70\n"
     ]
    }
   ],
   "source": [
    "weight = float(input(\"How many pounds does your suitcase weigh? \"))"
   ]
  },
  {
   "cell_type": "code",
   "execution_count": 8,
   "metadata": {},
   "outputs": [
    {
     "name": "stdout",
     "output_type": "stream",
     "text": [
      "How many pounds does your suitcase weigh? 23\n",
      "Suitcase is under 50.0 lbs\n"
     ]
    }
   ],
   "source": [
    "# A:\n",
    "weight = float(input(\"How many pounds does your suitcase weigh? \"))\n",
    "\n",
    "if weight > 50.0:\n",
    "    print \"Suitcase is over 50.0 lbs\"\n",
    "else:\n",
    "    print \"Suitcase is under 50.0 lbs\""
   ]
  },
  {
   "cell_type": "markdown",
   "metadata": {},
   "source": [
    "---\n",
    "\n",
    "### 2. Write an if-else statement for multiple conditions.\n",
    "\n",
    "Print out these recommendations based on the weather conditions:\n",
    "\n",
    "1. The temperature is higher than 60 degrees and it is raining: Bring an umbrella.\n",
    "2. The temperature is lower than or equal to 60 degrees and it is raining: Bring an umbrella and a jacket.\n",
    "3. The temperature is higher than 60 degrees and the sun is shining: Wear a T-shirt.\n",
    "4. The temperature is lower than or equal to 60 degrees and the sun is shining: Bring a jacket."
   ]
  },
  {
   "cell_type": "code",
   "execution_count": 4,
   "metadata": {},
   "outputs": [
    {
     "name": "stdout",
     "output_type": "stream",
     "text": [
      "What is the temperature? 100\n",
      "What is the weather? (rain or shine) shine\n"
     ]
    }
   ],
   "source": [
    "temperature = float(input('What is the temperature? '))\n",
    "weather = raw_input('What is the weather? (rain or shine) ')"
   ]
  },
  {
   "cell_type": "code",
   "execution_count": 11,
   "metadata": {},
   "outputs": [
    {
     "name": "stdout",
     "output_type": "stream",
     "text": [
      "What is the temperature? 61\n",
      "What is the weather? (rain or shine) rain\n",
      "The temperature is higher than 60 degrees and it is raining: Bring an umbrella and a jacket.\n"
     ]
    }
   ],
   "source": [
    "# A:\n",
    "temperature = float(input('What is the temperature? '))\n",
    "weather = raw_input('What is the weather? (rain or shine) ')\n",
    "\n",
    "if temperature > 60.0:\n",
    "    temperature_string = \"The temperature is higher than 60 degrees\"\n",
    "elif temperature <= 60.0:\n",
    "    temperature_string = \"The temperature is lower than or equal to 60 degrees\"\n",
    "else:\n",
    "    temperature_string = \"Invalid temperature input.\\n\"\n",
    "\n",
    "if weather == \"rain\":\n",
    "    weather_string = \"and it is raining: Bring an umbrella and a jacket.\"\n",
    "elif weather == \"shine\":\n",
    "    weather_string = \"and the sun is shining: Wear a T-shirt\"\n",
    "else:\n",
    "    weather_string = \"Invalid weather input.\\n\"\n",
    "    \n",
    "print \"%s %s\" % (temperature_string, weather_string)\n"
   ]
  },
  {
   "cell_type": "markdown",
   "metadata": {},
   "source": [
    "---\n",
    "<a id='for_loops'></a>\n",
    "# For Loops\n",
    "\n",
    "---\n",
    "### 3. Write a `for`-loop that iterates from the number 1 to the number 15.\n",
    "\n",
    "On each iteration, print out the number."
   ]
  },
  {
   "cell_type": "code",
   "execution_count": 18,
   "metadata": {},
   "outputs": [
    {
     "name": "stdout",
     "output_type": "stream",
     "text": [
      "1\n",
      "2\n",
      "3\n",
      "4\n",
      "5\n",
      "6\n",
      "7\n",
      "8\n",
      "9\n",
      "10\n",
      "11\n",
      "12\n",
      "13\n",
      "14\n",
      "15\n"
     ]
    }
   ],
   "source": [
    "# A:\n",
    "for i in range(1, 16):\n",
    "    print i"
   ]
  },
  {
   "cell_type": "markdown",
   "metadata": {},
   "source": [
    "---\n",
    "\n",
    "### 4. Iterate from 1 to 15, printing whether the number is odd or even.\n",
    "\n",
    "Hint: The modulus operator, `%`, can be used to take the remainder. For example:\n",
    "\n",
    "```python\n",
    "9 % 5 == 4\n",
    "```\n",
    "\n",
    "Or in other words, the remainder of dividing 9 by 5 is 4. "
   ]
  },
  {
   "cell_type": "code",
   "execution_count": 19,
   "metadata": {},
   "outputs": [
    {
     "name": "stdout",
     "output_type": "stream",
     "text": [
      "1 is odd\n",
      "2 is even\n",
      "3 is odd\n",
      "4 is even\n",
      "5 is odd\n",
      "6 is even\n",
      "7 is odd\n",
      "8 is even\n",
      "9 is odd\n",
      "10 is even\n",
      "11 is odd\n",
      "12 is even\n",
      "13 is odd\n",
      "14 is even\n",
      "15 is odd\n"
     ]
    }
   ],
   "source": [
    "# A:\n",
    "for i in range(1, 16):\n",
    "    if i % 2:\n",
    "        print \"%s is odd\" % (i)\n",
    "    else:\n",
    "        print \"%s is even\" % (i)\n",
    "\n",
    "        "
   ]
  },
  {
   "cell_type": "markdown",
   "metadata": {},
   "source": [
    "---\n",
    "<a id='fizz_buzz'></a>\n",
    "### 5. Iterate from 1 to 30 with the following instructions:\n",
    "\n",
    "1. If a number is divisible by 3, print 'fizz'. \n",
    "2. If a number is divisible by 5, print 'buzz'. \n",
    "3. If a number is both divisible by 3 and 5 print 'fizzbuzz'.\n",
    "4. Otherwise, print just the number."
   ]
  },
  {
   "cell_type": "code",
   "execution_count": 29,
   "metadata": {},
   "outputs": [
    {
     "name": "stdout",
     "output_type": "stream",
     "text": [
      "1 \n",
      "2 \n",
      "3 fizz\n",
      "4 \n",
      "5 buzz\n",
      "6 fizz\n",
      "7 \n",
      "8 \n",
      "9 fizz\n",
      "10 buzz\n",
      "11 \n",
      "12 fizz\n",
      "13 \n",
      "14 \n",
      "15 fizzbuzz\n",
      "16 \n",
      "17 \n",
      "18 fizz\n",
      "19 \n",
      "20 buzz\n",
      "21 fizz\n",
      "22 \n",
      "23 \n",
      "24 fizz\n",
      "25 buzz\n",
      "26 \n",
      "27 fizz\n",
      "28 \n",
      "29 \n",
      "30 fizzbuzz\n"
     ]
    }
   ],
   "source": [
    "# A:\n",
    "for i in range(1, 31):\n",
    "    output_str = \"%s \" % i\n",
    "    \n",
    "    if (i % 3 == 0):\n",
    "        output_str = output_str + \"fizz\"\n",
    "    \n",
    "    if (i % 5 == 0):\n",
    "        output_str = output_str + \"buzz\"\n",
    "\n",
    "    print \"%s\" % output_str\n",
    "    "
   ]
  },
  {
   "cell_type": "markdown",
   "metadata": {},
   "source": [
    "---\n",
    "\n",
    "### 6. Iterate through the following list of animals, and print each one in all caps."
   ]
  },
  {
   "cell_type": "code",
   "execution_count": 9,
   "metadata": {
    "collapsed": true
   },
   "outputs": [],
   "source": [
    "animals = ['duck', 'rat', 'boar', 'slug', 'mammoth', 'gazelle']"
   ]
  },
  {
   "cell_type": "code",
   "execution_count": 16,
   "metadata": {},
   "outputs": [
    {
     "name": "stdout",
     "output_type": "stream",
     "text": [
      "DUCK\n",
      "RAT\n",
      "BOAR\n",
      "SLUG\n",
      "MAMMOTH\n",
      "GAZELLE\n"
     ]
    }
   ],
   "source": [
    "# A:\n",
    "animals = ['duck', 'rat', 'boar', 'slug', 'mammoth', 'gazelle']\n",
    "\n",
    "for animal in animals:\n",
    "    print animal.upper()"
   ]
  },
  {
   "cell_type": "markdown",
   "metadata": {},
   "source": [
    "---\n",
    "\n",
    "### 7. Iterate through the animals list. Capitalize the first letter and append the modified animals to a new list."
   ]
  },
  {
   "cell_type": "code",
   "execution_count": 46,
   "metadata": {},
   "outputs": [
    {
     "name": "stdout",
     "output_type": "stream",
     "text": [
      "Duck\n",
      "Rat\n",
      "Boar\n",
      "Slug\n",
      "Mammoth\n",
      "Gazelle\n"
     ]
    }
   ],
   "source": [
    "# A:\n",
    "animals = ['duck', 'rat', 'boar', 'slug', 'mammoth', 'gazelle']\n",
    "capitalized_animals=[]\n",
    "\n",
    "for animal in animals:\n",
    "    capitalized_animal = animal[0].upper() + animal[1:len(animal)]\n",
    "    # print capitalized_animal\n",
    "    capitalized_animals.append(capitalized_animal)\n",
    "\n",
    "for animal in capitalized_animals:\n",
    "    print animal"
   ]
  },
  {
   "cell_type": "markdown",
   "metadata": {},
   "source": [
    "---\n",
    "\n",
    "### 8. Iterate through the animals. Print out the animal name and the number of vowels in the name.\n",
    "Hint: You may need to create a variable of vowels for comparison.  "
   ]
  },
  {
   "cell_type": "code",
   "execution_count": 55,
   "metadata": {},
   "outputs": [
    {
     "name": "stdout",
     "output_type": "stream",
     "text": [
      "'duck' has 1 vowels\n",
      "'rat' has 1 vowels\n",
      "'boar' has 2 vowels\n",
      "'slug' has 1 vowels\n",
      "'mammoth' has 2 vowels\n",
      "'gazelle' has 3 vowels\n"
     ]
    }
   ],
   "source": [
    "# A:\n",
    "# Assuming that you are asking for the number of vowel instances not the number of unique vowels used despite repetition\n",
    "\n",
    "animals = ['duck', 'rat', 'boar', 'slug', 'mammoth', 'gazelle']\n",
    "vowels = ['a', 'e' ,'i' , 'o', 'u']\n",
    "\n",
    "for animal in animals:\n",
    "    vowel_count = 0\n",
    "\n",
    "    letter = 0\n",
    "    while letter < len(animal): \n",
    "        if animal[letter] in vowels:\n",
    "              vowel_count += 1\n",
    "        letter += 1 \n",
    "        \n",
    "    print \"'%s' has %s vowels\" % (animal, vowel_count)"
   ]
  },
  {
   "cell_type": "markdown",
   "metadata": {},
   "source": [
    "---\n",
    "<a id='functions'></a>\n",
    "# Functions\n",
    "---\n",
    "\n",
    "### 9. Write a function that takes word as an argument and returns the number of vowels in the word.\n",
    "\n",
    "Try it out on three words."
   ]
  },
  {
   "cell_type": "code",
   "execution_count": 1,
   "metadata": {},
   "outputs": [
    {
     "name": "stdout",
     "output_type": "stream",
     "text": [
      "'hymn' has 0 vowels\n",
      "'anaconda' has 4 vowels\n",
      "'sequoia' has 5 vowels\n"
     ]
    }
   ],
   "source": [
    "# A:\n",
    "\n",
    "# Assuming that you are asking for the number of vowel instances not the number of unique vowels used despite repetition\n",
    "test_word_1 = \"hymn\"\n",
    "test_word_2 = \"anaconda\"\n",
    "test_word_3 = \"sequoia\"\n",
    "\n",
    "def count_vowels(input_word):\n",
    "    vowels = ['a', 'e' ,'i' , 'o', 'u']\n",
    "    vowel_count = 0\n",
    "    letter = 0\n",
    "    \n",
    "    while letter < len(input_word): \n",
    "        if input_word[letter] in vowels:\n",
    "              vowel_count += 1\n",
    "        letter += 1 \n",
    "\n",
    "    return vowel_count\n",
    "\n",
    "print \"'%s' has %s vowels\" % (test_word_1, count_vowels(test_word_1))\n",
    "print \"'%s' has %s vowels\" % (test_word_2, count_vowels(test_word_2))\n",
    "print \"'%s' has %s vowels\" % (test_word_3, count_vowels(test_word_3))\n"
   ]
  },
  {
   "cell_type": "markdown",
   "metadata": {},
   "source": [
    "---\n",
    "\n",
    "### 10. Write a function to calculate the area of a triangle uaing a height and width.\n",
    "\n",
    "Test it out."
   ]
  },
  {
   "cell_type": "code",
   "execution_count": 2,
   "metadata": {},
   "outputs": [
    {
     "name": "stdout",
     "output_type": "stream",
     "text": [
      "Enter the height of the triangle: 123\n",
      "Enter the width  of the triangle: 456\n",
      "\n",
      "Triangle area is: 28044.0 square units\n"
     ]
    }
   ],
   "source": [
    "# A:\n",
    "# User input values are cast as floats...\n",
    "height = float(input(\"Enter the height of the triangle: \"))\n",
    "width  = float(input(\"Enter the width  of the triangle: \"))\n",
    "\n",
    "def calc_triangle_area(height_value, width_value):\n",
    "    # Should put more elaborate input validation here, but just some basic checks for now...\n",
    "    if height <= 0.0:\n",
    "        print \"Height value is not a number > 0.0\"\n",
    "        return\n",
    "    elif width <= 0.0:\n",
    "        print \"Width value is not a number > 0.0\"\n",
    "        return\n",
    "    else:\n",
    "        return (0.5 * width_value) * height_value\n",
    "\n",
    "print \"\\nTriangle area is: %s square units\" % calc_triangle_area(height, width)"
   ]
  },
  {
   "cell_type": "markdown",
   "metadata": {},
   "source": [
    "---\n",
    "<a id='while_loops'></a>\n",
    "# While Loops\n",
    "---\n",
    "\n",
    "### 11. While loops and strings.\n",
    "\n",
    "Iterate over the following sentence repeatedly, counting the number of vowels in the sentence until you have tallied one million. Print out the number of iterations it took to reach that amount."
   ]
  },
  {
   "cell_type": "code",
   "execution_count": 2,
   "metadata": {
    "collapsed": true
   },
   "outputs": [],
   "source": [
    "sentence = \"A MAN KNOCKED ON MY DOOR AND ASKED FOR A SMALL DONATION TOWARDS THE LOCAL SWIMMING POOL SO I GAVE HIM A GLASS OF WATER\""
   ]
  },
  {
   "cell_type": "code",
   "execution_count": 9,
   "metadata": {},
   "outputs": [
    {
     "name": "stdout",
     "output_type": "stream",
     "text": [
      "It took 2778 iterations for the vowel count (100008) to exceed '100000' counted vowels.\n"
     ]
    }
   ],
   "source": [
    "# A:\n",
    "\n",
    "sentence = \"A MAN KNOCKED ON MY DOOR AND ASKED FOR A SMALL DONATION TOWARDS THE LOCAL SWIMMING POOL SO I GAVE HIM A GLASS OF WATER\"\n",
    "\n",
    "vowel_count = 0\n",
    "max_vowel_count = 100000\n",
    "num_iterations = 0\n",
    "\n",
    "def count_vowels(input):\n",
    "    vowels = ['a', 'e' ,'i' , 'o', 'u']\n",
    "    vowel_count = 0\n",
    "    letter = 0\n",
    "    \n",
    "    while letter < len(input): \n",
    "        if input[letter].lower() in vowels: # Need to put character instance to lower case to check it against lower case char values in the vowels array \n",
    "              vowel_count += 1\n",
    "        letter += 1 \n",
    "\n",
    "    return vowel_count\n",
    "\n",
    "while vowel_count < max_vowel_count:\n",
    "    num_iterations += 1\n",
    "    vowel_count += count_vowels(sentence)\n",
    "\n",
    "print \"It took %s iterations for the vowel count (%s) to exceed '%s' counted vowels.\" % (num_iterations, vowel_count, max_vowel_count)"
   ]
  },
  {
   "cell_type": "markdown",
   "metadata": {},
   "source": [
    "---\n",
    "\n",
    "### 12. Try to convert elements in a list to floats.\n",
    "\n",
    "Create a new list with the converted numbers. If something cannot be converted, skip it and append nothing to the new list."
   ]
  },
  {
   "cell_type": "code",
   "execution_count": 18,
   "metadata": {
    "collapsed": true
   },
   "outputs": [],
   "source": [
    "corrupted = ['!1', '23.1', '23.4.5', '??12', '.12', '12-12', '-11.1', '0-1', '*12.1', '1000']"
   ]
  },
  {
   "cell_type": "code",
   "execution_count": 18,
   "metadata": {},
   "outputs": [
    {
     "name": "stdout",
     "output_type": "stream",
     "text": [
      "23.1\n",
      ".12\n",
      "-11.1\n",
      "1000\n"
     ]
    }
   ],
   "source": [
    "# A:\n",
    "corrupted = ['!1', '23.1', '23.4.5', '??12', '.12', '12-12', '-11.1', '0-1', '*12.1', '1000']\n",
    "list_of_floats= []\n",
    "\n",
    "def isfloat(value):\n",
    "  try:\n",
    "    float(value)\n",
    "    return True\n",
    "  except ValueError:\n",
    "    return False\n",
    "\n",
    "for element in corrupted:\n",
    "    if isfloat(element):\n",
    "#        print \"%s element: float\" % element\n",
    "        list_of_floats.append(element)\n",
    "#    else:\n",
    "#        print \"%s element: not float\" % element\n",
    "\n",
    "#print \"\\nFloat values:\"\n",
    "for float_val in new_list:\n",
    "    print float_val"
   ]
  },
  {
   "cell_type": "markdown",
   "metadata": {},
   "source": [
    "---\n",
    "<a id='coffee_preference'></a>\n",
    "\n",
    "# Practice control flow on Coffee Preference dataset\n",
    "\n",
    "### 13. Load coffee preference data from file and print\n",
    "\n",
    "The code to load in the data is provided below. \n",
    "\n",
    "The `with open(..., 'r') as f:` opens up a file in \"read\" mode (rather than \"write\"), and assigns this opened file to `f`. \n",
    "\n",
    "We can then use the `.readlines()` built-in function to split the csv file on newlines and assign it to the variable `lines`."
   ]
  },
  {
   "cell_type": "code",
   "execution_count": 3,
   "metadata": {
    "collapsed": true
   },
   "outputs": [],
   "source": [
    "with open('datasets/coffee-preferences.csv','r') as f:\n",
    "    lines = f.readlines()"
   ]
  },
  {
   "cell_type": "markdown",
   "metadata": {},
   "source": [
    "#### Iterate through lines and print them out"
   ]
  },
  {
   "cell_type": "code",
   "execution_count": 20,
   "metadata": {},
   "outputs": [
    {
     "name": "stdout",
     "output_type": "stream",
     "text": [
      "Timestamp,Name,Starbucks,PhilzCoffee,BlueBottleCoffee,PeetsTea,CaffeTrieste,GrandCoffee,RitualCoffee,FourBarrel,WorkshopCafe\n",
      "\n",
      "3/17/2015 18:37:58,Alison,3,5,4,3,,,5,5,\n",
      "\n",
      "3/17/2015 18:38:09,April,4,5,5,3,,,3,,5\n",
      "\n",
      "3/17/2015 18:38:25,Vijay,3,5,5,5,3,2,1,1,1\n",
      "\n",
      "3/17/2015 18:38:28,Vanessa,1,5,5,2,,,3,2,3\n",
      "\n",
      "3/17/2015 18:38:46,Isabel,1,4,4,2,4,,4,4,\n",
      "\n",
      "3/17/2015 18:39:01,India,5,3,3,3,3,1,,,3\n",
      "\n",
      "3/17/2015 18:39:01,Dave H,4,5,,5,,,,,\n",
      "\n",
      "3/17/2015 18:39:05,Deepthi,3,5,,2,,,,,2\n",
      "\n",
      "3/17/2015 18:39:14,Ramesh,3,4,,3,,,,,4\n",
      "\n",
      "3/17/2015 18:39:23,Hugh Jass,1,5,5,4,5,2,5,4,1\n",
      "\n",
      "3/17/2015 18:39:23,Alex,4,5,,3,,,,,\n",
      "\n",
      "3/17/2015 18:39:30,Ajay Anand,3,4,4,3,5,,,,\n",
      "\n",
      "3/17/2015 18:39:35,David Feng,2,3,4,2,2,,5,4,3\n",
      "\n",
      "3/17/2015 18:39:42,Zach,3,4,4,3,,,,,5\n",
      "\n",
      "3/17/2015 18:40:44,Matt,3,5,4,3,2,2,4,3,2\n",
      "\n",
      "3/17/2015 18:40:49,Markus,3,5,,3,,,4,,\n",
      "\n",
      "3/17/2015 18:41:18,Otto,4,2,2,5,,,3,3,3\n",
      "\n",
      "3/17/2015 18:41:23,Alessandro,1,5,3,2,,,4,3,\n",
      "\n",
      "3/17/2015 18:41:35,Rocky,3,5,4,3,3,3,4,4,3\n",
      "\n",
      "3/17/2015 18:42:01,cheong-tseng eng,3,1,,,,,4,,\n"
     ]
    }
   ],
   "source": [
    "# A:\n",
    "with open('datasets/coffee-preferences.csv','r') as f:\n",
    "    lines = f.readlines()\n",
    "    \n",
    "for line in lines:\n",
    "    print line"
   ]
  },
  {
   "cell_type": "markdown",
   "metadata": {},
   "source": [
    "#### Print out just the lines object by typing `lines` in a cell and hitting enter."
   ]
  },
  {
   "cell_type": "code",
   "execution_count": 28,
   "metadata": {},
   "outputs": [
    {
     "data": {
      "text/plain": [
       "['Timestamp,Name,Starbucks,PhilzCoffee,BlueBottleCoffee,PeetsTea,CaffeTrieste,GrandCoffee,RitualCoffee,FourBarrel,WorkshopCafe\\n',\n",
       " '3/17/2015 18:37:58,Alison,3,5,4,3,,,5,5,\\n',\n",
       " '3/17/2015 18:38:09,April,4,5,5,3,,,3,,5\\n',\n",
       " '3/17/2015 18:38:25,Vijay,3,5,5,5,3,2,1,1,1\\n',\n",
       " '3/17/2015 18:38:28,Vanessa,1,5,5,2,,,3,2,3\\n',\n",
       " '3/17/2015 18:38:46,Isabel,1,4,4,2,4,,4,4,\\n',\n",
       " '3/17/2015 18:39:01,India,5,3,3,3,3,1,,,3\\n',\n",
       " '3/17/2015 18:39:01,Dave H,4,5,,5,,,,,\\n',\n",
       " '3/17/2015 18:39:05,Deepthi,3,5,,2,,,,,2\\n',\n",
       " '3/17/2015 18:39:14,Ramesh,3,4,,3,,,,,4\\n',\n",
       " '3/17/2015 18:39:23,Hugh Jass,1,5,5,4,5,2,5,4,1\\n',\n",
       " '3/17/2015 18:39:23,Alex,4,5,,3,,,,,\\n',\n",
       " '3/17/2015 18:39:30,Ajay Anand,3,4,4,3,5,,,,\\n',\n",
       " '3/17/2015 18:39:35,David Feng,2,3,4,2,2,,5,4,3\\n',\n",
       " '3/17/2015 18:39:42,Zach,3,4,4,3,,,,,5\\n',\n",
       " '3/17/2015 18:40:44,Matt,3,5,4,3,2,2,4,3,2\\n',\n",
       " '3/17/2015 18:40:49,Markus,3,5,,3,,,4,,\\n',\n",
       " '3/17/2015 18:41:18,Otto,4,2,2,5,,,3,3,3\\n',\n",
       " '3/17/2015 18:41:23,Alessandro,1,5,3,2,,,4,3,\\n',\n",
       " '3/17/2015 18:41:35,Rocky,3,5,4,3,3,3,4,4,3\\n',\n",
       " '3/17/2015 18:42:01,cheong-tseng eng,3,1,,,,,4,,']"
      ]
     },
     "execution_count": 28,
     "metadata": {},
     "output_type": "execute_result"
    }
   ],
   "source": [
    "# A:\n",
    "lines"
   ]
  },
  {
   "cell_type": "markdown",
   "metadata": {},
   "source": [
    "---\n",
    "\n",
    "### 14. Remove the remaining newline `'\\n'` characters with a for-loop.\n",
    "\n",
    "Iterate through the lines of the data and remove the unwanted newline characters.\n",
    "\n",
    "**.replace('\\n', '')** is a built-in string function that will take the substring you want to replace as its first argument and the string you want to replace it with as its second."
   ]
  },
  {
   "cell_type": "code",
   "execution_count": 22,
   "metadata": {},
   "outputs": [
    {
     "name": "stdout",
     "output_type": "stream",
     "text": [
      "Timestamp,Name,Starbucks,PhilzCoffee,BlueBottleCoffee,PeetsTea,CaffeTrieste,GrandCoffee,RitualCoffee,FourBarrel,WorkshopCafe\n",
      "3/17/2015 18:37:58,Alison,3,5,4,3,,,5,5,\n",
      "3/17/2015 18:38:09,April,4,5,5,3,,,3,,5\n",
      "3/17/2015 18:38:25,Vijay,3,5,5,5,3,2,1,1,1\n",
      "3/17/2015 18:38:28,Vanessa,1,5,5,2,,,3,2,3\n",
      "3/17/2015 18:38:46,Isabel,1,4,4,2,4,,4,4,\n",
      "3/17/2015 18:39:01,India,5,3,3,3,3,1,,,3\n",
      "3/17/2015 18:39:01,Dave H,4,5,,5,,,,,\n",
      "3/17/2015 18:39:05,Deepthi,3,5,,2,,,,,2\n",
      "3/17/2015 18:39:14,Ramesh,3,4,,3,,,,,4\n",
      "3/17/2015 18:39:23,Hugh Jass,1,5,5,4,5,2,5,4,1\n",
      "3/17/2015 18:39:23,Alex,4,5,,3,,,,,\n",
      "3/17/2015 18:39:30,Ajay Anand,3,4,4,3,5,,,,\n",
      "3/17/2015 18:39:35,David Feng,2,3,4,2,2,,5,4,3\n",
      "3/17/2015 18:39:42,Zach,3,4,4,3,,,,,5\n",
      "3/17/2015 18:40:44,Matt,3,5,4,3,2,2,4,3,2\n",
      "3/17/2015 18:40:49,Markus,3,5,,3,,,4,,\n",
      "3/17/2015 18:41:18,Otto,4,2,2,5,,,3,3,3\n",
      "3/17/2015 18:41:23,Alessandro,1,5,3,2,,,4,3,\n",
      "3/17/2015 18:41:35,Rocky,3,5,4,3,3,3,4,4,3\n",
      "3/17/2015 18:42:01,cheong-tseng eng,3,1,,,,,4,,\n"
     ]
    }
   ],
   "source": [
    "# A:\n",
    "for line in lines:\n",
    "    print line.replace('\\n', '')"
   ]
  },
  {
   "cell_type": "markdown",
   "metadata": {},
   "source": [
    "---\n",
    "\n",
    "### 15. Split the lines into \"header\" and \"data\" variables.\n",
    "\n",
    "The header is the first string in the list of strings. It contains the column names of our data."
   ]
  },
  {
   "cell_type": "code",
   "execution_count": 34,
   "metadata": {},
   "outputs": [
    {
     "name": "stdout",
     "output_type": "stream",
     "text": [
      "\n",
      "Header:\n",
      "Timestamp,Name,Starbucks,PhilzCoffee,BlueBottleCoffee,PeetsTea,CaffeTrieste,GrandCoffee,RitualCoffee,FourBarrel,WorkshopCafe\n",
      "\n",
      "Data:\n",
      "3/17/2015 18:37:58,Alison,3,5,4,3,,,5,5,\n",
      "3/17/2015 18:38:09,April,4,5,5,3,,,3,,5\n",
      "3/17/2015 18:38:25,Vijay,3,5,5,5,3,2,1,1,1\n",
      "3/17/2015 18:38:28,Vanessa,1,5,5,2,,,3,2,3\n",
      "3/17/2015 18:38:46,Isabel,1,4,4,2,4,,4,4,\n",
      "3/17/2015 18:39:01,India,5,3,3,3,3,1,,,3\n",
      "3/17/2015 18:39:01,Dave H,4,5,,5,,,,,\n",
      "3/17/2015 18:39:05,Deepthi,3,5,,2,,,,,2\n",
      "3/17/2015 18:39:14,Ramesh,3,4,,3,,,,,4\n",
      "3/17/2015 18:39:23,Hugh Jass,1,5,5,4,5,2,5,4,1\n",
      "3/17/2015 18:39:23,Alex,4,5,,3,,,,,\n",
      "3/17/2015 18:39:30,Ajay Anand,3,4,4,3,5,,,,\n",
      "3/17/2015 18:39:35,David Feng,2,3,4,2,2,,5,4,3\n",
      "3/17/2015 18:39:42,Zach,3,4,4,3,,,,,5\n",
      "3/17/2015 18:40:44,Matt,3,5,4,3,2,2,4,3,2\n",
      "3/17/2015 18:40:49,Markus,3,5,,3,,,4,,\n",
      "3/17/2015 18:41:18,Otto,4,2,2,5,,,3,3,3\n",
      "3/17/2015 18:41:23,Alessandro,1,5,3,2,,,4,3,\n",
      "3/17/2015 18:41:35,Rocky,3,5,4,3,3,3,4,4,3\n",
      "3/17/2015 18:42:01,cheong-tseng eng,3,1,,,,,4,,\n"
     ]
    }
   ],
   "source": [
    "# A:\n",
    "header = []\n",
    "data = []\n",
    "\n",
    "header.append(lines[0]) # Need to append for one element otherwise it gets treated as a string and header becomes an array of the chara in the string\n",
    "\n",
    "if len(lines) > 2:\n",
    "    data = lines[1:len(lines)]\n",
    "elif len(lines) == 2:\n",
    "    data.append(lines[1])\n",
    "\n",
    "print \"\\nHeader:\"\n",
    "for line in header:\n",
    "    print line.replace('\\n', '')\n",
    "\n",
    "print \"\\nData:\"\n",
    "for line in data:\n",
    "    print line.replace('\\n', '')"
   ]
  },
  {
   "cell_type": "markdown",
   "metadata": {},
   "source": [
    "---\n",
    "\n",
    "### 16. Split the header and the data strings on commas.\n",
    "\n",
    "To split a string on the comma character, use the built in **`.split(',')`** function. \n",
    "\n",
    "Split the header on commas, then print it. You can see that the original string is now a list containing items that were originally separated by commas."
   ]
  },
  {
   "cell_type": "code",
   "execution_count": 39,
   "metadata": {},
   "outputs": [
    {
     "name": "stdout",
     "output_type": "stream",
     "text": [
      "['Timestamp', 'Name', 'Starbucks', 'PhilzCoffee', 'BlueBottleCoffee', 'PeetsTea', 'CaffeTrieste', 'GrandCoffee', 'RitualCoffee', 'FourBarrel', 'WorkshopCafe\\n']\n"
     ]
    }
   ],
   "source": [
    "# A:\n",
    "\n",
    "# Need to refer to the string header[0], not the array header even though it only has one element which is a string.\n",
    "print header[0].split(',')"
   ]
  },
  {
   "cell_type": "markdown",
   "metadata": {},
   "source": [
    "---\n",
    "\n",
    "### 17. Remove the \"Timestamp\" column.\n",
    "\n",
    "We aren't interested in the \"Timestamp\" column in our data, so remove it from the header and the data list.\n",
    "\n",
    "Removing the Timestamp from the header can be done with list functions or with slicing. To remove the header column from the data, use a for-loop.\n",
    "\n",
    "Print out the new data object with the timestamps removed."
   ]
  },
  {
   "cell_type": "code",
   "execution_count": 136,
   "metadata": {},
   "outputs": [
    {
     "name": "stdout",
     "output_type": "stream",
     "text": [
      "\n",
      "Field to remove: Timestamp\n",
      "Index of 'Timestamp' field: 0\n",
      "\n",
      "Updated Header:\n",
      "['Name', 'Starbucks', 'PhilzCoffee', 'BlueBottleCoffee', 'PeetsTea', 'CaffeTrieste', 'GrandCoffee', 'RitualCoffee', 'FourBarrel', 'WorkshopCafe']\n",
      "\n",
      "Updated Data:\n",
      "['Alison', '3', '5', '4', '3', '', '', '5', '5', '']\n",
      "['April', '4', '5', '5', '3', '', '', '3', '', '5']\n",
      "['Vijay', '3', '5', '5', '5', '3', '2', '1', '1', '1']\n",
      "['Vanessa', '1', '5', '5', '2', '', '', '3', '2', '3']\n",
      "['Isabel', '1', '4', '4', '2', '4', '', '4', '4', '']\n",
      "['India', '5', '3', '3', '3', '3', '1', '', '', '3']\n",
      "['Dave H', '4', '5', '', '5', '', '', '', '', '']\n",
      "['Deepthi', '3', '5', '', '2', '', '', '', '', '2']\n",
      "['Ramesh', '3', '4', '', '3', '', '', '', '', '4']\n",
      "['Hugh Jass', '1', '5', '5', '4', '5', '2', '5', '4', '1']\n",
      "['Alex', '4', '5', '', '3', '', '', '', '', '']\n",
      "['Ajay Anand', '3', '4', '4', '3', '5', '', '', '', '']\n",
      "['David Feng', '2', '3', '4', '2', '2', '', '5', '4', '3']\n",
      "['Zach', '3', '4', '4', '3', '', '', '', '', '5']\n",
      "['Matt', '3', '5', '4', '3', '2', '2', '4', '3', '2']\n",
      "['Markus', '3', '5', '', '3', '', '', '4', '', '']\n",
      "['Otto', '4', '2', '2', '5', '', '', '3', '3', '3']\n",
      "['Alessandro', '1', '5', '3', '2', '', '', '4', '3', '']\n",
      "['Rocky', '3', '5', '4', '3', '3', '3', '4', '4', '3']\n",
      "['cheong-tseng eng', '3', '1', '', '', '', '', '4', '', '']\n"
     ]
    }
   ],
   "source": [
    "# A:\n",
    "new_header = []\n",
    "new_data = []\n",
    "\n",
    "field_to_remove=\"Timestamp\"\n",
    "#field_to_remove=\"Name\"\n",
    "\n",
    "\n",
    "# PROCESS HEADER:\n",
    "# Need to create a new header with the actual header string values as separate list values\n",
    "\n",
    "new_header = header[0].replace('\\n','').split(',') # also remove \\n from string before splitting into assigned separate elements in new_header\n",
    "index_of_field_to_remove = new_header.index(field_to_remove)\n",
    "\n",
    "print \"\\nField to remove: %s\" % field_to_remove\n",
    "print \"Index of '%s' field: %s\\n\" % (field_to_remove, index_of_field_to_remove)\n",
    "\n",
    "print \"Updated Header:\"\n",
    "new_header.remove(field_to_remove) # remove can be used now that \"Timestamp\" is an separate element in the new_header list.\n",
    "print (new_header)\n",
    "\n",
    "# PROCESS DATA\n",
    "print \"\\nUpdated Data:\"\n",
    "for element in data:  \n",
    "    new_element = []\n",
    "    new_element = element.replace('\\n','').split(',')\n",
    "    new_element.pop(index_of_field_to_remove) # remove the first element (the Timestamp value) of new_element\n",
    "    new_data.append(new_element)\n",
    "\n",
    "for element in new_data:\n",
    "    print (element)\n"
   ]
  },
  {
   "cell_type": "markdown",
   "metadata": {},
   "source": [
    "---\n",
    "\n",
    "### 18. Convert numeric columns to floats and empty fields to `None`.\n",
    "\n",
    "Iterate through the data, and construct a new data list of lists that contains the numeric ratings converted from strings into floats and the empty fields (which are empty strings '') replaced with the None object.\n",
    "\n",
    "Use a nested for loop (a for loop within another for loop) to get the job done. You will likely need to use if-else conditional statements as well.\n",
    "\n",
    "Print out the new data object to make sure you've succeeded."
   ]
  },
  {
   "cell_type": "code",
   "execution_count": 139,
   "metadata": {},
   "outputs": [
    {
     "name": "stdout",
     "output_type": "stream",
     "text": [
      "\n",
      "Updated Data:\n",
      "['Alison', 3.0, 5.0, 4.0, 3.0, None, None, 5.0, 5.0, None]\n",
      "['April', 4.0, 5.0, 5.0, 3.0, None, None, 3.0, None, 5.0]\n",
      "['Vijay', 3.0, 5.0, 5.0, 5.0, 3.0, 2.0, 1.0, 1.0, 1.0]\n",
      "['Vanessa', 1.0, 5.0, 5.0, 2.0, None, None, 3.0, 2.0, 3.0]\n",
      "['Isabel', 1.0, 4.0, 4.0, 2.0, 4.0, None, 4.0, 4.0, None]\n",
      "['India', 5.0, 3.0, 3.0, 3.0, 3.0, 1.0, None, None, 3.0]\n",
      "['Dave H', 4.0, 5.0, None, 5.0, None, None, None, None, None]\n",
      "['Deepthi', 3.0, 5.0, None, 2.0, None, None, None, None, 2.0]\n",
      "['Ramesh', 3.0, 4.0, None, 3.0, None, None, None, None, 4.0]\n",
      "['Hugh Jass', 1.0, 5.0, 5.0, 4.0, 5.0, 2.0, 5.0, 4.0, 1.0]\n",
      "['Alex', 4.0, 5.0, None, 3.0, None, None, None, None, None]\n",
      "['Ajay Anand', 3.0, 4.0, 4.0, 3.0, 5.0, None, None, None, None]\n",
      "['David Feng', 2.0, 3.0, 4.0, 2.0, 2.0, None, 5.0, 4.0, 3.0]\n",
      "['Zach', 3.0, 4.0, 4.0, 3.0, None, None, None, None, 5.0]\n",
      "['Matt', 3.0, 5.0, 4.0, 3.0, 2.0, 2.0, 4.0, 3.0, 2.0]\n",
      "['Markus', 3.0, 5.0, None, 3.0, None, None, 4.0, None, None]\n",
      "['Otto', 4.0, 2.0, 2.0, 5.0, None, None, 3.0, 3.0, 3.0]\n",
      "['Alessandro', 1.0, 5.0, 3.0, 2.0, None, None, 4.0, 3.0, None]\n",
      "['Rocky', 3.0, 5.0, 4.0, 3.0, 3.0, 3.0, 4.0, 4.0, 3.0]\n",
      "['cheong-tseng eng', 3.0, 1.0, None, None, None, None, 4.0, None, None]\n"
     ]
    }
   ],
   "source": [
    "# A:\n",
    "\n",
    "# Re-using the isfloat check function\n",
    "def isfloat(value):\n",
    "  try:\n",
    "    float(value)\n",
    "    return True\n",
    "  except ValueError:\n",
    "    return False\n",
    "\n",
    "# PROCESS DATA\n",
    "new_converted_data = []\n",
    "\n",
    "print \"\\nUpdated Data:\"\n",
    "\n",
    "#print \"\\nBefore:\"\n",
    "#for data_row in new_data:\n",
    "#    print (data_row)\n",
    "    \n",
    "for data_row in new_data: \n",
    "    new_list_element = []\n",
    "    for field in data_row:\n",
    "        if isfloat(field): # checks if the string is a floating point value...\n",
    "            new_list_element.append(float(field))\n",
    "        elif not field:    # checks if he string is empty...\n",
    "            new_list_element.append(None)\n",
    "        else:              # no conversion needed...\n",
    "            new_list_element.append(field)\n",
    "    new_converted_data.append(new_list_element)\n",
    "\n",
    "#print \"\\nAfter:\"\n",
    "for data_row in new_converted_data:\n",
    "    print (data_row)\n",
    "    "
   ]
  },
  {
   "cell_type": "markdown",
   "metadata": {},
   "source": [
    "---\n",
    "\n",
    "### 19. Count the `None` values per person, and put counts in a dictionary.\n",
    "\n",
    "Use a for loop to count the number of `None` values per person. Create a dictionary with the names of the people as keys, and the counts of `None` as values.\n",
    "\n",
    "Who rated the most coffee brands? Who rated the least?"
   ]
  },
  {
   "cell_type": "code",
   "execution_count": 114,
   "metadata": {},
   "outputs": [
    {
     "name": "stdout",
     "output_type": "stream",
     "text": [
      "\n",
      "None counts:\n",
      "'Dave H' 6\n",
      "'Ramesh' 5\n",
      "'Alex' 6\n",
      "'Rocky' 0\n",
      "'Zach' 4\n",
      "'Vanessa' 2\n",
      "'Deepthi' 5\n",
      "'India' 2\n",
      "'Matt' 0\n",
      "'Isabel' 2\n",
      "'April' 3\n",
      "'Alessandro' 3\n",
      "'Ajay Anand' 4\n",
      "'Otto' 2\n",
      "'Markus' 5\n",
      "'Hugh Jass' 0\n",
      "'David Feng' 1\n",
      "'Vijay' 0\n",
      "'cheong-tseng eng' 6\n",
      "'Alison' 3\n",
      "\n",
      "People who rated the  most (9) coffee brands: Rocky, Matt, Hugh Jass, Vijay\n",
      "\n",
      "People who rated the least (3) coffee brands: Dave H, Alex, cheong-tseng eng\n"
     ]
    }
   ],
   "source": [
    "# A:\n",
    "\n",
    "# Create dictionary to store the person = none_count key = value pairs\n",
    "none_ratings_dict_by_person = {}\n",
    "none_ratings_dict_by_value = {}\n",
    "total_num_coffee_brands = 9\n",
    "\n",
    "# Implmenting a more generic way to specify the field to use as the key name in the dictionary rather than relying on it being the first field in the data set...\n",
    "field_for_key_name = \"Name\"                                         # specify the name of the field to lookup in the header\n",
    "index_of_field_for_key_name = new_header.index(field_for_key_name)  # look up the index of the name field\n",
    "\n",
    "for data_row in new_converted_data:\n",
    "    none_count = data_row.count(None)\n",
    "    none_ratings_dict_by_person[data_row[index_of_field_for_key_name]] = none_count\n",
    "\n",
    "print \"\\nNone counts:\"\n",
    "for k, v in none_ratings_dict_by_person.iteritems():\n",
    "    print \"'%s' %s\" % (k, v)\n",
    "    # Build a new dictionary with none_counts as the keys and the set of names as the values...\n",
    "    if v not in none_ratings_dict_by_value: \n",
    "        none_ratings_dict_by_value[v] = []\n",
    "    none_ratings_dict_by_value[v].append(k)\n",
    "    \n",
    "# Who rated the most coffee brands?\n",
    "lowest_none_count = min(none_ratings_dict_by_value, key=int)\n",
    "print \"\\nPeople who rated the  most (%s) coffee brands: %s\" % ((total_num_coffee_brands - lowest_none_count), \", \".join(map(str, none_ratings_dict_by_value[lowest_none_count])))\n",
    "\n",
    "# Who rated the least cofee brands?\n",
    "highest_none_count = max(none_ratings_dict_by_value, key=int)\n",
    "print \"\\nPeople who rated the least (%s) coffee brands: %s\" % ((total_num_coffee_brands - highest_none_count), \", \".join(map(str, none_ratings_dict_by_value[highest_none_count])))\n"
   ]
  },
  {
   "cell_type": "markdown",
   "metadata": {},
   "source": [
    "---\n",
    "\n",
    "### 20. Calculate average rating per coffee brand.\n",
    "\n",
    "**Excluding `None` values**, calculate the average rating per brand of coffee.\n",
    "\n",
    "The final output should be a dictionary with keys as the coffee brand names, and their average rating as the values.\n",
    "\n",
    "Remember that average can be calculated as the sum of the ratings over the number of ratings:\n",
    "\n",
    "```python\n",
    "average_rating = float(sum(ratings_list))/len(ratings_list)\n",
    "```\n",
    "\n",
    "Print your dictionary to see the average brand ratings."
   ]
  },
  {
   "cell_type": "code",
   "execution_count": 153,
   "metadata": {},
   "outputs": [
    {
     "name": "stdout",
     "output_type": "stream",
     "text": [
      "\n",
      "Coffee Ratings Averages:\n",
      "\n",
      "'PhilzCoffee': 4.25\n",
      "'WorkshopCafe': 2.91666666667\n",
      "'RitualCoffee': 3.76923076923\n",
      "'BlueBottleCoffee': 4.0\n",
      "'Starbucks': 2.85\n",
      "'PeetsTea': 3.10526315789\n",
      "'GrandCoffee': 2.0\n",
      "'FourBarrel': 3.3\n",
      "'CaffeTrieste': 3.375\n"
     ]
    }
   ],
   "source": [
    "# A:\n",
    "\n",
    "# I am creating new lists for the header and data reducing down to just the coffee brand rating fields.\n",
    "# It is then straightforward to pivot this data set to answer this question.\n",
    "# This is achieved by removing the \"Name\" field from the new_header created in Q17, and the corresponding\n",
    "# data field values from the new_coverted_data list in Q18.\n",
    "\n",
    "coffee_brands_header = list(new_header)  # new_header - created in Q17. Need to use list(new_header) to prevent copying by reference\n",
    "coffee_brands_data = []\n",
    "\n",
    "coffee_brand_ratings = {}\n",
    "coffee_brand_average_rating = {}\n",
    "\n",
    "field_to_remove=\"Name\"\n",
    "index_of_field_to_remove = coffee_brands_header.index(field_to_remove)\n",
    "\n",
    "#print \"\\nField to remove: %s\" % field_to_remove\n",
    "#print \"Index of '%s' field: %s\\n\" % (field_to_remove, index_of_field_to_remove)\n",
    "\n",
    "coffee_brands_header.remove(field_to_remove)\n",
    "#print \"Updated Header:\"\n",
    "#print (coffee_brands_header)\n",
    "\n",
    "# Remove Name fields in the data rows...\n",
    "for data_row in new_converted_data:     # new_converted_data - created in Q18\n",
    "    new_data_row = []\n",
    "    new_data_row = data_row[:]  # Need to use [:] to copy by value not reference\n",
    "    new_data_row.pop(index_of_field_to_remove) # remove the first element (the Name value) of new_data_row\n",
    "    coffee_brands_data.append(new_data_row)\n",
    "\n",
    "#print \"\\nUpdated Data:\"\n",
    "#for element in coffee_brands_data:\n",
    "#    print (element)\n",
    "\n",
    "# Populate the coffee brand names as the keys to the dictionaries\n",
    "for coffee_brand_name in coffee_brands_header:\n",
    "    \n",
    "    coffee_brand_ratings_total = 0.0\n",
    "    coffee_brand_ratings_count = 0\n",
    "    \n",
    "    coffee_brand_ratings[coffee_brand_name] = []\n",
    "    coffee_brand_average_rating[coffee_brand_name] = []  # Creating this now for later completion\n",
    "    \n",
    "    index_of_coffee_brand_name = coffee_brands_header.index(coffee_brand_name)\n",
    "    \n",
    "    # Populate the coffee brand ratings as the values in the dictionaries\n",
    "    for data_row in coffee_brands_data:\n",
    "        coffee_rating_value = data_row[index_of_coffee_brand_name]\n",
    "        coffee_brand_ratings[coffee_brand_name].append(coffee_rating_value)\n",
    "        \n",
    "        if (coffee_rating_value != None):\n",
    "            coffee_brand_ratings_total += coffee_rating_value\n",
    "            coffee_brand_ratings_count += 1\n",
    "            \n",
    "    coffee_brand_average_rating[coffee_brand_name] = float(coffee_brand_ratings_total / coffee_brand_ratings_count)\n",
    "\n",
    "\n",
    "#print \"\\nCoffee Ratings Data:\"\n",
    "#for k, v in coffee_brand_ratings.iteritems():\n",
    "#    print \"'%s': %s\" % (k, v)\n",
    "\n",
    "\n",
    "print \"\\nCoffee Ratings Averages:\\n\"\n",
    "for k, v in coffee_brand_average_rating.iteritems():\n",
    "    print \"'%s': %s\" % (k, v)"
   ]
  },
  {
   "cell_type": "markdown",
   "metadata": {},
   "source": [
    "---\n",
    "\n",
    "### 21. Create a list containing only the people's names."
   ]
  },
  {
   "cell_type": "code",
   "execution_count": 160,
   "metadata": {},
   "outputs": [
    {
     "name": "stdout",
     "output_type": "stream",
     "text": [
      "Alison\n",
      "April\n",
      "Vijay\n",
      "Vanessa\n",
      "Isabel\n",
      "India\n",
      "Dave H\n",
      "Deepthi\n",
      "Ramesh\n",
      "Hugh Jass\n",
      "Alex\n",
      "Ajay Anand\n",
      "David Feng\n",
      "Zach\n",
      "Matt\n",
      "Markus\n",
      "Otto\n",
      "Alessandro\n",
      "Rocky\n",
      "cheong-tseng eng\n"
     ]
    }
   ],
   "source": [
    "# A:\n",
    "\n",
    "people = []\n",
    "\n",
    "field_to_process=\"Name\"\n",
    "index_of_field_to_process = new_header.index(field_to_process) # new_header_data - created in Q17\n",
    "\n",
    "for data_row in new_converted_data:     # new_converted_data - created in Q18\n",
    "   people.append(data_row[index_of_field_to_process])\n",
    "\n",
    "for name in people:\n",
    "    print (name)\n"
   ]
  },
  {
   "cell_type": "markdown",
   "metadata": {},
   "source": [
    "---\n",
    "\n",
    "### 22. Picking a name at random. What are the odds of choosing the same name three times in a row?\n",
    "\n",
    "Now we'll use a while-loop to \"brute force\" the odds of choosing the same name 3 times in a row randomly from the list of names.\n",
    "\n",
    "Below I've imported the **`random`** package, which has the essential function for this code **`random.choice()`**.\n",
    "The function takes a list as an argument, and returns one of the elements of that list at random."
   ]
  },
  {
   "cell_type": "code",
   "execution_count": 157,
   "metadata": {
    "collapsed": true
   },
   "outputs": [],
   "source": [
    "import random\n",
    "# Choose a random person from the list of people:\n",
    "# random.choice(people)"
   ]
  },
  {
   "cell_type": "markdown",
   "metadata": {},
   "source": [
    "Write a function to choose a person from the list randomly three times and check if they are all the same\n",
    "\n",
    "Define a function that has the following properties:\n",
    "\n",
    "1. Takes a list (your list of names) as an argument.\n",
    "2. Selects a name using `random.choice(people)` three separate times.\n",
    "3. Returns `True` if the name was the same all three times. Otherwise returns `False`."
   ]
  },
  {
   "cell_type": "code",
   "execution_count": 188,
   "metadata": {},
   "outputs": [],
   "source": [
    "# A:\n",
    "\n",
    "import random\n",
    "# Choose a random person from the list of people:\n",
    "# random.choice(people)\n",
    "\n",
    "# people list size is 20, so the odss are 1/20 x 1/20 x 1/20 = 1/8000\n",
    "# So, you'd need to try a maximum of 8000 combinations to see all 20 names repeat three times.\n",
    "# Presumably then the odds of seeing the first instance repeating three times are 1/8000 divided by 20 = 1/400\n",
    "\n",
    "def is_same_name_three_times(list_of_names):\n",
    "    name_one = random.choice(list_of_names)\n",
    "    name_two = random.choice(list_of_names)\n",
    "    name_three = random.choice(list_of_names)\n",
    "    \n",
    "    #name_one=name_two=name_three=\"bob\"\n",
    "    \n",
    "    if not ((name_one == name_two) and (name_one == name_three) and (name_two == name_three)):\n",
    "        return False\n",
    "    else:\n",
    "        print \"%s | %s | %s\" % (name_one, name_two, name_three)\n",
    "        return True"
   ]
  },
  {
   "cell_type": "markdown",
   "metadata": {},
   "source": [
    "---\n",
    "\n",
    "### 23. Construct a while loop to run the choosing function until it returns True.\n",
    "\n",
    "Run the function until you draw the same person three times using a while-loop. Keep track of how many tries it took and print out the number of tries after it runs."
   ]
  },
  {
   "cell_type": "code",
   "execution_count": 189,
   "metadata": {},
   "outputs": [
    {
     "name": "stdout",
     "output_type": "stream",
     "text": [
      "Deepthi | Deepthi | Deepthi\n",
      "It took 1294 attempts for the same name to be picked three times in a row.\n"
     ]
    }
   ],
   "source": [
    "# A:\n",
    "\n",
    "try_counter = 0\n",
    "\n",
    "while (not (is_same_name_three_times(people))):\n",
    "    try_counter += 1\n",
    "\n",
    "print \"It took %s attempts for the same name to be picked three times in a row.\" % try_counter"
   ]
  },
  {
   "cell_type": "code",
   "execution_count": null,
   "metadata": {
    "collapsed": true
   },
   "outputs": [],
   "source": []
  }
 ],
 "metadata": {
  "kernelspec": {
   "display_name": "Python 2",
   "language": "python",
   "name": "python2"
  },
  "language_info": {
   "codemirror_mode": {
    "name": "ipython",
    "version": 2
   },
   "file_extension": ".py",
   "mimetype": "text/x-python",
   "name": "python",
   "nbconvert_exporter": "python",
   "pygments_lexer": "ipython2",
   "version": "2.7.14"
  }
 },
 "nbformat": 4,
 "nbformat_minor": 1
}
