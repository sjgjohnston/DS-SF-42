{
 "cells": [
  {
   "cell_type": "markdown",
   "metadata": {},
   "source": [
    "# DS-SF-34 | 02 | The `pandas` Library | Codealong | Starter Code"
   ]
  },
  {
   "cell_type": "markdown",
   "metadata": {},
   "source": [
    "(http://pandas.pydata.org/pandas-docs/stable)"
   ]
  },
  {
   "cell_type": "markdown",
   "metadata": {},
   "source": [
    "## Part A - Introduction to `pandas`"
   ]
  },
  {
   "cell_type": "code",
   "execution_count": 1,
   "metadata": {
    "collapsed": true
   },
   "outputs": [],
   "source": [
    "import numpy as np\n",
    "import pandas as pd\n",
    "import re"
   ]
  },
  {
   "cell_type": "markdown",
   "metadata": {},
   "source": [
    "> ## `pd.read_csv()`: load datasets from files (or even over the Internet)"
   ]
  },
  {
   "cell_type": "markdown",
   "metadata": {},
   "source": [
    "(http://pandas.pydata.org/pandas-docs/stable/generated/pandas.read_csv.html)"
   ]
  },
  {
   "cell_type": "code",
   "execution_count": 2,
   "metadata": {
    "collapsed": true
   },
   "outputs": [],
   "source": [
    "import pandas as pd\n",
    "df = pd.read_csv('../datasets/dataset-02-zillow-starter.csv')"
   ]
  },
  {
   "cell_type": "markdown",
   "metadata": {},
   "source": [
    "> ## `DataFrame`"
   ]
  },
  {
   "cell_type": "markdown",
   "metadata": {},
   "source": [
    "Let's check `df`'s type:"
   ]
  },
  {
   "cell_type": "code",
   "execution_count": 3,
   "metadata": {},
   "outputs": [
    {
     "data": {
      "text/plain": [
       "pandas.core.frame.DataFrame"
      ]
     },
     "execution_count": 3,
     "metadata": {},
     "output_type": "execute_result"
    }
   ],
   "source": [
    "\n",
    "# TODO\n",
    "type(df)"
   ]
  },
  {
   "cell_type": "markdown",
   "metadata": {},
   "source": [
    "`df` is a `DataFrame`.  (http://pandas.pydata.org/pandas-docs/stable/dsintro.html)"
   ]
  },
  {
   "cell_type": "markdown",
   "metadata": {},
   "source": [
    "A `DataFrame` stores tabular data.  Let's have a look at its content:"
   ]
  },
  {
   "cell_type": "code",
   "execution_count": 8,
   "metadata": {},
   "outputs": [
    {
     "data": {
      "text/html": [
       "<div>\n",
       "<style>\n",
       "    .dataframe thead tr:only-child th {\n",
       "        text-align: right;\n",
       "    }\n",
       "\n",
       "    .dataframe thead th {\n",
       "        text-align: left;\n",
       "    }\n",
       "\n",
       "    .dataframe tbody tr th {\n",
       "        vertical-align: top;\n",
       "    }\n",
       "</style>\n",
       "<table border=\"1\" class=\"dataframe\">\n",
       "  <thead>\n",
       "    <tr style=\"text-align: right;\">\n",
       "      <th></th>\n",
       "      <th>ID</th>\n",
       "      <th>Address</th>\n",
       "      <th>Latitude</th>\n",
       "      <th>Longitude</th>\n",
       "      <th>DateOfSale</th>\n",
       "      <th>SalePrice</th>\n",
       "      <th>SalePriceUnit</th>\n",
       "      <th>IsAStudio</th>\n",
       "      <th>Beds</th>\n",
       "      <th>Baths</th>\n",
       "      <th>Size</th>\n",
       "      <th>SizeUnit</th>\n",
       "      <th>LotSize</th>\n",
       "      <th>LotSizeUnit</th>\n",
       "      <th>BuiltInYear</th>\n",
       "    </tr>\n",
       "  </thead>\n",
       "  <tbody>\n",
       "    <tr>\n",
       "      <th>0</th>\n",
       "      <td>15063471</td>\n",
       "      <td>55 Vandewater St APT 9, San Francisco, CA</td>\n",
       "      <td>37805103</td>\n",
       "      <td>-122412856</td>\n",
       "      <td>12/4/15</td>\n",
       "      <td>710000.00</td>\n",
       "      <td>$</td>\n",
       "      <td>False</td>\n",
       "      <td>1.0</td>\n",
       "      <td>NaN</td>\n",
       "      <td>550.0</td>\n",
       "      <td>sqft</td>\n",
       "      <td>NaN</td>\n",
       "      <td>NaN</td>\n",
       "      <td>1980.0</td>\n",
       "    </tr>\n",
       "    <tr>\n",
       "      <th>1</th>\n",
       "      <td>15063505</td>\n",
       "      <td>740 Francisco St, San Francisco, CA</td>\n",
       "      <td>37804420</td>\n",
       "      <td>-122417389</td>\n",
       "      <td>11/30/15</td>\n",
       "      <td>2.15</td>\n",
       "      <td>$M</td>\n",
       "      <td>False</td>\n",
       "      <td>NaN</td>\n",
       "      <td>2.0</td>\n",
       "      <td>1430.0</td>\n",
       "      <td>sqft</td>\n",
       "      <td>2435.0</td>\n",
       "      <td>sqft</td>\n",
       "      <td>1948.0</td>\n",
       "    </tr>\n",
       "    <tr>\n",
       "      <th>2</th>\n",
       "      <td>15063609</td>\n",
       "      <td>819 Francisco St, San Francisco, CA</td>\n",
       "      <td>37803728</td>\n",
       "      <td>-122419055</td>\n",
       "      <td>11/12/15</td>\n",
       "      <td>5.60</td>\n",
       "      <td>$M</td>\n",
       "      <td>False</td>\n",
       "      <td>2.0</td>\n",
       "      <td>3.5</td>\n",
       "      <td>2040.0</td>\n",
       "      <td>sqft</td>\n",
       "      <td>3920.0</td>\n",
       "      <td>sqft</td>\n",
       "      <td>1976.0</td>\n",
       "    </tr>\n",
       "    <tr>\n",
       "      <th>3</th>\n",
       "      <td>15064044</td>\n",
       "      <td>199 Chestnut St APT 5, San Francisco, CA</td>\n",
       "      <td>37804392</td>\n",
       "      <td>-122406590</td>\n",
       "      <td>12/11/15</td>\n",
       "      <td>1.50</td>\n",
       "      <td>$M</td>\n",
       "      <td>False</td>\n",
       "      <td>1.0</td>\n",
       "      <td>1.0</td>\n",
       "      <td>1060.0</td>\n",
       "      <td>sqft</td>\n",
       "      <td>NaN</td>\n",
       "      <td>NaN</td>\n",
       "      <td>1930.0</td>\n",
       "    </tr>\n",
       "    <tr>\n",
       "      <th>4</th>\n",
       "      <td>15064257</td>\n",
       "      <td>111 Chestnut St APT 403, San Francisco, CA</td>\n",
       "      <td>37804240</td>\n",
       "      <td>-122405509</td>\n",
       "      <td>1/15/16</td>\n",
       "      <td>970000.00</td>\n",
       "      <td>$</td>\n",
       "      <td>False</td>\n",
       "      <td>2.0</td>\n",
       "      <td>2.0</td>\n",
       "      <td>1299.0</td>\n",
       "      <td>sqft</td>\n",
       "      <td>NaN</td>\n",
       "      <td>NaN</td>\n",
       "      <td>1993.0</td>\n",
       "    </tr>\n",
       "    <tr>\n",
       "      <th>5</th>\n",
       "      <td>15064295</td>\n",
       "      <td>111 Chestnut St APT 702, San Francisco, CA</td>\n",
       "      <td>37804240</td>\n",
       "      <td>-122405509</td>\n",
       "      <td>12/17/15</td>\n",
       "      <td>940000.00</td>\n",
       "      <td>$</td>\n",
       "      <td>False</td>\n",
       "      <td>2.0</td>\n",
       "      <td>2.0</td>\n",
       "      <td>1033.0</td>\n",
       "      <td>sqft</td>\n",
       "      <td>NaN</td>\n",
       "      <td>NaN</td>\n",
       "      <td>1993.0</td>\n",
       "    </tr>\n",
       "    <tr>\n",
       "      <th>6</th>\n",
       "      <td>15064391</td>\n",
       "      <td>1821 Grant Ave APT 101, San Francisco, CA</td>\n",
       "      <td>37803748</td>\n",
       "      <td>-122408531</td>\n",
       "      <td>12/15/15</td>\n",
       "      <td>835000.00</td>\n",
       "      <td>$</td>\n",
       "      <td>False</td>\n",
       "      <td>1.0</td>\n",
       "      <td>1.0</td>\n",
       "      <td>1048.0</td>\n",
       "      <td>sqft</td>\n",
       "      <td>NaN</td>\n",
       "      <td>NaN</td>\n",
       "      <td>1975.0</td>\n",
       "    </tr>\n",
       "    <tr>\n",
       "      <th>7</th>\n",
       "      <td>15064536</td>\n",
       "      <td>2300 Leavenworth St, San Francisco, CA</td>\n",
       "      <td>37802408</td>\n",
       "      <td>-122417537</td>\n",
       "      <td>12/4/15</td>\n",
       "      <td>2.83</td>\n",
       "      <td>$M</td>\n",
       "      <td>False</td>\n",
       "      <td>3.0</td>\n",
       "      <td>2.0</td>\n",
       "      <td>2115.0</td>\n",
       "      <td>sqft</td>\n",
       "      <td>1271.0</td>\n",
       "      <td>sqft</td>\n",
       "      <td>1913.0</td>\n",
       "    </tr>\n",
       "    <tr>\n",
       "      <th>8</th>\n",
       "      <td>15064640</td>\n",
       "      <td>1047-1049 Lombard St, San Francisco, CA</td>\n",
       "      <td>37801889</td>\n",
       "      <td>-122418704</td>\n",
       "      <td>1/14/16</td>\n",
       "      <td>4.05</td>\n",
       "      <td>$M</td>\n",
       "      <td>True</td>\n",
       "      <td>NaN</td>\n",
       "      <td>NaN</td>\n",
       "      <td>4102.0</td>\n",
       "      <td>sqft</td>\n",
       "      <td>3049.0</td>\n",
       "      <td>sqft</td>\n",
       "      <td>1948.0</td>\n",
       "    </tr>\n",
       "    <tr>\n",
       "      <th>9</th>\n",
       "      <td>15064669</td>\n",
       "      <td>1055 Lombard St # C, San Francisco, CA</td>\n",
       "      <td>37801873</td>\n",
       "      <td>-122418834</td>\n",
       "      <td>12/31/15</td>\n",
       "      <td>2.19</td>\n",
       "      <td>$M</td>\n",
       "      <td>False</td>\n",
       "      <td>2.0</td>\n",
       "      <td>3.0</td>\n",
       "      <td>1182.0</td>\n",
       "      <td>sqft</td>\n",
       "      <td>NaN</td>\n",
       "      <td>NaN</td>\n",
       "      <td>1986.0</td>\n",
       "    </tr>\n",
       "    <tr>\n",
       "      <th>10</th>\n",
       "      <td>15065032</td>\n",
       "      <td>101 Lombard St APT 116E, San Francisco, CA</td>\n",
       "      <td>37803470</td>\n",
       "      <td>-122404090</td>\n",
       "      <td>12/7/15</td>\n",
       "      <td>800000.00</td>\n",
       "      <td>$</td>\n",
       "      <td>False</td>\n",
       "      <td>1.0</td>\n",
       "      <td>1.0</td>\n",
       "      <td>1000.0</td>\n",
       "      <td>sqft</td>\n",
       "      <td>NaN</td>\n",
       "      <td>NaN</td>\n",
       "      <td>1983.0</td>\n",
       "    </tr>\n",
       "    <tr>\n",
       "      <th>11</th>\n",
       "      <td>15065140</td>\n",
       "      <td>1407 Montgomery St APT 2, San Francisco, CA</td>\n",
       "      <td>37802299</td>\n",
       "      <td>-122404941</td>\n",
       "      <td>1/28/16</td>\n",
       "      <td>976000.00</td>\n",
       "      <td>$</td>\n",
       "      <td>False</td>\n",
       "      <td>1.0</td>\n",
       "      <td>1.0</td>\n",
       "      <td>1000.0</td>\n",
       "      <td>sqft</td>\n",
       "      <td>NaN</td>\n",
       "      <td>NaN</td>\n",
       "      <td>1870.0</td>\n",
       "    </tr>\n",
       "    <tr>\n",
       "      <th>12</th>\n",
       "      <td>15065727</td>\n",
       "      <td>1360 Montgomery St APT 1, San Francisco, CA</td>\n",
       "      <td>37801802</td>\n",
       "      <td>-122404269</td>\n",
       "      <td>11/16/15</td>\n",
       "      <td>720000.00</td>\n",
       "      <td>$</td>\n",
       "      <td>False</td>\n",
       "      <td>1.0</td>\n",
       "      <td>1.0</td>\n",
       "      <td>552.0</td>\n",
       "      <td>sqft</td>\n",
       "      <td>NaN</td>\n",
       "      <td>NaN</td>\n",
       "      <td>1937.0</td>\n",
       "    </tr>\n",
       "    <tr>\n",
       "      <th>13</th>\n",
       "      <td>15065810</td>\n",
       "      <td>1327-1329 Kearny St, San Francisco, CA</td>\n",
       "      <td>37800260</td>\n",
       "      <td>-122406123</td>\n",
       "      <td>11/25/15</td>\n",
       "      <td>2.25</td>\n",
       "      <td>$M</td>\n",
       "      <td>False</td>\n",
       "      <td>NaN</td>\n",
       "      <td>4.0</td>\n",
       "      <td>2658.0</td>\n",
       "      <td>sqft</td>\n",
       "      <td>1600.0</td>\n",
       "      <td>sqft</td>\n",
       "      <td>1906.0</td>\n",
       "    </tr>\n",
       "    <tr>\n",
       "      <th>14</th>\n",
       "      <td>15065946</td>\n",
       "      <td>44 Macondray Ln APT 2E, San Francisco, CA</td>\n",
       "      <td>37799474</td>\n",
       "      <td>-122414835</td>\n",
       "      <td>11/30/15</td>\n",
       "      <td>1.29</td>\n",
       "      <td>$M</td>\n",
       "      <td>False</td>\n",
       "      <td>2.0</td>\n",
       "      <td>2.0</td>\n",
       "      <td>1165.0</td>\n",
       "      <td>sqft</td>\n",
       "      <td>NaN</td>\n",
       "      <td>NaN</td>\n",
       "      <td>1980.0</td>\n",
       "    </tr>\n",
       "    <tr>\n",
       "      <th>15</th>\n",
       "      <td>15066001</td>\n",
       "      <td>1070 Green St APT 201, San Francisco, CA</td>\n",
       "      <td>37798792</td>\n",
       "      <td>-122416797</td>\n",
       "      <td>11/18/15</td>\n",
       "      <td>2.90</td>\n",
       "      <td>$M</td>\n",
       "      <td>False</td>\n",
       "      <td>2.0</td>\n",
       "      <td>2.0</td>\n",
       "      <td>1465.0</td>\n",
       "      <td>sqft</td>\n",
       "      <td>NaN</td>\n",
       "      <td>NaN</td>\n",
       "      <td>1963.0</td>\n",
       "    </tr>\n",
       "    <tr>\n",
       "      <th>16</th>\n",
       "      <td>15066036</td>\n",
       "      <td>1070 Green St APT 1402, San Francisco, CA</td>\n",
       "      <td>37798792</td>\n",
       "      <td>-122416797</td>\n",
       "      <td>12/31/15</td>\n",
       "      <td>2.60</td>\n",
       "      <td>$M</td>\n",
       "      <td>False</td>\n",
       "      <td>3.0</td>\n",
       "      <td>2.5</td>\n",
       "      <td>2017.0</td>\n",
       "      <td>sqft</td>\n",
       "      <td>NaN</td>\n",
       "      <td>NaN</td>\n",
       "      <td>1963.0</td>\n",
       "    </tr>\n",
       "    <tr>\n",
       "      <th>17</th>\n",
       "      <td>15066085</td>\n",
       "      <td>1907 Leavenworth St APT 8, San Francisco, CA</td>\n",
       "      <td>37798645</td>\n",
       "      <td>-122417500</td>\n",
       "      <td>11/12/15</td>\n",
       "      <td>908000.00</td>\n",
       "      <td>$</td>\n",
       "      <td>False</td>\n",
       "      <td>2.0</td>\n",
       "      <td>1.0</td>\n",
       "      <td>956.0</td>\n",
       "      <td>sqft</td>\n",
       "      <td>NaN</td>\n",
       "      <td>NaN</td>\n",
       "      <td>1907.0</td>\n",
       "    </tr>\n",
       "    <tr>\n",
       "      <th>18</th>\n",
       "      <td>15066201</td>\n",
       "      <td>1101 Green St # 303, San Francisco, CA</td>\n",
       "      <td>37798234</td>\n",
       "      <td>-122417394</td>\n",
       "      <td>11/16/15</td>\n",
       "      <td>1.21</td>\n",
       "      <td>$M</td>\n",
       "      <td>False</td>\n",
       "      <td>2.0</td>\n",
       "      <td>1.0</td>\n",
       "      <td>1003.0</td>\n",
       "      <td>sqft</td>\n",
       "      <td>NaN</td>\n",
       "      <td>NaN</td>\n",
       "      <td>1930.0</td>\n",
       "    </tr>\n",
       "    <tr>\n",
       "      <th>19</th>\n",
       "      <td>15066281</td>\n",
       "      <td>1807 Jones St, San Francisco, CA</td>\n",
       "      <td>37797920</td>\n",
       "      <td>-122415745</td>\n",
       "      <td>12/15/15</td>\n",
       "      <td>1.70</td>\n",
       "      <td>$M</td>\n",
       "      <td>False</td>\n",
       "      <td>2.0</td>\n",
       "      <td>2.0</td>\n",
       "      <td>1467.0</td>\n",
       "      <td>sqft</td>\n",
       "      <td>3023.0</td>\n",
       "      <td>sqft</td>\n",
       "      <td>1922.0</td>\n",
       "    </tr>\n",
       "    <tr>\n",
       "      <th>20</th>\n",
       "      <td>15066344</td>\n",
       "      <td>999 Green St APT 905, San Francisco, CA</td>\n",
       "      <td>37798451</td>\n",
       "      <td>-122415218</td>\n",
       "      <td>12/10/15</td>\n",
       "      <td>1.28</td>\n",
       "      <td>$M</td>\n",
       "      <td>False</td>\n",
       "      <td>1.0</td>\n",
       "      <td>1.0</td>\n",
       "      <td>986.0</td>\n",
       "      <td>sqft</td>\n",
       "      <td>NaN</td>\n",
       "      <td>NaN</td>\n",
       "      <td>1964.0</td>\n",
       "    </tr>\n",
       "    <tr>\n",
       "      <th>21</th>\n",
       "      <td>15066608</td>\n",
       "      <td>455 Vallejo St APT 111, San Francisco, CA</td>\n",
       "      <td>37798796</td>\n",
       "      <td>-122404766</td>\n",
       "      <td>12/16/15</td>\n",
       "      <td>875000.00</td>\n",
       "      <td>$</td>\n",
       "      <td>False</td>\n",
       "      <td>1.0</td>\n",
       "      <td>1.0</td>\n",
       "      <td>825.0</td>\n",
       "      <td>sqft</td>\n",
       "      <td>NaN</td>\n",
       "      <td>NaN</td>\n",
       "      <td>1973.0</td>\n",
       "    </tr>\n",
       "    <tr>\n",
       "      <th>22</th>\n",
       "      <td>15066839</td>\n",
       "      <td>1163-1165 Vallejo St, San Francisco, CA</td>\n",
       "      <td>37797445</td>\n",
       "      <td>-122416366</td>\n",
       "      <td>12/1/15</td>\n",
       "      <td>300000.00</td>\n",
       "      <td>$</td>\n",
       "      <td>False</td>\n",
       "      <td>NaN</td>\n",
       "      <td>2.0</td>\n",
       "      <td>2344.0</td>\n",
       "      <td>sqft</td>\n",
       "      <td>1376.0</td>\n",
       "      <td>sqft</td>\n",
       "      <td>1913.0</td>\n",
       "    </tr>\n",
       "    <tr>\n",
       "      <th>23</th>\n",
       "      <td>15066959</td>\n",
       "      <td>1300 Pacific Ave, San Francisco, CA</td>\n",
       "      <td>37795805</td>\n",
       "      <td>-122416840</td>\n",
       "      <td>1/14/16</td>\n",
       "      <td>425000.00</td>\n",
       "      <td>$</td>\n",
       "      <td>True</td>\n",
       "      <td>NaN</td>\n",
       "      <td>2.0</td>\n",
       "      <td>989.0</td>\n",
       "      <td>sqft</td>\n",
       "      <td>NaN</td>\n",
       "      <td>NaN</td>\n",
       "      <td>1910.0</td>\n",
       "    </tr>\n",
       "    <tr>\n",
       "      <th>24</th>\n",
       "      <td>15067302</td>\n",
       "      <td>948 Jackson St, San Francisco, CA</td>\n",
       "      <td>37795662</td>\n",
       "      <td>-122410789</td>\n",
       "      <td>11/13/15</td>\n",
       "      <td>1.95</td>\n",
       "      <td>$M</td>\n",
       "      <td>False</td>\n",
       "      <td>NaN</td>\n",
       "      <td>4.0</td>\n",
       "      <td>4362.0</td>\n",
       "      <td>sqft</td>\n",
       "      <td>1459.0</td>\n",
       "      <td>sqft</td>\n",
       "      <td>1908.0</td>\n",
       "    </tr>\n",
       "    <tr>\n",
       "      <th>25</th>\n",
       "      <td>15067583</td>\n",
       "      <td>946 Stockton St APT 6B, San Francisco, CA</td>\n",
       "      <td>37794715</td>\n",
       "      <td>-122407810</td>\n",
       "      <td>12/18/15</td>\n",
       "      <td>775000.00</td>\n",
       "      <td>$</td>\n",
       "      <td>False</td>\n",
       "      <td>NaN</td>\n",
       "      <td>2.0</td>\n",
       "      <td>710.0</td>\n",
       "      <td>sqft</td>\n",
       "      <td>NaN</td>\n",
       "      <td>NaN</td>\n",
       "      <td>1970.0</td>\n",
       "    </tr>\n",
       "    <tr>\n",
       "      <th>26</th>\n",
       "      <td>15067604</td>\n",
       "      <td>946 Stockton St APT 9E, San Francisco, CA</td>\n",
       "      <td>37794715</td>\n",
       "      <td>-122407810</td>\n",
       "      <td>12/2/15</td>\n",
       "      <td>705000.00</td>\n",
       "      <td>$</td>\n",
       "      <td>False</td>\n",
       "      <td>2.0</td>\n",
       "      <td>2.0</td>\n",
       "      <td>744.0</td>\n",
       "      <td>sqft</td>\n",
       "      <td>NaN</td>\n",
       "      <td>NaN</td>\n",
       "      <td>1970.0</td>\n",
       "    </tr>\n",
       "    <tr>\n",
       "      <th>27</th>\n",
       "      <td>15067755</td>\n",
       "      <td>1250 Clay St APT 306, San Francisco, CA</td>\n",
       "      <td>37793575</td>\n",
       "      <td>-122413670</td>\n",
       "      <td>1/10/16</td>\n",
       "      <td>695000.00</td>\n",
       "      <td>$</td>\n",
       "      <td>False</td>\n",
       "      <td>1.0</td>\n",
       "      <td>1.0</td>\n",
       "      <td>541.0</td>\n",
       "      <td>sqft</td>\n",
       "      <td>NaN</td>\n",
       "      <td>NaN</td>\n",
       "      <td>1950.0</td>\n",
       "    </tr>\n",
       "    <tr>\n",
       "      <th>28</th>\n",
       "      <td>15067890</td>\n",
       "      <td>1250 Jones St APT 503, San Francisco, CA</td>\n",
       "      <td>37793071</td>\n",
       "      <td>-122414049</td>\n",
       "      <td>12/4/15</td>\n",
       "      <td>1.41</td>\n",
       "      <td>$M</td>\n",
       "      <td>False</td>\n",
       "      <td>1.0</td>\n",
       "      <td>1.0</td>\n",
       "      <td>1250.0</td>\n",
       "      <td>sqft</td>\n",
       "      <td>NaN</td>\n",
       "      <td>NaN</td>\n",
       "      <td>1929.0</td>\n",
       "    </tr>\n",
       "    <tr>\n",
       "      <th>29</th>\n",
       "      <td>15067896</td>\n",
       "      <td>1250 Jones St APT 802, San Francisco, CA</td>\n",
       "      <td>37793071</td>\n",
       "      <td>-122414049</td>\n",
       "      <td>12/15/15</td>\n",
       "      <td>1.68</td>\n",
       "      <td>$M</td>\n",
       "      <td>False</td>\n",
       "      <td>1.0</td>\n",
       "      <td>1.0</td>\n",
       "      <td>1115.0</td>\n",
       "      <td>sqft</td>\n",
       "      <td>NaN</td>\n",
       "      <td>NaN</td>\n",
       "      <td>1929.0</td>\n",
       "    </tr>\n",
       "    <tr>\n",
       "      <th>...</th>\n",
       "      <td>...</td>\n",
       "      <td>...</td>\n",
       "      <td>...</td>\n",
       "      <td>...</td>\n",
       "      <td>...</td>\n",
       "      <td>...</td>\n",
       "      <td>...</td>\n",
       "      <td>...</td>\n",
       "      <td>...</td>\n",
       "      <td>...</td>\n",
       "      <td>...</td>\n",
       "      <td>...</td>\n",
       "      <td>...</td>\n",
       "      <td>...</td>\n",
       "      <td>...</td>\n",
       "    </tr>\n",
       "    <tr>\n",
       "      <th>970</th>\n",
       "      <td>2100992607</td>\n",
       "      <td>2137 Pine St, San Francisco, CA</td>\n",
       "      <td>37788242</td>\n",
       "      <td>-122430988</td>\n",
       "      <td>1/15/16</td>\n",
       "      <td>1.55</td>\n",
       "      <td>$M</td>\n",
       "      <td>False</td>\n",
       "      <td>4.0</td>\n",
       "      <td>2.5</td>\n",
       "      <td>1632.0</td>\n",
       "      <td>sqft</td>\n",
       "      <td>NaN</td>\n",
       "      <td>NaN</td>\n",
       "      <td>NaN</td>\n",
       "    </tr>\n",
       "    <tr>\n",
       "      <th>971</th>\n",
       "      <td>2100994004</td>\n",
       "      <td>409 Miguel St, San Francisco, CA</td>\n",
       "      <td>37736625</td>\n",
       "      <td>-122427008</td>\n",
       "      <td>12/9/15</td>\n",
       "      <td>510000.00</td>\n",
       "      <td>$</td>\n",
       "      <td>False</td>\n",
       "      <td>1.0</td>\n",
       "      <td>1.0</td>\n",
       "      <td>400.0</td>\n",
       "      <td>sqft</td>\n",
       "      <td>NaN</td>\n",
       "      <td>NaN</td>\n",
       "      <td>NaN</td>\n",
       "    </tr>\n",
       "    <tr>\n",
       "      <th>972</th>\n",
       "      <td>2101028916</td>\n",
       "      <td>251 Missouri St, San Francisco, CA</td>\n",
       "      <td>37763202</td>\n",
       "      <td>-122396270</td>\n",
       "      <td>12/17/15</td>\n",
       "      <td>2.45</td>\n",
       "      <td>$M</td>\n",
       "      <td>False</td>\n",
       "      <td>4.0</td>\n",
       "      <td>3.0</td>\n",
       "      <td>2301.0</td>\n",
       "      <td>sqft</td>\n",
       "      <td>NaN</td>\n",
       "      <td>NaN</td>\n",
       "      <td>1900.0</td>\n",
       "    </tr>\n",
       "    <tr>\n",
       "      <th>973</th>\n",
       "      <td>2101094207</td>\n",
       "      <td>1650 Florida St, San Francisco, CA</td>\n",
       "      <td>37746898</td>\n",
       "      <td>-122409301</td>\n",
       "      <td>11/29/15</td>\n",
       "      <td>970000.00</td>\n",
       "      <td>$</td>\n",
       "      <td>False</td>\n",
       "      <td>3.0</td>\n",
       "      <td>1.0</td>\n",
       "      <td>NaN</td>\n",
       "      <td>NaN</td>\n",
       "      <td>NaN</td>\n",
       "      <td>NaN</td>\n",
       "      <td>1904.0</td>\n",
       "    </tr>\n",
       "    <tr>\n",
       "      <th>974</th>\n",
       "      <td>2101105851</td>\n",
       "      <td>41 Collingwood St, San Francisco, CA</td>\n",
       "      <td>37761579</td>\n",
       "      <td>-122436123</td>\n",
       "      <td>12/10/15</td>\n",
       "      <td>1.30</td>\n",
       "      <td>$M</td>\n",
       "      <td>False</td>\n",
       "      <td>3.0</td>\n",
       "      <td>1.0</td>\n",
       "      <td>1496.0</td>\n",
       "      <td>sqft</td>\n",
       "      <td>NaN</td>\n",
       "      <td>NaN</td>\n",
       "      <td>1908.0</td>\n",
       "    </tr>\n",
       "    <tr>\n",
       "      <th>975</th>\n",
       "      <td>2101116542</td>\n",
       "      <td>2753 Bryant St, San Francisco, CA</td>\n",
       "      <td>37750270</td>\n",
       "      <td>-122408600</td>\n",
       "      <td>1/14/16</td>\n",
       "      <td>1.70</td>\n",
       "      <td>$M</td>\n",
       "      <td>False</td>\n",
       "      <td>9.0</td>\n",
       "      <td>3.0</td>\n",
       "      <td>4005.0</td>\n",
       "      <td>sqft</td>\n",
       "      <td>NaN</td>\n",
       "      <td>NaN</td>\n",
       "      <td>1900.0</td>\n",
       "    </tr>\n",
       "    <tr>\n",
       "      <th>976</th>\n",
       "      <td>2101147349</td>\n",
       "      <td>244 Precita Ave, San Francisco, CA</td>\n",
       "      <td>37747330</td>\n",
       "      <td>-122415110</td>\n",
       "      <td>11/26/15</td>\n",
       "      <td>785000.00</td>\n",
       "      <td>$</td>\n",
       "      <td>False</td>\n",
       "      <td>1.0</td>\n",
       "      <td>1.0</td>\n",
       "      <td>625.0</td>\n",
       "      <td>sqft</td>\n",
       "      <td>NaN</td>\n",
       "      <td>NaN</td>\n",
       "      <td>1908.0</td>\n",
       "    </tr>\n",
       "    <tr>\n",
       "      <th>977</th>\n",
       "      <td>2101153805</td>\n",
       "      <td>6 Rossi Ave, San Francisco, CA</td>\n",
       "      <td>37779494</td>\n",
       "      <td>-122456412</td>\n",
       "      <td>12/2/15</td>\n",
       "      <td>1.15</td>\n",
       "      <td>$M</td>\n",
       "      <td>False</td>\n",
       "      <td>3.0</td>\n",
       "      <td>1.0</td>\n",
       "      <td>1912.0</td>\n",
       "      <td>sqft</td>\n",
       "      <td>NaN</td>\n",
       "      <td>NaN</td>\n",
       "      <td>1941.0</td>\n",
       "    </tr>\n",
       "    <tr>\n",
       "      <th>978</th>\n",
       "      <td>2101156735</td>\n",
       "      <td>333 Potrero Ave, San Francisco, CA</td>\n",
       "      <td>37765266</td>\n",
       "      <td>-122407150</td>\n",
       "      <td>1/5/16</td>\n",
       "      <td>1.14</td>\n",
       "      <td>$M</td>\n",
       "      <td>True</td>\n",
       "      <td>NaN</td>\n",
       "      <td>NaN</td>\n",
       "      <td>1776.0</td>\n",
       "      <td>sqft</td>\n",
       "      <td>3746.0</td>\n",
       "      <td>sqft</td>\n",
       "      <td>1905.0</td>\n",
       "    </tr>\n",
       "    <tr>\n",
       "      <th>979</th>\n",
       "      <td>2101167573</td>\n",
       "      <td>1340 Union St, San Francisco, CA</td>\n",
       "      <td>37798930</td>\n",
       "      <td>-122421388</td>\n",
       "      <td>1/25/16</td>\n",
       "      <td>1.25</td>\n",
       "      <td>$M</td>\n",
       "      <td>False</td>\n",
       "      <td>2.0</td>\n",
       "      <td>2.0</td>\n",
       "      <td>1108.0</td>\n",
       "      <td>sqft</td>\n",
       "      <td>NaN</td>\n",
       "      <td>NaN</td>\n",
       "      <td>1951.0</td>\n",
       "    </tr>\n",
       "    <tr>\n",
       "      <th>980</th>\n",
       "      <td>2101169168</td>\n",
       "      <td>688 Douglass St, San Francisco, CA</td>\n",
       "      <td>37752803</td>\n",
       "      <td>-122438919</td>\n",
       "      <td>11/10/15</td>\n",
       "      <td>3.15</td>\n",
       "      <td>$M</td>\n",
       "      <td>True</td>\n",
       "      <td>NaN</td>\n",
       "      <td>NaN</td>\n",
       "      <td>3500.0</td>\n",
       "      <td>sqft</td>\n",
       "      <td>2495.0</td>\n",
       "      <td>sqft</td>\n",
       "      <td>1908.0</td>\n",
       "    </tr>\n",
       "    <tr>\n",
       "      <th>981</th>\n",
       "      <td>2101175813</td>\n",
       "      <td>414 Linden St, San Francisco, CA</td>\n",
       "      <td>37776218</td>\n",
       "      <td>-122424930</td>\n",
       "      <td>12/13/15</td>\n",
       "      <td>835000.00</td>\n",
       "      <td>$</td>\n",
       "      <td>False</td>\n",
       "      <td>1.0</td>\n",
       "      <td>1.0</td>\n",
       "      <td>NaN</td>\n",
       "      <td>NaN</td>\n",
       "      <td>NaN</td>\n",
       "      <td>NaN</td>\n",
       "      <td>1909.0</td>\n",
       "    </tr>\n",
       "    <tr>\n",
       "      <th>982</th>\n",
       "      <td>2101331127</td>\n",
       "      <td>1408 31st Ave APT 303, San Francisco, CA</td>\n",
       "      <td>37760994</td>\n",
       "      <td>-122489700</td>\n",
       "      <td>12/28/15</td>\n",
       "      <td>890000.00</td>\n",
       "      <td>$</td>\n",
       "      <td>False</td>\n",
       "      <td>2.0</td>\n",
       "      <td>2.0</td>\n",
       "      <td>1424.0</td>\n",
       "      <td>sqft</td>\n",
       "      <td>NaN</td>\n",
       "      <td>NaN</td>\n",
       "      <td>2008.0</td>\n",
       "    </tr>\n",
       "    <tr>\n",
       "      <th>983</th>\n",
       "      <td>2101505254</td>\n",
       "      <td>333 Beale St, San Francisco, CA</td>\n",
       "      <td>37788280</td>\n",
       "      <td>-122392100</td>\n",
       "      <td>12/3/15</td>\n",
       "      <td>1.40</td>\n",
       "      <td>$M</td>\n",
       "      <td>False</td>\n",
       "      <td>1.0</td>\n",
       "      <td>1.0</td>\n",
       "      <td>950.0</td>\n",
       "      <td>sqft</td>\n",
       "      <td>NaN</td>\n",
       "      <td>NaN</td>\n",
       "      <td>2015.0</td>\n",
       "    </tr>\n",
       "    <tr>\n",
       "      <th>984</th>\n",
       "      <td>2101588805</td>\n",
       "      <td>82 Alvarado St, San Francisco, CA</td>\n",
       "      <td>37754504</td>\n",
       "      <td>-122422736</td>\n",
       "      <td>11/19/15</td>\n",
       "      <td>750000.00</td>\n",
       "      <td>$</td>\n",
       "      <td>False</td>\n",
       "      <td>2.0</td>\n",
       "      <td>1.0</td>\n",
       "      <td>NaN</td>\n",
       "      <td>NaN</td>\n",
       "      <td>NaN</td>\n",
       "      <td>NaN</td>\n",
       "      <td>NaN</td>\n",
       "    </tr>\n",
       "    <tr>\n",
       "      <th>985</th>\n",
       "      <td>2101807538</td>\n",
       "      <td>2619 Sacramento St, San Francisco, CA</td>\n",
       "      <td>37789371</td>\n",
       "      <td>-122436058</td>\n",
       "      <td>12/2/15</td>\n",
       "      <td>2.90</td>\n",
       "      <td>$M</td>\n",
       "      <td>True</td>\n",
       "      <td>NaN</td>\n",
       "      <td>NaN</td>\n",
       "      <td>NaN</td>\n",
       "      <td>NaN</td>\n",
       "      <td>2038.0</td>\n",
       "      <td>sqft</td>\n",
       "      <td>1900.0</td>\n",
       "    </tr>\n",
       "    <tr>\n",
       "      <th>986</th>\n",
       "      <td>2102385068</td>\n",
       "      <td>129 Central Ave, San Francisco, CA</td>\n",
       "      <td>37770870</td>\n",
       "      <td>-122443840</td>\n",
       "      <td>12/1/15</td>\n",
       "      <td>1.80</td>\n",
       "      <td>$M</td>\n",
       "      <td>False</td>\n",
       "      <td>3.0</td>\n",
       "      <td>2.0</td>\n",
       "      <td>NaN</td>\n",
       "      <td>NaN</td>\n",
       "      <td>NaN</td>\n",
       "      <td>NaN</td>\n",
       "      <td>1905.0</td>\n",
       "    </tr>\n",
       "    <tr>\n",
       "      <th>987</th>\n",
       "      <td>2102906272</td>\n",
       "      <td>444 Linden St, San Francisco, CA</td>\n",
       "      <td>37776170</td>\n",
       "      <td>-122425300</td>\n",
       "      <td>12/14/15</td>\n",
       "      <td>5800.00</td>\n",
       "      <td>$</td>\n",
       "      <td>NaN</td>\n",
       "      <td>NaN</td>\n",
       "      <td>NaN</td>\n",
       "      <td>NaN</td>\n",
       "      <td>NaN</td>\n",
       "      <td>NaN</td>\n",
       "      <td>NaN</td>\n",
       "      <td>NaN</td>\n",
       "    </tr>\n",
       "    <tr>\n",
       "      <th>988</th>\n",
       "      <td>2106229715</td>\n",
       "      <td>2595 38th Ave, San Francisco, CA</td>\n",
       "      <td>37738600</td>\n",
       "      <td>-122496000</td>\n",
       "      <td>1/19/16</td>\n",
       "      <td>1.24</td>\n",
       "      <td>$M</td>\n",
       "      <td>False</td>\n",
       "      <td>3.0</td>\n",
       "      <td>3.0</td>\n",
       "      <td>2414.0</td>\n",
       "      <td>sqft</td>\n",
       "      <td>1306.0</td>\n",
       "      <td>sqft</td>\n",
       "      <td>1943.0</td>\n",
       "    </tr>\n",
       "    <tr>\n",
       "      <th>989</th>\n",
       "      <td>2108411930</td>\n",
       "      <td>3500 19th St, San Francisco, CA</td>\n",
       "      <td>37760100</td>\n",
       "      <td>-122422000</td>\n",
       "      <td>12/29/15</td>\n",
       "      <td>1.73</td>\n",
       "      <td>$M</td>\n",
       "      <td>False</td>\n",
       "      <td>2.0</td>\n",
       "      <td>2.5</td>\n",
       "      <td>1500.0</td>\n",
       "      <td>sqft</td>\n",
       "      <td>NaN</td>\n",
       "      <td>NaN</td>\n",
       "      <td>2013.0</td>\n",
       "    </tr>\n",
       "    <tr>\n",
       "      <th>990</th>\n",
       "      <td>2108546010</td>\n",
       "      <td>1738 Lombard St APT 4, San Francisco, CA</td>\n",
       "      <td>37800910</td>\n",
       "      <td>-122430229</td>\n",
       "      <td>1/14/16</td>\n",
       "      <td>1.40</td>\n",
       "      <td>$M</td>\n",
       "      <td>False</td>\n",
       "      <td>2.0</td>\n",
       "      <td>2.0</td>\n",
       "      <td>NaN</td>\n",
       "      <td>NaN</td>\n",
       "      <td>NaN</td>\n",
       "      <td>NaN</td>\n",
       "      <td>2004.0</td>\n",
       "    </tr>\n",
       "    <tr>\n",
       "      <th>991</th>\n",
       "      <td>2114498518</td>\n",
       "      <td>201 Sansome St UNIT 501, San Francisco, CA</td>\n",
       "      <td>37792255</td>\n",
       "      <td>-122401245</td>\n",
       "      <td>1/26/16</td>\n",
       "      <td>757500.00</td>\n",
       "      <td>$</td>\n",
       "      <td>False</td>\n",
       "      <td>1.0</td>\n",
       "      <td>1.0</td>\n",
       "      <td>658.0</td>\n",
       "      <td>sqft</td>\n",
       "      <td>NaN</td>\n",
       "      <td>NaN</td>\n",
       "      <td>1909.0</td>\n",
       "    </tr>\n",
       "    <tr>\n",
       "      <th>992</th>\n",
       "      <td>2121221385</td>\n",
       "      <td>925 Larkin St, San Francisco, CA</td>\n",
       "      <td>37786427</td>\n",
       "      <td>-122418222</td>\n",
       "      <td>11/30/15</td>\n",
       "      <td>1.43</td>\n",
       "      <td>$M</td>\n",
       "      <td>False</td>\n",
       "      <td>NaN</td>\n",
       "      <td>NaN</td>\n",
       "      <td>6600.0</td>\n",
       "      <td>sqft</td>\n",
       "      <td>NaN</td>\n",
       "      <td>NaN</td>\n",
       "      <td>1907.0</td>\n",
       "    </tr>\n",
       "    <tr>\n",
       "      <th>993</th>\n",
       "      <td>2121978635</td>\n",
       "      <td>829 Folsom St UNIT 906, San Francisco, CA</td>\n",
       "      <td>37781429</td>\n",
       "      <td>-122401860</td>\n",
       "      <td>12/6/15</td>\n",
       "      <td>675000.00</td>\n",
       "      <td>$</td>\n",
       "      <td>False</td>\n",
       "      <td>1.0</td>\n",
       "      <td>1.0</td>\n",
       "      <td>557.0</td>\n",
       "      <td>sqft</td>\n",
       "      <td>NaN</td>\n",
       "      <td>NaN</td>\n",
       "      <td>2010.0</td>\n",
       "    </tr>\n",
       "    <tr>\n",
       "      <th>994</th>\n",
       "      <td>2122992200</td>\n",
       "      <td>129 Octavia St, San Francisco, CA</td>\n",
       "      <td>37773192</td>\n",
       "      <td>-122424037</td>\n",
       "      <td>11/20/15</td>\n",
       "      <td>2.75</td>\n",
       "      <td>$M</td>\n",
       "      <td>True</td>\n",
       "      <td>NaN</td>\n",
       "      <td>NaN</td>\n",
       "      <td>3655.0</td>\n",
       "      <td>sqft</td>\n",
       "      <td>NaN</td>\n",
       "      <td>NaN</td>\n",
       "      <td>1883.0</td>\n",
       "    </tr>\n",
       "    <tr>\n",
       "      <th>995</th>\n",
       "      <td>2124214951</td>\n",
       "      <td>412 Green St APT A, San Francisco, CA</td>\n",
       "      <td>37800040</td>\n",
       "      <td>-122406100</td>\n",
       "      <td>1/15/16</td>\n",
       "      <td>390000.00</td>\n",
       "      <td>$</td>\n",
       "      <td>True</td>\n",
       "      <td>NaN</td>\n",
       "      <td>1.0</td>\n",
       "      <td>264.0</td>\n",
       "      <td>sqft</td>\n",
       "      <td>NaN</td>\n",
       "      <td>NaN</td>\n",
       "      <td>2012.0</td>\n",
       "    </tr>\n",
       "    <tr>\n",
       "      <th>996</th>\n",
       "      <td>2126960082</td>\n",
       "      <td>355 1st St UNIT 1905, San Francisco, CA</td>\n",
       "      <td>37787029</td>\n",
       "      <td>-122393638</td>\n",
       "      <td>11/20/15</td>\n",
       "      <td>860000.00</td>\n",
       "      <td>$</td>\n",
       "      <td>False</td>\n",
       "      <td>1.0</td>\n",
       "      <td>1.0</td>\n",
       "      <td>691.0</td>\n",
       "      <td>sqft</td>\n",
       "      <td>NaN</td>\n",
       "      <td>NaN</td>\n",
       "      <td>2004.0</td>\n",
       "    </tr>\n",
       "    <tr>\n",
       "      <th>997</th>\n",
       "      <td>2128308939</td>\n",
       "      <td>33 Santa Cruz Ave, San Francisco, CA</td>\n",
       "      <td>37709136</td>\n",
       "      <td>-122465332</td>\n",
       "      <td>12/10/15</td>\n",
       "      <td>830000.00</td>\n",
       "      <td>$</td>\n",
       "      <td>False</td>\n",
       "      <td>3.0</td>\n",
       "      <td>3.0</td>\n",
       "      <td>1738.0</td>\n",
       "      <td>sqft</td>\n",
       "      <td>2299.0</td>\n",
       "      <td>sqft</td>\n",
       "      <td>1976.0</td>\n",
       "    </tr>\n",
       "    <tr>\n",
       "      <th>998</th>\n",
       "      <td>2131957929</td>\n",
       "      <td>1821 Grant Ave, San Francisco, CA</td>\n",
       "      <td>37803760</td>\n",
       "      <td>-122408531</td>\n",
       "      <td>12/15/15</td>\n",
       "      <td>835000.00</td>\n",
       "      <td>$</td>\n",
       "      <td>False</td>\n",
       "      <td>2.0</td>\n",
       "      <td>2.0</td>\n",
       "      <td>1048.0</td>\n",
       "      <td>sqft</td>\n",
       "      <td>NaN</td>\n",
       "      <td>NaN</td>\n",
       "      <td>1975.0</td>\n",
       "    </tr>\n",
       "    <tr>\n",
       "      <th>999</th>\n",
       "      <td>2136213970</td>\n",
       "      <td>1200 Gough St, San Francisco, CA</td>\n",
       "      <td>37784770</td>\n",
       "      <td>-122424100</td>\n",
       "      <td>1/10/16</td>\n",
       "      <td>825000.00</td>\n",
       "      <td>$</td>\n",
       "      <td>False</td>\n",
       "      <td>1.0</td>\n",
       "      <td>1.0</td>\n",
       "      <td>900.0</td>\n",
       "      <td>sqft</td>\n",
       "      <td>NaN</td>\n",
       "      <td>NaN</td>\n",
       "      <td>1966.0</td>\n",
       "    </tr>\n",
       "  </tbody>\n",
       "</table>\n",
       "<p>1000 rows × 15 columns</p>\n",
       "</div>"
      ],
      "text/plain": [
       "             ID                                       Address  Latitude  \\\n",
       "0      15063471     55 Vandewater St APT 9, San Francisco, CA  37805103   \n",
       "1      15063505           740 Francisco St, San Francisco, CA  37804420   \n",
       "2      15063609           819 Francisco St, San Francisco, CA  37803728   \n",
       "3      15064044      199 Chestnut St APT 5, San Francisco, CA  37804392   \n",
       "4      15064257    111 Chestnut St APT 403, San Francisco, CA  37804240   \n",
       "5      15064295    111 Chestnut St APT 702, San Francisco, CA  37804240   \n",
       "6      15064391     1821 Grant Ave APT 101, San Francisco, CA  37803748   \n",
       "7      15064536        2300 Leavenworth St, San Francisco, CA  37802408   \n",
       "8      15064640       1047-1049 Lombard St, San Francisco, CA  37801889   \n",
       "9      15064669        1055 Lombard St # C, San Francisco, CA  37801873   \n",
       "10     15065032    101 Lombard St APT 116E, San Francisco, CA  37803470   \n",
       "11     15065140   1407 Montgomery St APT 2, San Francisco, CA  37802299   \n",
       "12     15065727   1360 Montgomery St APT 1, San Francisco, CA  37801802   \n",
       "13     15065810        1327-1329 Kearny St, San Francisco, CA  37800260   \n",
       "14     15065946     44 Macondray Ln APT 2E, San Francisco, CA  37799474   \n",
       "15     15066001      1070 Green St APT 201, San Francisco, CA  37798792   \n",
       "16     15066036     1070 Green St APT 1402, San Francisco, CA  37798792   \n",
       "17     15066085  1907 Leavenworth St APT 8, San Francisco, CA  37798645   \n",
       "18     15066201        1101 Green St # 303, San Francisco, CA  37798234   \n",
       "19     15066281              1807 Jones St, San Francisco, CA  37797920   \n",
       "20     15066344       999 Green St APT 905, San Francisco, CA  37798451   \n",
       "21     15066608     455 Vallejo St APT 111, San Francisco, CA  37798796   \n",
       "22     15066839       1163-1165 Vallejo St, San Francisco, CA  37797445   \n",
       "23     15066959           1300 Pacific Ave, San Francisco, CA  37795805   \n",
       "24     15067302             948 Jackson St, San Francisco, CA  37795662   \n",
       "25     15067583     946 Stockton St APT 6B, San Francisco, CA  37794715   \n",
       "26     15067604     946 Stockton St APT 9E, San Francisco, CA  37794715   \n",
       "27     15067755       1250 Clay St APT 306, San Francisco, CA  37793575   \n",
       "28     15067890      1250 Jones St APT 503, San Francisco, CA  37793071   \n",
       "29     15067896      1250 Jones St APT 802, San Francisco, CA  37793071   \n",
       "..          ...                                           ...       ...   \n",
       "970  2100992607               2137 Pine St, San Francisco, CA  37788242   \n",
       "971  2100994004              409 Miguel St, San Francisco, CA  37736625   \n",
       "972  2101028916            251 Missouri St, San Francisco, CA  37763202   \n",
       "973  2101094207            1650 Florida St, San Francisco, CA  37746898   \n",
       "974  2101105851          41 Collingwood St, San Francisco, CA  37761579   \n",
       "975  2101116542             2753 Bryant St, San Francisco, CA  37750270   \n",
       "976  2101147349            244 Precita Ave, San Francisco, CA  37747330   \n",
       "977  2101153805                6 Rossi Ave, San Francisco, CA  37779494   \n",
       "978  2101156735            333 Potrero Ave, San Francisco, CA  37765266   \n",
       "979  2101167573              1340 Union St, San Francisco, CA  37798930   \n",
       "980  2101169168            688 Douglass St, San Francisco, CA  37752803   \n",
       "981  2101175813              414 Linden St, San Francisco, CA  37776218   \n",
       "982  2101331127      1408 31st Ave APT 303, San Francisco, CA  37760994   \n",
       "983  2101505254               333 Beale St, San Francisco, CA  37788280   \n",
       "984  2101588805             82 Alvarado St, San Francisco, CA  37754504   \n",
       "985  2101807538         2619 Sacramento St, San Francisco, CA  37789371   \n",
       "986  2102385068            129 Central Ave, San Francisco, CA  37770870   \n",
       "987  2102906272              444 Linden St, San Francisco, CA  37776170   \n",
       "988  2106229715              2595 38th Ave, San Francisco, CA  37738600   \n",
       "989  2108411930               3500 19th St, San Francisco, CA  37760100   \n",
       "990  2108546010      1738 Lombard St APT 4, San Francisco, CA  37800910   \n",
       "991  2114498518    201 Sansome St UNIT 501, San Francisco, CA  37792255   \n",
       "992  2121221385              925 Larkin St, San Francisco, CA  37786427   \n",
       "993  2121978635     829 Folsom St UNIT 906, San Francisco, CA  37781429   \n",
       "994  2122992200             129 Octavia St, San Francisco, CA  37773192   \n",
       "995  2124214951         412 Green St APT A, San Francisco, CA  37800040   \n",
       "996  2126960082       355 1st St UNIT 1905, San Francisco, CA  37787029   \n",
       "997  2128308939          33 Santa Cruz Ave, San Francisco, CA  37709136   \n",
       "998  2131957929             1821 Grant Ave, San Francisco, CA  37803760   \n",
       "999  2136213970              1200 Gough St, San Francisco, CA  37784770   \n",
       "\n",
       "     Longitude DateOfSale  SalePrice SalePriceUnit IsAStudio  Beds  Baths  \\\n",
       "0   -122412856    12/4/15  710000.00             $     False   1.0    NaN   \n",
       "1   -122417389   11/30/15       2.15            $M     False   NaN    2.0   \n",
       "2   -122419055   11/12/15       5.60            $M     False   2.0    3.5   \n",
       "3   -122406590   12/11/15       1.50            $M     False   1.0    1.0   \n",
       "4   -122405509    1/15/16  970000.00             $     False   2.0    2.0   \n",
       "5   -122405509   12/17/15  940000.00             $     False   2.0    2.0   \n",
       "6   -122408531   12/15/15  835000.00             $     False   1.0    1.0   \n",
       "7   -122417537    12/4/15       2.83            $M     False   3.0    2.0   \n",
       "8   -122418704    1/14/16       4.05            $M      True   NaN    NaN   \n",
       "9   -122418834   12/31/15       2.19            $M     False   2.0    3.0   \n",
       "10  -122404090    12/7/15  800000.00             $     False   1.0    1.0   \n",
       "11  -122404941    1/28/16  976000.00             $     False   1.0    1.0   \n",
       "12  -122404269   11/16/15  720000.00             $     False   1.0    1.0   \n",
       "13  -122406123   11/25/15       2.25            $M     False   NaN    4.0   \n",
       "14  -122414835   11/30/15       1.29            $M     False   2.0    2.0   \n",
       "15  -122416797   11/18/15       2.90            $M     False   2.0    2.0   \n",
       "16  -122416797   12/31/15       2.60            $M     False   3.0    2.5   \n",
       "17  -122417500   11/12/15  908000.00             $     False   2.0    1.0   \n",
       "18  -122417394   11/16/15       1.21            $M     False   2.0    1.0   \n",
       "19  -122415745   12/15/15       1.70            $M     False   2.0    2.0   \n",
       "20  -122415218   12/10/15       1.28            $M     False   1.0    1.0   \n",
       "21  -122404766   12/16/15  875000.00             $     False   1.0    1.0   \n",
       "22  -122416366    12/1/15  300000.00             $     False   NaN    2.0   \n",
       "23  -122416840    1/14/16  425000.00             $      True   NaN    2.0   \n",
       "24  -122410789   11/13/15       1.95            $M     False   NaN    4.0   \n",
       "25  -122407810   12/18/15  775000.00             $     False   NaN    2.0   \n",
       "26  -122407810    12/2/15  705000.00             $     False   2.0    2.0   \n",
       "27  -122413670    1/10/16  695000.00             $     False   1.0    1.0   \n",
       "28  -122414049    12/4/15       1.41            $M     False   1.0    1.0   \n",
       "29  -122414049   12/15/15       1.68            $M     False   1.0    1.0   \n",
       "..         ...        ...        ...           ...       ...   ...    ...   \n",
       "970 -122430988    1/15/16       1.55            $M     False   4.0    2.5   \n",
       "971 -122427008    12/9/15  510000.00             $     False   1.0    1.0   \n",
       "972 -122396270   12/17/15       2.45            $M     False   4.0    3.0   \n",
       "973 -122409301   11/29/15  970000.00             $     False   3.0    1.0   \n",
       "974 -122436123   12/10/15       1.30            $M     False   3.0    1.0   \n",
       "975 -122408600    1/14/16       1.70            $M     False   9.0    3.0   \n",
       "976 -122415110   11/26/15  785000.00             $     False   1.0    1.0   \n",
       "977 -122456412    12/2/15       1.15            $M     False   3.0    1.0   \n",
       "978 -122407150     1/5/16       1.14            $M      True   NaN    NaN   \n",
       "979 -122421388    1/25/16       1.25            $M     False   2.0    2.0   \n",
       "980 -122438919   11/10/15       3.15            $M      True   NaN    NaN   \n",
       "981 -122424930   12/13/15  835000.00             $     False   1.0    1.0   \n",
       "982 -122489700   12/28/15  890000.00             $     False   2.0    2.0   \n",
       "983 -122392100    12/3/15       1.40            $M     False   1.0    1.0   \n",
       "984 -122422736   11/19/15  750000.00             $     False   2.0    1.0   \n",
       "985 -122436058    12/2/15       2.90            $M      True   NaN    NaN   \n",
       "986 -122443840    12/1/15       1.80            $M     False   3.0    2.0   \n",
       "987 -122425300   12/14/15    5800.00             $       NaN   NaN    NaN   \n",
       "988 -122496000    1/19/16       1.24            $M     False   3.0    3.0   \n",
       "989 -122422000   12/29/15       1.73            $M     False   2.0    2.5   \n",
       "990 -122430229    1/14/16       1.40            $M     False   2.0    2.0   \n",
       "991 -122401245    1/26/16  757500.00             $     False   1.0    1.0   \n",
       "992 -122418222   11/30/15       1.43            $M     False   NaN    NaN   \n",
       "993 -122401860    12/6/15  675000.00             $     False   1.0    1.0   \n",
       "994 -122424037   11/20/15       2.75            $M      True   NaN    NaN   \n",
       "995 -122406100    1/15/16  390000.00             $      True   NaN    1.0   \n",
       "996 -122393638   11/20/15  860000.00             $     False   1.0    1.0   \n",
       "997 -122465332   12/10/15  830000.00             $     False   3.0    3.0   \n",
       "998 -122408531   12/15/15  835000.00             $     False   2.0    2.0   \n",
       "999 -122424100    1/10/16  825000.00             $     False   1.0    1.0   \n",
       "\n",
       "       Size SizeUnit  LotSize LotSizeUnit  BuiltInYear  \n",
       "0     550.0     sqft      NaN         NaN       1980.0  \n",
       "1    1430.0     sqft   2435.0        sqft       1948.0  \n",
       "2    2040.0     sqft   3920.0        sqft       1976.0  \n",
       "3    1060.0     sqft      NaN         NaN       1930.0  \n",
       "4    1299.0     sqft      NaN         NaN       1993.0  \n",
       "5    1033.0     sqft      NaN         NaN       1993.0  \n",
       "6    1048.0     sqft      NaN         NaN       1975.0  \n",
       "7    2115.0     sqft   1271.0        sqft       1913.0  \n",
       "8    4102.0     sqft   3049.0        sqft       1948.0  \n",
       "9    1182.0     sqft      NaN         NaN       1986.0  \n",
       "10   1000.0     sqft      NaN         NaN       1983.0  \n",
       "11   1000.0     sqft      NaN         NaN       1870.0  \n",
       "12    552.0     sqft      NaN         NaN       1937.0  \n",
       "13   2658.0     sqft   1600.0        sqft       1906.0  \n",
       "14   1165.0     sqft      NaN         NaN       1980.0  \n",
       "15   1465.0     sqft      NaN         NaN       1963.0  \n",
       "16   2017.0     sqft      NaN         NaN       1963.0  \n",
       "17    956.0     sqft      NaN         NaN       1907.0  \n",
       "18   1003.0     sqft      NaN         NaN       1930.0  \n",
       "19   1467.0     sqft   3023.0        sqft       1922.0  \n",
       "20    986.0     sqft      NaN         NaN       1964.0  \n",
       "21    825.0     sqft      NaN         NaN       1973.0  \n",
       "22   2344.0     sqft   1376.0        sqft       1913.0  \n",
       "23    989.0     sqft      NaN         NaN       1910.0  \n",
       "24   4362.0     sqft   1459.0        sqft       1908.0  \n",
       "25    710.0     sqft      NaN         NaN       1970.0  \n",
       "26    744.0     sqft      NaN         NaN       1970.0  \n",
       "27    541.0     sqft      NaN         NaN       1950.0  \n",
       "28   1250.0     sqft      NaN         NaN       1929.0  \n",
       "29   1115.0     sqft      NaN         NaN       1929.0  \n",
       "..      ...      ...      ...         ...          ...  \n",
       "970  1632.0     sqft      NaN         NaN          NaN  \n",
       "971   400.0     sqft      NaN         NaN          NaN  \n",
       "972  2301.0     sqft      NaN         NaN       1900.0  \n",
       "973     NaN      NaN      NaN         NaN       1904.0  \n",
       "974  1496.0     sqft      NaN         NaN       1908.0  \n",
       "975  4005.0     sqft      NaN         NaN       1900.0  \n",
       "976   625.0     sqft      NaN         NaN       1908.0  \n",
       "977  1912.0     sqft      NaN         NaN       1941.0  \n",
       "978  1776.0     sqft   3746.0        sqft       1905.0  \n",
       "979  1108.0     sqft      NaN         NaN       1951.0  \n",
       "980  3500.0     sqft   2495.0        sqft       1908.0  \n",
       "981     NaN      NaN      NaN         NaN       1909.0  \n",
       "982  1424.0     sqft      NaN         NaN       2008.0  \n",
       "983   950.0     sqft      NaN         NaN       2015.0  \n",
       "984     NaN      NaN      NaN         NaN          NaN  \n",
       "985     NaN      NaN   2038.0        sqft       1900.0  \n",
       "986     NaN      NaN      NaN         NaN       1905.0  \n",
       "987     NaN      NaN      NaN         NaN          NaN  \n",
       "988  2414.0     sqft   1306.0        sqft       1943.0  \n",
       "989  1500.0     sqft      NaN         NaN       2013.0  \n",
       "990     NaN      NaN      NaN         NaN       2004.0  \n",
       "991   658.0     sqft      NaN         NaN       1909.0  \n",
       "992  6600.0     sqft      NaN         NaN       1907.0  \n",
       "993   557.0     sqft      NaN         NaN       2010.0  \n",
       "994  3655.0     sqft      NaN         NaN       1883.0  \n",
       "995   264.0     sqft      NaN         NaN       2012.0  \n",
       "996   691.0     sqft      NaN         NaN       2004.0  \n",
       "997  1738.0     sqft   2299.0        sqft       1976.0  \n",
       "998  1048.0     sqft      NaN         NaN       1975.0  \n",
       "999   900.0     sqft      NaN         NaN       1966.0  \n",
       "\n",
       "[1000 rows x 15 columns]"
      ]
     },
     "execution_count": 8,
     "metadata": {},
     "output_type": "execute_result"
    }
   ],
   "source": [
    "df"
   ]
  },
  {
   "cell_type": "markdown",
   "metadata": {},
   "source": [
    "> ## `.head()`: first 5 (default) rows"
   ]
  },
  {
   "cell_type": "markdown",
   "metadata": {},
   "source": [
    "- (http://pandas.pydata.org/pandas-docs/stable/generated/pandas.DataFrame.head.html)\n",
    "- (http://pandas.pydata.org/pandas-docs/stable/generated/pandas.Series.head.html)"
   ]
  },
  {
   "cell_type": "code",
   "execution_count": 9,
   "metadata": {},
   "outputs": [
    {
     "data": {
      "text/html": [
       "<div>\n",
       "<style>\n",
       "    .dataframe thead tr:only-child th {\n",
       "        text-align: right;\n",
       "    }\n",
       "\n",
       "    .dataframe thead th {\n",
       "        text-align: left;\n",
       "    }\n",
       "\n",
       "    .dataframe tbody tr th {\n",
       "        vertical-align: top;\n",
       "    }\n",
       "</style>\n",
       "<table border=\"1\" class=\"dataframe\">\n",
       "  <thead>\n",
       "    <tr style=\"text-align: right;\">\n",
       "      <th></th>\n",
       "      <th>ID</th>\n",
       "      <th>Address</th>\n",
       "      <th>Latitude</th>\n",
       "      <th>Longitude</th>\n",
       "      <th>DateOfSale</th>\n",
       "      <th>SalePrice</th>\n",
       "      <th>SalePriceUnit</th>\n",
       "      <th>IsAStudio</th>\n",
       "      <th>Beds</th>\n",
       "      <th>Baths</th>\n",
       "      <th>Size</th>\n",
       "      <th>SizeUnit</th>\n",
       "      <th>LotSize</th>\n",
       "      <th>LotSizeUnit</th>\n",
       "      <th>BuiltInYear</th>\n",
       "    </tr>\n",
       "  </thead>\n",
       "  <tbody>\n",
       "    <tr>\n",
       "      <th>0</th>\n",
       "      <td>15063471</td>\n",
       "      <td>55 Vandewater St APT 9, San Francisco, CA</td>\n",
       "      <td>37805103</td>\n",
       "      <td>-122412856</td>\n",
       "      <td>12/4/15</td>\n",
       "      <td>710000.00</td>\n",
       "      <td>$</td>\n",
       "      <td>False</td>\n",
       "      <td>1.0</td>\n",
       "      <td>NaN</td>\n",
       "      <td>550.0</td>\n",
       "      <td>sqft</td>\n",
       "      <td>NaN</td>\n",
       "      <td>NaN</td>\n",
       "      <td>1980.0</td>\n",
       "    </tr>\n",
       "    <tr>\n",
       "      <th>1</th>\n",
       "      <td>15063505</td>\n",
       "      <td>740 Francisco St, San Francisco, CA</td>\n",
       "      <td>37804420</td>\n",
       "      <td>-122417389</td>\n",
       "      <td>11/30/15</td>\n",
       "      <td>2.15</td>\n",
       "      <td>$M</td>\n",
       "      <td>False</td>\n",
       "      <td>NaN</td>\n",
       "      <td>2.0</td>\n",
       "      <td>1430.0</td>\n",
       "      <td>sqft</td>\n",
       "      <td>2435.0</td>\n",
       "      <td>sqft</td>\n",
       "      <td>1948.0</td>\n",
       "    </tr>\n",
       "    <tr>\n",
       "      <th>2</th>\n",
       "      <td>15063609</td>\n",
       "      <td>819 Francisco St, San Francisco, CA</td>\n",
       "      <td>37803728</td>\n",
       "      <td>-122419055</td>\n",
       "      <td>11/12/15</td>\n",
       "      <td>5.60</td>\n",
       "      <td>$M</td>\n",
       "      <td>False</td>\n",
       "      <td>2.0</td>\n",
       "      <td>3.5</td>\n",
       "      <td>2040.0</td>\n",
       "      <td>sqft</td>\n",
       "      <td>3920.0</td>\n",
       "      <td>sqft</td>\n",
       "      <td>1976.0</td>\n",
       "    </tr>\n",
       "    <tr>\n",
       "      <th>3</th>\n",
       "      <td>15064044</td>\n",
       "      <td>199 Chestnut St APT 5, San Francisco, CA</td>\n",
       "      <td>37804392</td>\n",
       "      <td>-122406590</td>\n",
       "      <td>12/11/15</td>\n",
       "      <td>1.50</td>\n",
       "      <td>$M</td>\n",
       "      <td>False</td>\n",
       "      <td>1.0</td>\n",
       "      <td>1.0</td>\n",
       "      <td>1060.0</td>\n",
       "      <td>sqft</td>\n",
       "      <td>NaN</td>\n",
       "      <td>NaN</td>\n",
       "      <td>1930.0</td>\n",
       "    </tr>\n",
       "    <tr>\n",
       "      <th>4</th>\n",
       "      <td>15064257</td>\n",
       "      <td>111 Chestnut St APT 403, San Francisco, CA</td>\n",
       "      <td>37804240</td>\n",
       "      <td>-122405509</td>\n",
       "      <td>1/15/16</td>\n",
       "      <td>970000.00</td>\n",
       "      <td>$</td>\n",
       "      <td>False</td>\n",
       "      <td>2.0</td>\n",
       "      <td>2.0</td>\n",
       "      <td>1299.0</td>\n",
       "      <td>sqft</td>\n",
       "      <td>NaN</td>\n",
       "      <td>NaN</td>\n",
       "      <td>1993.0</td>\n",
       "    </tr>\n",
       "  </tbody>\n",
       "</table>\n",
       "</div>"
      ],
      "text/plain": [
       "         ID                                     Address  Latitude  Longitude  \\\n",
       "0  15063471   55 Vandewater St APT 9, San Francisco, CA  37805103 -122412856   \n",
       "1  15063505         740 Francisco St, San Francisco, CA  37804420 -122417389   \n",
       "2  15063609         819 Francisco St, San Francisco, CA  37803728 -122419055   \n",
       "3  15064044    199 Chestnut St APT 5, San Francisco, CA  37804392 -122406590   \n",
       "4  15064257  111 Chestnut St APT 403, San Francisco, CA  37804240 -122405509   \n",
       "\n",
       "  DateOfSale  SalePrice SalePriceUnit IsAStudio  Beds  Baths    Size SizeUnit  \\\n",
       "0    12/4/15  710000.00             $     False   1.0    NaN   550.0     sqft   \n",
       "1   11/30/15       2.15            $M     False   NaN    2.0  1430.0     sqft   \n",
       "2   11/12/15       5.60            $M     False   2.0    3.5  2040.0     sqft   \n",
       "3   12/11/15       1.50            $M     False   1.0    1.0  1060.0     sqft   \n",
       "4    1/15/16  970000.00             $     False   2.0    2.0  1299.0     sqft   \n",
       "\n",
       "   LotSize LotSizeUnit  BuiltInYear  \n",
       "0      NaN         NaN       1980.0  \n",
       "1   2435.0        sqft       1948.0  \n",
       "2   3920.0        sqft       1976.0  \n",
       "3      NaN         NaN       1930.0  \n",
       "4      NaN         NaN       1993.0  "
      ]
     },
     "execution_count": 9,
     "metadata": {},
     "output_type": "execute_result"
    }
   ],
   "source": [
    "df.head()"
   ]
  },
  {
   "cell_type": "markdown",
   "metadata": {},
   "source": [
    "> ## `.tail()`: last 5 (default) rows"
   ]
  },
  {
   "cell_type": "markdown",
   "metadata": {},
   "source": [
    "- (http://pandas.pydata.org/pandas-docs/stable/generated/pandas.DataFrame.tail.html)\n",
    "- (http://pandas.pydata.org/pandas-docs/stable/generated/pandas.Series.tail.html)"
   ]
  },
  {
   "cell_type": "code",
   "execution_count": 10,
   "metadata": {},
   "outputs": [
    {
     "data": {
      "text/html": [
       "<div>\n",
       "<style>\n",
       "    .dataframe thead tr:only-child th {\n",
       "        text-align: right;\n",
       "    }\n",
       "\n",
       "    .dataframe thead th {\n",
       "        text-align: left;\n",
       "    }\n",
       "\n",
       "    .dataframe tbody tr th {\n",
       "        vertical-align: top;\n",
       "    }\n",
       "</style>\n",
       "<table border=\"1\" class=\"dataframe\">\n",
       "  <thead>\n",
       "    <tr style=\"text-align: right;\">\n",
       "      <th></th>\n",
       "      <th>ID</th>\n",
       "      <th>Address</th>\n",
       "      <th>Latitude</th>\n",
       "      <th>Longitude</th>\n",
       "      <th>DateOfSale</th>\n",
       "      <th>SalePrice</th>\n",
       "      <th>SalePriceUnit</th>\n",
       "      <th>IsAStudio</th>\n",
       "      <th>Beds</th>\n",
       "      <th>Baths</th>\n",
       "      <th>Size</th>\n",
       "      <th>SizeUnit</th>\n",
       "      <th>LotSize</th>\n",
       "      <th>LotSizeUnit</th>\n",
       "      <th>BuiltInYear</th>\n",
       "    </tr>\n",
       "  </thead>\n",
       "  <tbody>\n",
       "    <tr>\n",
       "      <th>995</th>\n",
       "      <td>2124214951</td>\n",
       "      <td>412 Green St APT A, San Francisco, CA</td>\n",
       "      <td>37800040</td>\n",
       "      <td>-122406100</td>\n",
       "      <td>1/15/16</td>\n",
       "      <td>390000.0</td>\n",
       "      <td>$</td>\n",
       "      <td>True</td>\n",
       "      <td>NaN</td>\n",
       "      <td>1.0</td>\n",
       "      <td>264.0</td>\n",
       "      <td>sqft</td>\n",
       "      <td>NaN</td>\n",
       "      <td>NaN</td>\n",
       "      <td>2012.0</td>\n",
       "    </tr>\n",
       "    <tr>\n",
       "      <th>996</th>\n",
       "      <td>2126960082</td>\n",
       "      <td>355 1st St UNIT 1905, San Francisco, CA</td>\n",
       "      <td>37787029</td>\n",
       "      <td>-122393638</td>\n",
       "      <td>11/20/15</td>\n",
       "      <td>860000.0</td>\n",
       "      <td>$</td>\n",
       "      <td>False</td>\n",
       "      <td>1.0</td>\n",
       "      <td>1.0</td>\n",
       "      <td>691.0</td>\n",
       "      <td>sqft</td>\n",
       "      <td>NaN</td>\n",
       "      <td>NaN</td>\n",
       "      <td>2004.0</td>\n",
       "    </tr>\n",
       "    <tr>\n",
       "      <th>997</th>\n",
       "      <td>2128308939</td>\n",
       "      <td>33 Santa Cruz Ave, San Francisco, CA</td>\n",
       "      <td>37709136</td>\n",
       "      <td>-122465332</td>\n",
       "      <td>12/10/15</td>\n",
       "      <td>830000.0</td>\n",
       "      <td>$</td>\n",
       "      <td>False</td>\n",
       "      <td>3.0</td>\n",
       "      <td>3.0</td>\n",
       "      <td>1738.0</td>\n",
       "      <td>sqft</td>\n",
       "      <td>2299.0</td>\n",
       "      <td>sqft</td>\n",
       "      <td>1976.0</td>\n",
       "    </tr>\n",
       "    <tr>\n",
       "      <th>998</th>\n",
       "      <td>2131957929</td>\n",
       "      <td>1821 Grant Ave, San Francisco, CA</td>\n",
       "      <td>37803760</td>\n",
       "      <td>-122408531</td>\n",
       "      <td>12/15/15</td>\n",
       "      <td>835000.0</td>\n",
       "      <td>$</td>\n",
       "      <td>False</td>\n",
       "      <td>2.0</td>\n",
       "      <td>2.0</td>\n",
       "      <td>1048.0</td>\n",
       "      <td>sqft</td>\n",
       "      <td>NaN</td>\n",
       "      <td>NaN</td>\n",
       "      <td>1975.0</td>\n",
       "    </tr>\n",
       "    <tr>\n",
       "      <th>999</th>\n",
       "      <td>2136213970</td>\n",
       "      <td>1200 Gough St, San Francisco, CA</td>\n",
       "      <td>37784770</td>\n",
       "      <td>-122424100</td>\n",
       "      <td>1/10/16</td>\n",
       "      <td>825000.0</td>\n",
       "      <td>$</td>\n",
       "      <td>False</td>\n",
       "      <td>1.0</td>\n",
       "      <td>1.0</td>\n",
       "      <td>900.0</td>\n",
       "      <td>sqft</td>\n",
       "      <td>NaN</td>\n",
       "      <td>NaN</td>\n",
       "      <td>1966.0</td>\n",
       "    </tr>\n",
       "  </tbody>\n",
       "</table>\n",
       "</div>"
      ],
      "text/plain": [
       "             ID                                  Address  Latitude  Longitude  \\\n",
       "995  2124214951    412 Green St APT A, San Francisco, CA  37800040 -122406100   \n",
       "996  2126960082  355 1st St UNIT 1905, San Francisco, CA  37787029 -122393638   \n",
       "997  2128308939     33 Santa Cruz Ave, San Francisco, CA  37709136 -122465332   \n",
       "998  2131957929        1821 Grant Ave, San Francisco, CA  37803760 -122408531   \n",
       "999  2136213970         1200 Gough St, San Francisco, CA  37784770 -122424100   \n",
       "\n",
       "    DateOfSale  SalePrice SalePriceUnit IsAStudio  Beds  Baths    Size  \\\n",
       "995    1/15/16   390000.0             $      True   NaN    1.0   264.0   \n",
       "996   11/20/15   860000.0             $     False   1.0    1.0   691.0   \n",
       "997   12/10/15   830000.0             $     False   3.0    3.0  1738.0   \n",
       "998   12/15/15   835000.0             $     False   2.0    2.0  1048.0   \n",
       "999    1/10/16   825000.0             $     False   1.0    1.0   900.0   \n",
       "\n",
       "    SizeUnit  LotSize LotSizeUnit  BuiltInYear  \n",
       "995     sqft      NaN         NaN       2012.0  \n",
       "996     sqft      NaN         NaN       2004.0  \n",
       "997     sqft   2299.0        sqft       1976.0  \n",
       "998     sqft      NaN         NaN       1975.0  \n",
       "999     sqft      NaN         NaN       1966.0  "
      ]
     },
     "execution_count": 10,
     "metadata": {},
     "output_type": "execute_result"
    }
   ],
   "source": [
    "# TODO\n",
    "df.tail()"
   ]
  },
  {
   "cell_type": "markdown",
   "metadata": {},
   "source": [
    "> ## `.shape`: shape (i.e., number of rows and columns)"
   ]
  },
  {
   "cell_type": "markdown",
   "metadata": {},
   "source": [
    "- (http://pandas.pydata.org/pandas-docs/stable/generated/pandas.DataFrame.shape.html)\n",
    "- (http://pandas.pydata.org/pandas-docs/stable/generated/pandas.Series.shape.html)"
   ]
  },
  {
   "cell_type": "code",
   "execution_count": 11,
   "metadata": {},
   "outputs": [
    {
     "data": {
      "text/plain": [
       "(1000, 15)"
      ]
     },
     "execution_count": 11,
     "metadata": {},
     "output_type": "execute_result"
    }
   ],
   "source": [
    "df.shape"
   ]
  },
  {
   "cell_type": "markdown",
   "metadata": {},
   "source": [
    "The first value (at index 0) is the number of rows, the second (at index 1), the number of columns:"
   ]
  },
  {
   "cell_type": "code",
   "execution_count": 12,
   "metadata": {},
   "outputs": [
    {
     "data": {
      "text/plain": [
       "1000"
      ]
     },
     "execution_count": 12,
     "metadata": {},
     "output_type": "execute_result"
    }
   ],
   "source": [
    "df.shape[0]"
   ]
  },
  {
   "cell_type": "code",
   "execution_count": null,
   "metadata": {
    "collapsed": true
   },
   "outputs": [],
   "source": [
    "# TODO"
   ]
  },
  {
   "cell_type": "markdown",
   "metadata": {},
   "source": [
    "You can also use the idiomatic Python `len` function to get the number of rows:"
   ]
  },
  {
   "cell_type": "code",
   "execution_count": 13,
   "metadata": {},
   "outputs": [
    {
     "data": {
      "text/plain": [
       "1000"
      ]
     },
     "execution_count": 13,
     "metadata": {},
     "output_type": "execute_result"
    }
   ],
   "source": [
    "len(df)"
   ]
  },
  {
   "cell_type": "markdown",
   "metadata": {},
   "source": [
    "> ## `.dtypes`: column types"
   ]
  },
  {
   "cell_type": "markdown",
   "metadata": {},
   "source": [
    "- (http://pandas.pydata.org/pandas-docs/stable/generated/pandas.DataFrame.dtypes.html)\n",
    "- (http://pandas.pydata.org/pandas-docs/stable/basics.html)"
   ]
  },
  {
   "cell_type": "code",
   "execution_count": 14,
   "metadata": {},
   "outputs": [
    {
     "data": {
      "text/plain": [
       "ID                 int64\n",
       "Address           object\n",
       "Latitude           int64\n",
       "Longitude          int64\n",
       "DateOfSale        object\n",
       "SalePrice        float64\n",
       "SalePriceUnit     object\n",
       "IsAStudio         object\n",
       "Beds             float64\n",
       "Baths            float64\n",
       "Size             float64\n",
       "SizeUnit          object\n",
       "LotSize          float64\n",
       "LotSizeUnit       object\n",
       "BuiltInYear      float64\n",
       "dtype: object"
      ]
     },
     "execution_count": 14,
     "metadata": {},
     "output_type": "execute_result"
    }
   ],
   "source": [
    "df.dtypes"
   ]
  },
  {
   "cell_type": "markdown",
   "metadata": {},
   "source": [
    "> ## `.isnull()` and `.notnull()`: NaN (Not-a-Number)"
   ]
  },
  {
   "cell_type": "markdown",
   "metadata": {},
   "source": [
    "- (http://pandas.pydata.org/pandas-docs/stable/generated/pandas.isnull.html)\n",
    "- (http://pandas.pydata.org/pandas-docs/stable/generated/pandas.DataFrame.isnull.html)\n",
    "- (http://pandas.pydata.org/pandas-docs/stable/generated/pandas.Series.isnull.html)"
   ]
  },
  {
   "cell_type": "markdown",
   "metadata": {},
   "source": [
    "- (http://pandas.pydata.org/pandas-docs/stable/generated/pandas.notnull.html)\n",
    "- (http://pandas.pydata.org/pandas-docs/stable/generated/pandas.DataFrame.notnull.html)\n",
    "- (http://pandas.pydata.org/pandas-docs/stable/generated/pandas.Series.notnull.html)"
   ]
  },
  {
   "cell_type": "markdown",
   "metadata": {},
   "source": [
    "- (http://pandas.pydata.org/pandas-docs/stable/generated/pandas.DataFrame.sum.html)\n",
    "- (http://pandas.pydata.org/pandas-docs/stable/generated/pandas.Series.sum.html)"
   ]
  },
  {
   "cell_type": "markdown",
   "metadata": {},
   "source": [
    "As a data scientist, we will have to decide what to do when encountering missing values (a.k.a, not-a-numbers).  We might decide to drop the row containing it, drop the whole column, or impute it.  Today, let's focus on finding these NaNs."
   ]
  },
  {
   "cell_type": "code",
   "execution_count": 15,
   "metadata": {},
   "outputs": [
    {
     "data": {
      "text/html": [
       "<div>\n",
       "<style>\n",
       "    .dataframe thead tr:only-child th {\n",
       "        text-align: right;\n",
       "    }\n",
       "\n",
       "    .dataframe thead th {\n",
       "        text-align: left;\n",
       "    }\n",
       "\n",
       "    .dataframe tbody tr th {\n",
       "        vertical-align: top;\n",
       "    }\n",
       "</style>\n",
       "<table border=\"1\" class=\"dataframe\">\n",
       "  <thead>\n",
       "    <tr style=\"text-align: right;\">\n",
       "      <th></th>\n",
       "      <th>ID</th>\n",
       "      <th>Address</th>\n",
       "      <th>Latitude</th>\n",
       "      <th>Longitude</th>\n",
       "      <th>DateOfSale</th>\n",
       "      <th>SalePrice</th>\n",
       "      <th>SalePriceUnit</th>\n",
       "      <th>IsAStudio</th>\n",
       "      <th>Beds</th>\n",
       "      <th>Baths</th>\n",
       "      <th>Size</th>\n",
       "      <th>SizeUnit</th>\n",
       "      <th>LotSize</th>\n",
       "      <th>LotSizeUnit</th>\n",
       "      <th>BuiltInYear</th>\n",
       "    </tr>\n",
       "  </thead>\n",
       "  <tbody>\n",
       "    <tr>\n",
       "      <th>0</th>\n",
       "      <td>False</td>\n",
       "      <td>False</td>\n",
       "      <td>False</td>\n",
       "      <td>False</td>\n",
       "      <td>False</td>\n",
       "      <td>False</td>\n",
       "      <td>False</td>\n",
       "      <td>False</td>\n",
       "      <td>False</td>\n",
       "      <td>True</td>\n",
       "      <td>False</td>\n",
       "      <td>False</td>\n",
       "      <td>True</td>\n",
       "      <td>True</td>\n",
       "      <td>False</td>\n",
       "    </tr>\n",
       "    <tr>\n",
       "      <th>1</th>\n",
       "      <td>False</td>\n",
       "      <td>False</td>\n",
       "      <td>False</td>\n",
       "      <td>False</td>\n",
       "      <td>False</td>\n",
       "      <td>False</td>\n",
       "      <td>False</td>\n",
       "      <td>False</td>\n",
       "      <td>True</td>\n",
       "      <td>False</td>\n",
       "      <td>False</td>\n",
       "      <td>False</td>\n",
       "      <td>False</td>\n",
       "      <td>False</td>\n",
       "      <td>False</td>\n",
       "    </tr>\n",
       "    <tr>\n",
       "      <th>2</th>\n",
       "      <td>False</td>\n",
       "      <td>False</td>\n",
       "      <td>False</td>\n",
       "      <td>False</td>\n",
       "      <td>False</td>\n",
       "      <td>False</td>\n",
       "      <td>False</td>\n",
       "      <td>False</td>\n",
       "      <td>False</td>\n",
       "      <td>False</td>\n",
       "      <td>False</td>\n",
       "      <td>False</td>\n",
       "      <td>False</td>\n",
       "      <td>False</td>\n",
       "      <td>False</td>\n",
       "    </tr>\n",
       "    <tr>\n",
       "      <th>3</th>\n",
       "      <td>False</td>\n",
       "      <td>False</td>\n",
       "      <td>False</td>\n",
       "      <td>False</td>\n",
       "      <td>False</td>\n",
       "      <td>False</td>\n",
       "      <td>False</td>\n",
       "      <td>False</td>\n",
       "      <td>False</td>\n",
       "      <td>False</td>\n",
       "      <td>False</td>\n",
       "      <td>False</td>\n",
       "      <td>True</td>\n",
       "      <td>True</td>\n",
       "      <td>False</td>\n",
       "    </tr>\n",
       "    <tr>\n",
       "      <th>4</th>\n",
       "      <td>False</td>\n",
       "      <td>False</td>\n",
       "      <td>False</td>\n",
       "      <td>False</td>\n",
       "      <td>False</td>\n",
       "      <td>False</td>\n",
       "      <td>False</td>\n",
       "      <td>False</td>\n",
       "      <td>False</td>\n",
       "      <td>False</td>\n",
       "      <td>False</td>\n",
       "      <td>False</td>\n",
       "      <td>True</td>\n",
       "      <td>True</td>\n",
       "      <td>False</td>\n",
       "    </tr>\n",
       "    <tr>\n",
       "      <th>5</th>\n",
       "      <td>False</td>\n",
       "      <td>False</td>\n",
       "      <td>False</td>\n",
       "      <td>False</td>\n",
       "      <td>False</td>\n",
       "      <td>False</td>\n",
       "      <td>False</td>\n",
       "      <td>False</td>\n",
       "      <td>False</td>\n",
       "      <td>False</td>\n",
       "      <td>False</td>\n",
       "      <td>False</td>\n",
       "      <td>True</td>\n",
       "      <td>True</td>\n",
       "      <td>False</td>\n",
       "    </tr>\n",
       "    <tr>\n",
       "      <th>6</th>\n",
       "      <td>False</td>\n",
       "      <td>False</td>\n",
       "      <td>False</td>\n",
       "      <td>False</td>\n",
       "      <td>False</td>\n",
       "      <td>False</td>\n",
       "      <td>False</td>\n",
       "      <td>False</td>\n",
       "      <td>False</td>\n",
       "      <td>False</td>\n",
       "      <td>False</td>\n",
       "      <td>False</td>\n",
       "      <td>True</td>\n",
       "      <td>True</td>\n",
       "      <td>False</td>\n",
       "    </tr>\n",
       "    <tr>\n",
       "      <th>7</th>\n",
       "      <td>False</td>\n",
       "      <td>False</td>\n",
       "      <td>False</td>\n",
       "      <td>False</td>\n",
       "      <td>False</td>\n",
       "      <td>False</td>\n",
       "      <td>False</td>\n",
       "      <td>False</td>\n",
       "      <td>False</td>\n",
       "      <td>False</td>\n",
       "      <td>False</td>\n",
       "      <td>False</td>\n",
       "      <td>False</td>\n",
       "      <td>False</td>\n",
       "      <td>False</td>\n",
       "    </tr>\n",
       "    <tr>\n",
       "      <th>8</th>\n",
       "      <td>False</td>\n",
       "      <td>False</td>\n",
       "      <td>False</td>\n",
       "      <td>False</td>\n",
       "      <td>False</td>\n",
       "      <td>False</td>\n",
       "      <td>False</td>\n",
       "      <td>False</td>\n",
       "      <td>True</td>\n",
       "      <td>True</td>\n",
       "      <td>False</td>\n",
       "      <td>False</td>\n",
       "      <td>False</td>\n",
       "      <td>False</td>\n",
       "      <td>False</td>\n",
       "    </tr>\n",
       "    <tr>\n",
       "      <th>9</th>\n",
       "      <td>False</td>\n",
       "      <td>False</td>\n",
       "      <td>False</td>\n",
       "      <td>False</td>\n",
       "      <td>False</td>\n",
       "      <td>False</td>\n",
       "      <td>False</td>\n",
       "      <td>False</td>\n",
       "      <td>False</td>\n",
       "      <td>False</td>\n",
       "      <td>False</td>\n",
       "      <td>False</td>\n",
       "      <td>True</td>\n",
       "      <td>True</td>\n",
       "      <td>False</td>\n",
       "    </tr>\n",
       "    <tr>\n",
       "      <th>10</th>\n",
       "      <td>False</td>\n",
       "      <td>False</td>\n",
       "      <td>False</td>\n",
       "      <td>False</td>\n",
       "      <td>False</td>\n",
       "      <td>False</td>\n",
       "      <td>False</td>\n",
       "      <td>False</td>\n",
       "      <td>False</td>\n",
       "      <td>False</td>\n",
       "      <td>False</td>\n",
       "      <td>False</td>\n",
       "      <td>True</td>\n",
       "      <td>True</td>\n",
       "      <td>False</td>\n",
       "    </tr>\n",
       "    <tr>\n",
       "      <th>11</th>\n",
       "      <td>False</td>\n",
       "      <td>False</td>\n",
       "      <td>False</td>\n",
       "      <td>False</td>\n",
       "      <td>False</td>\n",
       "      <td>False</td>\n",
       "      <td>False</td>\n",
       "      <td>False</td>\n",
       "      <td>False</td>\n",
       "      <td>False</td>\n",
       "      <td>False</td>\n",
       "      <td>False</td>\n",
       "      <td>True</td>\n",
       "      <td>True</td>\n",
       "      <td>False</td>\n",
       "    </tr>\n",
       "    <tr>\n",
       "      <th>12</th>\n",
       "      <td>False</td>\n",
       "      <td>False</td>\n",
       "      <td>False</td>\n",
       "      <td>False</td>\n",
       "      <td>False</td>\n",
       "      <td>False</td>\n",
       "      <td>False</td>\n",
       "      <td>False</td>\n",
       "      <td>False</td>\n",
       "      <td>False</td>\n",
       "      <td>False</td>\n",
       "      <td>False</td>\n",
       "      <td>True</td>\n",
       "      <td>True</td>\n",
       "      <td>False</td>\n",
       "    </tr>\n",
       "    <tr>\n",
       "      <th>13</th>\n",
       "      <td>False</td>\n",
       "      <td>False</td>\n",
       "      <td>False</td>\n",
       "      <td>False</td>\n",
       "      <td>False</td>\n",
       "      <td>False</td>\n",
       "      <td>False</td>\n",
       "      <td>False</td>\n",
       "      <td>True</td>\n",
       "      <td>False</td>\n",
       "      <td>False</td>\n",
       "      <td>False</td>\n",
       "      <td>False</td>\n",
       "      <td>False</td>\n",
       "      <td>False</td>\n",
       "    </tr>\n",
       "    <tr>\n",
       "      <th>14</th>\n",
       "      <td>False</td>\n",
       "      <td>False</td>\n",
       "      <td>False</td>\n",
       "      <td>False</td>\n",
       "      <td>False</td>\n",
       "      <td>False</td>\n",
       "      <td>False</td>\n",
       "      <td>False</td>\n",
       "      <td>False</td>\n",
       "      <td>False</td>\n",
       "      <td>False</td>\n",
       "      <td>False</td>\n",
       "      <td>True</td>\n",
       "      <td>True</td>\n",
       "      <td>False</td>\n",
       "    </tr>\n",
       "    <tr>\n",
       "      <th>15</th>\n",
       "      <td>False</td>\n",
       "      <td>False</td>\n",
       "      <td>False</td>\n",
       "      <td>False</td>\n",
       "      <td>False</td>\n",
       "      <td>False</td>\n",
       "      <td>False</td>\n",
       "      <td>False</td>\n",
       "      <td>False</td>\n",
       "      <td>False</td>\n",
       "      <td>False</td>\n",
       "      <td>False</td>\n",
       "      <td>True</td>\n",
       "      <td>True</td>\n",
       "      <td>False</td>\n",
       "    </tr>\n",
       "    <tr>\n",
       "      <th>16</th>\n",
       "      <td>False</td>\n",
       "      <td>False</td>\n",
       "      <td>False</td>\n",
       "      <td>False</td>\n",
       "      <td>False</td>\n",
       "      <td>False</td>\n",
       "      <td>False</td>\n",
       "      <td>False</td>\n",
       "      <td>False</td>\n",
       "      <td>False</td>\n",
       "      <td>False</td>\n",
       "      <td>False</td>\n",
       "      <td>True</td>\n",
       "      <td>True</td>\n",
       "      <td>False</td>\n",
       "    </tr>\n",
       "    <tr>\n",
       "      <th>17</th>\n",
       "      <td>False</td>\n",
       "      <td>False</td>\n",
       "      <td>False</td>\n",
       "      <td>False</td>\n",
       "      <td>False</td>\n",
       "      <td>False</td>\n",
       "      <td>False</td>\n",
       "      <td>False</td>\n",
       "      <td>False</td>\n",
       "      <td>False</td>\n",
       "      <td>False</td>\n",
       "      <td>False</td>\n",
       "      <td>True</td>\n",
       "      <td>True</td>\n",
       "      <td>False</td>\n",
       "    </tr>\n",
       "    <tr>\n",
       "      <th>18</th>\n",
       "      <td>False</td>\n",
       "      <td>False</td>\n",
       "      <td>False</td>\n",
       "      <td>False</td>\n",
       "      <td>False</td>\n",
       "      <td>False</td>\n",
       "      <td>False</td>\n",
       "      <td>False</td>\n",
       "      <td>False</td>\n",
       "      <td>False</td>\n",
       "      <td>False</td>\n",
       "      <td>False</td>\n",
       "      <td>True</td>\n",
       "      <td>True</td>\n",
       "      <td>False</td>\n",
       "    </tr>\n",
       "    <tr>\n",
       "      <th>19</th>\n",
       "      <td>False</td>\n",
       "      <td>False</td>\n",
       "      <td>False</td>\n",
       "      <td>False</td>\n",
       "      <td>False</td>\n",
       "      <td>False</td>\n",
       "      <td>False</td>\n",
       "      <td>False</td>\n",
       "      <td>False</td>\n",
       "      <td>False</td>\n",
       "      <td>False</td>\n",
       "      <td>False</td>\n",
       "      <td>False</td>\n",
       "      <td>False</td>\n",
       "      <td>False</td>\n",
       "    </tr>\n",
       "    <tr>\n",
       "      <th>20</th>\n",
       "      <td>False</td>\n",
       "      <td>False</td>\n",
       "      <td>False</td>\n",
       "      <td>False</td>\n",
       "      <td>False</td>\n",
       "      <td>False</td>\n",
       "      <td>False</td>\n",
       "      <td>False</td>\n",
       "      <td>False</td>\n",
       "      <td>False</td>\n",
       "      <td>False</td>\n",
       "      <td>False</td>\n",
       "      <td>True</td>\n",
       "      <td>True</td>\n",
       "      <td>False</td>\n",
       "    </tr>\n",
       "    <tr>\n",
       "      <th>21</th>\n",
       "      <td>False</td>\n",
       "      <td>False</td>\n",
       "      <td>False</td>\n",
       "      <td>False</td>\n",
       "      <td>False</td>\n",
       "      <td>False</td>\n",
       "      <td>False</td>\n",
       "      <td>False</td>\n",
       "      <td>False</td>\n",
       "      <td>False</td>\n",
       "      <td>False</td>\n",
       "      <td>False</td>\n",
       "      <td>True</td>\n",
       "      <td>True</td>\n",
       "      <td>False</td>\n",
       "    </tr>\n",
       "    <tr>\n",
       "      <th>22</th>\n",
       "      <td>False</td>\n",
       "      <td>False</td>\n",
       "      <td>False</td>\n",
       "      <td>False</td>\n",
       "      <td>False</td>\n",
       "      <td>False</td>\n",
       "      <td>False</td>\n",
       "      <td>False</td>\n",
       "      <td>True</td>\n",
       "      <td>False</td>\n",
       "      <td>False</td>\n",
       "      <td>False</td>\n",
       "      <td>False</td>\n",
       "      <td>False</td>\n",
       "      <td>False</td>\n",
       "    </tr>\n",
       "    <tr>\n",
       "      <th>23</th>\n",
       "      <td>False</td>\n",
       "      <td>False</td>\n",
       "      <td>False</td>\n",
       "      <td>False</td>\n",
       "      <td>False</td>\n",
       "      <td>False</td>\n",
       "      <td>False</td>\n",
       "      <td>False</td>\n",
       "      <td>True</td>\n",
       "      <td>False</td>\n",
       "      <td>False</td>\n",
       "      <td>False</td>\n",
       "      <td>True</td>\n",
       "      <td>True</td>\n",
       "      <td>False</td>\n",
       "    </tr>\n",
       "    <tr>\n",
       "      <th>24</th>\n",
       "      <td>False</td>\n",
       "      <td>False</td>\n",
       "      <td>False</td>\n",
       "      <td>False</td>\n",
       "      <td>False</td>\n",
       "      <td>False</td>\n",
       "      <td>False</td>\n",
       "      <td>False</td>\n",
       "      <td>True</td>\n",
       "      <td>False</td>\n",
       "      <td>False</td>\n",
       "      <td>False</td>\n",
       "      <td>False</td>\n",
       "      <td>False</td>\n",
       "      <td>False</td>\n",
       "    </tr>\n",
       "    <tr>\n",
       "      <th>25</th>\n",
       "      <td>False</td>\n",
       "      <td>False</td>\n",
       "      <td>False</td>\n",
       "      <td>False</td>\n",
       "      <td>False</td>\n",
       "      <td>False</td>\n",
       "      <td>False</td>\n",
       "      <td>False</td>\n",
       "      <td>True</td>\n",
       "      <td>False</td>\n",
       "      <td>False</td>\n",
       "      <td>False</td>\n",
       "      <td>True</td>\n",
       "      <td>True</td>\n",
       "      <td>False</td>\n",
       "    </tr>\n",
       "    <tr>\n",
       "      <th>26</th>\n",
       "      <td>False</td>\n",
       "      <td>False</td>\n",
       "      <td>False</td>\n",
       "      <td>False</td>\n",
       "      <td>False</td>\n",
       "      <td>False</td>\n",
       "      <td>False</td>\n",
       "      <td>False</td>\n",
       "      <td>False</td>\n",
       "      <td>False</td>\n",
       "      <td>False</td>\n",
       "      <td>False</td>\n",
       "      <td>True</td>\n",
       "      <td>True</td>\n",
       "      <td>False</td>\n",
       "    </tr>\n",
       "    <tr>\n",
       "      <th>27</th>\n",
       "      <td>False</td>\n",
       "      <td>False</td>\n",
       "      <td>False</td>\n",
       "      <td>False</td>\n",
       "      <td>False</td>\n",
       "      <td>False</td>\n",
       "      <td>False</td>\n",
       "      <td>False</td>\n",
       "      <td>False</td>\n",
       "      <td>False</td>\n",
       "      <td>False</td>\n",
       "      <td>False</td>\n",
       "      <td>True</td>\n",
       "      <td>True</td>\n",
       "      <td>False</td>\n",
       "    </tr>\n",
       "    <tr>\n",
       "      <th>28</th>\n",
       "      <td>False</td>\n",
       "      <td>False</td>\n",
       "      <td>False</td>\n",
       "      <td>False</td>\n",
       "      <td>False</td>\n",
       "      <td>False</td>\n",
       "      <td>False</td>\n",
       "      <td>False</td>\n",
       "      <td>False</td>\n",
       "      <td>False</td>\n",
       "      <td>False</td>\n",
       "      <td>False</td>\n",
       "      <td>True</td>\n",
       "      <td>True</td>\n",
       "      <td>False</td>\n",
       "    </tr>\n",
       "    <tr>\n",
       "      <th>29</th>\n",
       "      <td>False</td>\n",
       "      <td>False</td>\n",
       "      <td>False</td>\n",
       "      <td>False</td>\n",
       "      <td>False</td>\n",
       "      <td>False</td>\n",
       "      <td>False</td>\n",
       "      <td>False</td>\n",
       "      <td>False</td>\n",
       "      <td>False</td>\n",
       "      <td>False</td>\n",
       "      <td>False</td>\n",
       "      <td>True</td>\n",
       "      <td>True</td>\n",
       "      <td>False</td>\n",
       "    </tr>\n",
       "    <tr>\n",
       "      <th>...</th>\n",
       "      <td>...</td>\n",
       "      <td>...</td>\n",
       "      <td>...</td>\n",
       "      <td>...</td>\n",
       "      <td>...</td>\n",
       "      <td>...</td>\n",
       "      <td>...</td>\n",
       "      <td>...</td>\n",
       "      <td>...</td>\n",
       "      <td>...</td>\n",
       "      <td>...</td>\n",
       "      <td>...</td>\n",
       "      <td>...</td>\n",
       "      <td>...</td>\n",
       "      <td>...</td>\n",
       "    </tr>\n",
       "    <tr>\n",
       "      <th>970</th>\n",
       "      <td>False</td>\n",
       "      <td>False</td>\n",
       "      <td>False</td>\n",
       "      <td>False</td>\n",
       "      <td>False</td>\n",
       "      <td>False</td>\n",
       "      <td>False</td>\n",
       "      <td>False</td>\n",
       "      <td>False</td>\n",
       "      <td>False</td>\n",
       "      <td>False</td>\n",
       "      <td>False</td>\n",
       "      <td>True</td>\n",
       "      <td>True</td>\n",
       "      <td>True</td>\n",
       "    </tr>\n",
       "    <tr>\n",
       "      <th>971</th>\n",
       "      <td>False</td>\n",
       "      <td>False</td>\n",
       "      <td>False</td>\n",
       "      <td>False</td>\n",
       "      <td>False</td>\n",
       "      <td>False</td>\n",
       "      <td>False</td>\n",
       "      <td>False</td>\n",
       "      <td>False</td>\n",
       "      <td>False</td>\n",
       "      <td>False</td>\n",
       "      <td>False</td>\n",
       "      <td>True</td>\n",
       "      <td>True</td>\n",
       "      <td>True</td>\n",
       "    </tr>\n",
       "    <tr>\n",
       "      <th>972</th>\n",
       "      <td>False</td>\n",
       "      <td>False</td>\n",
       "      <td>False</td>\n",
       "      <td>False</td>\n",
       "      <td>False</td>\n",
       "      <td>False</td>\n",
       "      <td>False</td>\n",
       "      <td>False</td>\n",
       "      <td>False</td>\n",
       "      <td>False</td>\n",
       "      <td>False</td>\n",
       "      <td>False</td>\n",
       "      <td>True</td>\n",
       "      <td>True</td>\n",
       "      <td>False</td>\n",
       "    </tr>\n",
       "    <tr>\n",
       "      <th>973</th>\n",
       "      <td>False</td>\n",
       "      <td>False</td>\n",
       "      <td>False</td>\n",
       "      <td>False</td>\n",
       "      <td>False</td>\n",
       "      <td>False</td>\n",
       "      <td>False</td>\n",
       "      <td>False</td>\n",
       "      <td>False</td>\n",
       "      <td>False</td>\n",
       "      <td>True</td>\n",
       "      <td>True</td>\n",
       "      <td>True</td>\n",
       "      <td>True</td>\n",
       "      <td>False</td>\n",
       "    </tr>\n",
       "    <tr>\n",
       "      <th>974</th>\n",
       "      <td>False</td>\n",
       "      <td>False</td>\n",
       "      <td>False</td>\n",
       "      <td>False</td>\n",
       "      <td>False</td>\n",
       "      <td>False</td>\n",
       "      <td>False</td>\n",
       "      <td>False</td>\n",
       "      <td>False</td>\n",
       "      <td>False</td>\n",
       "      <td>False</td>\n",
       "      <td>False</td>\n",
       "      <td>True</td>\n",
       "      <td>True</td>\n",
       "      <td>False</td>\n",
       "    </tr>\n",
       "    <tr>\n",
       "      <th>975</th>\n",
       "      <td>False</td>\n",
       "      <td>False</td>\n",
       "      <td>False</td>\n",
       "      <td>False</td>\n",
       "      <td>False</td>\n",
       "      <td>False</td>\n",
       "      <td>False</td>\n",
       "      <td>False</td>\n",
       "      <td>False</td>\n",
       "      <td>False</td>\n",
       "      <td>False</td>\n",
       "      <td>False</td>\n",
       "      <td>True</td>\n",
       "      <td>True</td>\n",
       "      <td>False</td>\n",
       "    </tr>\n",
       "    <tr>\n",
       "      <th>976</th>\n",
       "      <td>False</td>\n",
       "      <td>False</td>\n",
       "      <td>False</td>\n",
       "      <td>False</td>\n",
       "      <td>False</td>\n",
       "      <td>False</td>\n",
       "      <td>False</td>\n",
       "      <td>False</td>\n",
       "      <td>False</td>\n",
       "      <td>False</td>\n",
       "      <td>False</td>\n",
       "      <td>False</td>\n",
       "      <td>True</td>\n",
       "      <td>True</td>\n",
       "      <td>False</td>\n",
       "    </tr>\n",
       "    <tr>\n",
       "      <th>977</th>\n",
       "      <td>False</td>\n",
       "      <td>False</td>\n",
       "      <td>False</td>\n",
       "      <td>False</td>\n",
       "      <td>False</td>\n",
       "      <td>False</td>\n",
       "      <td>False</td>\n",
       "      <td>False</td>\n",
       "      <td>False</td>\n",
       "      <td>False</td>\n",
       "      <td>False</td>\n",
       "      <td>False</td>\n",
       "      <td>True</td>\n",
       "      <td>True</td>\n",
       "      <td>False</td>\n",
       "    </tr>\n",
       "    <tr>\n",
       "      <th>978</th>\n",
       "      <td>False</td>\n",
       "      <td>False</td>\n",
       "      <td>False</td>\n",
       "      <td>False</td>\n",
       "      <td>False</td>\n",
       "      <td>False</td>\n",
       "      <td>False</td>\n",
       "      <td>False</td>\n",
       "      <td>True</td>\n",
       "      <td>True</td>\n",
       "      <td>False</td>\n",
       "      <td>False</td>\n",
       "      <td>False</td>\n",
       "      <td>False</td>\n",
       "      <td>False</td>\n",
       "    </tr>\n",
       "    <tr>\n",
       "      <th>979</th>\n",
       "      <td>False</td>\n",
       "      <td>False</td>\n",
       "      <td>False</td>\n",
       "      <td>False</td>\n",
       "      <td>False</td>\n",
       "      <td>False</td>\n",
       "      <td>False</td>\n",
       "      <td>False</td>\n",
       "      <td>False</td>\n",
       "      <td>False</td>\n",
       "      <td>False</td>\n",
       "      <td>False</td>\n",
       "      <td>True</td>\n",
       "      <td>True</td>\n",
       "      <td>False</td>\n",
       "    </tr>\n",
       "    <tr>\n",
       "      <th>980</th>\n",
       "      <td>False</td>\n",
       "      <td>False</td>\n",
       "      <td>False</td>\n",
       "      <td>False</td>\n",
       "      <td>False</td>\n",
       "      <td>False</td>\n",
       "      <td>False</td>\n",
       "      <td>False</td>\n",
       "      <td>True</td>\n",
       "      <td>True</td>\n",
       "      <td>False</td>\n",
       "      <td>False</td>\n",
       "      <td>False</td>\n",
       "      <td>False</td>\n",
       "      <td>False</td>\n",
       "    </tr>\n",
       "    <tr>\n",
       "      <th>981</th>\n",
       "      <td>False</td>\n",
       "      <td>False</td>\n",
       "      <td>False</td>\n",
       "      <td>False</td>\n",
       "      <td>False</td>\n",
       "      <td>False</td>\n",
       "      <td>False</td>\n",
       "      <td>False</td>\n",
       "      <td>False</td>\n",
       "      <td>False</td>\n",
       "      <td>True</td>\n",
       "      <td>True</td>\n",
       "      <td>True</td>\n",
       "      <td>True</td>\n",
       "      <td>False</td>\n",
       "    </tr>\n",
       "    <tr>\n",
       "      <th>982</th>\n",
       "      <td>False</td>\n",
       "      <td>False</td>\n",
       "      <td>False</td>\n",
       "      <td>False</td>\n",
       "      <td>False</td>\n",
       "      <td>False</td>\n",
       "      <td>False</td>\n",
       "      <td>False</td>\n",
       "      <td>False</td>\n",
       "      <td>False</td>\n",
       "      <td>False</td>\n",
       "      <td>False</td>\n",
       "      <td>True</td>\n",
       "      <td>True</td>\n",
       "      <td>False</td>\n",
       "    </tr>\n",
       "    <tr>\n",
       "      <th>983</th>\n",
       "      <td>False</td>\n",
       "      <td>False</td>\n",
       "      <td>False</td>\n",
       "      <td>False</td>\n",
       "      <td>False</td>\n",
       "      <td>False</td>\n",
       "      <td>False</td>\n",
       "      <td>False</td>\n",
       "      <td>False</td>\n",
       "      <td>False</td>\n",
       "      <td>False</td>\n",
       "      <td>False</td>\n",
       "      <td>True</td>\n",
       "      <td>True</td>\n",
       "      <td>False</td>\n",
       "    </tr>\n",
       "    <tr>\n",
       "      <th>984</th>\n",
       "      <td>False</td>\n",
       "      <td>False</td>\n",
       "      <td>False</td>\n",
       "      <td>False</td>\n",
       "      <td>False</td>\n",
       "      <td>False</td>\n",
       "      <td>False</td>\n",
       "      <td>False</td>\n",
       "      <td>False</td>\n",
       "      <td>False</td>\n",
       "      <td>True</td>\n",
       "      <td>True</td>\n",
       "      <td>True</td>\n",
       "      <td>True</td>\n",
       "      <td>True</td>\n",
       "    </tr>\n",
       "    <tr>\n",
       "      <th>985</th>\n",
       "      <td>False</td>\n",
       "      <td>False</td>\n",
       "      <td>False</td>\n",
       "      <td>False</td>\n",
       "      <td>False</td>\n",
       "      <td>False</td>\n",
       "      <td>False</td>\n",
       "      <td>False</td>\n",
       "      <td>True</td>\n",
       "      <td>True</td>\n",
       "      <td>True</td>\n",
       "      <td>True</td>\n",
       "      <td>False</td>\n",
       "      <td>False</td>\n",
       "      <td>False</td>\n",
       "    </tr>\n",
       "    <tr>\n",
       "      <th>986</th>\n",
       "      <td>False</td>\n",
       "      <td>False</td>\n",
       "      <td>False</td>\n",
       "      <td>False</td>\n",
       "      <td>False</td>\n",
       "      <td>False</td>\n",
       "      <td>False</td>\n",
       "      <td>False</td>\n",
       "      <td>False</td>\n",
       "      <td>False</td>\n",
       "      <td>True</td>\n",
       "      <td>True</td>\n",
       "      <td>True</td>\n",
       "      <td>True</td>\n",
       "      <td>False</td>\n",
       "    </tr>\n",
       "    <tr>\n",
       "      <th>987</th>\n",
       "      <td>False</td>\n",
       "      <td>False</td>\n",
       "      <td>False</td>\n",
       "      <td>False</td>\n",
       "      <td>False</td>\n",
       "      <td>False</td>\n",
       "      <td>False</td>\n",
       "      <td>True</td>\n",
       "      <td>True</td>\n",
       "      <td>True</td>\n",
       "      <td>True</td>\n",
       "      <td>True</td>\n",
       "      <td>True</td>\n",
       "      <td>True</td>\n",
       "      <td>True</td>\n",
       "    </tr>\n",
       "    <tr>\n",
       "      <th>988</th>\n",
       "      <td>False</td>\n",
       "      <td>False</td>\n",
       "      <td>False</td>\n",
       "      <td>False</td>\n",
       "      <td>False</td>\n",
       "      <td>False</td>\n",
       "      <td>False</td>\n",
       "      <td>False</td>\n",
       "      <td>False</td>\n",
       "      <td>False</td>\n",
       "      <td>False</td>\n",
       "      <td>False</td>\n",
       "      <td>False</td>\n",
       "      <td>False</td>\n",
       "      <td>False</td>\n",
       "    </tr>\n",
       "    <tr>\n",
       "      <th>989</th>\n",
       "      <td>False</td>\n",
       "      <td>False</td>\n",
       "      <td>False</td>\n",
       "      <td>False</td>\n",
       "      <td>False</td>\n",
       "      <td>False</td>\n",
       "      <td>False</td>\n",
       "      <td>False</td>\n",
       "      <td>False</td>\n",
       "      <td>False</td>\n",
       "      <td>False</td>\n",
       "      <td>False</td>\n",
       "      <td>True</td>\n",
       "      <td>True</td>\n",
       "      <td>False</td>\n",
       "    </tr>\n",
       "    <tr>\n",
       "      <th>990</th>\n",
       "      <td>False</td>\n",
       "      <td>False</td>\n",
       "      <td>False</td>\n",
       "      <td>False</td>\n",
       "      <td>False</td>\n",
       "      <td>False</td>\n",
       "      <td>False</td>\n",
       "      <td>False</td>\n",
       "      <td>False</td>\n",
       "      <td>False</td>\n",
       "      <td>True</td>\n",
       "      <td>True</td>\n",
       "      <td>True</td>\n",
       "      <td>True</td>\n",
       "      <td>False</td>\n",
       "    </tr>\n",
       "    <tr>\n",
       "      <th>991</th>\n",
       "      <td>False</td>\n",
       "      <td>False</td>\n",
       "      <td>False</td>\n",
       "      <td>False</td>\n",
       "      <td>False</td>\n",
       "      <td>False</td>\n",
       "      <td>False</td>\n",
       "      <td>False</td>\n",
       "      <td>False</td>\n",
       "      <td>False</td>\n",
       "      <td>False</td>\n",
       "      <td>False</td>\n",
       "      <td>True</td>\n",
       "      <td>True</td>\n",
       "      <td>False</td>\n",
       "    </tr>\n",
       "    <tr>\n",
       "      <th>992</th>\n",
       "      <td>False</td>\n",
       "      <td>False</td>\n",
       "      <td>False</td>\n",
       "      <td>False</td>\n",
       "      <td>False</td>\n",
       "      <td>False</td>\n",
       "      <td>False</td>\n",
       "      <td>False</td>\n",
       "      <td>True</td>\n",
       "      <td>True</td>\n",
       "      <td>False</td>\n",
       "      <td>False</td>\n",
       "      <td>True</td>\n",
       "      <td>True</td>\n",
       "      <td>False</td>\n",
       "    </tr>\n",
       "    <tr>\n",
       "      <th>993</th>\n",
       "      <td>False</td>\n",
       "      <td>False</td>\n",
       "      <td>False</td>\n",
       "      <td>False</td>\n",
       "      <td>False</td>\n",
       "      <td>False</td>\n",
       "      <td>False</td>\n",
       "      <td>False</td>\n",
       "      <td>False</td>\n",
       "      <td>False</td>\n",
       "      <td>False</td>\n",
       "      <td>False</td>\n",
       "      <td>True</td>\n",
       "      <td>True</td>\n",
       "      <td>False</td>\n",
       "    </tr>\n",
       "    <tr>\n",
       "      <th>994</th>\n",
       "      <td>False</td>\n",
       "      <td>False</td>\n",
       "      <td>False</td>\n",
       "      <td>False</td>\n",
       "      <td>False</td>\n",
       "      <td>False</td>\n",
       "      <td>False</td>\n",
       "      <td>False</td>\n",
       "      <td>True</td>\n",
       "      <td>True</td>\n",
       "      <td>False</td>\n",
       "      <td>False</td>\n",
       "      <td>True</td>\n",
       "      <td>True</td>\n",
       "      <td>False</td>\n",
       "    </tr>\n",
       "    <tr>\n",
       "      <th>995</th>\n",
       "      <td>False</td>\n",
       "      <td>False</td>\n",
       "      <td>False</td>\n",
       "      <td>False</td>\n",
       "      <td>False</td>\n",
       "      <td>False</td>\n",
       "      <td>False</td>\n",
       "      <td>False</td>\n",
       "      <td>True</td>\n",
       "      <td>False</td>\n",
       "      <td>False</td>\n",
       "      <td>False</td>\n",
       "      <td>True</td>\n",
       "      <td>True</td>\n",
       "      <td>False</td>\n",
       "    </tr>\n",
       "    <tr>\n",
       "      <th>996</th>\n",
       "      <td>False</td>\n",
       "      <td>False</td>\n",
       "      <td>False</td>\n",
       "      <td>False</td>\n",
       "      <td>False</td>\n",
       "      <td>False</td>\n",
       "      <td>False</td>\n",
       "      <td>False</td>\n",
       "      <td>False</td>\n",
       "      <td>False</td>\n",
       "      <td>False</td>\n",
       "      <td>False</td>\n",
       "      <td>True</td>\n",
       "      <td>True</td>\n",
       "      <td>False</td>\n",
       "    </tr>\n",
       "    <tr>\n",
       "      <th>997</th>\n",
       "      <td>False</td>\n",
       "      <td>False</td>\n",
       "      <td>False</td>\n",
       "      <td>False</td>\n",
       "      <td>False</td>\n",
       "      <td>False</td>\n",
       "      <td>False</td>\n",
       "      <td>False</td>\n",
       "      <td>False</td>\n",
       "      <td>False</td>\n",
       "      <td>False</td>\n",
       "      <td>False</td>\n",
       "      <td>False</td>\n",
       "      <td>False</td>\n",
       "      <td>False</td>\n",
       "    </tr>\n",
       "    <tr>\n",
       "      <th>998</th>\n",
       "      <td>False</td>\n",
       "      <td>False</td>\n",
       "      <td>False</td>\n",
       "      <td>False</td>\n",
       "      <td>False</td>\n",
       "      <td>False</td>\n",
       "      <td>False</td>\n",
       "      <td>False</td>\n",
       "      <td>False</td>\n",
       "      <td>False</td>\n",
       "      <td>False</td>\n",
       "      <td>False</td>\n",
       "      <td>True</td>\n",
       "      <td>True</td>\n",
       "      <td>False</td>\n",
       "    </tr>\n",
       "    <tr>\n",
       "      <th>999</th>\n",
       "      <td>False</td>\n",
       "      <td>False</td>\n",
       "      <td>False</td>\n",
       "      <td>False</td>\n",
       "      <td>False</td>\n",
       "      <td>False</td>\n",
       "      <td>False</td>\n",
       "      <td>False</td>\n",
       "      <td>False</td>\n",
       "      <td>False</td>\n",
       "      <td>False</td>\n",
       "      <td>False</td>\n",
       "      <td>True</td>\n",
       "      <td>True</td>\n",
       "      <td>False</td>\n",
       "    </tr>\n",
       "  </tbody>\n",
       "</table>\n",
       "<p>1000 rows × 15 columns</p>\n",
       "</div>"
      ],
      "text/plain": [
       "        ID  Address  Latitude  Longitude  DateOfSale  SalePrice  \\\n",
       "0    False    False     False      False       False      False   \n",
       "1    False    False     False      False       False      False   \n",
       "2    False    False     False      False       False      False   \n",
       "3    False    False     False      False       False      False   \n",
       "4    False    False     False      False       False      False   \n",
       "5    False    False     False      False       False      False   \n",
       "6    False    False     False      False       False      False   \n",
       "7    False    False     False      False       False      False   \n",
       "8    False    False     False      False       False      False   \n",
       "9    False    False     False      False       False      False   \n",
       "10   False    False     False      False       False      False   \n",
       "11   False    False     False      False       False      False   \n",
       "12   False    False     False      False       False      False   \n",
       "13   False    False     False      False       False      False   \n",
       "14   False    False     False      False       False      False   \n",
       "15   False    False     False      False       False      False   \n",
       "16   False    False     False      False       False      False   \n",
       "17   False    False     False      False       False      False   \n",
       "18   False    False     False      False       False      False   \n",
       "19   False    False     False      False       False      False   \n",
       "20   False    False     False      False       False      False   \n",
       "21   False    False     False      False       False      False   \n",
       "22   False    False     False      False       False      False   \n",
       "23   False    False     False      False       False      False   \n",
       "24   False    False     False      False       False      False   \n",
       "25   False    False     False      False       False      False   \n",
       "26   False    False     False      False       False      False   \n",
       "27   False    False     False      False       False      False   \n",
       "28   False    False     False      False       False      False   \n",
       "29   False    False     False      False       False      False   \n",
       "..     ...      ...       ...        ...         ...        ...   \n",
       "970  False    False     False      False       False      False   \n",
       "971  False    False     False      False       False      False   \n",
       "972  False    False     False      False       False      False   \n",
       "973  False    False     False      False       False      False   \n",
       "974  False    False     False      False       False      False   \n",
       "975  False    False     False      False       False      False   \n",
       "976  False    False     False      False       False      False   \n",
       "977  False    False     False      False       False      False   \n",
       "978  False    False     False      False       False      False   \n",
       "979  False    False     False      False       False      False   \n",
       "980  False    False     False      False       False      False   \n",
       "981  False    False     False      False       False      False   \n",
       "982  False    False     False      False       False      False   \n",
       "983  False    False     False      False       False      False   \n",
       "984  False    False     False      False       False      False   \n",
       "985  False    False     False      False       False      False   \n",
       "986  False    False     False      False       False      False   \n",
       "987  False    False     False      False       False      False   \n",
       "988  False    False     False      False       False      False   \n",
       "989  False    False     False      False       False      False   \n",
       "990  False    False     False      False       False      False   \n",
       "991  False    False     False      False       False      False   \n",
       "992  False    False     False      False       False      False   \n",
       "993  False    False     False      False       False      False   \n",
       "994  False    False     False      False       False      False   \n",
       "995  False    False     False      False       False      False   \n",
       "996  False    False     False      False       False      False   \n",
       "997  False    False     False      False       False      False   \n",
       "998  False    False     False      False       False      False   \n",
       "999  False    False     False      False       False      False   \n",
       "\n",
       "     SalePriceUnit  IsAStudio   Beds  Baths   Size  SizeUnit  LotSize  \\\n",
       "0            False      False  False   True  False     False     True   \n",
       "1            False      False   True  False  False     False    False   \n",
       "2            False      False  False  False  False     False    False   \n",
       "3            False      False  False  False  False     False     True   \n",
       "4            False      False  False  False  False     False     True   \n",
       "5            False      False  False  False  False     False     True   \n",
       "6            False      False  False  False  False     False     True   \n",
       "7            False      False  False  False  False     False    False   \n",
       "8            False      False   True   True  False     False    False   \n",
       "9            False      False  False  False  False     False     True   \n",
       "10           False      False  False  False  False     False     True   \n",
       "11           False      False  False  False  False     False     True   \n",
       "12           False      False  False  False  False     False     True   \n",
       "13           False      False   True  False  False     False    False   \n",
       "14           False      False  False  False  False     False     True   \n",
       "15           False      False  False  False  False     False     True   \n",
       "16           False      False  False  False  False     False     True   \n",
       "17           False      False  False  False  False     False     True   \n",
       "18           False      False  False  False  False     False     True   \n",
       "19           False      False  False  False  False     False    False   \n",
       "20           False      False  False  False  False     False     True   \n",
       "21           False      False  False  False  False     False     True   \n",
       "22           False      False   True  False  False     False    False   \n",
       "23           False      False   True  False  False     False     True   \n",
       "24           False      False   True  False  False     False    False   \n",
       "25           False      False   True  False  False     False     True   \n",
       "26           False      False  False  False  False     False     True   \n",
       "27           False      False  False  False  False     False     True   \n",
       "28           False      False  False  False  False     False     True   \n",
       "29           False      False  False  False  False     False     True   \n",
       "..             ...        ...    ...    ...    ...       ...      ...   \n",
       "970          False      False  False  False  False     False     True   \n",
       "971          False      False  False  False  False     False     True   \n",
       "972          False      False  False  False  False     False     True   \n",
       "973          False      False  False  False   True      True     True   \n",
       "974          False      False  False  False  False     False     True   \n",
       "975          False      False  False  False  False     False     True   \n",
       "976          False      False  False  False  False     False     True   \n",
       "977          False      False  False  False  False     False     True   \n",
       "978          False      False   True   True  False     False    False   \n",
       "979          False      False  False  False  False     False     True   \n",
       "980          False      False   True   True  False     False    False   \n",
       "981          False      False  False  False   True      True     True   \n",
       "982          False      False  False  False  False     False     True   \n",
       "983          False      False  False  False  False     False     True   \n",
       "984          False      False  False  False   True      True     True   \n",
       "985          False      False   True   True   True      True    False   \n",
       "986          False      False  False  False   True      True     True   \n",
       "987          False       True   True   True   True      True     True   \n",
       "988          False      False  False  False  False     False    False   \n",
       "989          False      False  False  False  False     False     True   \n",
       "990          False      False  False  False   True      True     True   \n",
       "991          False      False  False  False  False     False     True   \n",
       "992          False      False   True   True  False     False     True   \n",
       "993          False      False  False  False  False     False     True   \n",
       "994          False      False   True   True  False     False     True   \n",
       "995          False      False   True  False  False     False     True   \n",
       "996          False      False  False  False  False     False     True   \n",
       "997          False      False  False  False  False     False    False   \n",
       "998          False      False  False  False  False     False     True   \n",
       "999          False      False  False  False  False     False     True   \n",
       "\n",
       "     LotSizeUnit  BuiltInYear  \n",
       "0           True        False  \n",
       "1          False        False  \n",
       "2          False        False  \n",
       "3           True        False  \n",
       "4           True        False  \n",
       "5           True        False  \n",
       "6           True        False  \n",
       "7          False        False  \n",
       "8          False        False  \n",
       "9           True        False  \n",
       "10          True        False  \n",
       "11          True        False  \n",
       "12          True        False  \n",
       "13         False        False  \n",
       "14          True        False  \n",
       "15          True        False  \n",
       "16          True        False  \n",
       "17          True        False  \n",
       "18          True        False  \n",
       "19         False        False  \n",
       "20          True        False  \n",
       "21          True        False  \n",
       "22         False        False  \n",
       "23          True        False  \n",
       "24         False        False  \n",
       "25          True        False  \n",
       "26          True        False  \n",
       "27          True        False  \n",
       "28          True        False  \n",
       "29          True        False  \n",
       "..           ...          ...  \n",
       "970         True         True  \n",
       "971         True         True  \n",
       "972         True        False  \n",
       "973         True        False  \n",
       "974         True        False  \n",
       "975         True        False  \n",
       "976         True        False  \n",
       "977         True        False  \n",
       "978        False        False  \n",
       "979         True        False  \n",
       "980        False        False  \n",
       "981         True        False  \n",
       "982         True        False  \n",
       "983         True        False  \n",
       "984         True         True  \n",
       "985        False        False  \n",
       "986         True        False  \n",
       "987         True         True  \n",
       "988        False        False  \n",
       "989         True        False  \n",
       "990         True        False  \n",
       "991         True        False  \n",
       "992         True        False  \n",
       "993         True        False  \n",
       "994         True        False  \n",
       "995         True        False  \n",
       "996         True        False  \n",
       "997        False        False  \n",
       "998         True        False  \n",
       "999         True        False  \n",
       "\n",
       "[1000 rows x 15 columns]"
      ]
     },
     "execution_count": 15,
     "metadata": {},
     "output_type": "execute_result"
    }
   ],
   "source": [
    "df.isnull()"
   ]
  },
  {
   "cell_type": "markdown",
   "metadata": {},
   "source": [
    "In return, we get a new `DataFrame` with Boolean values.  `True` if the value is `NaN`, `False` otherwise."
   ]
  },
  {
   "cell_type": "markdown",
   "metadata": {},
   "source": [
    "We can also get the count per column:"
   ]
  },
  {
   "cell_type": "code",
   "execution_count": null,
   "metadata": {
    "collapsed": true
   },
   "outputs": [],
   "source": [
    "df.isnull().sum()"
   ]
  },
  {
   "cell_type": "markdown",
   "metadata": {},
   "source": [
    "Summing again will return the number of cells in the `DataFrame` with missing values."
   ]
  },
  {
   "cell_type": "code",
   "execution_count": null,
   "metadata": {
    "collapsed": true
   },
   "outputs": [],
   "source": [
    "# TODO"
   ]
  },
  {
   "cell_type": "markdown",
   "metadata": {},
   "source": [
    "Equivalently, we can also use the `.isnull()` function:"
   ]
  },
  {
   "cell_type": "code",
   "execution_count": null,
   "metadata": {
    "collapsed": true
   },
   "outputs": [],
   "source": [
    "pd.isnull(df)"
   ]
  },
  {
   "cell_type": "markdown",
   "metadata": {},
   "source": [
    "We also also use `.notnull()`, its complement method:"
   ]
  },
  {
   "cell_type": "code",
   "execution_count": null,
   "metadata": {
    "collapsed": true
   },
   "outputs": [],
   "source": [
    "df.notnull()"
   ]
  },
  {
   "cell_type": "code",
   "execution_count": null,
   "metadata": {
    "collapsed": true
   },
   "outputs": [],
   "source": [
    "pd.notnull(df)"
   ]
  },
  {
   "cell_type": "markdown",
   "metadata": {},
   "source": [
    "> ### `.index` and `.columns`: row and column labels"
   ]
  },
  {
   "cell_type": "markdown",
   "metadata": {},
   "source": [
    "(http://pandas.pydata.org/pandas-docs/stable/generated/pandas.Index.html)"
   ]
  },
  {
   "cell_type": "markdown",
   "metadata": {},
   "source": [
    "Use the `.index` property to get the label for rows.  For columns, use the `.columns` property."
   ]
  },
  {
   "cell_type": "code",
   "execution_count": null,
   "metadata": {
    "collapsed": true
   },
   "outputs": [],
   "source": [
    "df.index"
   ]
  },
  {
   "cell_type": "code",
   "execution_count": null,
   "metadata": {
    "collapsed": true
   },
   "outputs": [],
   "source": [
    "type(df.index)"
   ]
  },
  {
   "cell_type": "markdown",
   "metadata": {},
   "source": [
    "In this specific case, rows are just numbered from 0 to 1,000.  Note that, similarly to Python's standard `range` function, this range also excludes the last number."
   ]
  },
  {
   "cell_type": "code",
   "execution_count": null,
   "metadata": {
    "collapsed": true
   },
   "outputs": [],
   "source": [
    "df.columns"
   ]
  },
  {
   "cell_type": "code",
   "execution_count": null,
   "metadata": {
    "collapsed": true
   },
   "outputs": [],
   "source": [
    "type(df.columns)"
   ]
  },
  {
   "cell_type": "markdown",
   "metadata": {},
   "source": [
    "> ## `[ [] ]` and `[]`: subsetting on columns"
   ]
  },
  {
   "cell_type": "markdown",
   "metadata": {},
   "source": [
    "Selecting specific columns is performed by using the `[]` operator.\n",
    "\n",
    "Passing a single integer, or a list of integers, to `[]` will perform a location-based lookup of the columns."
   ]
  },
  {
   "cell_type": "markdown",
   "metadata": {},
   "source": [
    "> E.g., columns #5 and #6:"
   ]
  },
  {
   "cell_type": "code",
   "execution_count": null,
   "metadata": {
    "collapsed": true
   },
   "outputs": [],
   "source": [
    "# TODO"
   ]
  },
  {
   "cell_type": "markdown",
   "metadata": {},
   "source": [
    "> Let's check that the column subsetting returns a `DataFrame`:"
   ]
  },
  {
   "cell_type": "code",
   "execution_count": null,
   "metadata": {
    "collapsed": true
   },
   "outputs": [],
   "source": [
    "# TODO"
   ]
  },
  {
   "cell_type": "markdown",
   "metadata": {},
   "source": [
    "> Note that a `DataFrame` can be made of a single column.  E.g., column #7 only:"
   ]
  },
  {
   "cell_type": "code",
   "execution_count": null,
   "metadata": {
    "collapsed": true
   },
   "outputs": [],
   "source": [
    "# TODO"
   ]
  },
  {
   "cell_type": "markdown",
   "metadata": {},
   "source": [
    "If the values passed to `[]` are non-integers, the `DataFrame` will attempt to match them to those in the `columns` property."
   ]
  },
  {
   "cell_type": "markdown",
   "metadata": {},
   "source": [
    "> Let's subset the `DataFrame` on columns `SalePrice` and `SalePriceUnit`:"
   ]
  },
  {
   "cell_type": "code",
   "execution_count": null,
   "metadata": {
    "collapsed": true
   },
   "outputs": [],
   "source": [
    "# TODO"
   ]
  },
  {
   "cell_type": "markdown",
   "metadata": {},
   "source": [
    "However, you cannot mix integers and non-integers.  E.g.,"
   ]
  },
  {
   "cell_type": "code",
   "execution_count": null,
   "metadata": {
    "collapsed": true
   },
   "outputs": [],
   "source": [
    "# \"df[ ['SalePrice', 6] ]\" errors out...  Try it!"
   ]
  },
  {
   "cell_type": "markdown",
   "metadata": {
    "collapsed": true
   },
   "source": [
    "Not passing a list always results in a value-based lookup of the column:"
   ]
  },
  {
   "cell_type": "code",
   "execution_count": null,
   "metadata": {
    "collapsed": true
   },
   "outputs": [],
   "source": [
    "df['Address']"
   ]
  },
  {
   "cell_type": "markdown",
   "metadata": {},
   "source": [
    "> ## `Series`"
   ]
  },
  {
   "cell_type": "markdown",
   "metadata": {},
   "source": [
    "(http://pandas.pydata.org/pandas-docs/stable/dsintro.html)"
   ]
  },
  {
   "cell_type": "markdown",
   "metadata": {},
   "source": [
    "> Let's check the result type:"
   ]
  },
  {
   "cell_type": "code",
   "execution_count": null,
   "metadata": {
    "collapsed": true
   },
   "outputs": [],
   "source": [
    "# TODO"
   ]
  },
  {
   "cell_type": "markdown",
   "metadata": {},
   "source": [
    "Columns can also be retrieved using \"attribute\" access as `DataFrame`s add a property for each column with the names of the properties as the names of the columns.  This won't work however for columns that have spaces or dots in their name."
   ]
  },
  {
   "cell_type": "markdown",
   "metadata": {},
   "source": [
    "> Let's check the value of `df`'s `.Address` property:"
   ]
  },
  {
   "cell_type": "code",
   "execution_count": null,
   "metadata": {
    "collapsed": true
   },
   "outputs": [],
   "source": [
    "# TODO"
   ]
  },
  {
   "cell_type": "markdown",
   "metadata": {},
   "source": [
    "> Use the `.name` property (not `.columns`, that's for a `DataFrame`) to get the name of the variable stored inside it."
   ]
  },
  {
   "cell_type": "markdown",
   "metadata": {},
   "source": [
    "(http://pandas.pydata.org/pandas-docs/stable/generated/pandas.Series.name.html)"
   ]
  },
  {
   "cell_type": "code",
   "execution_count": null,
   "metadata": {
    "collapsed": true
   },
   "outputs": [],
   "source": [
    "# TODO"
   ]
  },
  {
   "cell_type": "markdown",
   "metadata": {},
   "source": [
    "> To find the zero-based location of a column, use the `.get_loc()` method of the `.columns` property.  E.g.,"
   ]
  },
  {
   "cell_type": "markdown",
   "metadata": {},
   "source": [
    "(http://pandas.pydata.org/pandas-docs/stable/generated/pandas.Index.get_loc.html)"
   ]
  },
  {
   "cell_type": "code",
   "execution_count": null,
   "metadata": {
    "collapsed": true
   },
   "outputs": [],
   "source": [
    "df.columns.get_loc('Beds')"
   ]
  },
  {
   "cell_type": "code",
   "execution_count": null,
   "metadata": {
    "collapsed": true
   },
   "outputs": [],
   "source": [
    "df[ [df.columns.get_loc('Beds')] ]"
   ]
  },
  {
   "cell_type": "markdown",
   "metadata": {},
   "source": [
    "We should get the same output as subsetting a `DataFrame` on `Beds`:"
   ]
  },
  {
   "cell_type": "code",
   "execution_count": null,
   "metadata": {
    "collapsed": true
   },
   "outputs": [],
   "source": [
    "# TODO"
   ]
  },
  {
   "cell_type": "markdown",
   "metadata": {
    "collapsed": true
   },
   "source": [
    "> ## `[]`: slicing on rows"
   ]
  },
  {
   "cell_type": "markdown",
   "metadata": {},
   "source": [
    "> E.g., on the first five rows:"
   ]
  },
  {
   "cell_type": "code",
   "execution_count": null,
   "metadata": {
    "collapsed": true
   },
   "outputs": [],
   "source": [
    "# TODO"
   ]
  },
  {
   "cell_type": "markdown",
   "metadata": {
    "collapsed": true
   },
   "source": [
    "> ## `.loc[]` and `.iloc[]`: subsetting rows by index label and location"
   ]
  },
  {
   "cell_type": "markdown",
   "metadata": {},
   "source": [
    "- (http://pandas.pydata.org/pandas-docs/stable/generated/pandas.DataFrame.loc.html)\n",
    "- (http://pandas.pydata.org/pandas-docs/stable/generated/pandas.Series.loc.html)"
   ]
  },
  {
   "cell_type": "markdown",
   "metadata": {},
   "source": [
    "- (http://pandas.pydata.org/pandas-docs/stable/generated/pandas.DataFrame.iloc.html)\n",
    "- (http://pandas.pydata.org/pandas-docs/stable/generated/pandas.Series.iloc.html)"
   ]
  },
  {
   "cell_type": "markdown",
   "metadata": {},
   "source": [
    "- (http://pandas.pydata.org/pandas-docs/stable/generated/pandas.DataFrame.set_index.html)\n",
    "- (http://pandas.pydata.org/pandas-docs/stable/generated/pandas.Series.set_index.html)"
   ]
  },
  {
   "cell_type": "markdown",
   "metadata": {},
   "source": [
    "- (http://pandas.pydata.org/pandas-docs/stable/generated/pandas.DataFrame.reset_index.html)\n",
    "- (http://pandas.pydata.org/pandas-docs/stable/generated/pandas.Series.reset_index.html)"
   ]
  },
  {
   "cell_type": "markdown",
   "metadata": {},
   "source": [
    "Until now, the index of the `DataFrame` is a numerical starting from 0 but you can specify which column(s) should be in the index."
   ]
  },
  {
   "cell_type": "markdown",
   "metadata": {},
   "source": [
    "> E.g., `ID`:"
   ]
  },
  {
   "cell_type": "code",
   "execution_count": null,
   "metadata": {
    "collapsed": true
   },
   "outputs": [],
   "source": [
    "df = df.set_index('ID')"
   ]
  },
  {
   "cell_type": "code",
   "execution_count": null,
   "metadata": {
    "collapsed": true
   },
   "outputs": [],
   "source": [
    "df.index"
   ]
  },
  {
   "cell_type": "code",
   "execution_count": null,
   "metadata": {
    "collapsed": true
   },
   "outputs": [],
   "source": [
    "df"
   ]
  },
  {
   "cell_type": "markdown",
   "metadata": {},
   "source": [
    "> E.g., row with index 15063505:"
   ]
  },
  {
   "cell_type": "code",
   "execution_count": null,
   "metadata": {
    "collapsed": true
   },
   "outputs": [],
   "source": [
    "# TODO"
   ]
  },
  {
   "cell_type": "markdown",
   "metadata": {},
   "source": [
    "Its name is its value in the index."
   ]
  },
  {
   "cell_type": "markdown",
   "metadata": {},
   "source": [
    "> E.g., rows with indices 15063505 and 15064044:"
   ]
  },
  {
   "cell_type": "code",
   "execution_count": null,
   "metadata": {
    "collapsed": true
   },
   "outputs": [],
   "source": [
    "# TODO"
   ]
  },
  {
   "cell_type": "markdown",
   "metadata": {
    "collapsed": true
   },
   "source": [
    "> E.g., rows #1 and #3:"
   ]
  },
  {
   "cell_type": "code",
   "execution_count": null,
   "metadata": {
    "collapsed": true
   },
   "outputs": [],
   "source": [
    "# TODO"
   ]
  },
  {
   "cell_type": "markdown",
   "metadata": {},
   "source": [
    "> ## Subsetting rows by Boolean selection (a.k.a., masking)"
   ]
  },
  {
   "cell_type": "markdown",
   "metadata": {},
   "source": [
    "Rows can also be selected by using Boolean selection, using an array calculated from the result of applying a logical condition on the values in any of the columns.  This allows us to build more complicated selections than those based simply upon index labels or positions."
   ]
  },
  {
   "cell_type": "markdown",
   "metadata": {},
   "source": [
    "> E.g., what homes have been built before 1900?"
   ]
  },
  {
   "cell_type": "code",
   "execution_count": null,
   "metadata": {
    "collapsed": true
   },
   "outputs": [],
   "source": [
    "# TODO"
   ]
  },
  {
   "cell_type": "markdown",
   "metadata": {},
   "source": [
    "> Let's subset on that `Series`:"
   ]
  },
  {
   "cell_type": "code",
   "execution_count": null,
   "metadata": {
    "collapsed": true
   },
   "outputs": [],
   "source": [
    "# TODO"
   ]
  },
  {
   "cell_type": "markdown",
   "metadata": {},
   "source": [
    "Multiple conditions can be put together."
   ]
  },
  {
   "cell_type": "markdown",
   "metadata": {},
   "source": [
    "> E.g., subset for `BuiltInYear` below 1900 and `Size` over 1500:"
   ]
  },
  {
   "cell_type": "code",
   "execution_count": null,
   "metadata": {
    "collapsed": true
   },
   "outputs": [],
   "source": [
    "# TODO"
   ]
  },
  {
   "cell_type": "markdown",
   "metadata": {},
   "source": [
    "It is possible to subset on columns simultaneously."
   ]
  },
  {
   "cell_type": "markdown",
   "metadata": {},
   "source": [
    "> E.g., subset (a `DataFrame`) on `Address` for `BuiltInYear` below 1900 and `Size` over 1500:"
   ]
  },
  {
   "cell_type": "code",
   "execution_count": null,
   "metadata": {
    "collapsed": true
   },
   "outputs": [],
   "source": [
    "# TODO"
   ]
  },
  {
   "cell_type": "markdown",
   "metadata": {},
   "source": [
    "> To get a `Series` instead of a `DataFrame`:"
   ]
  },
  {
   "cell_type": "code",
   "execution_count": null,
   "metadata": {
    "collapsed": true
   },
   "outputs": [],
   "source": [
    "# TODO"
   ]
  },
  {
   "cell_type": "markdown",
   "metadata": {},
   "source": [
    "## Part B - Wrangling the SF Housing dataset (take 2) with `pandas`"
   ]
  },
  {
   "cell_type": "code",
   "execution_count": null,
   "metadata": {
    "collapsed": true
   },
   "outputs": [],
   "source": [
    "df = pd.read_csv(os.path.join('..', 'datasets', 'dataset-02-zillow-starter.csv'), index_col = 'ID')"
   ]
  },
  {
   "cell_type": "markdown",
   "metadata": {},
   "source": [
    "(`pd.read_csv` can load the dataset and set the index column for the `DataFrame` at the same time)"
   ]
  },
  {
   "cell_type": "markdown",
   "metadata": {},
   "source": [
    "> ### Remove the `Latitude` and `Longitude` columns"
   ]
  },
  {
   "cell_type": "markdown",
   "metadata": {},
   "source": [
    "(http://pandas.pydata.org/pandas-docs/stable/generated/pandas.DataFrame.drop.html)"
   ]
  },
  {
   "cell_type": "code",
   "execution_count": null,
   "metadata": {
    "collapsed": true
   },
   "outputs": [],
   "source": [
    "df.drop(['Latitude', 'Longitude'], axis = 1, inplace = True)"
   ]
  },
  {
   "cell_type": "code",
   "execution_count": null,
   "metadata": {
    "collapsed": true
   },
   "outputs": [],
   "source": [
    "df"
   ]
  },
  {
   "cell_type": "markdown",
   "metadata": {},
   "source": [
    "> ### `SalePrice`: scale all amount to `$M`"
   ]
  },
  {
   "cell_type": "markdown",
   "metadata": {},
   "source": [
    "- (http://pandas.pydata.org/pandas-docs/stable/generated/pandas.Series.unique.html)\n",
    "- (http://pandas.pydata.org/pandas-docs/stable/generated/pandas.concat.html)\n",
    "- (http://pandas.pydata.org/pandas-docs/stable/generated/pandas.DataFrame.sort_index.html)"
   ]
  },
  {
   "cell_type": "code",
   "execution_count": null,
   "metadata": {
    "collapsed": true
   },
   "outputs": [],
   "source": [
    "df.SalePriceUnit.unique()"
   ]
  },
  {
   "cell_type": "code",
   "execution_count": null,
   "metadata": {
    "collapsed": true
   },
   "outputs": [],
   "source": [
    "df_1 = df[df.SalePriceUnit == '$']\n",
    "df_1 = df_1.drop('SalePriceUnit', axis = 1)\n",
    "\n",
    "# Scaling sale price to $M\n",
    "df_1.SalePrice /= 10 ** 6\n",
    "\n",
    "df_6 = df[df.SalePriceUnit == '$M']\n",
    "df_6 = df_6.drop('SalePriceUnit', axis = 1)"
   ]
  },
  {
   "cell_type": "code",
   "execution_count": null,
   "metadata": {
    "collapsed": true
   },
   "outputs": [],
   "source": [
    "# Concatenate of two DataFrames by rows\n",
    "df = pd.concat([df_1, df_6])"
   ]
  },
  {
   "cell_type": "code",
   "execution_count": null,
   "metadata": {
    "collapsed": true
   },
   "outputs": [],
   "source": [
    "# Resort the new DataFrame\n",
    "df.sort_index(inplace = True)"
   ]
  },
  {
   "cell_type": "markdown",
   "metadata": {},
   "source": [
    "> ### `IsAStudio`: convert from a Boolean to a binary variable (i.e., 0 or 1)"
   ]
  },
  {
   "cell_type": "code",
   "execution_count": null,
   "metadata": {
    "collapsed": true
   },
   "outputs": [],
   "source": [
    "# TODO"
   ]
  },
  {
   "cell_type": "code",
   "execution_count": null,
   "metadata": {
    "collapsed": true
   },
   "outputs": [],
   "source": [
    "df.IsAStudio"
   ]
  },
  {
   "cell_type": "markdown",
   "metadata": {},
   "source": [
    "> ### `Size`"
   ]
  },
  {
   "cell_type": "code",
   "execution_count": null,
   "metadata": {
    "collapsed": true
   },
   "outputs": [],
   "source": [
    "df.SizeUnit.unique()"
   ]
  },
  {
   "cell_type": "markdown",
   "metadata": {},
   "source": [
    "Size is either in square feet or missing.  Almost no work needed except to remove size unit."
   ]
  },
  {
   "cell_type": "code",
   "execution_count": null,
   "metadata": {
    "collapsed": true
   },
   "outputs": [],
   "source": [
    "df.drop('SizeUnit', axis = 1, inplace = True)"
   ]
  },
  {
   "cell_type": "markdown",
   "metadata": {
    "collapsed": true
   },
   "source": [
    "> ### `LotSize`: scale all values to square feet"
   ]
  },
  {
   "cell_type": "code",
   "execution_count": 16,
   "metadata": {},
   "outputs": [
    {
     "data": {
      "text/plain": [
       "array([nan, 'sqft', 'ac'], dtype=object)"
      ]
     },
     "execution_count": 16,
     "metadata": {},
     "output_type": "execute_result"
    }
   ],
   "source": [
    "df.LotSizeUnit.unique()"
   ]
  },
  {
   "cell_type": "markdown",
   "metadata": {},
   "source": [
    "Lot sizes are either in square feet or in acres.  Let's convert them all to square feet."
   ]
  },
  {
   "cell_type": "markdown",
   "metadata": {},
   "source": [
    "> Group #1: the `na` values:"
   ]
  },
  {
   "cell_type": "code",
   "execution_count": 17,
   "metadata": {},
   "outputs": [
    {
     "data": {
      "text/plain": [
       "444"
      ]
     },
     "execution_count": 17,
     "metadata": {},
     "output_type": "execute_result"
    }
   ],
   "source": [
    "df_na = df[df.LotSizeUnit.isnull()]\n",
    "df_na = df_na.drop('LotSizeUnit', axis = 1)\n",
    "\n",
    "df_na.shape[0]"
   ]
  },
  {
   "cell_type": "markdown",
   "metadata": {},
   "source": [
    "> Group #2: the `sqft` values:"
   ]
  },
  {
   "cell_type": "code",
   "execution_count": 20,
   "metadata": {},
   "outputs": [
    {
     "data": {
      "text/plain": [
       "552"
      ]
     },
     "execution_count": 20,
     "metadata": {},
     "output_type": "execute_result"
    }
   ],
   "source": [
    "# TODO (use df_sqft)\n",
    "df_sqft = df[df.LotSizeUnit == 'sqft']\n",
    "df_sqft.shape[0]"
   ]
  },
  {
   "cell_type": "markdown",
   "metadata": {},
   "source": [
    "> Group #3: the `ac` values:"
   ]
  },
  {
   "cell_type": "code",
   "execution_count": null,
   "metadata": {
    "collapsed": true
   },
   "outputs": [],
   "source": [
    "# TODO (use df_ac)\n",
    "df_ac = df[df.LotSizeUnit == 'ac']\n",
    "df_ac.shape[0]"
   ]
  },
  {
   "cell_type": "markdown",
   "metadata": {},
   "source": [
    "> Let's scale these `acre` values into `sqft`:"
   ]
  },
  {
   "cell_type": "code",
   "execution_count": null,
   "metadata": {
    "collapsed": true
   },
   "outputs": [],
   "source": [
    "# (1 acre = 43,560 sqft)\n",
    "\n",
    "# TODO"
   ]
  },
  {
   "cell_type": "markdown",
   "metadata": {},
   "source": [
    "Let's now put everything back together..."
   ]
  },
  {
   "cell_type": "code",
   "execution_count": null,
   "metadata": {
    "collapsed": true
   },
   "outputs": [],
   "source": [
    "df = pd.concat([df_na, df_sqft, df_ac]).sort_index()"
   ]
  },
  {
   "cell_type": "code",
   "execution_count": null,
   "metadata": {
    "collapsed": true
   },
   "outputs": [],
   "source": [
    "df"
   ]
  },
  {
   "cell_type": "markdown",
   "metadata": {},
   "source": [
    "> ## `.to_csv`: save the `DataFrame` into a `.csv` file"
   ]
  },
  {
   "cell_type": "markdown",
   "metadata": {},
   "source": [
    "At the end of each phase (i.e., wrangling) of your data science project, it is a good idea to save your dataset into disk.  Then for the next step, create a new Jupyther notebook and load your updated dataset"
   ]
  },
  {
   "cell_type": "code",
   "execution_count": null,
   "metadata": {
    "collapsed": true
   },
   "outputs": [],
   "source": [
    "df.to_csv(os.path.join('..', 'datasets', 'dataset-02-zillow.csv'), index_label = 'ID')"
   ]
  },
  {
   "cell_type": "markdown",
   "metadata": {
    "collapsed": true
   },
   "source": [
    "## Part C - More advanced topics"
   ]
  },
  {
   "cell_type": "markdown",
   "metadata": {},
   "source": [
    "### `.groupby()`"
   ]
  },
  {
   "cell_type": "markdown",
   "metadata": {},
   "source": [
    "(http://pandas.pydata.org/pandas-docs/stable/groupby.html)"
   ]
  },
  {
   "cell_type": "markdown",
   "metadata": {},
   "source": [
    "> What is the mean price of houses by number of bedrooms?"
   ]
  },
  {
   "cell_type": "code",
   "execution_count": null,
   "metadata": {
    "collapsed": true
   },
   "outputs": [],
   "source": [
    "df = pd.read_csv()"
   ]
  },
  {
   "cell_type": "code",
   "execution_count": null,
   "metadata": {
    "collapsed": true
   },
   "outputs": [],
   "source": [
    "df[ ['Beds', 'SalePrice'] ].groupby('Beds').mean()"
   ]
  },
  {
   "cell_type": "markdown",
   "metadata": {},
   "source": [
    "### `.map()`"
   ]
  },
  {
   "cell_type": "markdown",
   "metadata": {},
   "source": [
    "(http://pandas.pydata.org/pandas-docs/stable/generated/pandas.Series.map.html)"
   ]
  },
  {
   "cell_type": "markdown",
   "metadata": {},
   "source": [
    "When converting `SalePrice`, `Size`, and `LotSize` into `$M` and sqft, we could also have done the following:"
   ]
  },
  {
   "cell_type": "code",
   "execution_count": null,
   "metadata": {
    "collapsed": true
   },
   "outputs": [],
   "source": [
    "df = pd.read_csv(os.path.join('..', 'datasets', 'dataset-02-zillow-starter.csv'))"
   ]
  },
  {
   "cell_type": "code",
   "execution_count": null,
   "metadata": {
    "collapsed": true
   },
   "outputs": [],
   "source": [
    "df.SalePriceUnit.unique()"
   ]
  },
  {
   "cell_type": "code",
   "execution_count": null,
   "metadata": {
    "collapsed": true
   },
   "outputs": [],
   "source": [
    "df.SalePriceUnit.map({'$': 1. / (10 ** 6), '$M': 1.})"
   ]
  },
  {
   "cell_type": "code",
   "execution_count": null,
   "metadata": {
    "collapsed": true
   },
   "outputs": [],
   "source": [
    "df.SalePrice *= df.SalePriceUnit.map({'$': 1. / (10 ** 6), '$M': 1.})"
   ]
  },
  {
   "cell_type": "code",
   "execution_count": null,
   "metadata": {
    "collapsed": true
   },
   "outputs": [],
   "source": [
    "df.SalePrice"
   ]
  },
  {
   "cell_type": "code",
   "execution_count": null,
   "metadata": {
    "collapsed": true
   },
   "outputs": [],
   "source": [
    "df.drop('SalePriceUnit', axis = 1, inplace = True)"
   ]
  },
  {
   "cell_type": "markdown",
   "metadata": {},
   "source": [
    "> ### Activity:  Using `.map()`, convert `Size` and `LotSize` to sqft."
   ]
  },
  {
   "cell_type": "code",
   "execution_count": null,
   "metadata": {
    "collapsed": true
   },
   "outputs": [],
   "source": [
    "# TODO"
   ]
  },
  {
   "cell_type": "markdown",
   "metadata": {},
   "source": [
    "### `.to_datetime()`"
   ]
  },
  {
   "cell_type": "markdown",
   "metadata": {},
   "source": [
    "(http://pandas.pydata.org/pandas-docs/stable/generated/pandas.to_datetime.html)"
   ]
  },
  {
   "cell_type": "code",
   "execution_count": null,
   "metadata": {
    "collapsed": true
   },
   "outputs": [],
   "source": [
    "df.DateOfSale"
   ]
  },
  {
   "cell_type": "markdown",
   "metadata": {},
   "source": [
    "So far, the dates stored in the `DataFrame` are just strings.  We cannot easily extract the day, month, year.  Thanksfully, `pandas` provides some facilities to do so."
   ]
  },
  {
   "cell_type": "code",
   "execution_count": null,
   "metadata": {
    "collapsed": true
   },
   "outputs": [],
   "source": [
    "pd.to_datetime(df.DateOfSale)"
   ]
  },
  {
   "cell_type": "code",
   "execution_count": null,
   "metadata": {
    "collapsed": true
   },
   "outputs": [],
   "source": [
    "df.DateOfSale = pd.to_datetime(df.DateOfSale)"
   ]
  },
  {
   "cell_type": "markdown",
   "metadata": {},
   "source": [
    "### `.apply()`"
   ]
  },
  {
   "cell_type": "markdown",
   "metadata": {},
   "source": [
    "(http://pandas.pydata.org/pandas-docs/stable/generated/pandas.Series.apply.html)"
   ]
  },
  {
   "cell_type": "code",
   "execution_count": null,
   "metadata": {
    "collapsed": true
   },
   "outputs": [],
   "source": [
    "df.DateOfSale.apply(lambda date_of_sale: date_of_sale.year)"
   ]
  },
  {
   "cell_type": "code",
   "execution_count": null,
   "metadata": {
    "collapsed": true
   },
   "outputs": [],
   "source": [
    "df['YearOfSale'] = df.DateOfSale.apply(lambda date_of_sale: date_of_sale.year)\n",
    "df['MonthOfSale'] = df.DateOfSale.apply(lambda date_of_sale: date_of_sale.month)\n",
    "df['DayOfSale'] = df.DateOfSale.apply(lambda date_of_sale: date_of_sale.day)\n",
    "df['WeekDayOfSale'] = df.DateOfSale.apply(lambda date_of_sale: date_of_sale.weekday_name)\n",
    "\n",
    "df.drop('DateOfSale', axis = 1, inplace = True)"
   ]
  },
  {
   "cell_type": "markdown",
   "metadata": {},
   "source": [
    "Now, we have the day, day of the week, month, and year of the sale as features in our dataset."
   ]
  },
  {
   "cell_type": "code",
   "execution_count": null,
   "metadata": {
    "collapsed": true
   },
   "outputs": [],
   "source": [
    "df"
   ]
  }
 ],
 "metadata": {
  "kernelspec": {
   "display_name": "Python 2",
   "language": "python",
   "name": "python2"
  },
  "language_info": {
   "codemirror_mode": {
    "name": "ipython",
    "version": 2
   },
   "file_extension": ".py",
   "mimetype": "text/x-python",
   "name": "python",
   "nbconvert_exporter": "python",
   "pygments_lexer": "ipython2",
   "version": "2.7.14"
  }
 },
 "nbformat": 4,
 "nbformat_minor": 1
}
