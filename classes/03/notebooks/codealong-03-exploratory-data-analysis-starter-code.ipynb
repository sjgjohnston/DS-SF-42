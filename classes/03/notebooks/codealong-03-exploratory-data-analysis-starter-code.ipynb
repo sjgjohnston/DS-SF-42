{
 "cells": [
  {
   "cell_type": "markdown",
   "metadata": {},
   "source": [
    "# DS-SF-42 | 03 | Exploratory Data Analysis | Codealong | Starter Code"
   ]
  },
  {
   "cell_type": "markdown",
   "metadata": {},
   "source": [
    "In this code-along we will need the seaborn plotting package. Seaborn is built-around matplotlib to make some functionality much more user friendly.\n",
    "\n",
    "To install a package, open terminal (or git-bash for Windows users).\n",
    "\n",
    "Run:\n",
    "\n",
    "```bash\n",
    "conda install -y seaborn\n",
    "```\n",
    "\n",
    "Conda is a package manager, similar to `pip`."
   ]
  },
  {
   "cell_type": "code",
   "execution_count": 8,
   "metadata": {},
   "outputs": [],
   "source": [
    "import os\n",
    "import math\n",
    "import numpy as np\n",
    "import pandas as pd\n",
    "import seaborn as sns\n",
    "import matplotlib.pyplot as plt\n",
    "%matplotlib inline\n",
    "plt.style.use('ggplot')"
   ]
  },
  {
   "cell_type": "markdown",
   "metadata": {},
   "source": [
    "## Part A | Independent Review (20 minutes) | The _pandas_ Library"
   ]
  },
  {
   "cell_type": "code",
   "execution_count": 76,
   "metadata": {},
   "outputs": [],
   "source": [
    "df = pd.DataFrame({'name': ['Alice', 'Bob', 'Carol', 'Dave', 'Eve', 'Frank'],\n",
    "    'gender': ['Female', 'Male', 'Female', 'Male', 'Female', 'Male'],\n",
    "    'age': [24, 34, 44, 41, 52, 43],\n",
    "    'marital_status': [0, 2, 1, 2, 0, 1]}).\\\n",
    "        set_index('name')"
   ]
  },
  {
   "cell_type": "code",
   "execution_count": 10,
   "metadata": {},
   "outputs": [
    {
     "data": {
      "text/html": [
       "<div>\n",
       "<style>\n",
       "    .dataframe thead tr:only-child th {\n",
       "        text-align: right;\n",
       "    }\n",
       "\n",
       "    .dataframe thead th {\n",
       "        text-align: left;\n",
       "    }\n",
       "\n",
       "    .dataframe tbody tr th {\n",
       "        vertical-align: top;\n",
       "    }\n",
       "</style>\n",
       "<table border=\"1\" class=\"dataframe\">\n",
       "  <thead>\n",
       "    <tr style=\"text-align: right;\">\n",
       "      <th></th>\n",
       "      <th>age</th>\n",
       "      <th>gender</th>\n",
       "      <th>marital_status</th>\n",
       "    </tr>\n",
       "    <tr>\n",
       "      <th>name</th>\n",
       "      <th></th>\n",
       "      <th></th>\n",
       "      <th></th>\n",
       "    </tr>\n",
       "  </thead>\n",
       "  <tbody>\n",
       "    <tr>\n",
       "      <th>Alice</th>\n",
       "      <td>24</td>\n",
       "      <td>Female</td>\n",
       "      <td>0</td>\n",
       "    </tr>\n",
       "    <tr>\n",
       "      <th>Bob</th>\n",
       "      <td>34</td>\n",
       "      <td>Male</td>\n",
       "      <td>2</td>\n",
       "    </tr>\n",
       "    <tr>\n",
       "      <th>Carol</th>\n",
       "      <td>44</td>\n",
       "      <td>Female</td>\n",
       "      <td>1</td>\n",
       "    </tr>\n",
       "    <tr>\n",
       "      <th>Dave</th>\n",
       "      <td>41</td>\n",
       "      <td>Male</td>\n",
       "      <td>2</td>\n",
       "    </tr>\n",
       "    <tr>\n",
       "      <th>Eve</th>\n",
       "      <td>52</td>\n",
       "      <td>Female</td>\n",
       "      <td>0</td>\n",
       "    </tr>\n",
       "    <tr>\n",
       "      <th>Frank</th>\n",
       "      <td>43</td>\n",
       "      <td>Male</td>\n",
       "      <td>1</td>\n",
       "    </tr>\n",
       "  </tbody>\n",
       "</table>\n",
       "</div>"
      ],
      "text/plain": [
       "       age  gender  marital_status\n",
       "name                              \n",
       "Alice   24  Female               0\n",
       "Bob     34    Male               2\n",
       "Carol   44  Female               1\n",
       "Dave    41    Male               2\n",
       "Eve     52  Female               0\n",
       "Frank   43    Male               1"
      ]
     },
     "execution_count": 10,
     "metadata": {},
     "output_type": "execute_result"
    }
   ],
   "source": [
    "df"
   ]
  },
  {
   "cell_type": "markdown",
   "metadata": {},
   "source": [
    "The following exerices that are marked with <font color=\"blue\">(INDPENDENT)</font> are review of the Pandas material from Thursday. Take a stab at doing them on your own. Feel free to use the [inclass notebook](https://github.com/ga-students/DS-SF-42/blob/master/classes/02/notebooks/INCLASS-codealong-02-the-pandas-library-starter-code.ipynb) as a reference.\n",
    "\n",
    "> ### <font color=\"blue\">(INDPENDENT)</font> Question 1.  Subset the dataframe on the age and gender columns"
   ]
  },
  {
   "cell_type": "code",
   "execution_count": 17,
   "metadata": {},
   "outputs": [
    {
     "data": {
      "text/html": [
       "<div>\n",
       "<style>\n",
       "    .dataframe thead tr:only-child th {\n",
       "        text-align: right;\n",
       "    }\n",
       "\n",
       "    .dataframe thead th {\n",
       "        text-align: left;\n",
       "    }\n",
       "\n",
       "    .dataframe tbody tr th {\n",
       "        vertical-align: top;\n",
       "    }\n",
       "</style>\n",
       "<table border=\"1\" class=\"dataframe\">\n",
       "  <thead>\n",
       "    <tr style=\"text-align: right;\">\n",
       "      <th></th>\n",
       "      <th>age</th>\n",
       "      <th>gender</th>\n",
       "    </tr>\n",
       "    <tr>\n",
       "      <th>name</th>\n",
       "      <th></th>\n",
       "      <th></th>\n",
       "    </tr>\n",
       "  </thead>\n",
       "  <tbody>\n",
       "    <tr>\n",
       "      <th>Alice</th>\n",
       "      <td>24</td>\n",
       "      <td>Female</td>\n",
       "    </tr>\n",
       "    <tr>\n",
       "      <th>Bob</th>\n",
       "      <td>34</td>\n",
       "      <td>Male</td>\n",
       "    </tr>\n",
       "    <tr>\n",
       "      <th>Carol</th>\n",
       "      <td>44</td>\n",
       "      <td>Female</td>\n",
       "    </tr>\n",
       "    <tr>\n",
       "      <th>Dave</th>\n",
       "      <td>41</td>\n",
       "      <td>Male</td>\n",
       "    </tr>\n",
       "    <tr>\n",
       "      <th>Eve</th>\n",
       "      <td>52</td>\n",
       "      <td>Female</td>\n",
       "    </tr>\n",
       "    <tr>\n",
       "      <th>Frank</th>\n",
       "      <td>43</td>\n",
       "      <td>Male</td>\n",
       "    </tr>\n",
       "  </tbody>\n",
       "</table>\n",
       "</div>"
      ],
      "text/plain": [
       "       age  gender\n",
       "name              \n",
       "Alice   24  Female\n",
       "Bob     34    Male\n",
       "Carol   44  Female\n",
       "Dave    41    Male\n",
       "Eve     52  Female\n",
       "Frank   43    Male"
      ]
     },
     "execution_count": 17,
     "metadata": {},
     "output_type": "execute_result"
    }
   ],
   "source": [
    "# TODO\n",
    "df[['age','gender']]\n",
    "\n",
    "#type(df[['age','gender']])"
   ]
  },
  {
   "cell_type": "markdown",
   "metadata": {},
   "source": [
    "> ### <font color=\"blue\">(INDPENDENT)</font> Question 2.  Subset the dataframe on the age column alone, first as a `DataFrame`, then as a `Series`"
   ]
  },
  {
   "cell_type": "code",
   "execution_count": 62,
   "metadata": {
    "scrolled": true
   },
   "outputs": [
    {
     "data": {
      "text/plain": [
       "pandas.core.frame.DataFrame"
      ]
     },
     "execution_count": 62,
     "metadata": {},
     "output_type": "execute_result"
    }
   ],
   "source": [
    "# TODO (DataFrame)\n",
    "df_age_only = df[['age']]\n",
    "#df.loc[:, ['age']]\n",
    "#df_age_only\n",
    "type(df_age_only)"
   ]
  },
  {
   "cell_type": "code",
   "execution_count": 33,
   "metadata": {},
   "outputs": [
    {
     "data": {
      "text/plain": [
       "pandas.core.series.Series"
      ]
     },
     "execution_count": 33,
     "metadata": {},
     "output_type": "execute_result"
    }
   ],
   "source": [
    "# TODO (Series)\n",
    "s_age_only=df['age']\n",
    "s_age_only\n",
    "type(s_age_only)"
   ]
  },
  {
   "cell_type": "markdown",
   "metadata": {},
   "source": [
    "> ### <font color=\"blue\">(INDPENDENT)</font> Question 3.  Subset the dataframe on the rows Bob and Carol"
   ]
  },
  {
   "cell_type": "code",
   "execution_count": 35,
   "metadata": {},
   "outputs": [
    {
     "data": {
      "text/html": [
       "<div>\n",
       "<style>\n",
       "    .dataframe thead tr:only-child th {\n",
       "        text-align: right;\n",
       "    }\n",
       "\n",
       "    .dataframe thead th {\n",
       "        text-align: left;\n",
       "    }\n",
       "\n",
       "    .dataframe tbody tr th {\n",
       "        vertical-align: top;\n",
       "    }\n",
       "</style>\n",
       "<table border=\"1\" class=\"dataframe\">\n",
       "  <thead>\n",
       "    <tr style=\"text-align: right;\">\n",
       "      <th></th>\n",
       "      <th>age</th>\n",
       "      <th>gender</th>\n",
       "      <th>marital_status</th>\n",
       "    </tr>\n",
       "    <tr>\n",
       "      <th>name</th>\n",
       "      <th></th>\n",
       "      <th></th>\n",
       "      <th></th>\n",
       "    </tr>\n",
       "  </thead>\n",
       "  <tbody>\n",
       "    <tr>\n",
       "      <th>Bob</th>\n",
       "      <td>34</td>\n",
       "      <td>Male</td>\n",
       "      <td>2</td>\n",
       "    </tr>\n",
       "    <tr>\n",
       "      <th>Carol</th>\n",
       "      <td>44</td>\n",
       "      <td>Female</td>\n",
       "      <td>1</td>\n",
       "    </tr>\n",
       "  </tbody>\n",
       "</table>\n",
       "</div>"
      ],
      "text/plain": [
       "       age  gender  marital_status\n",
       "name                              \n",
       "Bob     34    Male               2\n",
       "Carol   44  Female               1"
      ]
     },
     "execution_count": 35,
     "metadata": {},
     "output_type": "execute_result"
    }
   ],
   "source": [
    "# TODO\n",
    "df.loc[['Bob', 'Carol'], : ]"
   ]
  },
  {
   "cell_type": "markdown",
   "metadata": {},
   "source": [
    "> ### <font color=\"blue\">(INDPENDENT)</font> Question 4.  Subset the dataframe on the row Eve alone, first as a `DataFrame`, then as a `Series`"
   ]
  },
  {
   "cell_type": "code",
   "execution_count": 49,
   "metadata": {},
   "outputs": [
    {
     "data": {
      "text/html": [
       "<div>\n",
       "<style>\n",
       "    .dataframe thead tr:only-child th {\n",
       "        text-align: right;\n",
       "    }\n",
       "\n",
       "    .dataframe thead th {\n",
       "        text-align: left;\n",
       "    }\n",
       "\n",
       "    .dataframe tbody tr th {\n",
       "        vertical-align: top;\n",
       "    }\n",
       "</style>\n",
       "<table border=\"1\" class=\"dataframe\">\n",
       "  <thead>\n",
       "    <tr style=\"text-align: right;\">\n",
       "      <th></th>\n",
       "      <th>age</th>\n",
       "      <th>gender</th>\n",
       "      <th>marital_status</th>\n",
       "    </tr>\n",
       "    <tr>\n",
       "      <th>name</th>\n",
       "      <th></th>\n",
       "      <th></th>\n",
       "      <th></th>\n",
       "    </tr>\n",
       "  </thead>\n",
       "  <tbody>\n",
       "    <tr>\n",
       "      <th>Eve</th>\n",
       "      <td>52</td>\n",
       "      <td>Female</td>\n",
       "      <td>0</td>\n",
       "    </tr>\n",
       "  </tbody>\n",
       "</table>\n",
       "</div>"
      ],
      "text/plain": [
       "      age  gender  marital_status\n",
       "name                             \n",
       "Eve    52  Female               0"
      ]
     },
     "execution_count": 49,
     "metadata": {},
     "output_type": "execute_result"
    }
   ],
   "source": [
    "# TODO (DataFrame)\n",
    "df_eve_only = df.loc[['Eve'], : ]\n",
    "#df_eve_only\n",
    "type(df_eve_only)"
   ]
  },
  {
   "cell_type": "code",
   "execution_count": 51,
   "metadata": {},
   "outputs": [
    {
     "data": {
      "text/plain": [
       "pandas.core.series.Series"
      ]
     },
     "execution_count": 51,
     "metadata": {},
     "output_type": "execute_result"
    }
   ],
   "source": [
    "# TODO (Series)\n",
    "s_eve_only = df.loc['Eve', : ]\n",
    "#s_eve_only\n",
    "type(s_eve_only)"
   ]
  },
  {
   "cell_type": "markdown",
   "metadata": {},
   "source": [
    "> ### <font color=\"blue\">(INDPENDENT)</font> Question 5.  How old is Frank?"
   ]
  },
  {
   "cell_type": "code",
   "execution_count": 78,
   "metadata": {},
   "outputs": [
    {
     "data": {
      "text/plain": [
       "43"
      ]
     },
     "execution_count": 78,
     "metadata": {},
     "output_type": "execute_result"
    }
   ],
   "source": [
    "# TODO\n",
    "#df.loc['Frank', ['age'] ]\n",
    "df.loc[ \"Frank\", \"age\" ]"
   ]
  },
  {
   "cell_type": "markdown",
   "metadata": {},
   "source": [
    "> ### <font color=\"blue\">(INDPENDENT)</font> Question 6.  What is the men’s mean age, the women’s median age?"
   ]
  },
  {
   "cell_type": "code",
   "execution_count": 80,
   "metadata": {},
   "outputs": [
    {
     "data": {
      "text/plain": [
       "39.333333333333336"
      ]
     },
     "execution_count": 80,
     "metadata": {},
     "output_type": "execute_result"
    }
   ],
   "source": [
    "# TODO\n",
    "df_men_only = df.loc[df['gender'] == 'Male']\n",
    "df_men_only[['age']].mean()\n",
    "#df.loc[df[\"gender\"] == \"Male\", \"age\"].mean()\n",
    "\n",
    "#df_women_only = df.loc[df['gender'] == 'Female']\n",
    "#df_women_only[['age']].mean()"
   ]
  },
  {
   "cell_type": "markdown",
   "metadata": {},
   "source": [
    "## Part B"
   ]
  },
  {
   "cell_type": "markdown",
   "metadata": {},
   "source": [
    "- `.mean()`\n",
    "  - (http://pandas.pydata.org/pandas-docs/stable/generated/pandas.DataFrame.mean.html)\n",
    "  - (http://pandas.pydata.org/pandas-docs/stable/generated/pandas.Series.mean.html)\n",
    "- `.var()`, `.std()`\n",
    "  - (http://pandas.pydata.org/pandas-docs/stable/generated/pandas.DataFrame.var.html)\n",
    "  - (http://pandas.pydata.org/pandas-docs/stable/generated/pandas.Series.var.html)\n",
    "  - (http://pandas.pydata.org/pandas-docs/stable/generated/pandas.DataFrame.std.html)\n",
    "  - (http://pandas.pydata.org/pandas-docs/stable/generated/pandas.Series.std.html)"
   ]
  },
  {
   "cell_type": "code",
   "execution_count": 81,
   "metadata": {},
   "outputs": [
    {
     "data": {
      "text/html": [
       "<div>\n",
       "<style>\n",
       "    .dataframe thead tr:only-child th {\n",
       "        text-align: right;\n",
       "    }\n",
       "\n",
       "    .dataframe thead th {\n",
       "        text-align: left;\n",
       "    }\n",
       "\n",
       "    .dataframe tbody tr th {\n",
       "        vertical-align: top;\n",
       "    }\n",
       "</style>\n",
       "<table border=\"1\" class=\"dataframe\">\n",
       "  <thead>\n",
       "    <tr style=\"text-align: right;\">\n",
       "      <th></th>\n",
       "      <th>Address</th>\n",
       "      <th>DateOfSale</th>\n",
       "      <th>SalePrice</th>\n",
       "      <th>IsAStudio</th>\n",
       "      <th>Beds</th>\n",
       "      <th>Baths</th>\n",
       "      <th>Size</th>\n",
       "      <th>LotSize</th>\n",
       "      <th>BuiltInYear</th>\n",
       "    </tr>\n",
       "    <tr>\n",
       "      <th>ID</th>\n",
       "      <th></th>\n",
       "      <th></th>\n",
       "      <th></th>\n",
       "      <th></th>\n",
       "      <th></th>\n",
       "      <th></th>\n",
       "      <th></th>\n",
       "      <th></th>\n",
       "      <th></th>\n",
       "    </tr>\n",
       "  </thead>\n",
       "  <tbody>\n",
       "    <tr>\n",
       "      <th>15063471</th>\n",
       "      <td>55 Vandewater St APT 9, San Francisco, CA</td>\n",
       "      <td>12/4/15</td>\n",
       "      <td>0.7100</td>\n",
       "      <td>0.0</td>\n",
       "      <td>1.0</td>\n",
       "      <td>NaN</td>\n",
       "      <td>550.0</td>\n",
       "      <td>NaN</td>\n",
       "      <td>1980.0</td>\n",
       "    </tr>\n",
       "    <tr>\n",
       "      <th>15063505</th>\n",
       "      <td>740 Francisco St, San Francisco, CA</td>\n",
       "      <td>11/30/15</td>\n",
       "      <td>2.1500</td>\n",
       "      <td>0.0</td>\n",
       "      <td>NaN</td>\n",
       "      <td>2.0</td>\n",
       "      <td>1430.0</td>\n",
       "      <td>2435.0</td>\n",
       "      <td>1948.0</td>\n",
       "    </tr>\n",
       "    <tr>\n",
       "      <th>15063609</th>\n",
       "      <td>819 Francisco St, San Francisco, CA</td>\n",
       "      <td>11/12/15</td>\n",
       "      <td>5.6000</td>\n",
       "      <td>0.0</td>\n",
       "      <td>2.0</td>\n",
       "      <td>3.5</td>\n",
       "      <td>2040.0</td>\n",
       "      <td>3920.0</td>\n",
       "      <td>1976.0</td>\n",
       "    </tr>\n",
       "    <tr>\n",
       "      <th>15064044</th>\n",
       "      <td>199 Chestnut St APT 5, San Francisco, CA</td>\n",
       "      <td>12/11/15</td>\n",
       "      <td>1.5000</td>\n",
       "      <td>0.0</td>\n",
       "      <td>1.0</td>\n",
       "      <td>1.0</td>\n",
       "      <td>1060.0</td>\n",
       "      <td>NaN</td>\n",
       "      <td>1930.0</td>\n",
       "    </tr>\n",
       "    <tr>\n",
       "      <th>15064257</th>\n",
       "      <td>111 Chestnut St APT 403, San Francisco, CA</td>\n",
       "      <td>1/15/16</td>\n",
       "      <td>0.9700</td>\n",
       "      <td>0.0</td>\n",
       "      <td>2.0</td>\n",
       "      <td>2.0</td>\n",
       "      <td>1299.0</td>\n",
       "      <td>NaN</td>\n",
       "      <td>1993.0</td>\n",
       "    </tr>\n",
       "    <tr>\n",
       "      <th>15064295</th>\n",
       "      <td>111 Chestnut St APT 702, San Francisco, CA</td>\n",
       "      <td>12/17/15</td>\n",
       "      <td>0.9400</td>\n",
       "      <td>0.0</td>\n",
       "      <td>2.0</td>\n",
       "      <td>2.0</td>\n",
       "      <td>1033.0</td>\n",
       "      <td>NaN</td>\n",
       "      <td>1993.0</td>\n",
       "    </tr>\n",
       "    <tr>\n",
       "      <th>15064391</th>\n",
       "      <td>1821 Grant Ave APT 101, San Francisco, CA</td>\n",
       "      <td>12/15/15</td>\n",
       "      <td>0.8350</td>\n",
       "      <td>0.0</td>\n",
       "      <td>1.0</td>\n",
       "      <td>1.0</td>\n",
       "      <td>1048.0</td>\n",
       "      <td>NaN</td>\n",
       "      <td>1975.0</td>\n",
       "    </tr>\n",
       "    <tr>\n",
       "      <th>15064536</th>\n",
       "      <td>2300 Leavenworth St, San Francisco, CA</td>\n",
       "      <td>12/4/15</td>\n",
       "      <td>2.8300</td>\n",
       "      <td>0.0</td>\n",
       "      <td>3.0</td>\n",
       "      <td>2.0</td>\n",
       "      <td>2115.0</td>\n",
       "      <td>1271.0</td>\n",
       "      <td>1913.0</td>\n",
       "    </tr>\n",
       "    <tr>\n",
       "      <th>15064640</th>\n",
       "      <td>1047-1049 Lombard St, San Francisco, CA</td>\n",
       "      <td>1/14/16</td>\n",
       "      <td>4.0500</td>\n",
       "      <td>1.0</td>\n",
       "      <td>NaN</td>\n",
       "      <td>NaN</td>\n",
       "      <td>4102.0</td>\n",
       "      <td>3049.0</td>\n",
       "      <td>1948.0</td>\n",
       "    </tr>\n",
       "    <tr>\n",
       "      <th>15064669</th>\n",
       "      <td>1055 Lombard St # C, San Francisco, CA</td>\n",
       "      <td>12/31/15</td>\n",
       "      <td>2.1900</td>\n",
       "      <td>0.0</td>\n",
       "      <td>2.0</td>\n",
       "      <td>3.0</td>\n",
       "      <td>1182.0</td>\n",
       "      <td>NaN</td>\n",
       "      <td>1986.0</td>\n",
       "    </tr>\n",
       "    <tr>\n",
       "      <th>15065032</th>\n",
       "      <td>101 Lombard St APT 116E, San Francisco, CA</td>\n",
       "      <td>12/7/15</td>\n",
       "      <td>0.8000</td>\n",
       "      <td>0.0</td>\n",
       "      <td>1.0</td>\n",
       "      <td>1.0</td>\n",
       "      <td>1000.0</td>\n",
       "      <td>NaN</td>\n",
       "      <td>1983.0</td>\n",
       "    </tr>\n",
       "    <tr>\n",
       "      <th>15065140</th>\n",
       "      <td>1407 Montgomery St APT 2, San Francisco, CA</td>\n",
       "      <td>1/28/16</td>\n",
       "      <td>0.9760</td>\n",
       "      <td>0.0</td>\n",
       "      <td>1.0</td>\n",
       "      <td>1.0</td>\n",
       "      <td>1000.0</td>\n",
       "      <td>NaN</td>\n",
       "      <td>1870.0</td>\n",
       "    </tr>\n",
       "    <tr>\n",
       "      <th>15065727</th>\n",
       "      <td>1360 Montgomery St APT 1, San Francisco, CA</td>\n",
       "      <td>11/16/15</td>\n",
       "      <td>0.7200</td>\n",
       "      <td>0.0</td>\n",
       "      <td>1.0</td>\n",
       "      <td>1.0</td>\n",
       "      <td>552.0</td>\n",
       "      <td>NaN</td>\n",
       "      <td>1937.0</td>\n",
       "    </tr>\n",
       "    <tr>\n",
       "      <th>15065810</th>\n",
       "      <td>1327-1329 Kearny St, San Francisco, CA</td>\n",
       "      <td>11/25/15</td>\n",
       "      <td>2.2500</td>\n",
       "      <td>0.0</td>\n",
       "      <td>NaN</td>\n",
       "      <td>4.0</td>\n",
       "      <td>2658.0</td>\n",
       "      <td>1600.0</td>\n",
       "      <td>1906.0</td>\n",
       "    </tr>\n",
       "    <tr>\n",
       "      <th>15065946</th>\n",
       "      <td>44 Macondray Ln APT 2E, San Francisco, CA</td>\n",
       "      <td>11/30/15</td>\n",
       "      <td>1.2900</td>\n",
       "      <td>0.0</td>\n",
       "      <td>2.0</td>\n",
       "      <td>2.0</td>\n",
       "      <td>1165.0</td>\n",
       "      <td>NaN</td>\n",
       "      <td>1980.0</td>\n",
       "    </tr>\n",
       "    <tr>\n",
       "      <th>15066001</th>\n",
       "      <td>1070 Green St APT 201, San Francisco, CA</td>\n",
       "      <td>11/18/15</td>\n",
       "      <td>2.9000</td>\n",
       "      <td>0.0</td>\n",
       "      <td>2.0</td>\n",
       "      <td>2.0</td>\n",
       "      <td>1465.0</td>\n",
       "      <td>NaN</td>\n",
       "      <td>1963.0</td>\n",
       "    </tr>\n",
       "    <tr>\n",
       "      <th>15066036</th>\n",
       "      <td>1070 Green St APT 1402, San Francisco, CA</td>\n",
       "      <td>12/31/15</td>\n",
       "      <td>2.6000</td>\n",
       "      <td>0.0</td>\n",
       "      <td>3.0</td>\n",
       "      <td>2.5</td>\n",
       "      <td>2017.0</td>\n",
       "      <td>NaN</td>\n",
       "      <td>1963.0</td>\n",
       "    </tr>\n",
       "    <tr>\n",
       "      <th>15066085</th>\n",
       "      <td>1907 Leavenworth St APT 8, San Francisco, CA</td>\n",
       "      <td>11/12/15</td>\n",
       "      <td>0.9080</td>\n",
       "      <td>0.0</td>\n",
       "      <td>2.0</td>\n",
       "      <td>1.0</td>\n",
       "      <td>956.0</td>\n",
       "      <td>NaN</td>\n",
       "      <td>1907.0</td>\n",
       "    </tr>\n",
       "    <tr>\n",
       "      <th>15066201</th>\n",
       "      <td>1101 Green St # 303, San Francisco, CA</td>\n",
       "      <td>11/16/15</td>\n",
       "      <td>1.2100</td>\n",
       "      <td>0.0</td>\n",
       "      <td>2.0</td>\n",
       "      <td>1.0</td>\n",
       "      <td>1003.0</td>\n",
       "      <td>NaN</td>\n",
       "      <td>1930.0</td>\n",
       "    </tr>\n",
       "    <tr>\n",
       "      <th>15066281</th>\n",
       "      <td>1807 Jones St, San Francisco, CA</td>\n",
       "      <td>12/15/15</td>\n",
       "      <td>1.7000</td>\n",
       "      <td>0.0</td>\n",
       "      <td>2.0</td>\n",
       "      <td>2.0</td>\n",
       "      <td>1467.0</td>\n",
       "      <td>3023.0</td>\n",
       "      <td>1922.0</td>\n",
       "    </tr>\n",
       "    <tr>\n",
       "      <th>15066344</th>\n",
       "      <td>999 Green St APT 905, San Francisco, CA</td>\n",
       "      <td>12/10/15</td>\n",
       "      <td>1.2800</td>\n",
       "      <td>0.0</td>\n",
       "      <td>1.0</td>\n",
       "      <td>1.0</td>\n",
       "      <td>986.0</td>\n",
       "      <td>NaN</td>\n",
       "      <td>1964.0</td>\n",
       "    </tr>\n",
       "    <tr>\n",
       "      <th>15066608</th>\n",
       "      <td>455 Vallejo St APT 111, San Francisco, CA</td>\n",
       "      <td>12/16/15</td>\n",
       "      <td>0.8750</td>\n",
       "      <td>0.0</td>\n",
       "      <td>1.0</td>\n",
       "      <td>1.0</td>\n",
       "      <td>825.0</td>\n",
       "      <td>NaN</td>\n",
       "      <td>1973.0</td>\n",
       "    </tr>\n",
       "    <tr>\n",
       "      <th>15066839</th>\n",
       "      <td>1163-1165 Vallejo St, San Francisco, CA</td>\n",
       "      <td>12/1/15</td>\n",
       "      <td>0.3000</td>\n",
       "      <td>0.0</td>\n",
       "      <td>NaN</td>\n",
       "      <td>2.0</td>\n",
       "      <td>2344.0</td>\n",
       "      <td>1376.0</td>\n",
       "      <td>1913.0</td>\n",
       "    </tr>\n",
       "    <tr>\n",
       "      <th>15066959</th>\n",
       "      <td>1300 Pacific Ave, San Francisco, CA</td>\n",
       "      <td>1/14/16</td>\n",
       "      <td>0.4250</td>\n",
       "      <td>1.0</td>\n",
       "      <td>NaN</td>\n",
       "      <td>2.0</td>\n",
       "      <td>989.0</td>\n",
       "      <td>NaN</td>\n",
       "      <td>1910.0</td>\n",
       "    </tr>\n",
       "    <tr>\n",
       "      <th>15067302</th>\n",
       "      <td>948 Jackson St, San Francisco, CA</td>\n",
       "      <td>11/13/15</td>\n",
       "      <td>1.9500</td>\n",
       "      <td>0.0</td>\n",
       "      <td>NaN</td>\n",
       "      <td>4.0</td>\n",
       "      <td>4362.0</td>\n",
       "      <td>1459.0</td>\n",
       "      <td>1908.0</td>\n",
       "    </tr>\n",
       "    <tr>\n",
       "      <th>15067583</th>\n",
       "      <td>946 Stockton St APT 6B, San Francisco, CA</td>\n",
       "      <td>12/18/15</td>\n",
       "      <td>0.7750</td>\n",
       "      <td>0.0</td>\n",
       "      <td>NaN</td>\n",
       "      <td>2.0</td>\n",
       "      <td>710.0</td>\n",
       "      <td>NaN</td>\n",
       "      <td>1970.0</td>\n",
       "    </tr>\n",
       "    <tr>\n",
       "      <th>15067604</th>\n",
       "      <td>946 Stockton St APT 9E, San Francisco, CA</td>\n",
       "      <td>12/2/15</td>\n",
       "      <td>0.7050</td>\n",
       "      <td>0.0</td>\n",
       "      <td>2.0</td>\n",
       "      <td>2.0</td>\n",
       "      <td>744.0</td>\n",
       "      <td>NaN</td>\n",
       "      <td>1970.0</td>\n",
       "    </tr>\n",
       "    <tr>\n",
       "      <th>15067755</th>\n",
       "      <td>1250 Clay St APT 306, San Francisco, CA</td>\n",
       "      <td>1/10/16</td>\n",
       "      <td>0.6950</td>\n",
       "      <td>0.0</td>\n",
       "      <td>1.0</td>\n",
       "      <td>1.0</td>\n",
       "      <td>541.0</td>\n",
       "      <td>NaN</td>\n",
       "      <td>1950.0</td>\n",
       "    </tr>\n",
       "    <tr>\n",
       "      <th>15067890</th>\n",
       "      <td>1250 Jones St APT 503, San Francisco, CA</td>\n",
       "      <td>12/4/15</td>\n",
       "      <td>1.4100</td>\n",
       "      <td>0.0</td>\n",
       "      <td>1.0</td>\n",
       "      <td>1.0</td>\n",
       "      <td>1250.0</td>\n",
       "      <td>NaN</td>\n",
       "      <td>1929.0</td>\n",
       "    </tr>\n",
       "    <tr>\n",
       "      <th>15067896</th>\n",
       "      <td>1250 Jones St APT 802, San Francisco, CA</td>\n",
       "      <td>12/15/15</td>\n",
       "      <td>1.6800</td>\n",
       "      <td>0.0</td>\n",
       "      <td>1.0</td>\n",
       "      <td>1.0</td>\n",
       "      <td>1115.0</td>\n",
       "      <td>NaN</td>\n",
       "      <td>1929.0</td>\n",
       "    </tr>\n",
       "    <tr>\n",
       "      <th>...</th>\n",
       "      <td>...</td>\n",
       "      <td>...</td>\n",
       "      <td>...</td>\n",
       "      <td>...</td>\n",
       "      <td>...</td>\n",
       "      <td>...</td>\n",
       "      <td>...</td>\n",
       "      <td>...</td>\n",
       "      <td>...</td>\n",
       "    </tr>\n",
       "    <tr>\n",
       "      <th>2100992607</th>\n",
       "      <td>2137 Pine St, San Francisco, CA</td>\n",
       "      <td>1/15/16</td>\n",
       "      <td>1.5500</td>\n",
       "      <td>0.0</td>\n",
       "      <td>4.0</td>\n",
       "      <td>2.5</td>\n",
       "      <td>1632.0</td>\n",
       "      <td>NaN</td>\n",
       "      <td>NaN</td>\n",
       "    </tr>\n",
       "    <tr>\n",
       "      <th>2100994004</th>\n",
       "      <td>409 Miguel St, San Francisco, CA</td>\n",
       "      <td>12/9/15</td>\n",
       "      <td>0.5100</td>\n",
       "      <td>0.0</td>\n",
       "      <td>1.0</td>\n",
       "      <td>1.0</td>\n",
       "      <td>400.0</td>\n",
       "      <td>NaN</td>\n",
       "      <td>NaN</td>\n",
       "    </tr>\n",
       "    <tr>\n",
       "      <th>2101028916</th>\n",
       "      <td>251 Missouri St, San Francisco, CA</td>\n",
       "      <td>12/17/15</td>\n",
       "      <td>2.4500</td>\n",
       "      <td>0.0</td>\n",
       "      <td>4.0</td>\n",
       "      <td>3.0</td>\n",
       "      <td>2301.0</td>\n",
       "      <td>NaN</td>\n",
       "      <td>1900.0</td>\n",
       "    </tr>\n",
       "    <tr>\n",
       "      <th>2101094207</th>\n",
       "      <td>1650 Florida St, San Francisco, CA</td>\n",
       "      <td>11/29/15</td>\n",
       "      <td>0.9700</td>\n",
       "      <td>0.0</td>\n",
       "      <td>3.0</td>\n",
       "      <td>1.0</td>\n",
       "      <td>NaN</td>\n",
       "      <td>NaN</td>\n",
       "      <td>1904.0</td>\n",
       "    </tr>\n",
       "    <tr>\n",
       "      <th>2101105851</th>\n",
       "      <td>41 Collingwood St, San Francisco, CA</td>\n",
       "      <td>12/10/15</td>\n",
       "      <td>1.3000</td>\n",
       "      <td>0.0</td>\n",
       "      <td>3.0</td>\n",
       "      <td>1.0</td>\n",
       "      <td>1496.0</td>\n",
       "      <td>NaN</td>\n",
       "      <td>1908.0</td>\n",
       "    </tr>\n",
       "    <tr>\n",
       "      <th>2101116542</th>\n",
       "      <td>2753 Bryant St, San Francisco, CA</td>\n",
       "      <td>1/14/16</td>\n",
       "      <td>1.7000</td>\n",
       "      <td>0.0</td>\n",
       "      <td>9.0</td>\n",
       "      <td>3.0</td>\n",
       "      <td>4005.0</td>\n",
       "      <td>NaN</td>\n",
       "      <td>1900.0</td>\n",
       "    </tr>\n",
       "    <tr>\n",
       "      <th>2101147349</th>\n",
       "      <td>244 Precita Ave, San Francisco, CA</td>\n",
       "      <td>11/26/15</td>\n",
       "      <td>0.7850</td>\n",
       "      <td>0.0</td>\n",
       "      <td>1.0</td>\n",
       "      <td>1.0</td>\n",
       "      <td>625.0</td>\n",
       "      <td>NaN</td>\n",
       "      <td>1908.0</td>\n",
       "    </tr>\n",
       "    <tr>\n",
       "      <th>2101153805</th>\n",
       "      <td>6 Rossi Ave, San Francisco, CA</td>\n",
       "      <td>12/2/15</td>\n",
       "      <td>1.1500</td>\n",
       "      <td>0.0</td>\n",
       "      <td>3.0</td>\n",
       "      <td>1.0</td>\n",
       "      <td>1912.0</td>\n",
       "      <td>NaN</td>\n",
       "      <td>1941.0</td>\n",
       "    </tr>\n",
       "    <tr>\n",
       "      <th>2101156735</th>\n",
       "      <td>333 Potrero Ave, San Francisco, CA</td>\n",
       "      <td>1/5/16</td>\n",
       "      <td>1.1400</td>\n",
       "      <td>1.0</td>\n",
       "      <td>NaN</td>\n",
       "      <td>NaN</td>\n",
       "      <td>1776.0</td>\n",
       "      <td>3746.0</td>\n",
       "      <td>1905.0</td>\n",
       "    </tr>\n",
       "    <tr>\n",
       "      <th>2101167573</th>\n",
       "      <td>1340 Union St, San Francisco, CA</td>\n",
       "      <td>1/25/16</td>\n",
       "      <td>1.2500</td>\n",
       "      <td>0.0</td>\n",
       "      <td>2.0</td>\n",
       "      <td>2.0</td>\n",
       "      <td>1108.0</td>\n",
       "      <td>NaN</td>\n",
       "      <td>1951.0</td>\n",
       "    </tr>\n",
       "    <tr>\n",
       "      <th>2101169168</th>\n",
       "      <td>688 Douglass St, San Francisco, CA</td>\n",
       "      <td>11/10/15</td>\n",
       "      <td>3.1500</td>\n",
       "      <td>1.0</td>\n",
       "      <td>NaN</td>\n",
       "      <td>NaN</td>\n",
       "      <td>3500.0</td>\n",
       "      <td>2495.0</td>\n",
       "      <td>1908.0</td>\n",
       "    </tr>\n",
       "    <tr>\n",
       "      <th>2101175813</th>\n",
       "      <td>414 Linden St, San Francisco, CA</td>\n",
       "      <td>12/13/15</td>\n",
       "      <td>0.8350</td>\n",
       "      <td>0.0</td>\n",
       "      <td>1.0</td>\n",
       "      <td>1.0</td>\n",
       "      <td>NaN</td>\n",
       "      <td>NaN</td>\n",
       "      <td>1909.0</td>\n",
       "    </tr>\n",
       "    <tr>\n",
       "      <th>2101331127</th>\n",
       "      <td>1408 31st Ave APT 303, San Francisco, CA</td>\n",
       "      <td>12/28/15</td>\n",
       "      <td>0.8900</td>\n",
       "      <td>0.0</td>\n",
       "      <td>2.0</td>\n",
       "      <td>2.0</td>\n",
       "      <td>1424.0</td>\n",
       "      <td>NaN</td>\n",
       "      <td>2008.0</td>\n",
       "    </tr>\n",
       "    <tr>\n",
       "      <th>2101505254</th>\n",
       "      <td>333 Beale St, San Francisco, CA</td>\n",
       "      <td>12/3/15</td>\n",
       "      <td>1.4000</td>\n",
       "      <td>0.0</td>\n",
       "      <td>1.0</td>\n",
       "      <td>1.0</td>\n",
       "      <td>950.0</td>\n",
       "      <td>NaN</td>\n",
       "      <td>2015.0</td>\n",
       "    </tr>\n",
       "    <tr>\n",
       "      <th>2101588805</th>\n",
       "      <td>82 Alvarado St, San Francisco, CA</td>\n",
       "      <td>11/19/15</td>\n",
       "      <td>0.7500</td>\n",
       "      <td>0.0</td>\n",
       "      <td>2.0</td>\n",
       "      <td>1.0</td>\n",
       "      <td>NaN</td>\n",
       "      <td>NaN</td>\n",
       "      <td>NaN</td>\n",
       "    </tr>\n",
       "    <tr>\n",
       "      <th>2101807538</th>\n",
       "      <td>2619 Sacramento St, San Francisco, CA</td>\n",
       "      <td>12/2/15</td>\n",
       "      <td>2.9000</td>\n",
       "      <td>1.0</td>\n",
       "      <td>NaN</td>\n",
       "      <td>NaN</td>\n",
       "      <td>NaN</td>\n",
       "      <td>2038.0</td>\n",
       "      <td>1900.0</td>\n",
       "    </tr>\n",
       "    <tr>\n",
       "      <th>2102385068</th>\n",
       "      <td>129 Central Ave, San Francisco, CA</td>\n",
       "      <td>12/1/15</td>\n",
       "      <td>1.8000</td>\n",
       "      <td>0.0</td>\n",
       "      <td>3.0</td>\n",
       "      <td>2.0</td>\n",
       "      <td>NaN</td>\n",
       "      <td>NaN</td>\n",
       "      <td>1905.0</td>\n",
       "    </tr>\n",
       "    <tr>\n",
       "      <th>2102906272</th>\n",
       "      <td>444 Linden St, San Francisco, CA</td>\n",
       "      <td>12/14/15</td>\n",
       "      <td>0.0058</td>\n",
       "      <td>NaN</td>\n",
       "      <td>NaN</td>\n",
       "      <td>NaN</td>\n",
       "      <td>NaN</td>\n",
       "      <td>NaN</td>\n",
       "      <td>NaN</td>\n",
       "    </tr>\n",
       "    <tr>\n",
       "      <th>2106229715</th>\n",
       "      <td>2595 38th Ave, San Francisco, CA</td>\n",
       "      <td>1/19/16</td>\n",
       "      <td>1.2400</td>\n",
       "      <td>0.0</td>\n",
       "      <td>3.0</td>\n",
       "      <td>3.0</td>\n",
       "      <td>2414.0</td>\n",
       "      <td>1306.0</td>\n",
       "      <td>1943.0</td>\n",
       "    </tr>\n",
       "    <tr>\n",
       "      <th>2108411930</th>\n",
       "      <td>3500 19th St, San Francisco, CA</td>\n",
       "      <td>12/29/15</td>\n",
       "      <td>1.7300</td>\n",
       "      <td>0.0</td>\n",
       "      <td>2.0</td>\n",
       "      <td>2.5</td>\n",
       "      <td>1500.0</td>\n",
       "      <td>NaN</td>\n",
       "      <td>2013.0</td>\n",
       "    </tr>\n",
       "    <tr>\n",
       "      <th>2108546010</th>\n",
       "      <td>1738 Lombard St APT 4, San Francisco, CA</td>\n",
       "      <td>1/14/16</td>\n",
       "      <td>1.4000</td>\n",
       "      <td>0.0</td>\n",
       "      <td>2.0</td>\n",
       "      <td>2.0</td>\n",
       "      <td>NaN</td>\n",
       "      <td>NaN</td>\n",
       "      <td>2004.0</td>\n",
       "    </tr>\n",
       "    <tr>\n",
       "      <th>2114498518</th>\n",
       "      <td>201 Sansome St UNIT 501, San Francisco, CA</td>\n",
       "      <td>1/26/16</td>\n",
       "      <td>0.7575</td>\n",
       "      <td>0.0</td>\n",
       "      <td>1.0</td>\n",
       "      <td>1.0</td>\n",
       "      <td>658.0</td>\n",
       "      <td>NaN</td>\n",
       "      <td>1909.0</td>\n",
       "    </tr>\n",
       "    <tr>\n",
       "      <th>2121221385</th>\n",
       "      <td>925 Larkin St, San Francisco, CA</td>\n",
       "      <td>11/30/15</td>\n",
       "      <td>1.4300</td>\n",
       "      <td>0.0</td>\n",
       "      <td>NaN</td>\n",
       "      <td>NaN</td>\n",
       "      <td>6600.0</td>\n",
       "      <td>NaN</td>\n",
       "      <td>1907.0</td>\n",
       "    </tr>\n",
       "    <tr>\n",
       "      <th>2121978635</th>\n",
       "      <td>829 Folsom St UNIT 906, San Francisco, CA</td>\n",
       "      <td>12/6/15</td>\n",
       "      <td>0.6750</td>\n",
       "      <td>0.0</td>\n",
       "      <td>1.0</td>\n",
       "      <td>1.0</td>\n",
       "      <td>557.0</td>\n",
       "      <td>NaN</td>\n",
       "      <td>2010.0</td>\n",
       "    </tr>\n",
       "    <tr>\n",
       "      <th>2122992200</th>\n",
       "      <td>129 Octavia St, San Francisco, CA</td>\n",
       "      <td>11/20/15</td>\n",
       "      <td>2.7500</td>\n",
       "      <td>1.0</td>\n",
       "      <td>NaN</td>\n",
       "      <td>NaN</td>\n",
       "      <td>3655.0</td>\n",
       "      <td>NaN</td>\n",
       "      <td>1883.0</td>\n",
       "    </tr>\n",
       "    <tr>\n",
       "      <th>2124214951</th>\n",
       "      <td>412 Green St APT A, San Francisco, CA</td>\n",
       "      <td>1/15/16</td>\n",
       "      <td>0.3900</td>\n",
       "      <td>1.0</td>\n",
       "      <td>NaN</td>\n",
       "      <td>1.0</td>\n",
       "      <td>264.0</td>\n",
       "      <td>NaN</td>\n",
       "      <td>2012.0</td>\n",
       "    </tr>\n",
       "    <tr>\n",
       "      <th>2126960082</th>\n",
       "      <td>355 1st St UNIT 1905, San Francisco, CA</td>\n",
       "      <td>11/20/15</td>\n",
       "      <td>0.8600</td>\n",
       "      <td>0.0</td>\n",
       "      <td>1.0</td>\n",
       "      <td>1.0</td>\n",
       "      <td>691.0</td>\n",
       "      <td>NaN</td>\n",
       "      <td>2004.0</td>\n",
       "    </tr>\n",
       "    <tr>\n",
       "      <th>2128308939</th>\n",
       "      <td>33 Santa Cruz Ave, San Francisco, CA</td>\n",
       "      <td>12/10/15</td>\n",
       "      <td>0.8300</td>\n",
       "      <td>0.0</td>\n",
       "      <td>3.0</td>\n",
       "      <td>3.0</td>\n",
       "      <td>1738.0</td>\n",
       "      <td>2299.0</td>\n",
       "      <td>1976.0</td>\n",
       "    </tr>\n",
       "    <tr>\n",
       "      <th>2131957929</th>\n",
       "      <td>1821 Grant Ave, San Francisco, CA</td>\n",
       "      <td>12/15/15</td>\n",
       "      <td>0.8350</td>\n",
       "      <td>0.0</td>\n",
       "      <td>2.0</td>\n",
       "      <td>2.0</td>\n",
       "      <td>1048.0</td>\n",
       "      <td>NaN</td>\n",
       "      <td>1975.0</td>\n",
       "    </tr>\n",
       "    <tr>\n",
       "      <th>2136213970</th>\n",
       "      <td>1200 Gough St, San Francisco, CA</td>\n",
       "      <td>1/10/16</td>\n",
       "      <td>0.8250</td>\n",
       "      <td>0.0</td>\n",
       "      <td>1.0</td>\n",
       "      <td>1.0</td>\n",
       "      <td>900.0</td>\n",
       "      <td>NaN</td>\n",
       "      <td>1966.0</td>\n",
       "    </tr>\n",
       "  </tbody>\n",
       "</table>\n",
       "<p>1000 rows × 9 columns</p>\n",
       "</div>"
      ],
      "text/plain": [
       "                                                 Address DateOfSale  \\\n",
       "ID                                                                    \n",
       "15063471       55 Vandewater St APT 9, San Francisco, CA    12/4/15   \n",
       "15063505             740 Francisco St, San Francisco, CA   11/30/15   \n",
       "15063609             819 Francisco St, San Francisco, CA   11/12/15   \n",
       "15064044        199 Chestnut St APT 5, San Francisco, CA   12/11/15   \n",
       "15064257      111 Chestnut St APT 403, San Francisco, CA    1/15/16   \n",
       "15064295      111 Chestnut St APT 702, San Francisco, CA   12/17/15   \n",
       "15064391       1821 Grant Ave APT 101, San Francisco, CA   12/15/15   \n",
       "15064536          2300 Leavenworth St, San Francisco, CA    12/4/15   \n",
       "15064640         1047-1049 Lombard St, San Francisco, CA    1/14/16   \n",
       "15064669          1055 Lombard St # C, San Francisco, CA   12/31/15   \n",
       "15065032      101 Lombard St APT 116E, San Francisco, CA    12/7/15   \n",
       "15065140     1407 Montgomery St APT 2, San Francisco, CA    1/28/16   \n",
       "15065727     1360 Montgomery St APT 1, San Francisco, CA   11/16/15   \n",
       "15065810          1327-1329 Kearny St, San Francisco, CA   11/25/15   \n",
       "15065946       44 Macondray Ln APT 2E, San Francisco, CA   11/30/15   \n",
       "15066001        1070 Green St APT 201, San Francisco, CA   11/18/15   \n",
       "15066036       1070 Green St APT 1402, San Francisco, CA   12/31/15   \n",
       "15066085    1907 Leavenworth St APT 8, San Francisco, CA   11/12/15   \n",
       "15066201          1101 Green St # 303, San Francisco, CA   11/16/15   \n",
       "15066281                1807 Jones St, San Francisco, CA   12/15/15   \n",
       "15066344         999 Green St APT 905, San Francisco, CA   12/10/15   \n",
       "15066608       455 Vallejo St APT 111, San Francisco, CA   12/16/15   \n",
       "15066839         1163-1165 Vallejo St, San Francisco, CA    12/1/15   \n",
       "15066959             1300 Pacific Ave, San Francisco, CA    1/14/16   \n",
       "15067302               948 Jackson St, San Francisco, CA   11/13/15   \n",
       "15067583       946 Stockton St APT 6B, San Francisco, CA   12/18/15   \n",
       "15067604       946 Stockton St APT 9E, San Francisco, CA    12/2/15   \n",
       "15067755         1250 Clay St APT 306, San Francisco, CA    1/10/16   \n",
       "15067890        1250 Jones St APT 503, San Francisco, CA    12/4/15   \n",
       "15067896        1250 Jones St APT 802, San Francisco, CA   12/15/15   \n",
       "...                                                  ...        ...   \n",
       "2100992607               2137 Pine St, San Francisco, CA    1/15/16   \n",
       "2100994004              409 Miguel St, San Francisco, CA    12/9/15   \n",
       "2101028916            251 Missouri St, San Francisco, CA   12/17/15   \n",
       "2101094207            1650 Florida St, San Francisco, CA   11/29/15   \n",
       "2101105851          41 Collingwood St, San Francisco, CA   12/10/15   \n",
       "2101116542             2753 Bryant St, San Francisco, CA    1/14/16   \n",
       "2101147349            244 Precita Ave, San Francisco, CA   11/26/15   \n",
       "2101153805                6 Rossi Ave, San Francisco, CA    12/2/15   \n",
       "2101156735            333 Potrero Ave, San Francisco, CA     1/5/16   \n",
       "2101167573              1340 Union St, San Francisco, CA    1/25/16   \n",
       "2101169168            688 Douglass St, San Francisco, CA   11/10/15   \n",
       "2101175813              414 Linden St, San Francisco, CA   12/13/15   \n",
       "2101331127      1408 31st Ave APT 303, San Francisco, CA   12/28/15   \n",
       "2101505254               333 Beale St, San Francisco, CA    12/3/15   \n",
       "2101588805             82 Alvarado St, San Francisco, CA   11/19/15   \n",
       "2101807538         2619 Sacramento St, San Francisco, CA    12/2/15   \n",
       "2102385068            129 Central Ave, San Francisco, CA    12/1/15   \n",
       "2102906272              444 Linden St, San Francisco, CA   12/14/15   \n",
       "2106229715              2595 38th Ave, San Francisco, CA    1/19/16   \n",
       "2108411930               3500 19th St, San Francisco, CA   12/29/15   \n",
       "2108546010      1738 Lombard St APT 4, San Francisco, CA    1/14/16   \n",
       "2114498518    201 Sansome St UNIT 501, San Francisco, CA    1/26/16   \n",
       "2121221385              925 Larkin St, San Francisco, CA   11/30/15   \n",
       "2121978635     829 Folsom St UNIT 906, San Francisco, CA    12/6/15   \n",
       "2122992200             129 Octavia St, San Francisco, CA   11/20/15   \n",
       "2124214951         412 Green St APT A, San Francisco, CA    1/15/16   \n",
       "2126960082       355 1st St UNIT 1905, San Francisco, CA   11/20/15   \n",
       "2128308939          33 Santa Cruz Ave, San Francisco, CA   12/10/15   \n",
       "2131957929             1821 Grant Ave, San Francisco, CA   12/15/15   \n",
       "2136213970              1200 Gough St, San Francisco, CA    1/10/16   \n",
       "\n",
       "            SalePrice  IsAStudio  Beds  Baths    Size  LotSize  BuiltInYear  \n",
       "ID                                                                           \n",
       "15063471       0.7100        0.0   1.0    NaN   550.0      NaN       1980.0  \n",
       "15063505       2.1500        0.0   NaN    2.0  1430.0   2435.0       1948.0  \n",
       "15063609       5.6000        0.0   2.0    3.5  2040.0   3920.0       1976.0  \n",
       "15064044       1.5000        0.0   1.0    1.0  1060.0      NaN       1930.0  \n",
       "15064257       0.9700        0.0   2.0    2.0  1299.0      NaN       1993.0  \n",
       "15064295       0.9400        0.0   2.0    2.0  1033.0      NaN       1993.0  \n",
       "15064391       0.8350        0.0   1.0    1.0  1048.0      NaN       1975.0  \n",
       "15064536       2.8300        0.0   3.0    2.0  2115.0   1271.0       1913.0  \n",
       "15064640       4.0500        1.0   NaN    NaN  4102.0   3049.0       1948.0  \n",
       "15064669       2.1900        0.0   2.0    3.0  1182.0      NaN       1986.0  \n",
       "15065032       0.8000        0.0   1.0    1.0  1000.0      NaN       1983.0  \n",
       "15065140       0.9760        0.0   1.0    1.0  1000.0      NaN       1870.0  \n",
       "15065727       0.7200        0.0   1.0    1.0   552.0      NaN       1937.0  \n",
       "15065810       2.2500        0.0   NaN    4.0  2658.0   1600.0       1906.0  \n",
       "15065946       1.2900        0.0   2.0    2.0  1165.0      NaN       1980.0  \n",
       "15066001       2.9000        0.0   2.0    2.0  1465.0      NaN       1963.0  \n",
       "15066036       2.6000        0.0   3.0    2.5  2017.0      NaN       1963.0  \n",
       "15066085       0.9080        0.0   2.0    1.0   956.0      NaN       1907.0  \n",
       "15066201       1.2100        0.0   2.0    1.0  1003.0      NaN       1930.0  \n",
       "15066281       1.7000        0.0   2.0    2.0  1467.0   3023.0       1922.0  \n",
       "15066344       1.2800        0.0   1.0    1.0   986.0      NaN       1964.0  \n",
       "15066608       0.8750        0.0   1.0    1.0   825.0      NaN       1973.0  \n",
       "15066839       0.3000        0.0   NaN    2.0  2344.0   1376.0       1913.0  \n",
       "15066959       0.4250        1.0   NaN    2.0   989.0      NaN       1910.0  \n",
       "15067302       1.9500        0.0   NaN    4.0  4362.0   1459.0       1908.0  \n",
       "15067583       0.7750        0.0   NaN    2.0   710.0      NaN       1970.0  \n",
       "15067604       0.7050        0.0   2.0    2.0   744.0      NaN       1970.0  \n",
       "15067755       0.6950        0.0   1.0    1.0   541.0      NaN       1950.0  \n",
       "15067890       1.4100        0.0   1.0    1.0  1250.0      NaN       1929.0  \n",
       "15067896       1.6800        0.0   1.0    1.0  1115.0      NaN       1929.0  \n",
       "...               ...        ...   ...    ...     ...      ...          ...  \n",
       "2100992607     1.5500        0.0   4.0    2.5  1632.0      NaN          NaN  \n",
       "2100994004     0.5100        0.0   1.0    1.0   400.0      NaN          NaN  \n",
       "2101028916     2.4500        0.0   4.0    3.0  2301.0      NaN       1900.0  \n",
       "2101094207     0.9700        0.0   3.0    1.0     NaN      NaN       1904.0  \n",
       "2101105851     1.3000        0.0   3.0    1.0  1496.0      NaN       1908.0  \n",
       "2101116542     1.7000        0.0   9.0    3.0  4005.0      NaN       1900.0  \n",
       "2101147349     0.7850        0.0   1.0    1.0   625.0      NaN       1908.0  \n",
       "2101153805     1.1500        0.0   3.0    1.0  1912.0      NaN       1941.0  \n",
       "2101156735     1.1400        1.0   NaN    NaN  1776.0   3746.0       1905.0  \n",
       "2101167573     1.2500        0.0   2.0    2.0  1108.0      NaN       1951.0  \n",
       "2101169168     3.1500        1.0   NaN    NaN  3500.0   2495.0       1908.0  \n",
       "2101175813     0.8350        0.0   1.0    1.0     NaN      NaN       1909.0  \n",
       "2101331127     0.8900        0.0   2.0    2.0  1424.0      NaN       2008.0  \n",
       "2101505254     1.4000        0.0   1.0    1.0   950.0      NaN       2015.0  \n",
       "2101588805     0.7500        0.0   2.0    1.0     NaN      NaN          NaN  \n",
       "2101807538     2.9000        1.0   NaN    NaN     NaN   2038.0       1900.0  \n",
       "2102385068     1.8000        0.0   3.0    2.0     NaN      NaN       1905.0  \n",
       "2102906272     0.0058        NaN   NaN    NaN     NaN      NaN          NaN  \n",
       "2106229715     1.2400        0.0   3.0    3.0  2414.0   1306.0       1943.0  \n",
       "2108411930     1.7300        0.0   2.0    2.5  1500.0      NaN       2013.0  \n",
       "2108546010     1.4000        0.0   2.0    2.0     NaN      NaN       2004.0  \n",
       "2114498518     0.7575        0.0   1.0    1.0   658.0      NaN       1909.0  \n",
       "2121221385     1.4300        0.0   NaN    NaN  6600.0      NaN       1907.0  \n",
       "2121978635     0.6750        0.0   1.0    1.0   557.0      NaN       2010.0  \n",
       "2122992200     2.7500        1.0   NaN    NaN  3655.0      NaN       1883.0  \n",
       "2124214951     0.3900        1.0   NaN    1.0   264.0      NaN       2012.0  \n",
       "2126960082     0.8600        0.0   1.0    1.0   691.0      NaN       2004.0  \n",
       "2128308939     0.8300        0.0   3.0    3.0  1738.0   2299.0       1976.0  \n",
       "2131957929     0.8350        0.0   2.0    2.0  1048.0      NaN       1975.0  \n",
       "2136213970     0.8250        0.0   1.0    1.0   900.0      NaN       1966.0  \n",
       "\n",
       "[1000 rows x 9 columns]"
      ]
     },
     "execution_count": 81,
     "metadata": {},
     "output_type": "execute_result"
    }
   ],
   "source": [
    "df = pd.read_csv('../datasets/dataset-04-zillow.csv', index_col = 'ID')\n",
    "df"
   ]
  },
  {
   "cell_type": "markdown",
   "metadata": {},
   "source": [
    "### `Series.mean()` - Compute the `Series` mean value"
   ]
  },
  {
   "cell_type": "code",
   "execution_count": 69,
   "metadata": {},
   "outputs": [
    {
     "data": {
      "text/plain": [
       "1.3974229429999998"
      ]
     },
     "execution_count": 69,
     "metadata": {},
     "output_type": "execute_result"
    }
   ],
   "source": [
    "df.SalePrice.mean()"
   ]
  },
  {
   "cell_type": "markdown",
   "metadata": {},
   "source": [
    "> #### Activity: What's `Size`'s mean?"
   ]
  },
  {
   "cell_type": "code",
   "execution_count": 82,
   "metadata": {},
   "outputs": [
    {
     "data": {
      "text/plain": [
       "1641.3009307135471"
      ]
     },
     "execution_count": 82,
     "metadata": {},
     "output_type": "execute_result"
    }
   ],
   "source": [
    "# TODO\n",
    "df.Size.mean()\n",
    "#df[\"Size\"].mean()"
   ]
  },
  {
   "cell_type": "markdown",
   "metadata": {},
   "source": [
    "> #### Activity: What fraction of the properties sold in the dataset are studios?"
   ]
  },
  {
   "cell_type": "code",
   "execution_count": 113,
   "metadata": {},
   "outputs": [
    {
     "data": {
      "text/plain": [
       "29"
      ]
     },
     "execution_count": 113,
     "metadata": {},
     "output_type": "execute_result"
    }
   ],
   "source": [
    "# TODO\n",
    "df_studios_only = df.loc[df['IsAStudio'] == 1.0]\n",
    "len(df_studios_only)\n",
    "\n",
    "#df[\"IsAStudio\"].unique()\n",
    "#print(float(len(df.loc[df[\"IsAStudio\"] == 1])) / len(df))\n",
    "\n"
   ]
  },
  {
   "cell_type": "markdown",
   "metadata": {},
   "source": [
    "### `DataFrame.mean()` - Compute the `DataFrame` mean value"
   ]
  },
  {
   "cell_type": "code",
   "execution_count": 98,
   "metadata": {},
   "outputs": [
    {
     "data": {
      "text/plain": [
       "SalePrice         1.736413\n",
       "IsAStudio         0.169043\n",
       "Beds              1.250891\n",
       "Baths             1.130334\n",
       "Size           1027.016175\n",
       "LotSize        2853.430139\n",
       "BuiltInYear      38.021563\n",
       "dtype: float64"
      ]
     },
     "execution_count": 98,
     "metadata": {},
     "output_type": "execute_result"
    }
   ],
   "source": [
    "# TODO\n",
    "df.mean()"
   ]
  },
  {
   "cell_type": "markdown",
   "metadata": {},
   "source": [
    "### `.var()` - Compute the unbiased variance (normalized by `N-1` by default)"
   ]
  },
  {
   "cell_type": "code",
   "execution_count": 102,
   "metadata": {},
   "outputs": [
    {
     "data": {
      "text/plain": [
       "SalePrice      3.015131e+00\n",
       "IsAStudio      2.857569e-02\n",
       "Beds           1.564729e+00\n",
       "Baths          1.277654e+00\n",
       "Size           1.054762e+06\n",
       "LotSize        8.142064e+06\n",
       "BuiltInYear    1.445639e+03\n",
       "dtype: float64"
      ]
     },
     "execution_count": 102,
     "metadata": {},
     "output_type": "execute_result"
    }
   ],
   "source": [
    "# TODO\n",
    "df.var()"
   ]
  },
  {
   "cell_type": "markdown",
   "metadata": {},
   "source": [
    "> #### Activity: What's the variance for the number of beds in the dataset?"
   ]
  },
  {
   "cell_type": "code",
   "execution_count": 103,
   "metadata": {},
   "outputs": [
    {
     "data": {
      "text/plain": [
       "1.5647293928888621"
      ]
     },
     "execution_count": 103,
     "metadata": {},
     "output_type": "execute_result"
    }
   ],
   "source": [
    "# TODO\n",
    "df.var()[\"Beds\"] # more efficient\n",
    "#df[\"Beds\"].var()"
   ]
  },
  {
   "cell_type": "markdown",
   "metadata": {},
   "source": [
    "### `.std()` - Compute the unbiased standard deviation (normalized by `N-1` by default)"
   ]
  },
  {
   "cell_type": "code",
   "execution_count": null,
   "metadata": {
    "collapsed": true
   },
   "outputs": [],
   "source": [
    "# TODO\n",
    "df.std()"
   ]
  },
  {
   "cell_type": "markdown",
   "metadata": {},
   "source": [
    "> #### Activity: What's the standard deviation for the number of beds in the dataset?"
   ]
  },
  {
   "cell_type": "code",
   "execution_count": 101,
   "metadata": {},
   "outputs": [
    {
     "data": {
      "text/plain": [
       "1.2508914392899417"
      ]
     },
     "execution_count": 101,
     "metadata": {},
     "output_type": "execute_result"
    }
   ],
   "source": [
    "# TODO\n",
    "df.std()[\"Beds\"]  # less efficience since you have to std on all columns then subset to \"Beds\"\n",
    "#df[\"Beds\"].std()"
   ]
  },
  {
   "cell_type": "markdown",
   "metadata": {},
   "source": [
    "## Part C"
   ]
  },
  {
   "cell_type": "markdown",
   "metadata": {},
   "source": [
    "- `.median()`\n",
    "  - (http://pandas.pydata.org/pandas-docs/stable/generated/pandas.DataFrame.median.html)\n",
    "  - (http://pandas.pydata.org/pandas-docs/stable/generated/pandas.Series.median.html)\n",
    "- `.count()`, `.sum()`\n",
    "  - (http://pandas.pydata.org/pandas-docs/stable/generated/pandas.DataFrame.count.html)\n",
    "  - (http://pandas.pydata.org/pandas-docs/stable/generated/pandas.Series.count.html)\n",
    "  - (http://pandas.pydata.org/pandas-docs/stable/generated/pandas.DataFrame.sum.html)\n",
    "  - (http://pandas.pydata.org/pandas-docs/stable/generated/pandas.Series.sum.html)\n",
    "- `.count()`\n",
    "  - (http://pandas.pydata.org/pandas-docs/stable/generated/pandas.DataFrame.dropna.html)\n",
    "- `.min()`, `.max()`\n",
    "  - (http://pandas.pydata.org/pandas-docs/stable/generated/pandas.DataFrame.min.html)\n",
    "  - (http://pandas.pydata.org/pandas-docs/stable/generated/pandas.Series.min.html)\n",
    "  - (http://pandas.pydata.org/pandas-docs/stable/generated/pandas.DataFrame.max.html)\n",
    "  - (http://pandas.pydata.org/pandas-docs/stable/generated/pandas.Series.max.html)\n",
    "- `.quantile()`\n",
    "  - (http://pandas.pydata.org/pandas-docs/stable/generated/pandas.DataFrame.quantile.html)\n",
    "  - (http://pandas.pydata.org/pandas-docs/stable/generated/pandas.Series.quantile.html)\n",
    "- `.describe()`\n",
    "  - (http://pandas.pydata.org/pandas-docs/stable/generated/pandas.DataFrame.describe.html)"
   ]
  },
  {
   "cell_type": "markdown",
   "metadata": {},
   "source": [
    "### `.median()` - Compute the median value"
   ]
  },
  {
   "cell_type": "code",
   "execution_count": 104,
   "metadata": {},
   "outputs": [
    {
     "data": {
      "text/plain": [
       "SalePrice         1.1\n",
       "IsAStudio         0.0\n",
       "Beds              2.0\n",
       "Baths             2.0\n",
       "Size           1350.0\n",
       "LotSize        2622.0\n",
       "BuiltInYear    1939.0\n",
       "dtype: float64"
      ]
     },
     "execution_count": 104,
     "metadata": {},
     "output_type": "execute_result"
    }
   ],
   "source": [
    "# TODO\n",
    "df.median()"
   ]
  },
  {
   "cell_type": "markdown",
   "metadata": {},
   "source": [
    "> #### Activity: What's the median sale price for properties in the dataset?"
   ]
  },
  {
   "cell_type": "code",
   "execution_count": null,
   "metadata": {
    "collapsed": true
   },
   "outputs": [],
   "source": [
    "# TODO"
   ]
  },
  {
   "cell_type": "markdown",
   "metadata": {},
   "source": [
    "### `.count()` - Compute the number of rows/observations without `NaN` and `.sum()` - Compute the sum of the values"
   ]
  },
  {
   "cell_type": "code",
   "execution_count": 105,
   "metadata": {},
   "outputs": [
    {
     "data": {
      "text/plain": [
       "Address        1000\n",
       "DateOfSale     1000\n",
       "SalePrice      1000\n",
       "IsAStudio       986\n",
       "Beds            836\n",
       "Baths           942\n",
       "Size            967\n",
       "LotSize         556\n",
       "BuiltInYear     975\n",
       "dtype: int64"
      ]
     },
     "execution_count": 105,
     "metadata": {},
     "output_type": "execute_result"
    }
   ],
   "source": [
    "df.count()"
   ]
  },
  {
   "cell_type": "code",
   "execution_count": 106,
   "metadata": {},
   "outputs": [
    {
     "data": {
      "text/plain": [
       "986"
      ]
     },
     "execution_count": 106,
     "metadata": {},
     "output_type": "execute_result"
    }
   ],
   "source": [
    "df.IsAStudio.count()"
   ]
  },
  {
   "cell_type": "markdown",
   "metadata": {},
   "source": [
    "Which leaves 14 houses for which we don't know if they are studios or not."
   ]
  },
  {
   "cell_type": "code",
   "execution_count": 107,
   "metadata": {},
   "outputs": [
    {
     "data": {
      "text/plain": [
       "1000"
      ]
     },
     "execution_count": 107,
     "metadata": {},
     "output_type": "execute_result"
    }
   ],
   "source": [
    "df.IsAStudio.dropna().shape[0] + df.IsAStudio.isnull().sum()"
   ]
  },
  {
   "cell_type": "code",
   "execution_count": 108,
   "metadata": {},
   "outputs": [
    {
     "data": {
      "text/plain": [
       "29.0"
      ]
     },
     "execution_count": 108,
     "metadata": {},
     "output_type": "execute_result"
    }
   ],
   "source": [
    "df.IsAStudio.sum()"
   ]
  },
  {
   "cell_type": "markdown",
   "metadata": {},
   "source": [
    "29 properties are studios."
   ]
  },
  {
   "cell_type": "markdown",
   "metadata": {},
   "source": [
    "### `.min()` and `.max()` - Compute the minimum and maximum values"
   ]
  },
  {
   "cell_type": "code",
   "execution_count": 109,
   "metadata": {},
   "outputs": [
    {
     "data": {
      "text/plain": [
       "Address        1 Crescent Way APT 1402, San Francisco, CA\n",
       "DateOfSale                                        1/10/16\n",
       "SalePrice                                           1e-06\n",
       "IsAStudio                                               0\n",
       "Beds                                                    1\n",
       "Baths                                                   1\n",
       "Size                                                  264\n",
       "LotSize                                                44\n",
       "BuiltInYear                                          1870\n",
       "dtype: object"
      ]
     },
     "execution_count": 109,
     "metadata": {},
     "output_type": "execute_result"
    }
   ],
   "source": [
    "df.min()"
   ]
  },
  {
   "cell_type": "code",
   "execution_count": 110,
   "metadata": {},
   "outputs": [
    {
     "data": {
      "text/plain": [
       "Address        San Carlos St, Carmel, CA\n",
       "DateOfSale                        2/9/16\n",
       "SalePrice                           32.7\n",
       "IsAStudio                              1\n",
       "Beds                                   9\n",
       "Baths                                 14\n",
       "Size                               11500\n",
       "LotSize                            47916\n",
       "BuiltInYear                         2015\n",
       "dtype: object"
      ]
     },
     "execution_count": 110,
     "metadata": {},
     "output_type": "execute_result"
    }
   ],
   "source": [
    "df.max()"
   ]
  },
  {
   "cell_type": "markdown",
   "metadata": {},
   "source": [
    "> #### <font color=\"blue\">(INDPENDENT)</font> Activity: What are properties that were sold at the lowest price?  At what price?"
   ]
  },
  {
   "cell_type": "code",
   "execution_count": 120,
   "metadata": {},
   "outputs": [
    {
     "data": {
      "text/html": [
       "<div>\n",
       "<style>\n",
       "    .dataframe thead tr:only-child th {\n",
       "        text-align: right;\n",
       "    }\n",
       "\n",
       "    .dataframe thead th {\n",
       "        text-align: left;\n",
       "    }\n",
       "\n",
       "    .dataframe tbody tr th {\n",
       "        vertical-align: top;\n",
       "    }\n",
       "</style>\n",
       "<table border=\"1\" class=\"dataframe\">\n",
       "  <thead>\n",
       "    <tr style=\"text-align: right;\">\n",
       "      <th></th>\n",
       "      <th>Address</th>\n",
       "      <th>DateOfSale</th>\n",
       "      <th>SalePrice</th>\n",
       "      <th>IsAStudio</th>\n",
       "      <th>Beds</th>\n",
       "      <th>Baths</th>\n",
       "      <th>Size</th>\n",
       "      <th>LotSize</th>\n",
       "      <th>BuiltInYear</th>\n",
       "    </tr>\n",
       "    <tr>\n",
       "      <th>ID</th>\n",
       "      <th></th>\n",
       "      <th></th>\n",
       "      <th></th>\n",
       "      <th></th>\n",
       "      <th></th>\n",
       "      <th></th>\n",
       "      <th></th>\n",
       "      <th></th>\n",
       "      <th></th>\n",
       "    </tr>\n",
       "  </thead>\n",
       "  <tbody>\n",
       "    <tr>\n",
       "      <th>15149005</th>\n",
       "      <td>251-253 Missouri St, San Francisco, CA</td>\n",
       "      <td>12/23/15</td>\n",
       "      <td>0.000001</td>\n",
       "      <td>0.0</td>\n",
       "      <td>7.0</td>\n",
       "      <td>6.0</td>\n",
       "      <td>2904.0</td>\n",
       "      <td>2482.0</td>\n",
       "      <td>1900.0</td>\n",
       "    </tr>\n",
       "  </tbody>\n",
       "</table>\n",
       "</div>"
      ],
      "text/plain": [
       "                                         Address DateOfSale  SalePrice  \\\n",
       "ID                                                                       \n",
       "15149005  251-253 Missouri St, San Francisco, CA   12/23/15   0.000001   \n",
       "\n",
       "          IsAStudio  Beds  Baths    Size  LotSize  BuiltInYear  \n",
       "ID                                                              \n",
       "15149005        0.0   7.0    6.0  2904.0   2482.0       1900.0  "
      ]
     },
     "execution_count": 120,
     "metadata": {},
     "output_type": "execute_result"
    }
   ],
   "source": [
    "# TODO\n",
    "df.loc[df[\"SalePrice\"] == df[\"SalePrice\"].min()]"
   ]
  },
  {
   "cell_type": "markdown",
   "metadata": {},
   "source": [
    "> #### <font color=\"blue\">(INDPENDENT)</font> Activity: What are properties that were sold at the highest price?  At what price?"
   ]
  },
  {
   "cell_type": "code",
   "execution_count": 121,
   "metadata": {},
   "outputs": [
    {
     "data": {
      "text/html": [
       "<div>\n",
       "<style>\n",
       "    .dataframe thead tr:only-child th {\n",
       "        text-align: right;\n",
       "    }\n",
       "\n",
       "    .dataframe thead th {\n",
       "        text-align: left;\n",
       "    }\n",
       "\n",
       "    .dataframe tbody tr th {\n",
       "        vertical-align: top;\n",
       "    }\n",
       "</style>\n",
       "<table border=\"1\" class=\"dataframe\">\n",
       "  <thead>\n",
       "    <tr style=\"text-align: right;\">\n",
       "      <th></th>\n",
       "      <th>Address</th>\n",
       "      <th>DateOfSale</th>\n",
       "      <th>SalePrice</th>\n",
       "      <th>IsAStudio</th>\n",
       "      <th>Beds</th>\n",
       "      <th>Baths</th>\n",
       "      <th>Size</th>\n",
       "      <th>LotSize</th>\n",
       "      <th>BuiltInYear</th>\n",
       "    </tr>\n",
       "    <tr>\n",
       "      <th>ID</th>\n",
       "      <th></th>\n",
       "      <th></th>\n",
       "      <th></th>\n",
       "      <th></th>\n",
       "      <th></th>\n",
       "      <th></th>\n",
       "      <th></th>\n",
       "      <th></th>\n",
       "      <th></th>\n",
       "    </tr>\n",
       "  </thead>\n",
       "  <tbody>\n",
       "    <tr>\n",
       "      <th>15083161</th>\n",
       "      <td>1825 Scott St, San Francisco, CA</td>\n",
       "      <td>11/23/15</td>\n",
       "      <td>32.7</td>\n",
       "      <td>0.0</td>\n",
       "      <td>NaN</td>\n",
       "      <td>1.0</td>\n",
       "      <td>1100.0</td>\n",
       "      <td>1694.0</td>\n",
       "      <td>1900.0</td>\n",
       "    </tr>\n",
       "  </tbody>\n",
       "</table>\n",
       "</div>"
      ],
      "text/plain": [
       "                                   Address DateOfSale  SalePrice  IsAStudio  \\\n",
       "ID                                                                            \n",
       "15083161  1825 Scott St, San Francisco, CA   11/23/15       32.7        0.0   \n",
       "\n",
       "          Beds  Baths    Size  LotSize  BuiltInYear  \n",
       "ID                                                   \n",
       "15083161   NaN    1.0  1100.0   1694.0       1900.0  "
      ]
     },
     "execution_count": 121,
     "metadata": {},
     "output_type": "execute_result"
    }
   ],
   "source": [
    "# TODO\n",
    "df.loc[df[\"SalePrice\"] == df[\"SalePrice\"].max()]"
   ]
  },
  {
   "cell_type": "markdown",
   "metadata": {},
   "source": [
    "### `.quantile()` - Compute values at the given quantile"
   ]
  },
  {
   "cell_type": "code",
   "execution_count": null,
   "metadata": {
    "collapsed": true
   },
   "outputs": [],
   "source": [
    "df.quantile(.5)"
   ]
  },
  {
   "cell_type": "markdown",
   "metadata": {},
   "source": [
    "By definition, the median is the 50% quantile."
   ]
  },
  {
   "cell_type": "code",
   "execution_count": null,
   "metadata": {
    "collapsed": true
   },
   "outputs": [],
   "source": [
    "df.median()"
   ]
  },
  {
   "cell_type": "code",
   "execution_count": null,
   "metadata": {
    "collapsed": true
   },
   "outputs": [],
   "source": [
    "df.quantile(.25)"
   ]
  },
  {
   "cell_type": "code",
   "execution_count": null,
   "metadata": {
    "collapsed": true
   },
   "outputs": [],
   "source": [
    "df.quantile(.75)"
   ]
  },
  {
   "cell_type": "markdown",
   "metadata": {},
   "source": [
    "### `.describe()` - Generate various summary statistics"
   ]
  },
  {
   "cell_type": "code",
   "execution_count": 117,
   "metadata": {},
   "outputs": [
    {
     "data": {
      "text/html": [
       "<div>\n",
       "<style>\n",
       "    .dataframe thead tr:only-child th {\n",
       "        text-align: right;\n",
       "    }\n",
       "\n",
       "    .dataframe thead th {\n",
       "        text-align: left;\n",
       "    }\n",
       "\n",
       "    .dataframe tbody tr th {\n",
       "        vertical-align: top;\n",
       "    }\n",
       "</style>\n",
       "<table border=\"1\" class=\"dataframe\">\n",
       "  <thead>\n",
       "    <tr style=\"text-align: right;\">\n",
       "      <th></th>\n",
       "      <th>SalePrice</th>\n",
       "      <th>IsAStudio</th>\n",
       "      <th>Beds</th>\n",
       "      <th>Baths</th>\n",
       "      <th>Size</th>\n",
       "      <th>LotSize</th>\n",
       "      <th>BuiltInYear</th>\n",
       "    </tr>\n",
       "  </thead>\n",
       "  <tbody>\n",
       "    <tr>\n",
       "      <th>count</th>\n",
       "      <td>1000.000000</td>\n",
       "      <td>986.000000</td>\n",
       "      <td>836.000000</td>\n",
       "      <td>942.000000</td>\n",
       "      <td>967.000000</td>\n",
       "      <td>556.000000</td>\n",
       "      <td>975.000000</td>\n",
       "    </tr>\n",
       "    <tr>\n",
       "      <th>mean</th>\n",
       "      <td>1.397423</td>\n",
       "      <td>0.029412</td>\n",
       "      <td>2.572967</td>\n",
       "      <td>1.977548</td>\n",
       "      <td>1641.300931</td>\n",
       "      <td>3020.640288</td>\n",
       "      <td>1947.533333</td>\n",
       "    </tr>\n",
       "    <tr>\n",
       "      <th>std</th>\n",
       "      <td>1.736413</td>\n",
       "      <td>0.169043</td>\n",
       "      <td>1.250891</td>\n",
       "      <td>1.130334</td>\n",
       "      <td>1027.016175</td>\n",
       "      <td>2853.430139</td>\n",
       "      <td>38.021563</td>\n",
       "    </tr>\n",
       "    <tr>\n",
       "      <th>min</th>\n",
       "      <td>0.000001</td>\n",
       "      <td>0.000000</td>\n",
       "      <td>1.000000</td>\n",
       "      <td>1.000000</td>\n",
       "      <td>264.000000</td>\n",
       "      <td>44.000000</td>\n",
       "      <td>1870.000000</td>\n",
       "    </tr>\n",
       "    <tr>\n",
       "      <th>25%</th>\n",
       "      <td>0.800000</td>\n",
       "      <td>0.000000</td>\n",
       "      <td>2.000000</td>\n",
       "      <td>1.000000</td>\n",
       "      <td>1027.500000</td>\n",
       "      <td>2375.000000</td>\n",
       "      <td>1912.000000</td>\n",
       "    </tr>\n",
       "    <tr>\n",
       "      <th>50%</th>\n",
       "      <td>1.100000</td>\n",
       "      <td>0.000000</td>\n",
       "      <td>2.000000</td>\n",
       "      <td>2.000000</td>\n",
       "      <td>1350.000000</td>\n",
       "      <td>2622.000000</td>\n",
       "      <td>1939.000000</td>\n",
       "    </tr>\n",
       "    <tr>\n",
       "      <th>75%</th>\n",
       "      <td>1.532500</td>\n",
       "      <td>0.000000</td>\n",
       "      <td>3.000000</td>\n",
       "      <td>2.000000</td>\n",
       "      <td>1947.500000</td>\n",
       "      <td>3049.000000</td>\n",
       "      <td>1986.000000</td>\n",
       "    </tr>\n",
       "    <tr>\n",
       "      <th>max</th>\n",
       "      <td>32.700000</td>\n",
       "      <td>1.000000</td>\n",
       "      <td>9.000000</td>\n",
       "      <td>14.000000</td>\n",
       "      <td>11500.000000</td>\n",
       "      <td>47916.000000</td>\n",
       "      <td>2015.000000</td>\n",
       "    </tr>\n",
       "  </tbody>\n",
       "</table>\n",
       "</div>"
      ],
      "text/plain": [
       "         SalePrice   IsAStudio        Beds       Baths          Size  \\\n",
       "count  1000.000000  986.000000  836.000000  942.000000    967.000000   \n",
       "mean      1.397423    0.029412    2.572967    1.977548   1641.300931   \n",
       "std       1.736413    0.169043    1.250891    1.130334   1027.016175   \n",
       "min       0.000001    0.000000    1.000000    1.000000    264.000000   \n",
       "25%       0.800000    0.000000    2.000000    1.000000   1027.500000   \n",
       "50%       1.100000    0.000000    2.000000    2.000000   1350.000000   \n",
       "75%       1.532500    0.000000    3.000000    2.000000   1947.500000   \n",
       "max      32.700000    1.000000    9.000000   14.000000  11500.000000   \n",
       "\n",
       "            LotSize  BuiltInYear  \n",
       "count    556.000000   975.000000  \n",
       "mean    3020.640288  1947.533333  \n",
       "std     2853.430139    38.021563  \n",
       "min       44.000000  1870.000000  \n",
       "25%     2375.000000  1912.000000  \n",
       "50%     2622.000000  1939.000000  \n",
       "75%     3049.000000  1986.000000  \n",
       "max    47916.000000  2015.000000  "
      ]
     },
     "execution_count": 117,
     "metadata": {},
     "output_type": "execute_result"
    }
   ],
   "source": [
    "df.describe()"
   ]
  },
  {
   "cell_type": "code",
   "execution_count": 118,
   "metadata": {},
   "outputs": [
    {
     "data": {
      "text/plain": [
       "count    1000.000000\n",
       "mean        1.397423\n",
       "std         1.736413\n",
       "min         0.000001\n",
       "25%         0.800000\n",
       "50%         1.100000\n",
       "75%         1.532500\n",
       "max        32.700000\n",
       "Name: SalePrice, dtype: float64"
      ]
     },
     "execution_count": 118,
     "metadata": {},
     "output_type": "execute_result"
    }
   ],
   "source": [
    "df.SalePrice.describe()"
   ]
  },
  {
   "cell_type": "code",
   "execution_count": 119,
   "metadata": {},
   "outputs": [
    {
     "data": {
      "text/plain": [
       "count                                        1000\n",
       "unique                                        993\n",
       "top       1954 Golden Gate Ave, San Francisco, CA\n",
       "freq                                            2\n",
       "Name: Address, dtype: object"
      ]
     },
     "execution_count": 119,
     "metadata": {},
     "output_type": "execute_result"
    }
   ],
   "source": [
    "df.Address.describe()"
   ]
  },
  {
   "cell_type": "markdown",
   "metadata": {},
   "source": [
    "## Part D"
   ]
  },
  {
   "cell_type": "markdown",
   "metadata": {},
   "source": [
    "- Boxplots\n",
    "  - (http://pandas.pydata.org/pandas-docs/stable/visualization.html#box-plots)\n",
    "  - (http://pandas.pydata.org/pandas-docs/stable/generated/pandas.DataFrame.plot.html) with `kind = 'box'`\n",
    "  - (http://pandas.pydata.org/pandas-docs/stable/generated/pandas.Series.plot.html) with `kind = 'box'`\n",
    "  - (http://pandas.pydata.org/pandas-docs/stable/generated/pandas.DataFrame.boxplot.html)"
   ]
  },
  {
   "cell_type": "code",
   "execution_count": 122,
   "metadata": {},
   "outputs": [
    {
     "data": {
      "text/plain": [
       "<matplotlib.axes._subplots.AxesSubplot at 0x1a10e94290>"
      ]
     },
     "execution_count": 122,
     "metadata": {},
     "output_type": "execute_result"
    },
    {
     "data": {
      "image/png": "[encoded data removed]",
      "text/plain": [
       "<matplotlib.figure.Figure at 0x1a10e88dd0>"
      ]
     },
     "metadata": {},
     "output_type": "display_data"
    }
   ],
   "source": [
    "df.SalePrice.plot(kind = 'box', figsize = (8, 8))"
   ]
  },
  {
   "cell_type": "code",
   "execution_count": 125,
   "metadata": {},
   "outputs": [
    {
     "data": {
      "text/plain": [
       "<matplotlib.axes._subplots.AxesSubplot at 0x1a18db8810>"
      ]
     },
     "execution_count": 125,
     "metadata": {},
     "output_type": "execute_result"
    },
    {
     "data": {
      "image/png": "[encoded data removed]",
      "text/plain": [
       "<matplotlib.figure.Figure at 0x1a18d0a510>"
      ]
     },
     "metadata": {},
     "output_type": "display_data"
    }
   ],
   "source": [
    "df[['SalePrice']].boxplot(figsize = (8, 8))"
   ]
  },
  {
   "cell_type": "markdown",
   "metadata": {},
   "source": [
    "> In the same plot, plot the boxplots of `Beds` and `Baths`"
   ]
  },
  {
   "cell_type": "code",
   "execution_count": null,
   "metadata": {
    "collapsed": true
   },
   "outputs": [],
   "source": [
    "# TODO"
   ]
  },
  {
   "cell_type": "markdown",
   "metadata": {},
   "source": [
    "## Part E"
   ]
  },
  {
   "cell_type": "markdown",
   "metadata": {},
   "source": [
    "- Histograms\n",
    "  - (http://pandas.pydata.org/pandas-docs/stable/visualization.html#histograms)\n",
    "  - (http://pandas.pydata.org/pandas-docs/stable/generated/pandas.DataFrame.plot.html) with `kind = 'hist'`\n",
    "  - (http://pandas.pydata.org/pandas-docs/stable/generated/pandas.Series.plot.html) with `kind = 'hist'`\n",
    "  - (http://pandas.pydata.org/pandas-docs/stable/generated/pandas.DataFrame.hist.html)\n",
    "  - ((http://pandas.pydata.org/pandas-docs/stable/generated/pandas.Series.hist.html)"
   ]
  },
  {
   "cell_type": "code",
   "execution_count": 126,
   "metadata": {},
   "outputs": [
    {
     "data": {
      "text/plain": [
       "<matplotlib.axes._subplots.AxesSubplot at 0x1a18ddb1d0>"
      ]
     },
     "execution_count": 126,
     "metadata": {},
     "output_type": "execute_result"
    },
    {
     "data": {
      "image/png": "[encoded data removed]",
      "text/plain": [
       "<matplotlib.figure.Figure at 0x1a18dd3350>"
      ]
     },
     "metadata": {},
     "output_type": "display_data"
    }
   ],
   "source": [
    "df.Beds.plot(kind = 'hist', figsize = (8, 8))"
   ]
  },
  {
   "cell_type": "code",
   "execution_count": 127,
   "metadata": {},
   "outputs": [
    {
     "data": {
      "text/plain": [
       "<matplotlib.axes._subplots.AxesSubplot at 0x1a18d86f90>"
      ]
     },
     "execution_count": 127,
     "metadata": {},
     "output_type": "execute_result"
    },
    {
     "data": {
      "image/png": "[encoded data removed]",
      "text/plain": [
       "<matplotlib.figure.Figure at 0x1a18f2e710>"
      ]
     },
     "metadata": {},
     "output_type": "display_data"
    }
   ],
   "source": [
    "df.Beds.hist(figsize = (8, 8))"
   ]
  },
  {
   "cell_type": "markdown",
   "metadata": {},
   "source": [
    "> #### Activity: In the same plot, plot the histograms of `Beds` and `Baths`"
   ]
  },
  {
   "cell_type": "code",
   "execution_count": null,
   "metadata": {
    "collapsed": true
   },
   "outputs": [],
   "source": [
    "# TODO"
   ]
  },
  {
   "cell_type": "markdown",
   "metadata": {},
   "source": [
    "## Part F"
   ]
  },
  {
   "cell_type": "markdown",
   "metadata": {},
   "source": [
    "- `.mode()`\n",
    "  - (http://pandas.pydata.org/pandas-docs/stable/generated/pandas.DataFrame.mode.html)\n",
    "  - ((http://pandas.pydata.org/pandas-docs/stable/generated/pandas.Series.mode.html)"
   ]
  },
  {
   "cell_type": "markdown",
   "metadata": {},
   "source": [
    "### `.mode()` - Compute the mode value(s)"
   ]
  },
  {
   "cell_type": "code",
   "execution_count": 128,
   "metadata": {},
   "outputs": [
    {
     "data": {
      "text/html": [
       "<div>\n",
       "<style>\n",
       "    .dataframe thead tr:only-child th {\n",
       "        text-align: right;\n",
       "    }\n",
       "\n",
       "    .dataframe thead th {\n",
       "        text-align: left;\n",
       "    }\n",
       "\n",
       "    .dataframe tbody tr th {\n",
       "        vertical-align: top;\n",
       "    }\n",
       "</style>\n",
       "<table border=\"1\" class=\"dataframe\">\n",
       "  <thead>\n",
       "    <tr style=\"text-align: right;\">\n",
       "      <th></th>\n",
       "      <th>Address</th>\n",
       "      <th>DateOfSale</th>\n",
       "      <th>SalePrice</th>\n",
       "      <th>IsAStudio</th>\n",
       "      <th>Beds</th>\n",
       "      <th>Baths</th>\n",
       "      <th>Size</th>\n",
       "      <th>LotSize</th>\n",
       "      <th>BuiltInYear</th>\n",
       "    </tr>\n",
       "  </thead>\n",
       "  <tbody>\n",
       "    <tr>\n",
       "      <th>0</th>\n",
       "      <td>1 Mono St # B, San Francisco, CA</td>\n",
       "      <td>11/20/15</td>\n",
       "      <td>1.1</td>\n",
       "      <td>0.0</td>\n",
       "      <td>2.0</td>\n",
       "      <td>1.0</td>\n",
       "      <td>1000.0</td>\n",
       "      <td>2495.0</td>\n",
       "      <td>1900.0</td>\n",
       "    </tr>\n",
       "    <tr>\n",
       "      <th>1</th>\n",
       "      <td>150 Grand View Ave, San Francisco, CA</td>\n",
       "      <td>NaN</td>\n",
       "      <td>NaN</td>\n",
       "      <td>NaN</td>\n",
       "      <td>NaN</td>\n",
       "      <td>NaN</td>\n",
       "      <td>NaN</td>\n",
       "      <td>NaN</td>\n",
       "      <td>NaN</td>\n",
       "    </tr>\n",
       "    <tr>\n",
       "      <th>2</th>\n",
       "      <td>1915 Diamond St, San Francisco, CA</td>\n",
       "      <td>NaN</td>\n",
       "      <td>NaN</td>\n",
       "      <td>NaN</td>\n",
       "      <td>NaN</td>\n",
       "      <td>NaN</td>\n",
       "      <td>NaN</td>\n",
       "      <td>NaN</td>\n",
       "      <td>NaN</td>\n",
       "    </tr>\n",
       "    <tr>\n",
       "      <th>3</th>\n",
       "      <td>1954 Golden Gate Ave, San Francisco, CA</td>\n",
       "      <td>NaN</td>\n",
       "      <td>NaN</td>\n",
       "      <td>NaN</td>\n",
       "      <td>NaN</td>\n",
       "      <td>NaN</td>\n",
       "      <td>NaN</td>\n",
       "      <td>NaN</td>\n",
       "      <td>NaN</td>\n",
       "    </tr>\n",
       "    <tr>\n",
       "      <th>4</th>\n",
       "      <td>2299 Market St APT 502, San Francisco, CA</td>\n",
       "      <td>NaN</td>\n",
       "      <td>NaN</td>\n",
       "      <td>NaN</td>\n",
       "      <td>NaN</td>\n",
       "      <td>NaN</td>\n",
       "      <td>NaN</td>\n",
       "      <td>NaN</td>\n",
       "      <td>NaN</td>\n",
       "    </tr>\n",
       "    <tr>\n",
       "      <th>5</th>\n",
       "      <td>643 Natoma St, San Francisco, CA</td>\n",
       "      <td>NaN</td>\n",
       "      <td>NaN</td>\n",
       "      <td>NaN</td>\n",
       "      <td>NaN</td>\n",
       "      <td>NaN</td>\n",
       "      <td>NaN</td>\n",
       "      <td>NaN</td>\n",
       "      <td>NaN</td>\n",
       "    </tr>\n",
       "    <tr>\n",
       "      <th>6</th>\n",
       "      <td>829 Folsom St UNIT 906, San Francisco, CA</td>\n",
       "      <td>NaN</td>\n",
       "      <td>NaN</td>\n",
       "      <td>NaN</td>\n",
       "      <td>NaN</td>\n",
       "      <td>NaN</td>\n",
       "      <td>NaN</td>\n",
       "      <td>NaN</td>\n",
       "      <td>NaN</td>\n",
       "    </tr>\n",
       "  </tbody>\n",
       "</table>\n",
       "</div>"
      ],
      "text/plain": [
       "                                     Address DateOfSale  SalePrice  IsAStudio  \\\n",
       "0           1 Mono St # B, San Francisco, CA   11/20/15        1.1        0.0   \n",
       "1      150 Grand View Ave, San Francisco, CA        NaN        NaN        NaN   \n",
       "2         1915 Diamond St, San Francisco, CA        NaN        NaN        NaN   \n",
       "3    1954 Golden Gate Ave, San Francisco, CA        NaN        NaN        NaN   \n",
       "4  2299 Market St APT 502, San Francisco, CA        NaN        NaN        NaN   \n",
       "5           643 Natoma St, San Francisco, CA        NaN        NaN        NaN   \n",
       "6  829 Folsom St UNIT 906, San Francisco, CA        NaN        NaN        NaN   \n",
       "\n",
       "   Beds  Baths    Size  LotSize  BuiltInYear  \n",
       "0   2.0    1.0  1000.0   2495.0       1900.0  \n",
       "1   NaN    NaN     NaN      NaN          NaN  \n",
       "2   NaN    NaN     NaN      NaN          NaN  \n",
       "3   NaN    NaN     NaN      NaN          NaN  \n",
       "4   NaN    NaN     NaN      NaN          NaN  \n",
       "5   NaN    NaN     NaN      NaN          NaN  \n",
       "6   NaN    NaN     NaN      NaN          NaN  "
      ]
     },
     "execution_count": 128,
     "metadata": {},
     "output_type": "execute_result"
    }
   ],
   "source": [
    "df.mode()"
   ]
  },
  {
   "cell_type": "code",
   "execution_count": 132,
   "metadata": {},
   "outputs": [
    {
     "data": {
      "text/plain": [
       "1954 Golden Gate Ave, San Francisco, CA               2\n",
       "829 Folsom St UNIT 906, San Francisco, CA             2\n",
       "1 Mono St # B, San Francisco, CA                      2\n",
       "1915 Diamond St, San Francisco, CA                    2\n",
       "2299 Market St APT 502, San Francisco, CA             2\n",
       "643 Natoma St, San Francisco, CA                      2\n",
       "150 Grand View Ave, San Francisco, CA                 2\n",
       "430 Fair Oaks St, San Francisco, CA                   1\n",
       "3001 Castro St, San Francisco, CA                     1\n",
       "2670 San Jose Ave, San Francisco, CA                  1\n",
       "480 Mission Bay Blvd N UNIT 614, San Francisco, CA    1\n",
       "1448 Oakdale Ave, San Francisco, CA                   1\n",
       "1355 Pacific Ave UNIT 403, San Francisco, CA          1\n",
       "1551 32nd Ave, San Francisco, CA                      1\n",
       "2595 38th Ave, San Francisco, CA                      1\n",
       "333 Main St # IT8H, San Francisco, CA                 1\n",
       "2300 Leavenworth St, San Francisco, CA                1\n",
       "1907 Leavenworth St APT 8, San Francisco, CA          1\n",
       "260 King St UNIT 815, San Francisco, CA               1\n",
       "400 Head St, San Francisco, CA                        1\n",
       "1902 Filbert St, San Francisco, CA                    1\n",
       "2864 Sacramento St, San Francisco, CA                 1\n",
       "1246 25th Ave, San Francisco, CA                      1\n",
       "1051-1053 Francisco St, San Francisco, CA             1\n",
       "157 Winfield St, San Francisco, CA                    1\n",
       "1962 23rd Ave, San Francisco, CA                      1\n",
       "20 Rossmoor Dr, San Francisco, CA                     1\n",
       "270 Nevada St, San Francisco, CA                      1\n",
       "1216 28th Ave, San Francisco, CA                      1\n",
       "1142 Prague St, San Francisco, CA                     1\n",
       "                                                     ..\n",
       "175 Russ St APT 14, San Francisco, CA                 1\n",
       "501 Junipero Serra Blvd, San Francisco, CA            1\n",
       "1394-1396 34TH Ave, San Francisco, CA                 1\n",
       "68 30TH St, San Francisco, CA                         1\n",
       "444 Linden St, San Francisco, CA                      1\n",
       "795 Sutter St # 303, San Francisco, CA                1\n",
       "999 Green St APT 905, San Francisco, CA               1\n",
       "560 Haight St APT 102, San Francisco, CA              1\n",
       "378 Mount Vernon Ave, San Francisco, CA               1\n",
       "1480 Golden Gate Ave, San Francisco, CA               1\n",
       "2212 Castro St, San Francisco, CA                     1\n",
       "814 Detroit St, San Francisco, CA                     1\n",
       "1323 Cortland Ave, San Francisco, CA                  1\n",
       "1676 Newcomb Ave, San Francisco, CA                   1\n",
       "280 Dalewood Way, San Francisco, CA                   1\n",
       "270 Valencia St APT 503, San Francisco, CA            1\n",
       "1015 Rhode Island St, San Francisco, CA               1\n",
       "3916 Alemany Blvd, San Francisco, CA                  1\n",
       "2374-2376 Greenwich St, San Francisco, CA             1\n",
       "666 Athens St, San Francisco, CA                      1\n",
       "1408 31st Ave APT 303, San Francisco, CA              1\n",
       "23 Rodgers St, San Francisco, CA                      1\n",
       "701 Paris St, San Francisco, CA                       1\n",
       "656 Teresita Blvd, San Francisco, CA                  1\n",
       "2921 Washington St APT 5, San Francisco, CA           1\n",
       "251-253 Missouri St, San Francisco, CA                1\n",
       "129 Octavia St, San Francisco, CA                     1\n",
       "400 Beale St APT 408, San Francisco, CA               1\n",
       "451 Kansas St UNIT 631, San Francisco, CA             1\n",
       "1177 California St APT 702, San Francisco, CA         1\n",
       "Name: Address, Length: 993, dtype: int64"
      ]
     },
     "execution_count": 132,
     "metadata": {},
     "output_type": "execute_result"
    }
   ],
   "source": [
    "df.Address.mode()\n",
    "\n",
    "df.Address.value_counts()\n",
    "#df[\"Address\"].value_counts()\n"
   ]
  },
  {
   "cell_type": "code",
   "execution_count": 133,
   "metadata": {},
   "outputs": [
    {
     "data": {
      "text/plain": [
       "0    1.0\n",
       "dtype: float64"
      ]
     },
     "execution_count": 133,
     "metadata": {},
     "output_type": "execute_result"
    }
   ],
   "source": [
    "df.Baths.mode()"
   ]
  },
  {
   "cell_type": "markdown",
   "metadata": {},
   "source": [
    "The `.mode()` method gets the mode(s) of each element along the columns.  Empty if nothing has 2+ occurrences. Adds a row for each mode per label, fills in gaps with `NaN`.  Note that there could be multiple values returned in the columns (when more than one value share the maximum frequency), which is the reason why a dataframe is returned."
   ]
  },
  {
   "cell_type": "markdown",
   "metadata": {},
   "source": [
    "## Part G"
   ]
  },
  {
   "cell_type": "markdown",
   "metadata": {
    "collapsed": true
   },
   "source": [
    "- `.corr()`\n",
    "  - (http://pandas.pydata.org/pandas-docs/stable/generated/pandas.DataFrame.corr.html)\n",
    "  - (http://pandas.pydata.org/pandas-docs/stable/generated/pandas.Series.corr.html)\n",
    "- Heatmaps\n",
    "  - (http://matplotlib.org/api/pyplot_api.html#matplotlib.pyplot.matshow)\n",
    "- Scatter plots\n",
    "  - (http://pandas.pydata.org/pandas-docs/stable/visualization.html#scatter-plot)\n",
    "  - (http://pandas.pydata.org/pandas-docs/stable/generated/pandas.DataFrame.plot.html) with `kind = 'scatter'`\n",
    "  - (http://pandas.pydata.org/pandas-docs/stable/generated/pandas.Series.plot.html) with `kind = 'scatter'`\n",
    "  - (http://pandas.pydata.org/pandas-docs/stable/generated/pandas.DataFrame.plot.scatter.html)\n",
    "- Scatter matrices\n",
    "  - (http://pandas.pydata.org/pandas-docs/stable/visualization.html#scatter-matrix-plot)"
   ]
  },
  {
   "cell_type": "code",
   "execution_count": 134,
   "metadata": {},
   "outputs": [
    {
     "data": {
      "text/html": [
       "<div>\n",
       "<style>\n",
       "    .dataframe thead tr:only-child th {\n",
       "        text-align: right;\n",
       "    }\n",
       "\n",
       "    .dataframe thead th {\n",
       "        text-align: left;\n",
       "    }\n",
       "\n",
       "    .dataframe tbody tr th {\n",
       "        vertical-align: top;\n",
       "    }\n",
       "</style>\n",
       "<table border=\"1\" class=\"dataframe\">\n",
       "  <thead>\n",
       "    <tr style=\"text-align: right;\">\n",
       "      <th></th>\n",
       "      <th>SalePrice</th>\n",
       "      <th>IsAStudio</th>\n",
       "      <th>Beds</th>\n",
       "      <th>Baths</th>\n",
       "      <th>Size</th>\n",
       "      <th>LotSize</th>\n",
       "      <th>BuiltInYear</th>\n",
       "    </tr>\n",
       "  </thead>\n",
       "  <tbody>\n",
       "    <tr>\n",
       "      <th>SalePrice</th>\n",
       "      <td>1.000000</td>\n",
       "      <td>0.008889</td>\n",
       "      <td>0.379453</td>\n",
       "      <td>0.369938</td>\n",
       "      <td>0.485379</td>\n",
       "      <td>0.392418</td>\n",
       "      <td>-0.148598</td>\n",
       "    </tr>\n",
       "    <tr>\n",
       "      <th>IsAStudio</th>\n",
       "      <td>0.008889</td>\n",
       "      <td>1.000000</td>\n",
       "      <td>NaN</td>\n",
       "      <td>-0.078195</td>\n",
       "      <td>0.052166</td>\n",
       "      <td>-0.012622</td>\n",
       "      <td>-0.050258</td>\n",
       "    </tr>\n",
       "    <tr>\n",
       "      <th>Beds</th>\n",
       "      <td>0.379453</td>\n",
       "      <td>NaN</td>\n",
       "      <td>1.000000</td>\n",
       "      <td>0.715194</td>\n",
       "      <td>0.722656</td>\n",
       "      <td>0.070542</td>\n",
       "      <td>-0.344700</td>\n",
       "    </tr>\n",
       "    <tr>\n",
       "      <th>Baths</th>\n",
       "      <td>0.369938</td>\n",
       "      <td>-0.078195</td>\n",
       "      <td>0.715194</td>\n",
       "      <td>1.000000</td>\n",
       "      <td>0.692501</td>\n",
       "      <td>0.108556</td>\n",
       "      <td>-0.078157</td>\n",
       "    </tr>\n",
       "    <tr>\n",
       "      <th>Size</th>\n",
       "      <td>0.485379</td>\n",
       "      <td>0.052166</td>\n",
       "      <td>0.722656</td>\n",
       "      <td>0.692501</td>\n",
       "      <td>1.000000</td>\n",
       "      <td>0.201979</td>\n",
       "      <td>-0.313989</td>\n",
       "    </tr>\n",
       "    <tr>\n",
       "      <th>LotSize</th>\n",
       "      <td>0.392418</td>\n",
       "      <td>-0.012622</td>\n",
       "      <td>0.070542</td>\n",
       "      <td>0.108556</td>\n",
       "      <td>0.201979</td>\n",
       "      <td>1.000000</td>\n",
       "      <td>0.046411</td>\n",
       "    </tr>\n",
       "    <tr>\n",
       "      <th>BuiltInYear</th>\n",
       "      <td>-0.148598</td>\n",
       "      <td>-0.050258</td>\n",
       "      <td>-0.344700</td>\n",
       "      <td>-0.078157</td>\n",
       "      <td>-0.313989</td>\n",
       "      <td>0.046411</td>\n",
       "      <td>1.000000</td>\n",
       "    </tr>\n",
       "  </tbody>\n",
       "</table>\n",
       "</div>"
      ],
      "text/plain": [
       "             SalePrice  IsAStudio      Beds     Baths      Size   LotSize  \\\n",
       "SalePrice     1.000000   0.008889  0.379453  0.369938  0.485379  0.392418   \n",
       "IsAStudio     0.008889   1.000000       NaN -0.078195  0.052166 -0.012622   \n",
       "Beds          0.379453        NaN  1.000000  0.715194  0.722656  0.070542   \n",
       "Baths         0.369938  -0.078195  0.715194  1.000000  0.692501  0.108556   \n",
       "Size          0.485379   0.052166  0.722656  0.692501  1.000000  0.201979   \n",
       "LotSize       0.392418  -0.012622  0.070542  0.108556  0.201979  1.000000   \n",
       "BuiltInYear  -0.148598  -0.050258 -0.344700 -0.078157 -0.313989  0.046411   \n",
       "\n",
       "             BuiltInYear  \n",
       "SalePrice      -0.148598  \n",
       "IsAStudio      -0.050258  \n",
       "Beds           -0.344700  \n",
       "Baths          -0.078157  \n",
       "Size           -0.313989  \n",
       "LotSize         0.046411  \n",
       "BuiltInYear     1.000000  "
      ]
     },
     "execution_count": 134,
     "metadata": {},
     "output_type": "execute_result"
    }
   ],
   "source": [
    "df.corr()"
   ]
  },
  {
   "cell_type": "code",
   "execution_count": null,
   "metadata": {
    "collapsed": true
   },
   "outputs": [],
   "source": [
    "df.Beds.corr(df.Baths)"
   ]
  },
  {
   "cell_type": "markdown",
   "metadata": {},
   "source": [
    "### Heatmaps"
   ]
  },
  {
   "cell_type": "code",
   "execution_count": 135,
   "metadata": {},
   "outputs": [
    {
     "data": {
      "text/html": [
       "<div>\n",
       "<style>\n",
       "    .dataframe thead tr:only-child th {\n",
       "        text-align: right;\n",
       "    }\n",
       "\n",
       "    .dataframe thead th {\n",
       "        text-align: left;\n",
       "    }\n",
       "\n",
       "    .dataframe tbody tr th {\n",
       "        vertical-align: top;\n",
       "    }\n",
       "</style>\n",
       "<table border=\"1\" class=\"dataframe\">\n",
       "  <thead>\n",
       "    <tr style=\"text-align: right;\">\n",
       "      <th></th>\n",
       "      <th>SalePrice</th>\n",
       "      <th>IsAStudio</th>\n",
       "      <th>Beds</th>\n",
       "      <th>Baths</th>\n",
       "      <th>Size</th>\n",
       "      <th>LotSize</th>\n",
       "      <th>BuiltInYear</th>\n",
       "    </tr>\n",
       "  </thead>\n",
       "  <tbody>\n",
       "    <tr>\n",
       "      <th>SalePrice</th>\n",
       "      <td>1.000000</td>\n",
       "      <td>0.008889</td>\n",
       "      <td>0.379453</td>\n",
       "      <td>0.369938</td>\n",
       "      <td>0.485379</td>\n",
       "      <td>0.392418</td>\n",
       "      <td>-0.148598</td>\n",
       "    </tr>\n",
       "    <tr>\n",
       "      <th>IsAStudio</th>\n",
       "      <td>0.008889</td>\n",
       "      <td>1.000000</td>\n",
       "      <td>NaN</td>\n",
       "      <td>-0.078195</td>\n",
       "      <td>0.052166</td>\n",
       "      <td>-0.012622</td>\n",
       "      <td>-0.050258</td>\n",
       "    </tr>\n",
       "    <tr>\n",
       "      <th>Beds</th>\n",
       "      <td>0.379453</td>\n",
       "      <td>NaN</td>\n",
       "      <td>1.000000</td>\n",
       "      <td>0.715194</td>\n",
       "      <td>0.722656</td>\n",
       "      <td>0.070542</td>\n",
       "      <td>-0.344700</td>\n",
       "    </tr>\n",
       "    <tr>\n",
       "      <th>Baths</th>\n",
       "      <td>0.369938</td>\n",
       "      <td>-0.078195</td>\n",
       "      <td>0.715194</td>\n",
       "      <td>1.000000</td>\n",
       "      <td>0.692501</td>\n",
       "      <td>0.108556</td>\n",
       "      <td>-0.078157</td>\n",
       "    </tr>\n",
       "    <tr>\n",
       "      <th>Size</th>\n",
       "      <td>0.485379</td>\n",
       "      <td>0.052166</td>\n",
       "      <td>0.722656</td>\n",
       "      <td>0.692501</td>\n",
       "      <td>1.000000</td>\n",
       "      <td>0.201979</td>\n",
       "      <td>-0.313989</td>\n",
       "    </tr>\n",
       "    <tr>\n",
       "      <th>LotSize</th>\n",
       "      <td>0.392418</td>\n",
       "      <td>-0.012622</td>\n",
       "      <td>0.070542</td>\n",
       "      <td>0.108556</td>\n",
       "      <td>0.201979</td>\n",
       "      <td>1.000000</td>\n",
       "      <td>0.046411</td>\n",
       "    </tr>\n",
       "    <tr>\n",
       "      <th>BuiltInYear</th>\n",
       "      <td>-0.148598</td>\n",
       "      <td>-0.050258</td>\n",
       "      <td>-0.344700</td>\n",
       "      <td>-0.078157</td>\n",
       "      <td>-0.313989</td>\n",
       "      <td>0.046411</td>\n",
       "      <td>1.000000</td>\n",
       "    </tr>\n",
       "  </tbody>\n",
       "</table>\n",
       "</div>"
      ],
      "text/plain": [
       "             SalePrice  IsAStudio      Beds     Baths      Size   LotSize  \\\n",
       "SalePrice     1.000000   0.008889  0.379453  0.369938  0.485379  0.392418   \n",
       "IsAStudio     0.008889   1.000000       NaN -0.078195  0.052166 -0.012622   \n",
       "Beds          0.379453        NaN  1.000000  0.715194  0.722656  0.070542   \n",
       "Baths         0.369938  -0.078195  0.715194  1.000000  0.692501  0.108556   \n",
       "Size          0.485379   0.052166  0.722656  0.692501  1.000000  0.201979   \n",
       "LotSize       0.392418  -0.012622  0.070542  0.108556  0.201979  1.000000   \n",
       "BuiltInYear  -0.148598  -0.050258 -0.344700 -0.078157 -0.313989  0.046411   \n",
       "\n",
       "             BuiltInYear  \n",
       "SalePrice      -0.148598  \n",
       "IsAStudio      -0.050258  \n",
       "Beds           -0.344700  \n",
       "Baths          -0.078157  \n",
       "Size           -0.313989  \n",
       "LotSize         0.046411  \n",
       "BuiltInYear     1.000000  "
      ]
     },
     "execution_count": 135,
     "metadata": {},
     "output_type": "execute_result"
    }
   ],
   "source": [
    "corr = df.corr()\n",
    "\n",
    "corr"
   ]
  },
  {
   "cell_type": "code",
   "execution_count": null,
   "metadata": {
    "collapsed": true
   },
   "outputs": [],
   "source": [
    "# TODO"
   ]
  },
  {
   "cell_type": "markdown",
   "metadata": {},
   "source": [
    "Let's pretty this up using the seaborn package."
   ]
  },
  {
   "cell_type": "code",
   "execution_count": 136,
   "metadata": {},
   "outputs": [
    {
     "data": {
      "text/plain": [
       "<matplotlib.axes._subplots.AxesSubplot at 0x1a1909a490>"
      ]
     },
     "execution_count": 136,
     "metadata": {},
     "output_type": "execute_result"
    },
    {
     "data": {
      "image/png": "[encoded data removed]",
      "text/plain": [
       "<matplotlib.figure.Figure at 0x1a1908cd90>"
      ]
     },
     "metadata": {},
     "output_type": "display_data"
    }
   ],
   "source": [
    "sns.heatmap(corr)"
   ]
  },
  {
   "cell_type": "markdown",
   "metadata": {},
   "source": [
    "### Scatter plots"
   ]
  },
  {
   "cell_type": "code",
   "execution_count": 139,
   "metadata": {},
   "outputs": [
    {
     "data": {
      "text/plain": [
       "<matplotlib.axes._subplots.AxesSubplot at 0x1a18ce6150>"
      ]
     },
     "execution_count": 139,
     "metadata": {},
     "output_type": "execute_result"
    },
    {
     "data": {
      "image/png": "[encoded data removed]",
      "text/plain": [
       "<matplotlib.figure.Figure at 0x1a192d2bd0>"
      ]
     },
     "metadata": {},
     "output_type": "display_data"
    }
   ],
   "source": [
    "df.plot(kind = 'scatter', x = 'Beds', y = 'Baths', s = 100, figsize = (8, 8))"
   ]
  },
  {
   "cell_type": "code",
   "execution_count": 140,
   "metadata": {},
   "outputs": [
    {
     "data": {
      "text/plain": [
       "<matplotlib.axes._subplots.AxesSubplot at 0x1a18d21110>"
      ]
     },
     "execution_count": 140,
     "metadata": {},
     "output_type": "execute_result"
    },
    {
     "data": {
      "image/png": "[encoded data removed]",
      "text/plain": [
       "<matplotlib.figure.Figure at 0x1a19222250>"
      ]
     },
     "metadata": {},
     "output_type": "display_data"
    }
   ],
   "source": [
    "df.plot.scatter(x = 'Beds', y = 'Baths', s = 100, figsize = (8, 8))"
   ]
  },
  {
   "cell_type": "markdown",
   "metadata": {},
   "source": [
    "### Pair scatterplots with Seaborn"
   ]
  },
  {
   "cell_type": "code",
   "execution_count": 141,
   "metadata": {},
   "outputs": [
    {
     "data": {
      "text/plain": [
       "<seaborn.axisgrid.PairGrid at 0x1a19597210>"
      ]
     },
     "execution_count": 141,
     "metadata": {},
     "output_type": "execute_result"
    },
    {
     "data": {
      "image/png": "[encoded data removed]",
      "text/plain": [
       "<matplotlib.figure.Figure at 0x1a1958ed50>"
      ]
     },
     "metadata": {},
     "output_type": "display_data"
    }
   ],
   "source": [
    "sns.pairplot(df[['Beds', 'Baths']].dropna())"
   ]
  },
  {
   "cell_type": "code",
   "execution_count": 142,
   "metadata": {},
   "outputs": [
    {
     "data": {
      "text/plain": [
       "<seaborn.axisgrid.PairGrid at 0x1a195f55d0>"
      ]
     },
     "execution_count": 142,
     "metadata": {},
     "output_type": "execute_result"
    },
    {
     "data": {
      "image/png": "[encoded data removed]",
      "text/plain": [
       "<matplotlib.figure.Figure at 0x1a195f56d0>"
      ]
     },
     "metadata": {},
     "output_type": "display_data"
    }
   ],
   "source": [
    "sns.pairplot(df[['SalePrice', 'Size']].dropna())"
   ]
  },
  {
   "cell_type": "code",
   "execution_count": 145,
   "metadata": {},
   "outputs": [
    {
     "data": {
      "text/plain": [
       "<seaborn.axisgrid.PairGrid at 0x1a1d5fcb10>"
      ]
     },
     "execution_count": 145,
     "metadata": {},
     "output_type": "execute_result"
    },
    {
     "data": {
      "image/png": "[encoded data removed]",
      "text/plain": [
       "<matplotlib.figure.Figure at 0x1a19c62090>"
      ]
     },
     "metadata": {},
     "output_type": "display_data"
    }
   ],
   "source": [
    "sns.pairplot(df.dropna())"
   ]
  },
  {
   "cell_type": "markdown",
   "metadata": {},
   "source": [
    "### <font color=\"blue\">Check</font> - why are plots along the diagonal not scatters?"
   ]
  },
  {
   "cell_type": "markdown",
   "metadata": {},
   "source": [
    "## Part H"
   ]
  },
  {
   "cell_type": "markdown",
   "metadata": {},
   "source": [
    "- `.value_counts()`\n",
    "  - (http://pandas.pydata.org/pandas-docs/stable/generated/pandas.Series.value_counts.html)\n",
    "- `.crosstab()`\n",
    "  - (http://pandas.pydata.org/pandas-docs/stable/generated/pandas.crosstab.html)"
   ]
  },
  {
   "cell_type": "markdown",
   "metadata": {},
   "source": [
    "> #### Activity: Reproduce the `Beds` histogram above.  For each possible number of beds, how many properties share that bed count?"
   ]
  },
  {
   "cell_type": "code",
   "execution_count": null,
   "metadata": {
    "collapsed": true
   },
   "outputs": [],
   "source": [
    "# TODO"
   ]
  },
  {
   "cell_type": "markdown",
   "metadata": {},
   "source": [
    "> Careful on checking for `NaN` values!"
   ]
  },
  {
   "cell_type": "code",
   "execution_count": null,
   "metadata": {
    "collapsed": true
   },
   "outputs": [],
   "source": [
    "# TODO"
   ]
  },
  {
   "cell_type": "markdown",
   "metadata": {},
   "source": [
    "> #### Activity: Create a frequency table for `Baths` over `Beds`"
   ]
  },
  {
   "cell_type": "code",
   "execution_count": null,
   "metadata": {
    "collapsed": true
   },
   "outputs": [],
   "source": [
    "# TODO"
   ]
  },
  {
   "cell_type": "markdown",
   "metadata": {},
   "source": [
    "> #### Activity: Create a frequency table for `Beds` and `Baths` (together) over the century the houses were built"
   ]
  },
  {
   "cell_type": "code",
   "execution_count": null,
   "metadata": {
    "collapsed": true
   },
   "outputs": [],
   "source": [
    "# TODO"
   ]
  }
 ],
 "metadata": {
  "kernelspec": {
   "display_name": "Python 2",
   "language": "python",
   "name": "python2"
  },
  "language_info": {
   "codemirror_mode": {
    "name": "ipython",
    "version": 2
   },
   "file_extension": ".py",
   "mimetype": "text/x-python",
   "name": "python",
   "nbconvert_exporter": "python",
   "pygments_lexer": "ipython2",
   "version": "2.7.14"
  }
 },
 "nbformat": 4,
 "nbformat_minor": 1
}
