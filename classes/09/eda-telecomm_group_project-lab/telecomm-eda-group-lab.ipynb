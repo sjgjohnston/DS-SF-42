{
 "cells": [
  {
   "cell_type": "markdown",
   "metadata": {
    "collapsed": true
   },
   "source": [
    "<img src=\"http://imgur.com/1ZcRyrc.png\" style=\"float: left; margin: 20px; height: 55px\">\n",
    "\n",
    "\n",
    "# Telecomm EDA Challenge Lab\n",
    "\n",
    "_Author: Alex Combs (NYC) _\n",
    "\n",
    "---"
   ]
  },
  {
   "cell_type": "markdown",
   "metadata": {},
   "source": [
    "Let's do some Exploratory Data Analysis (EDA)! As a data scientist, you often may find yourself given a data set you've never seen before, and asked to do a rapid analysis. This is today's goal.\n",
    "\n",
    "# Prompt\n",
    "\n",
    "You work for a telecommunications company. The company has been storing metadata about customer phone usage, as part of the regular course of business. Currently, this data is sitting in an unsecured database. The company doesn't want to pay to increase their database security, because they don't think there's really anything to be learned from the metadata.\n",
    "\n",
    "They are under pressure from \"right to privacy\" organizations to beef up the database security. These organizations argue that you can learn a lot about a person from their cell phone metadata.\n",
    "\n",
    "The telecom company wants to understand if this is true, and they want your help. They will give you one person's metadata for 2014 and want to see what you can learn from it.\n",
    "\n",
    "Working in teams, create a report revealing everything you can about the person. Prepare a presentation, with slides, showcasing your findings.\n",
    "\n",
    "\n",
    "# The Data\n",
    "\n",
    "The [person's metadata](./datasets/metadata.csv) has the following fields:\n",
    "\n",
    "| Field Name          | Description\n",
    "| ---                 | ---\n",
    "| **Cell Cgi**        | cell phone tower identifier\n",
    "| **Cell Tower**      | cell phone tower location\n",
    "| **Comm Identifier** |\tde-identified recipient of communication\n",
    "| **Comm Timedate String** | time of communication\n",
    "| **Comm Type\tId**  | type of communication\n",
    "| **Latitude**        | latitude of communication\n",
    "| **Longitude**       | longitude of communication\n"
   ]
  },
  {
   "cell_type": "markdown",
   "metadata": {},
   "source": [
    "# Hints\n",
    "\n",
    "This is totally open-ended! If you're totally stumped -- and only if stumped -- should you look below for prompts. As a starting point, given that you have geo-locations, consider investigating ways to display this type of information (i.e. mapping functionality).\n",
    "\n",
    "<font color='white'>\n",
    "Well for starters, he's in Australia!\n",
    "\n",
    "Ideas for things to look into:\n",
    "- where does he work?\n",
    "- where does he live?\n",
    "- who does he contact most often?\n",
    "- what hours does he work?\n",
    "- did he move?\n",
    "- did he go on holiday?  If so, where did he go?\n",
    "- did he get a new phone?\n",
    "\n",
    "Challenges:\n",
    "- how does he get to work?\n",
    "- where does his family live?\n",
    "- if he went on holiday, can you find which flights he took?\n",
    "- can you guess who some of his contacts are, based on the frequency, location, time and mode (phone/text) of communications?\n",
    "\n",
    "\n",
    "If you're stuck on how to map the data, you can try \"basemap\" or \"gmplot\", or anything else you find online.\n",
    "</font>"
   ]
  },
  {
   "cell_type": "code",
   "execution_count": 1,
   "metadata": {},
   "outputs": [
    {
     "name": "stdout",
     "output_type": "stream",
     "text": [
      "Solving environment: failed\n",
      "\n",
      "PackagesNotFoundError: The following packages are not available from current channels:\n",
      "\n",
      "  - folium\n",
      "\n",
      "Current channels:\n",
      "\n",
      "  - https://repo.continuum.io/pkgs/main/osx-64\n",
      "  - https://repo.continuum.io/pkgs/main/noarch\n",
      "  - https://repo.continuum.io/pkgs/free/osx-64\n",
      "  - https://repo.continuum.io/pkgs/free/noarch\n",
      "  - https://repo.continuum.io/pkgs/r/osx-64\n",
      "  - https://repo.continuum.io/pkgs/r/noarch\n",
      "  - https://repo.continuum.io/pkgs/pro/osx-64\n",
      "  - https://repo.continuum.io/pkgs/pro/noarch\n",
      "\n",
      "\n",
      "Collecting folium\n",
      "  Downloading folium-0.5.0.tar.gz (79kB)\n",
      "\u001b[K    100% |████████████████████████████████| 81kB 2.7MB/s ta 0:00:011\n",
      "\u001b[?25hCollecting branca (from folium)\n",
      "  Downloading branca-0.2.0-py2-none-any.whl\n",
      "Requirement already satisfied: jinja2 in /Users/sjohnston/anaconda2/lib/python2.7/site-packages (from folium)\n",
      "Requirement already satisfied: requests in /Users/sjohnston/anaconda2/lib/python2.7/site-packages (from folium)\n",
      "Requirement already satisfied: six in /Users/sjohnston/anaconda2/lib/python2.7/site-packages (from folium)\n",
      "Requirement already satisfied: MarkupSafe>=0.23 in /Users/sjohnston/anaconda2/lib/python2.7/site-packages (from jinja2->folium)\n",
      "Requirement already satisfied: chardet<3.1.0,>=3.0.2 in /Users/sjohnston/anaconda2/lib/python2.7/site-packages (from requests->folium)\n",
      "Requirement already satisfied: idna<2.7,>=2.5 in /Users/sjohnston/anaconda2/lib/python2.7/site-packages (from requests->folium)\n",
      "Requirement already satisfied: urllib3<1.23,>=1.21.1 in /Users/sjohnston/anaconda2/lib/python2.7/site-packages (from requests->folium)\n",
      "Requirement already satisfied: certifi>=2017.4.17 in /Users/sjohnston/anaconda2/lib/python2.7/site-packages (from requests->folium)\n",
      "Building wheels for collected packages: folium\n",
      "  Running setup.py bdist_wheel for folium ... \u001b[?25ldone\n",
      "\u001b[?25h  Stored in directory: /Users/sjohnston/Library/Caches/pip/wheels/04/d0/a0/b2b8356443364ae79743fce0b9b6a5b045f7560742129fde22\n",
      "Successfully built folium\n",
      "Installing collected packages: branca, folium\n",
      "Successfully installed branca-0.2.0 folium-0.5.0\n",
      "Collecting geopy\n",
      "  Downloading geopy-1.11.0-py2.py3-none-any.whl (66kB)\n",
      "\u001b[K    100% |████████████████████████████████| 71kB 2.5MB/s ta 0:00:011\n",
      "\u001b[?25hInstalling collected packages: geopy\n",
      "Successfully installed geopy-1.11.0\n",
      "Collecting gpxpy\n",
      "  Downloading gpxpy-1.1.2.tar.gz\n",
      "Building wheels for collected packages: gpxpy\n",
      "  Running setup.py bdist_wheel for gpxpy ... \u001b[?25ldone\n",
      "\u001b[?25h  Stored in directory: /Users/sjohnston/Library/Caches/pip/wheels/1b/b4/7c/c4775d65f2115b055c2cd6cbf4e4cac5bd4f5eb680d00db4f1\n",
      "Successfully built gpxpy\n",
      "Installing collected packages: gpxpy\n",
      "Successfully installed gpxpy-1.1.2\n"
     ]
    }
   ],
   "source": [
    "!conda install folium --yes\n",
    "!pip install folium\n",
    "\n",
    "!pip install geopy\n",
    "\n",
    "# pygmaps\n",
    "\n",
    "!pip install gpxpy\n",
    "import gpxpy.geo"
   ]
  },
  {
   "cell_type": "code",
   "execution_count": 13,
   "metadata": {},
   "outputs": [
    {
     "data": {
      "text/html": [
       "<div>\n",
       "<style>\n",
       "    .dataframe thead tr:only-child th {\n",
       "        text-align: right;\n",
       "    }\n",
       "\n",
       "    .dataframe thead th {\n",
       "        text-align: left;\n",
       "    }\n",
       "\n",
       "    .dataframe tbody tr th {\n",
       "        vertical-align: top;\n",
       "    }\n",
       "</style>\n",
       "<table border=\"1\" class=\"dataframe\">\n",
       "  <thead>\n",
       "    <tr style=\"text-align: right;\">\n",
       "      <th></th>\n",
       "      <th>Cell Cgi</th>\n",
       "      <th>Cell Tower Location</th>\n",
       "      <th>Comm Identifier</th>\n",
       "      <th>Comm Timedate String</th>\n",
       "      <th>Comm Type</th>\n",
       "      <th>Latitude</th>\n",
       "      <th>Longitude</th>\n",
       "    </tr>\n",
       "  </thead>\n",
       "  <tbody>\n",
       "    <tr>\n",
       "      <th>0</th>\n",
       "      <td>50501015388B9</td>\n",
       "      <td>REDFERN TE</td>\n",
       "      <td>f1a6836c0b7a3415a19a90fdd6f0ae18484d6d1e</td>\n",
       "      <td>4/1/14 9:40</td>\n",
       "      <td>Phone</td>\n",
       "      <td>-33.892933</td>\n",
       "      <td>151.202296</td>\n",
       "    </tr>\n",
       "    <tr>\n",
       "      <th>1</th>\n",
       "      <td>50501015388B9</td>\n",
       "      <td>REDFERN TE</td>\n",
       "      <td>62157ccf2910019ffd915b11fa037243b75c1624</td>\n",
       "      <td>4/1/14 9:42</td>\n",
       "      <td>Phone</td>\n",
       "      <td>-33.892933</td>\n",
       "      <td>151.202296</td>\n",
       "    </tr>\n",
       "    <tr>\n",
       "      <th>2</th>\n",
       "      <td>505010153111F</td>\n",
       "      <td>HAYMARKET #</td>\n",
       "      <td>c8f92bd0f4e6fb45ed7fce96fc831b283db2b642</td>\n",
       "      <td>4/1/14 13:13</td>\n",
       "      <td>Phone</td>\n",
       "      <td>-33.880329</td>\n",
       "      <td>151.205690</td>\n",
       "    </tr>\n",
       "    <tr>\n",
       "      <th>3</th>\n",
       "      <td>505010153111F</td>\n",
       "      <td>HAYMARKET #</td>\n",
       "      <td>f1a6836c0b7a3415a19a90fdd6f0ae18484d6d1e</td>\n",
       "      <td>4/1/14 13:13</td>\n",
       "      <td>Phone</td>\n",
       "      <td>-33.880329</td>\n",
       "      <td>151.205690</td>\n",
       "    </tr>\n",
       "    <tr>\n",
       "      <th>4</th>\n",
       "      <td>5.05E+106</td>\n",
       "      <td>HAYMARKET #</td>\n",
       "      <td>f1a6836c0b7a3415a19a90fdd6f0ae18484d6d1e</td>\n",
       "      <td>4/1/14 17:27</td>\n",
       "      <td>Phone</td>\n",
       "      <td>-33.880329</td>\n",
       "      <td>151.205690</td>\n",
       "    </tr>\n",
       "  </tbody>\n",
       "</table>\n",
       "</div>"
      ],
      "text/plain": [
       "        Cell Cgi Cell Tower Location  \\\n",
       "0  50501015388B9          REDFERN TE   \n",
       "1  50501015388B9          REDFERN TE   \n",
       "2  505010153111F         HAYMARKET #   \n",
       "3  505010153111F         HAYMARKET #   \n",
       "4      5.05E+106         HAYMARKET #   \n",
       "\n",
       "                            Comm Identifier Comm Timedate String Comm Type  \\\n",
       "0  f1a6836c0b7a3415a19a90fdd6f0ae18484d6d1e          4/1/14 9:40     Phone   \n",
       "1  62157ccf2910019ffd915b11fa037243b75c1624          4/1/14 9:42     Phone   \n",
       "2  c8f92bd0f4e6fb45ed7fce96fc831b283db2b642         4/1/14 13:13     Phone   \n",
       "3  f1a6836c0b7a3415a19a90fdd6f0ae18484d6d1e         4/1/14 13:13     Phone   \n",
       "4  f1a6836c0b7a3415a19a90fdd6f0ae18484d6d1e         4/1/14 17:27     Phone   \n",
       "\n",
       "    Latitude   Longitude  \n",
       "0 -33.892933  151.202296  \n",
       "1 -33.892933  151.202296  \n",
       "2 -33.880329  151.205690  \n",
       "3 -33.880329  151.205690  \n",
       "4 -33.880329  151.205690  "
      ]
     },
     "execution_count": 13,
     "metadata": {},
     "output_type": "execute_result"
    }
   ],
   "source": [
    "import numpy as np\n",
    "import pandas as pd\n",
    "\n",
    "person_data = pd.read_csv('./datasets/metadata.csv')\n",
    "person_data.head()"
   ]
  },
  {
   "cell_type": "code",
   "execution_count": 14,
   "metadata": {},
   "outputs": [
    {
     "data": {
      "text/plain": [
       "(10476, 7)"
      ]
     },
     "execution_count": 14,
     "metadata": {},
     "output_type": "execute_result"
    }
   ],
   "source": [
    "person_data.shape"
   ]
  },
  {
   "cell_type": "code",
   "execution_count": 15,
   "metadata": {},
   "outputs": [
    {
     "data": {
      "text/plain": [
       "131"
      ]
     },
     "execution_count": 15,
     "metadata": {},
     "output_type": "execute_result"
    }
   ],
   "source": [
    "person_data['Comm Identifier'].unique().size"
   ]
  },
  {
   "cell_type": "code",
   "execution_count": 20,
   "metadata": {},
   "outputs": [
    {
     "data": {
      "text/plain": [
       "0        False\n",
       "1        False\n",
       "2        False\n",
       "3        False\n",
       "4        False\n",
       "5        False\n",
       "6        False\n",
       "7        False\n",
       "8        False\n",
       "9        False\n",
       "10       False\n",
       "11       False\n",
       "12       False\n",
       "13       False\n",
       "14       False\n",
       "15       False\n",
       "16       False\n",
       "17       False\n",
       "18       False\n",
       "19       False\n",
       "20       False\n",
       "21       False\n",
       "22       False\n",
       "23       False\n",
       "24       False\n",
       "25       False\n",
       "26       False\n",
       "27       False\n",
       "28       False\n",
       "29       False\n",
       "         ...  \n",
       "10446    False\n",
       "10447    False\n",
       "10448    False\n",
       "10449    False\n",
       "10450    False\n",
       "10451    False\n",
       "10452    False\n",
       "10453    False\n",
       "10454    False\n",
       "10455    False\n",
       "10456    False\n",
       "10457    False\n",
       "10458    False\n",
       "10459    False\n",
       "10460    False\n",
       "10461    False\n",
       "10462    False\n",
       "10463    False\n",
       "10464    False\n",
       "10465    False\n",
       "10466    False\n",
       "10467    False\n",
       "10468    False\n",
       "10469    False\n",
       "10470    False\n",
       "10471    False\n",
       "10472    False\n",
       "10473    False\n",
       "10474    False\n",
       "10475    False\n",
       "Name: Longitude, Length: 10476, dtype: bool"
      ]
     },
     "execution_count": 20,
     "metadata": {},
     "output_type": "execute_result"
    }
   ],
   "source": [
    "person_data['Latitude'].isnull()\n",
    "person_data['Longitude'].isnull()"
   ]
  },
  {
   "cell_type": "code",
   "execution_count": 93,
   "metadata": {},
   "outputs": [
    {
     "name": "stdout",
     "output_type": "stream",
     "text": [
      "-33.89293336\n",
      "151.2022962\n"
     ]
    }
   ],
   "source": [
    "import folium\n",
    "\n",
    "print person_data.at[0,'Latitude']\n",
    "print person_data.at[0,'Longitude']\n",
    "\n"
   ]
  },
  {
   "cell_type": "code",
   "execution_count": 108,
   "metadata": {},
   "outputs": [
    {
     "data": {
      "text/html": [
       "<div style=\"width:100%;\"><div style=\"position:relative;width:100%;height:0;padding-bottom:60%;\"><iframe src=\"data:text/html;charset=utf-8;base64,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\" style=\"position:absolute;width:100%;height:100%;left:0;top:0;border:none !important;\" allowfullscreen webkitallowfullscreen mozallowfullscreen></iframe></div></div>"
      ],
      "text/plain": [
       "<folium.folium.Map at 0x1084aba90>"
      ]
     },
     "execution_count": 108,
     "metadata": {},
     "output_type": "execute_result"
    }
   ],
   "source": [
    "latitude = person_data.at[0,'Latitude']\n",
    "longitude = person_data.at[0,'Longitude']\n",
    "\n",
    "person_locations = folium.Map(location=[latitude, longitude])\n",
    "\n",
    "person_locations"
   ]
  },
  {
   "cell_type": "code",
   "execution_count": 70,
   "metadata": {},
   "outputs": [
    {
     "data": {
      "text/html": [
       "<div>\n",
       "<style>\n",
       "    .dataframe thead tr:only-child th {\n",
       "        text-align: right;\n",
       "    }\n",
       "\n",
       "    .dataframe thead th {\n",
       "        text-align: left;\n",
       "    }\n",
       "\n",
       "    .dataframe tbody tr th {\n",
       "        vertical-align: top;\n",
       "    }\n",
       "</style>\n",
       "<table border=\"1\" class=\"dataframe\">\n",
       "  <thead>\n",
       "    <tr style=\"text-align: right;\">\n",
       "      <th></th>\n",
       "      <th>Cell Cgi</th>\n",
       "      <th>Cell Tower Location</th>\n",
       "      <th>Comm Identifier</th>\n",
       "      <th>Comm Timedate String</th>\n",
       "      <th>Comm Type</th>\n",
       "      <th>Latitude</th>\n",
       "      <th>Longitude</th>\n",
       "      <th>LatLong</th>\n",
       "    </tr>\n",
       "  </thead>\n",
       "  <tbody>\n",
       "    <tr>\n",
       "      <th>0</th>\n",
       "      <td>50501015388B9</td>\n",
       "      <td>REDFERN TE</td>\n",
       "      <td>f1a6836c0b7a3415a19a90fdd6f0ae18484d6d1e</td>\n",
       "      <td>4/1/14 9:40</td>\n",
       "      <td>Phone</td>\n",
       "      <td>-33.892933</td>\n",
       "      <td>151.202296</td>\n",
       "      <td>(-33.89293336, 151.2022962)</td>\n",
       "    </tr>\n",
       "    <tr>\n",
       "      <th>1</th>\n",
       "      <td>50501015388B9</td>\n",
       "      <td>REDFERN TE</td>\n",
       "      <td>62157ccf2910019ffd915b11fa037243b75c1624</td>\n",
       "      <td>4/1/14 9:42</td>\n",
       "      <td>Phone</td>\n",
       "      <td>-33.892933</td>\n",
       "      <td>151.202296</td>\n",
       "      <td>(-33.89293336, 151.2022962)</td>\n",
       "    </tr>\n",
       "    <tr>\n",
       "      <th>2</th>\n",
       "      <td>505010153111F</td>\n",
       "      <td>HAYMARKET #</td>\n",
       "      <td>c8f92bd0f4e6fb45ed7fce96fc831b283db2b642</td>\n",
       "      <td>4/1/14 13:13</td>\n",
       "      <td>Phone</td>\n",
       "      <td>-33.880329</td>\n",
       "      <td>151.205690</td>\n",
       "      <td>(-33.88032891, 151.2056904)</td>\n",
       "    </tr>\n",
       "    <tr>\n",
       "      <th>3</th>\n",
       "      <td>505010153111F</td>\n",
       "      <td>HAYMARKET #</td>\n",
       "      <td>f1a6836c0b7a3415a19a90fdd6f0ae18484d6d1e</td>\n",
       "      <td>4/1/14 13:13</td>\n",
       "      <td>Phone</td>\n",
       "      <td>-33.880329</td>\n",
       "      <td>151.205690</td>\n",
       "      <td>(-33.88032891, 151.2056904)</td>\n",
       "    </tr>\n",
       "    <tr>\n",
       "      <th>4</th>\n",
       "      <td>5.05E+106</td>\n",
       "      <td>HAYMARKET #</td>\n",
       "      <td>f1a6836c0b7a3415a19a90fdd6f0ae18484d6d1e</td>\n",
       "      <td>4/1/14 17:27</td>\n",
       "      <td>Phone</td>\n",
       "      <td>-33.880329</td>\n",
       "      <td>151.205690</td>\n",
       "      <td>(-33.88032891, 151.2056904)</td>\n",
       "    </tr>\n",
       "  </tbody>\n",
       "</table>\n",
       "</div>"
      ],
      "text/plain": [
       "        Cell Cgi Cell Tower Location  \\\n",
       "0  50501015388B9          REDFERN TE   \n",
       "1  50501015388B9          REDFERN TE   \n",
       "2  505010153111F         HAYMARKET #   \n",
       "3  505010153111F         HAYMARKET #   \n",
       "4      5.05E+106         HAYMARKET #   \n",
       "\n",
       "                            Comm Identifier Comm Timedate String Comm Type  \\\n",
       "0  f1a6836c0b7a3415a19a90fdd6f0ae18484d6d1e          4/1/14 9:40     Phone   \n",
       "1  62157ccf2910019ffd915b11fa037243b75c1624          4/1/14 9:42     Phone   \n",
       "2  c8f92bd0f4e6fb45ed7fce96fc831b283db2b642         4/1/14 13:13     Phone   \n",
       "3  f1a6836c0b7a3415a19a90fdd6f0ae18484d6d1e         4/1/14 13:13     Phone   \n",
       "4  f1a6836c0b7a3415a19a90fdd6f0ae18484d6d1e         4/1/14 17:27     Phone   \n",
       "\n",
       "    Latitude   Longitude                      LatLong  \n",
       "0 -33.892933  151.202296  (-33.89293336, 151.2022962)  \n",
       "1 -33.892933  151.202296  (-33.89293336, 151.2022962)  \n",
       "2 -33.880329  151.205690  (-33.88032891, 151.2056904)  \n",
       "3 -33.880329  151.205690  (-33.88032891, 151.2056904)  \n",
       "4 -33.880329  151.205690  (-33.88032891, 151.2056904)  "
      ]
     },
     "execution_count": 70,
     "metadata": {},
     "output_type": "execute_result"
    }
   ],
   "source": [
    "person_data['LatLong'] = list(zip(person_data.Latitude,person_data.Longitude))\n",
    "person_data.head()\n"
   ]
  },
  {
   "cell_type": "code",
   "execution_count": 74,
   "metadata": {},
   "outputs": [
    {
     "data": {
      "text/plain": [
       "array([(-33.892933360000001, 151.20229619999998),\n",
       "       (-33.880328910000003, 151.20569040000001),\n",
       "       (-33.884171029999997, 151.20235), (-33.880240000000001, 151.20569),\n",
       "       (-33.861129999999996, 151.21293),\n",
       "       (-33.796610000000001, 151.27756000000002),\n",
       "       (-33.796678999999997, 151.285293), (-33.88964, 151.21142),\n",
       "       (-33.87829, 151.20345), (-33.886400000000002, 151.2088),\n",
       "       (-33.934159999999999, 151.17938000000001),\n",
       "       (-42.837620000000001, 147.50575000000001),\n",
       "       (-42.843379999999996, 147.29568999999998),\n",
       "       (-42.859840000000005, 147.29214999999999),\n",
       "       (-42.853070000000002, 147.31531999999999),\n",
       "       (-42.860599999999998, 147.45419999999999),\n",
       "       (-33.866549999999997, 151.21033), (-33.87932, 151.23802000000001),\n",
       "       (-33.896050000000002, 151.17963999999998),\n",
       "       (-33.892330000000001, 151.21653000000001),\n",
       "       (-33.878140000000002, 151.21360000000001),\n",
       "       (-33.870550000000001, 151.20793), (-33.8703, 151.21010000000001),\n",
       "       (-33.872149999999998, 151.20614),\n",
       "       (-33.793647999999997, 151.26393400000001),\n",
       "       (-33.806379999999997, 151.24698000000001),\n",
       "       (-33.830959999999997, 151.22548999999998),\n",
       "       (-33.924799, 151.18804299999999), (-42.88194, 147.32893000000001),\n",
       "       (-42.881009999999996, 147.33346),\n",
       "       (-33.884603000000006, 151.19564299999999),\n",
       "       (-37.670417999999998, 144.848243),\n",
       "       (-37.777799999999999, 144.93000000000001),\n",
       "       (-37.792900000000003, 144.96872999999999),\n",
       "       (-33.828072999999996, 151.22627499999999),\n",
       "       (-33.799479999999996, 151.28933999999998),\n",
       "       (-33.878999999999998, 151.19801000000001),\n",
       "       (-33.779333000000001, 151.27690100000001),\n",
       "       (-33.866329999999998, 151.20469),\n",
       "       (-33.788150000000002, 151.26653999999999),\n",
       "       (-33.875129999999999, 151.20583999999999),\n",
       "       (-33.79345, 151.26310000000001),\n",
       "       (-33.792749999999998, 151.24125000000001),\n",
       "       (-33.934674000000001, 151.16451999999998),\n",
       "       (-33.923217000000001, 151.18734499999999),\n",
       "       (-33.937558000000003, 151.16569999999999),\n",
       "       (-33.946740000000005, 151.16713999999999),\n",
       "       (-33.932850000000002, 151.1842), (-33.905329999999999, 151.205781),\n",
       "       (-33.859470000000002, 151.20748999999998),\n",
       "       (-33.8294, 151.21827999999999),\n",
       "       (-33.791965000000005, 151.28658899999999),\n",
       "       (-42.874569999999999, 147.31788), (-42.880290000000002, 147.32808),\n",
       "       (-33.834150000000001, 151.20889),\n",
       "       (-33.880580000000002, 151.20046000000002),\n",
       "       (-42.828420000000001, 147.30784),\n",
       "       (-42.884809999999995, 147.32748000000001), (-33.75949, 151.28135),\n",
       "       (-33.63599, 151.14689999999999), (-33.71763, 151.11658),\n",
       "       (-33.578389999999999, 151.18445), (-33.6038, 151.16390000000001),\n",
       "       (-33.557310000000001, 151.19353000000001),\n",
       "       (-33.862850000000002, 151.20842999999999),\n",
       "       (-33.911320000000003, 151.20394999999999),\n",
       "       (-36.167929999999998, 146.88306),\n",
       "       (-36.356699999999996, 146.71360000000001),\n",
       "       (-36.331074999999998, 146.07543200000001),\n",
       "       (-36.502179999999996, 146.11177000000001)], dtype=object)"
      ]
     },
     "execution_count": 74,
     "metadata": {},
     "output_type": "execute_result"
    }
   ],
   "source": [
    "person_data['LatLong'].unique()"
   ]
  },
  {
   "cell_type": "code",
   "execution_count": 75,
   "metadata": {},
   "outputs": [
    {
     "data": {
      "text/plain": [
       "70"
      ]
     },
     "execution_count": 75,
     "metadata": {},
     "output_type": "execute_result"
    }
   ],
   "source": [
    "person_data['LatLong'].nunique()"
   ]
  },
  {
   "cell_type": "code",
   "execution_count": 78,
   "metadata": {},
   "outputs": [
    {
     "data": {
      "text/plain": [
       "(-33.78815, 151.26654)         4301\n",
       "(-33.88417103, 151.20235)      1084\n",
       "(-42.84338, 147.29569)          723\n",
       "(-33.89293336, 151.2022962)     712\n",
       "(-33.88032891, 151.2056904)     563\n",
       "(-42.85984, 147.29215)          501\n",
       "(-33.779333, 151.276901)        465\n",
       "(-33.79661, 151.27756)          454\n",
       "(-33.796679, 151.285293)        231\n",
       "(-42.85307, 147.31532)          197\n",
       "(-33.87829, 151.20345)          161\n",
       "(-36.3567, 146.7136)            112\n",
       "(-33.793648, 151.263934)        106\n",
       "Name: LatLong, dtype: int64"
      ]
     },
     "execution_count": 78,
     "metadata": {},
     "output_type": "execute_result"
    }
   ],
   "source": [
    "top_locations = person_data['LatLong'].value_counts().head(13)\n",
    "top_locations"
   ]
  },
  {
   "cell_type": "code",
   "execution_count": 105,
   "metadata": {},
   "outputs": [
    {
     "data": {
      "text/plain": [
       "1084"
      ]
     },
     "execution_count": 105,
     "metadata": {},
     "output_type": "execute_result"
    }
   ],
   "source": [
    "top_locations[1]"
   ]
  },
  {
   "cell_type": "code",
   "execution_count": 106,
   "metadata": {},
   "outputs": [
    {
     "data": {
      "text/html": [
       "<div style=\"width:100%;\"><div style=\"position:relative;width:100%;height:0;padding-bottom:60%;\"><iframe src=\"data:text/html;charset=utf-8;base64,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\" style=\"position:absolute;width:100%;height:100%;left:0;top:0;border:none !important;\" allowfullscreen webkitallowfullscreen mozallowfullscreen></iframe></div></div>"
      ],
      "text/plain": [
       "<folium.folium.Map at 0x108404b90>"
      ]
     },
     "execution_count": 106,
     "metadata": {},
     "output_type": "execute_result"
    }
   ],
   "source": [
    "latitude = person_data.at[0,'Latitude']\n",
    "longitude = person_data.at[0,'Longitude']\n",
    "\n",
    "person_locations = folium.Map(location=[latitude, longitude])\n",
    "#person_locations\n",
    "\n",
    "counter = -1\n",
    "for latlong in top_locations.index:\n",
    "    counter += 1\n",
    "    count_of_visits = top_locations[counter]\n",
    "    \n",
    "    latitude = latlong[0]\n",
    "    longitude = latlong[1]\n",
    "\n",
    "    folium.Marker([latitude, longitude],\n",
    "        popup=str(count_of_visits),\n",
    "        icon=folium.Icon(color='green')).add_to(person_locations)\n",
    "\n",
    "person_locations\n",
    "\n"
   ]
  },
  {
   "cell_type": "code",
   "execution_count": null,
   "metadata": {},
   "outputs": [],
   "source": []
  },
  {
   "cell_type": "code",
   "execution_count": null,
   "metadata": {
    "collapsed": true
   },
   "outputs": [],
   "source": []
  }
 ],
 "metadata": {
  "kernelspec": {
   "display_name": "Python 2",
   "language": "python",
   "name": "python2"
  },
  "language_info": {
   "codemirror_mode": {
    "name": "ipython",
    "version": 2
   },
   "file_extension": ".py",
   "mimetype": "text/x-python",
   "name": "python",
   "nbconvert_exporter": "python",
   "pygments_lexer": "ipython2",
   "version": "2.7.14"
  }
 },
 "nbformat": 4,
 "nbformat_minor": 2
}
