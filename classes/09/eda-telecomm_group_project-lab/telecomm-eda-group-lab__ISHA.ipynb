{
 "cells": [
  {
   "cell_type": "markdown",
   "metadata": {
    "collapsed": true
   },
   "source": [
    "<img src=\"http://imgur.com/1ZcRyrc.png\" style=\"float: left; margin: 20px; height: 55px\">\n",
    "\n",
    "\n",
    "# Telecomm EDA Challenge Lab\n",
    "\n",
    "_Author: Alex Combs (NYC) _\n",
    "\n",
    "---"
   ]
  },
  {
   "cell_type": "markdown",
   "metadata": {},
   "source": [
    "Let's do some Exploratory Data Analysis (EDA)! As a data scientist, you often may find yourself given a data set you've never seen before, and asked to do a rapid analysis. This is today's goal.\n",
    "\n",
    "# Prompt\n",
    "\n",
    "You work for a telecommunications company. The company has been storing metadata about customer phone usage, as part of the regular course of business. Currently, this data is sitting in an unsecured database. The company doesn't want to pay to increase their database security, because they don't think there's really anything to be learned from the metadata.\n",
    "\n",
    "They are under pressure from \"right to privacy\" organizations to beef up the database security. These organizations argue that you can learn a lot about a person from their cell phone metadata.\n",
    "\n",
    "The telecom company wants to understand if this is true, and they want your help. They will give you one person's metadata for 2014 and want to see what you can learn from it.\n",
    "\n",
    "Working in teams, create a report revealing everything you can about the person. Prepare a presentation, with slides, showcasing your findings.\n",
    "\n",
    "\n",
    "# The Data\n",
    "\n",
    "The [person's metadata](./datasets/metadata.csv) has the following fields:\n",
    "\n",
    "| Field Name          | Description\n",
    "| ---                 | ---\n",
    "| **Cell Cgi**        | cell phone tower identifier\n",
    "| **Cell Tower**      | cell phone tower location\n",
    "| **Comm Identifier** |\tde-identified recipient of communication\n",
    "| **Comm Timedate String** | time of communication\n",
    "| **Comm Type\tId**  | type of communication\n",
    "| **Latitude**        | latitude of communication\n",
    "| **Longitude**       | longitude of communication\n"
   ]
  },
  {
   "cell_type": "markdown",
   "metadata": {},
   "source": [
    "# Hints\n",
    "\n",
    "This is totally open-ended! If you're totally stumped -- and only if stumped -- should you look below for prompts. As a starting point, given that you have geo-locations, consider investigating ways to display this type of information (i.e. mapping functionality).\n",
    "\n",
    "<font color='white'>\n",
    "Well for starters, he's in Australia!\n",
    "\n",
    "Ideas for things to look into:\n",
    "- where does he work?\n",
    "- where does he live?\n",
    "- who does he contact most often?\n",
    "- what hours does he work?\n",
    "- did he move?\n",
    "- did he go on holiday?  If so, where did he go?\n",
    "- did he get a new phone?\n",
    "\n",
    "Challenges:\n",
    "- how does he get to work?\n",
    "- where does his family live?\n",
    "- if he went on holiday, can you find which flights he took?\n",
    "- can you guess who some of his contacts are, based on the frequency, location, time and mode (phone/text) of communications?\n",
    "\n",
    "\n",
    "If you're stuck on how to map the data, you can try \"basemap\" or \"gmplot\", or anything else you find online.\n",
    "</font>"
   ]
  },
  {
   "cell_type": "code",
   "execution_count": 61,
   "metadata": {
    "collapsed": true
   },
   "outputs": [],
   "source": [
    "import pandas as pd\n",
    "import numpy as np\n",
    "import matplotlib.pyplot as plt\n",
    "import seaborn as sns\n",
    "%matplotlib inline"
   ]
  },
  {
   "cell_type": "code",
   "execution_count": 2,
   "metadata": {},
   "outputs": [
    {
     "name": "stdout",
     "output_type": "stream",
     "text": [
      "Fetching package metadata ...........\n",
      "\n",
      "PackageNotFoundError: Packages missing in current channels:\n",
      "            \n",
      "  - folium\n",
      "\n",
      "We have searched for the packages in the following channels:\n",
      "            \n",
      "  - https://repo.continuum.io/pkgs/main/osx-64\n",
      "  - https://repo.continuum.io/pkgs/main/noarch\n",
      "  - https://repo.continuum.io/pkgs/free/osx-64\n",
      "  - https://repo.continuum.io/pkgs/free/noarch\n",
      "  - https://repo.continuum.io/pkgs/r/osx-64\n",
      "  - https://repo.continuum.io/pkgs/r/noarch\n",
      "  - https://repo.continuum.io/pkgs/pro/osx-64\n",
      "  - https://repo.continuum.io/pkgs/pro/noarch\n",
      "            \n",
      "\n",
      "Collecting folium\n",
      "  Downloading folium-0.5.0.tar.gz (79kB)\n",
      "\u001b[K    100% |████████████████████████████████| 81kB 2.2MB/s ta 0:00:011\n",
      "\u001b[?25hCollecting branca (from folium)\n",
      "  Downloading branca-0.2.0-py3-none-any.whl\n",
      "Requirement already satisfied: jinja2 in /Users/ishashah/Applications/anaconda/lib/python3.6/site-packages (from folium)\n",
      "Requirement already satisfied: requests in /Users/ishashah/Applications/anaconda/lib/python3.6/site-packages (from folium)\n",
      "Requirement already satisfied: six in /Users/ishashah/Applications/anaconda/lib/python3.6/site-packages (from folium)\n",
      "Requirement already satisfied: MarkupSafe>=0.23 in /Users/ishashah/Applications/anaconda/lib/python3.6/site-packages (from jinja2->folium)\n",
      "Building wheels for collected packages: folium\n",
      "  Running setup.py bdist_wheel for folium ... \u001b[?25ldone\n",
      "\u001b[?25h  Stored in directory: /Users/ishashah/Library/Caches/pip/wheels/04/d0/a0/b2b8356443364ae79743fce0b9b6a5b045f7560742129fde22\n",
      "Successfully built folium\n",
      "Installing collected packages: branca, folium\n",
      "Successfully installed branca-0.2.0 folium-0.5.0\n",
      "Collecting geopy\n",
      "  Downloading geopy-1.11.0-py2.py3-none-any.whl (66kB)\n",
      "\u001b[K    100% |████████████████████████████████| 71kB 769kB/s ta 0:00:01\n",
      "\u001b[?25hInstalling collected packages: geopy\n",
      "Successfully installed geopy-1.11.0\n"
     ]
    }
   ],
   "source": [
    "!conda install folium\n",
    "!pip install folium\n",
    "!pip install geopy"
   ]
  },
  {
   "cell_type": "code",
   "execution_count": 3,
   "metadata": {},
   "outputs": [
    {
     "name": "stdout",
     "output_type": "stream",
     "text": [
      "Collecting gpxpy\n",
      "  Downloading gpxpy-1.1.2.tar.gz\n",
      "Building wheels for collected packages: gpxpy\n",
      "  Running setup.py bdist_wheel for gpxpy ... \u001b[?25ldone\n",
      "\u001b[?25h  Stored in directory: /Users/ishashah/Library/Caches/pip/wheels/1b/b4/7c/c4775d65f2115b055c2cd6cbf4e4cac5bd4f5eb680d00db4f1\n",
      "Successfully built gpxpy\n",
      "Installing collected packages: gpxpy\n",
      "Successfully installed gpxpy-1.1.2\n"
     ]
    }
   ],
   "source": [
    "!pip install gpxpy\n",
    "import gpxpy.geo"
   ]
  },
  {
   "cell_type": "code",
   "execution_count": 4,
   "metadata": {},
   "outputs": [
    {
     "data": {
      "text/html": [
       "<div>\n",
       "<style>\n",
       "    .dataframe thead tr:only-child th {\n",
       "        text-align: right;\n",
       "    }\n",
       "\n",
       "    .dataframe thead th {\n",
       "        text-align: left;\n",
       "    }\n",
       "\n",
       "    .dataframe tbody tr th {\n",
       "        vertical-align: top;\n",
       "    }\n",
       "</style>\n",
       "<table border=\"1\" class=\"dataframe\">\n",
       "  <thead>\n",
       "    <tr style=\"text-align: right;\">\n",
       "      <th></th>\n",
       "      <th>Cell Cgi</th>\n",
       "      <th>Cell Tower Location</th>\n",
       "      <th>Comm Identifier</th>\n",
       "      <th>Comm Timedate String</th>\n",
       "      <th>Comm Type</th>\n",
       "      <th>Latitude</th>\n",
       "      <th>Longitude</th>\n",
       "    </tr>\n",
       "  </thead>\n",
       "  <tbody>\n",
       "    <tr>\n",
       "      <th>0</th>\n",
       "      <td>50501015388B9</td>\n",
       "      <td>REDFERN TE</td>\n",
       "      <td>f1a6836c0b7a3415a19a90fdd6f0ae18484d6d1e</td>\n",
       "      <td>4/1/14 9:40</td>\n",
       "      <td>Phone</td>\n",
       "      <td>-33.892933</td>\n",
       "      <td>151.202296</td>\n",
       "    </tr>\n",
       "    <tr>\n",
       "      <th>1</th>\n",
       "      <td>50501015388B9</td>\n",
       "      <td>REDFERN TE</td>\n",
       "      <td>62157ccf2910019ffd915b11fa037243b75c1624</td>\n",
       "      <td>4/1/14 9:42</td>\n",
       "      <td>Phone</td>\n",
       "      <td>-33.892933</td>\n",
       "      <td>151.202296</td>\n",
       "    </tr>\n",
       "    <tr>\n",
       "      <th>2</th>\n",
       "      <td>505010153111F</td>\n",
       "      <td>HAYMARKET #</td>\n",
       "      <td>c8f92bd0f4e6fb45ed7fce96fc831b283db2b642</td>\n",
       "      <td>4/1/14 13:13</td>\n",
       "      <td>Phone</td>\n",
       "      <td>-33.880329</td>\n",
       "      <td>151.205690</td>\n",
       "    </tr>\n",
       "    <tr>\n",
       "      <th>3</th>\n",
       "      <td>505010153111F</td>\n",
       "      <td>HAYMARKET #</td>\n",
       "      <td>f1a6836c0b7a3415a19a90fdd6f0ae18484d6d1e</td>\n",
       "      <td>4/1/14 13:13</td>\n",
       "      <td>Phone</td>\n",
       "      <td>-33.880329</td>\n",
       "      <td>151.205690</td>\n",
       "    </tr>\n",
       "    <tr>\n",
       "      <th>4</th>\n",
       "      <td>5.05E+106</td>\n",
       "      <td>HAYMARKET #</td>\n",
       "      <td>f1a6836c0b7a3415a19a90fdd6f0ae18484d6d1e</td>\n",
       "      <td>4/1/14 17:27</td>\n",
       "      <td>Phone</td>\n",
       "      <td>-33.880329</td>\n",
       "      <td>151.205690</td>\n",
       "    </tr>\n",
       "  </tbody>\n",
       "</table>\n",
       "</div>"
      ],
      "text/plain": [
       "        Cell Cgi Cell Tower Location  \\\n",
       "0  50501015388B9          REDFERN TE   \n",
       "1  50501015388B9          REDFERN TE   \n",
       "2  505010153111F         HAYMARKET #   \n",
       "3  505010153111F         HAYMARKET #   \n",
       "4      5.05E+106         HAYMARKET #   \n",
       "\n",
       "                            Comm Identifier Comm Timedate String Comm Type  \\\n",
       "0  f1a6836c0b7a3415a19a90fdd6f0ae18484d6d1e          4/1/14 9:40     Phone   \n",
       "1  62157ccf2910019ffd915b11fa037243b75c1624          4/1/14 9:42     Phone   \n",
       "2  c8f92bd0f4e6fb45ed7fce96fc831b283db2b642         4/1/14 13:13     Phone   \n",
       "3  f1a6836c0b7a3415a19a90fdd6f0ae18484d6d1e         4/1/14 13:13     Phone   \n",
       "4  f1a6836c0b7a3415a19a90fdd6f0ae18484d6d1e         4/1/14 17:27     Phone   \n",
       "\n",
       "    Latitude   Longitude  \n",
       "0 -33.892933  151.202296  \n",
       "1 -33.892933  151.202296  \n",
       "2 -33.880329  151.205690  \n",
       "3 -33.880329  151.205690  \n",
       "4 -33.880329  151.205690  "
      ]
     },
     "execution_count": 4,
     "metadata": {},
     "output_type": "execute_result"
    }
   ],
   "source": [
    "df = pd.read_csv('datasets/metadata.csv')\n",
    "df.head()"
   ]
  },
  {
   "cell_type": "code",
   "execution_count": 5,
   "metadata": {},
   "outputs": [
    {
     "data": {
      "text/plain": [
       "(10476, 7)"
      ]
     },
     "execution_count": 5,
     "metadata": {},
     "output_type": "execute_result"
    }
   ],
   "source": [
    "df.shape"
   ]
  },
  {
   "cell_type": "code",
   "execution_count": 6,
   "metadata": {
    "scrolled": true
   },
   "outputs": [
    {
     "data": {
      "text/html": [
       "<div>\n",
       "<style>\n",
       "    .dataframe thead tr:only-child th {\n",
       "        text-align: right;\n",
       "    }\n",
       "\n",
       "    .dataframe thead th {\n",
       "        text-align: left;\n",
       "    }\n",
       "\n",
       "    .dataframe tbody tr th {\n",
       "        vertical-align: top;\n",
       "    }\n",
       "</style>\n",
       "<table border=\"1\" class=\"dataframe\">\n",
       "  <thead>\n",
       "    <tr style=\"text-align: right;\">\n",
       "      <th></th>\n",
       "      <th>Latitude</th>\n",
       "      <th>Longitude</th>\n",
       "    </tr>\n",
       "  </thead>\n",
       "  <tbody>\n",
       "    <tr>\n",
       "      <th>count</th>\n",
       "      <td>10476.000000</td>\n",
       "      <td>10476.000000</td>\n",
       "    </tr>\n",
       "    <tr>\n",
       "      <th>mean</th>\n",
       "      <td>-35.136188</td>\n",
       "      <td>150.612841</td>\n",
       "    </tr>\n",
       "    <tr>\n",
       "      <th>std</th>\n",
       "      <td>3.141723</td>\n",
       "      <td>1.470169</td>\n",
       "    </tr>\n",
       "    <tr>\n",
       "      <th>min</th>\n",
       "      <td>-42.884810</td>\n",
       "      <td>144.848243</td>\n",
       "    </tr>\n",
       "    <tr>\n",
       "      <th>25%</th>\n",
       "      <td>-33.884603</td>\n",
       "      <td>151.202296</td>\n",
       "    </tr>\n",
       "    <tr>\n",
       "      <th>50%</th>\n",
       "      <td>-33.796610</td>\n",
       "      <td>151.266540</td>\n",
       "    </tr>\n",
       "    <tr>\n",
       "      <th>75%</th>\n",
       "      <td>-33.788150</td>\n",
       "      <td>151.266540</td>\n",
       "    </tr>\n",
       "    <tr>\n",
       "      <th>max</th>\n",
       "      <td>-33.557310</td>\n",
       "      <td>151.289340</td>\n",
       "    </tr>\n",
       "  </tbody>\n",
       "</table>\n",
       "</div>"
      ],
      "text/plain": [
       "           Latitude     Longitude\n",
       "count  10476.000000  10476.000000\n",
       "mean     -35.136188    150.612841\n",
       "std        3.141723      1.470169\n",
       "min      -42.884810    144.848243\n",
       "25%      -33.884603    151.202296\n",
       "50%      -33.796610    151.266540\n",
       "75%      -33.788150    151.266540\n",
       "max      -33.557310    151.289340"
      ]
     },
     "execution_count": 6,
     "metadata": {},
     "output_type": "execute_result"
    }
   ],
   "source": [
    "df.describe()"
   ]
  },
  {
   "cell_type": "code",
   "execution_count": 12,
   "metadata": {},
   "outputs": [
    {
     "data": {
      "text/plain": [
       "array([-33.89293336, -33.88032891, -33.88417103, -33.88024   ,\n",
       "       -33.86113   , -33.79661   , -33.796679  , -33.88964   ,\n",
       "       -33.87829   , -33.8864    , -33.93416   , -42.83762   ,\n",
       "       -42.84338   , -42.85984   , -42.85307   , -42.8606    ,\n",
       "       -33.86655   , -33.87932   , -33.89605   , -33.89233   ,\n",
       "       -33.87814   , -33.87055   , -33.8703    , -33.87215   ,\n",
       "       -33.793648  , -33.80638   , -33.83096   , -33.924799  ,\n",
       "       -42.88194   , -42.88101   , -33.884603  , -37.670418  ,\n",
       "       -37.7778    , -37.7929    , -33.828073  , -33.79948   ,\n",
       "       -33.879     , -33.779333  , -33.86633   , -33.78815   ,\n",
       "       -33.87513   , -33.79345   , -33.79275   , -33.934674  ,\n",
       "       -33.923217  , -33.937558  , -33.94674   , -33.93285   ,\n",
       "       -33.90533   , -33.85947   , -33.8294    , -33.791965  ,\n",
       "       -42.87457   , -42.88029   , -33.83415   , -33.88058   ,\n",
       "       -42.82842   , -42.88481   , -33.75949   , -33.63599   ,\n",
       "       -33.71763   , -33.57839   , -33.6038    , -33.55731   ,\n",
       "       -33.86285   , -33.91132   , -36.16793   , -36.3567    ,\n",
       "       -36.331075  , -36.50218   ])"
      ]
     },
     "execution_count": 12,
     "metadata": {},
     "output_type": "execute_result"
    }
   ],
   "source": [
    "df['Latitude'].unique()"
   ]
  },
  {
   "cell_type": "code",
   "execution_count": 7,
   "metadata": {},
   "outputs": [
    {
     "data": {
      "text/plain": [
       "array(['4/1/14 9:40', '4/1/14 9:42', '4/1/14 13:13', ..., '4/1/15 22:44',\n",
       "       '4/1/15 22:45', '4/1/15 23:49'], dtype=object)"
      ]
     },
     "execution_count": 7,
     "metadata": {},
     "output_type": "execute_result"
    }
   ],
   "source": [
    "df['Comm Timedate String'].unique()"
   ]
  },
  {
   "cell_type": "code",
   "execution_count": 8,
   "metadata": {},
   "outputs": [
    {
     "data": {
      "text/plain": [
       "array(['Phone', 'SMS', 'Internet'], dtype=object)"
      ]
     },
     "execution_count": 8,
     "metadata": {},
     "output_type": "execute_result"
    }
   ],
   "source": [
    "df['Comm Type'].unique()"
   ]
  },
  {
   "cell_type": "code",
   "execution_count": 9,
   "metadata": {},
   "outputs": [
    {
     "data": {
      "text/plain": [
       "Cell Tower Location                       Comm Type\n",
       "71 MACQUARIE ST                           Internet       40\n",
       "                                          Phone           8\n",
       "                                          SMS             1\n",
       "AIRPORT LINK                              Internet        4\n",
       "                                          Phone           1\n",
       "ASCOT VALE SOUTH                          Phone           1\n",
       "BALGOWLAH HAYES ST                        Internet     3929\n",
       "                                          SMS           206\n",
       "                                          Phone         166\n",
       "BALGOWLAH TE                              Internet       27\n",
       "                                          Phone           2\n",
       "                                          SMS             1\n",
       "BALGOWLAH VILLAGE SHOPPING CENTRE IBC     Internet       96\n",
       "                                          Phone           6\n",
       "                                          SMS             4\n",
       "BEECHWORTH                                Internet      109\n",
       "                                          Phone           3\n",
       "BENALLA EAST                              Internet       28\n",
       "                                          Phone           1\n",
       "BEROWRA WINDY BANKS INTERCHANGE           Internet        3\n",
       "                                          SMS             1\n",
       "BRICKWORKS                                Internet      490\n",
       "                                          Phone           9\n",
       "                                          SMS             2\n",
       "BROADWAY OTC                              Internet       77\n",
       "                                          Phone           6\n",
       "                                          SMS             2\n",
       "BROOKLYN PACIFIC HWY                      SMS             1\n",
       "CARLTON COLLEGE SQ                        Phone           1\n",
       "CENTRAL SRA DONOR                         Internet        6\n",
       "                                                       ... \n",
       "SUNDERLAND ST                             Phone          12\n",
       "                                          SMS             7\n",
       "SURRY HILLS                               Internet       19\n",
       "                                          SMS             2\n",
       "                                          Phone           1\n",
       "SURRY HILLS 418A ELIZABETH ST             Internet       25\n",
       "                                          SMS            11\n",
       "                                          Phone           9\n",
       "SYDNEY 131 YORK ST                        Internet        4\n",
       "                                          Phone           1\n",
       "SYDNEY 2 CASTLEREAGH STREET               SMS             2\n",
       "                                          Phone           1\n",
       "SYDNEY 450 GEORGE ST                      SMS             4\n",
       "SYDNEY 505 GEORGE ST                      Internet       18\n",
       "                                          Phone           4\n",
       "SYDNEY DOMESTIC TERMINAL T2 - VIRGIN      Internet       15\n",
       "                                          Phone           7\n",
       "SYDNEY INTERNATIONAL AIRPORT RAILWAY STN  Internet        1\n",
       "                                          Phone           1\n",
       "THE ROCKS 55 HARRINGTON ST                Internet        7\n",
       "                                          Phone           1\n",
       "THOONA                                    Internet       18\n",
       "                                          SMS             2\n",
       "ULTIMO BULWARA RD                         Internet       13\n",
       "                                          Phone           3\n",
       "ULTIMO; 616-620 HARRIS ST                 Phone          10\n",
       "WAHROONGA #                               Internet        1\n",
       "                                          SMS             1\n",
       "ZETLAND 757 ELIZABETH ST                  Internet        4\n",
       "                                          Phone           1\n",
       "Name: Comm Type, Length: 153, dtype: int64"
      ]
     },
     "execution_count": 9,
     "metadata": {},
     "output_type": "execute_result"
    }
   ],
   "source": [
    "df.groupby('Cell Tower Location')['Comm Type'].value_counts()"
   ]
  },
  {
   "cell_type": "code",
   "execution_count": 10,
   "metadata": {},
   "outputs": [
    {
     "name": "stdout",
     "output_type": "stream",
     "text": [
      "Macquarie Street, Liverpool, Sydney, Liverpool, NSW, 2170, Australia\n"
     ]
    }
   ],
   "source": [
    "from geopy.geocoders import Nominatim\n",
    "geolocator = Nominatim()\n",
    "location = geolocator.geocode(\"71 MACQUARIE ST \")\n",
    "print(location.address)"
   ]
  },
  {
   "cell_type": "code",
   "execution_count": 15,
   "metadata": {},
   "outputs": [],
   "source": [
    "import folium\n",
    "map = folium.Map(location =(-33.892933,151.202296),zoom_start=12)"
   ]
  },
  {
   "cell_type": "code",
   "execution_count": 16,
   "metadata": {},
   "outputs": [
    {
     "data": {
      "text/html": [
       "<div style=\"width:100%;\"><div style=\"position:relative;width:100%;height:0;padding-bottom:60%;\"><iframe src=\"data:text/html;charset=utf-8;base64,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\" style=\"position:absolute;width:100%;height:100%;left:0;top:0;border:none !important;\" allowfullscreen webkitallowfullscreen mozallowfullscreen></iframe></div></div>"
      ],
      "text/plain": [
       "<folium.folium.Map at 0x11a3ea400>"
      ]
     },
     "execution_count": 16,
     "metadata": {},
     "output_type": "execute_result"
    }
   ],
   "source": [
    "map"
   ]
  },
  {
   "cell_type": "code",
   "execution_count": 18,
   "metadata": {},
   "outputs": [
    {
     "name": "stdout",
     "output_type": "stream",
     "text": [
      "10476\n"
     ]
    },
    {
     "data": {
      "text/plain": [
       "[-33.89293336, 151.20229619999998]"
      ]
     },
     "execution_count": 18,
     "metadata": {},
     "output_type": "execute_result"
    }
   ],
   "source": [
    "locations = df[['Latitude', 'Longitude']]\n",
    "locationlist = locations.values.tolist()\n",
    "print(len(locationlist))\n",
    "locationlist[7]"
   ]
  },
  {
   "cell_type": "code",
   "execution_count": 33,
   "metadata": {},
   "outputs": [],
   "source": [
    "df['datetime'] = pd.to_datetime(df['Comm Timedate String'])"
   ]
  },
  {
   "cell_type": "code",
   "execution_count": 34,
   "metadata": {},
   "outputs": [
    {
     "data": {
      "text/plain": [
       "Cell Cgi                        object\n",
       "Cell Tower Location             object\n",
       "Comm Identifier                 object\n",
       "Comm Timedate String            object\n",
       "Comm Type                       object\n",
       "Latitude                       float64\n",
       "Longitude                      float64\n",
       "datetime                datetime64[ns]\n",
       "dtype: object"
      ]
     },
     "execution_count": 34,
     "metadata": {},
     "output_type": "execute_result"
    }
   ],
   "source": [
    "df.dtypes"
   ]
  },
  {
   "cell_type": "code",
   "execution_count": 32,
   "metadata": {},
   "outputs": [
    {
     "data": {
      "text/plain": [
       "datetime.datetime(2016, 12, 31, 0, 0)"
      ]
     },
     "execution_count": 32,
     "metadata": {},
     "output_type": "execute_result"
    }
   ],
   "source": [
    "import datetime\n",
    "date_obj = datetime.datetime.strptime('31 Dec 2016', '%d %b %Y')\n",
    "date_obj"
   ]
  },
  {
   "cell_type": "code",
   "execution_count": 50,
   "metadata": {
    "collapsed": true
   },
   "outputs": [],
   "source": [
    "df['date'] = [d.date() for d in df['datetime']]"
   ]
  },
  {
   "cell_type": "code",
   "execution_count": 51,
   "metadata": {},
   "outputs": [
    {
     "data": {
      "text/plain": [
       "Cell Cgi                        object\n",
       "Cell Tower Location             object\n",
       "Comm Identifier                 object\n",
       "Comm Timedate String            object\n",
       "Comm Type                       object\n",
       "Latitude                       float64\n",
       "Longitude                      float64\n",
       "datetime                datetime64[ns]\n",
       "date                            object\n",
       "year                             int64\n",
       "dtype: object"
      ]
     },
     "execution_count": 51,
     "metadata": {},
     "output_type": "execute_result"
    }
   ],
   "source": [
    "df.dtypes"
   ]
  },
  {
   "cell_type": "code",
   "execution_count": 39,
   "metadata": {},
   "outputs": [
    {
     "data": {
      "text/plain": [
       "Cell Cgi                   0\n",
       "Cell Tower Location        0\n",
       "Comm Identifier         9102\n",
       "Comm Timedate String       0\n",
       "Comm Type                  0\n",
       "Latitude                   0\n",
       "Longitude                  0\n",
       "datetime                   0\n",
       "date                       0\n",
       "dtype: int64"
      ]
     },
     "execution_count": 39,
     "metadata": {},
     "output_type": "execute_result"
    }
   ],
   "source": [
    "df.isnull().sum()"
   ]
  },
  {
   "cell_type": "code",
   "execution_count": 37,
   "metadata": {},
   "outputs": [
    {
     "data": {
      "text/plain": [
       "0        2014-04-01\n",
       "1        2014-04-01\n",
       "2        2014-04-01\n",
       "3        2014-04-01\n",
       "4        2014-04-01\n",
       "5        2014-04-01\n",
       "6        2014-04-01\n",
       "7        2014-04-02\n",
       "8        2014-04-03\n",
       "9        2014-04-03\n",
       "10       2014-04-04\n",
       "11       2014-04-04\n",
       "12       2014-04-04\n",
       "13       2014-04-04\n",
       "14       2014-04-04\n",
       "15       2014-04-04\n",
       "16       2014-04-04\n",
       "17       2014-04-04\n",
       "18       2014-04-04\n",
       "19       2014-04-04\n",
       "20       2014-04-04\n",
       "21       2014-04-04\n",
       "22       2014-04-05\n",
       "23       2014-04-07\n",
       "24       2014-04-07\n",
       "25       2014-04-07\n",
       "26       2014-04-07\n",
       "27       2014-04-07\n",
       "28       2014-04-07\n",
       "29       2014-04-07\n",
       "            ...    \n",
       "10446    2015-04-01\n",
       "10447    2015-04-01\n",
       "10448    2015-04-01\n",
       "10449    2015-04-01\n",
       "10450    2015-04-01\n",
       "10451    2015-04-01\n",
       "10452    2015-04-01\n",
       "10453    2015-04-01\n",
       "10454    2015-04-01\n",
       "10455    2015-04-01\n",
       "10456    2015-04-01\n",
       "10457    2015-04-01\n",
       "10458    2015-04-01\n",
       "10459    2015-04-01\n",
       "10460    2015-04-01\n",
       "10461    2015-04-01\n",
       "10462    2015-04-01\n",
       "10463    2015-04-01\n",
       "10464    2015-04-01\n",
       "10465    2015-04-01\n",
       "10466    2015-04-01\n",
       "10467    2015-04-01\n",
       "10468    2015-04-01\n",
       "10469    2015-04-01\n",
       "10470    2015-04-01\n",
       "10471    2015-04-01\n",
       "10472    2015-04-01\n",
       "10473    2015-04-01\n",
       "10474    2015-04-01\n",
       "10475    2015-04-01\n",
       "Name: date, Length: 10476, dtype: object"
      ]
     },
     "execution_count": 37,
     "metadata": {},
     "output_type": "execute_result"
    }
   ],
   "source": [
    "df['date']"
   ]
  },
  {
   "cell_type": "code",
   "execution_count": 38,
   "metadata": {},
   "outputs": [
    {
     "data": {
      "text/plain": [
       "date        Cell Tower Location                  \n",
       "2014-04-01  HAYMARKET #                               3\n",
       "            CHIPPENDALE                               2\n",
       "            REDFERN TE                                2\n",
       "2014-04-02  REDFERN TE                                1\n",
       "2014-04-03  HAYMARKET #                               2\n",
       "2014-04-04  HAYMARKET #                               3\n",
       "            REDFERN TE                                3\n",
       "            CHIPPENDALE                               2\n",
       "            FAIRLIGHT 137 SYDNEY RD                   2\n",
       "            71 MACQUARIE ST                           1\n",
       "            HAYMARKET TE LEVEL 5 SRA BTS HOTEL        1\n",
       "2014-04-05  MANLY #                                   1\n",
       "2014-04-07  REDFERN TE                               10\n",
       "2014-04-08  REDFERN TE                                8\n",
       "2014-04-10  CHIPPENDALE                               7\n",
       "            REDFERN TE                                1\n",
       "2014-04-11  SURRY HILLS                               1\n",
       "2014-04-12  HAYMARKET #                               1\n",
       "2014-04-13  REDFERN TE                                4\n",
       "2014-04-14  REDFERN TE                               17\n",
       "2014-04-16  HAYMARKET #                               2\n",
       "            CHINATOWN                                 1\n",
       "            REDFERN TE                                1\n",
       "2014-04-17  REDFERN TE                                4\n",
       "2014-04-18  HAYMARKET #                              10\n",
       "            REDFERN TE                                1\n",
       "2014-04-19  FAIRLIGHT 137 SYDNEY RD                   1\n",
       "2014-04-21  MANLY #                                   1\n",
       "2014-04-22  HAYMARKET #                               4\n",
       "2014-04-23  REDFERN TE                               10\n",
       "                                                     ..\n",
       "2015-03-26  BROADWAY OTC                             24\n",
       "            CHIPPENDALE                              16\n",
       "            HAYMARKET #                               8\n",
       "            CHINATOWN                                 2\n",
       "            ULTIMO BULWARA RD                         2\n",
       "2015-03-27  BEECHWORTH                               37\n",
       "            BENALLA EAST                             21\n",
       "            THOONA                                   17\n",
       "            LENEVA; WODONGA TIP OFF BEACHWORTH RD     3\n",
       "            REDFERN TE                                2\n",
       "            MASCOT AIRPORT FAC3                       1\n",
       "2015-03-28  BEECHWORTH                               28\n",
       "            BENALLA EAST                              8\n",
       "            THOONA                                    3\n",
       "2015-03-29  BEECHWORTH                               47\n",
       "            REDFERN TE                               31\n",
       "            LENEVA; WODONGA TIP OFF BEACHWORTH RD     4\n",
       "2015-03-30  REDFERN TE                               40\n",
       "            CHIPPENDALE                              12\n",
       "            BROADWAY OTC                              6\n",
       "            ULTIMO; 616-620 HARRIS ST                 1\n",
       "2015-03-31  REDFERN TE                               83\n",
       "            CHIPPENDALE                              19\n",
       "            HAYMARKET #                              18\n",
       "            ULTIMO; 616-620 HARRIS ST                 2\n",
       "            SURRY HILLS 418A ELIZABETH ST             1\n",
       "2015-04-01  REDFERN TE                               67\n",
       "            CHIPPENDALE                              18\n",
       "            HAYMARKET #                               9\n",
       "            SURRY HILLS 418A ELIZABETH ST             1\n",
       "Name: Cell Tower Location, Length: 1175, dtype: int64"
      ]
     },
     "execution_count": 38,
     "metadata": {},
     "output_type": "execute_result"
    }
   ],
   "source": [
    "df.groupby('date')['Cell Tower Location'].value_counts()"
   ]
  },
  {
   "cell_type": "code",
   "execution_count": 90,
   "metadata": {},
   "outputs": [],
   "source": [
    "group_data_loc = df.groupby(['year',df['datetime'].dt.strftime('%B'),'Comm Type'])['Cell Tower Location'].value_counts()"
   ]
  },
  {
   "cell_type": "code",
   "execution_count": 91,
   "metadata": {},
   "outputs": [
    {
     "data": {
      "text/plain": [
       "year  datetime  Comm Type  Cell Tower Location                     \n",
       "2014  April     Phone      REDFERN TE                                  34\n",
       "                           HAYMARKET #                                 11\n",
       "                           CHIPPENDALE                                  7\n",
       "                           FAIRLIGHT 137 SYDNEY RD                      3\n",
       "                           71 MACQUARIE ST                              1\n",
       "                           CHINATOWN                                    1\n",
       "                           HAYMARKET TE LEVEL 5 SRA BTS HOTEL           1\n",
       "                           MANLY #                                      1\n",
       "                           SURRY HILLS                                  1\n",
       "                SMS        REDFERN TE                                  45\n",
       "                           HAYMARKET #                                 41\n",
       "                           CHIPPENDALE                                 11\n",
       "                           MANLY #                                      1\n",
       "      August    Phone      REDFERN TE                                  29\n",
       "                           CHIPPENDALE                                  8\n",
       "                           HAYMARKET #                                  7\n",
       "                           SUNDERLAND ST                                3\n",
       "                           BRICKWORKS                                   2\n",
       "                           ASCOT VALE SOUTH                             1\n",
       "                           BROADWAY OTC                                 1\n",
       "                           CARLTON COLLEGE SQ                           1\n",
       "                           CHINATOWN                                    1\n",
       "                           COLLINS ST (HOBART)                          1\n",
       "                           GRAND CHANCELLOR 1800                        1\n",
       "                           MASCOT 201 COWARD ST                         1\n",
       "                           MELB AIRPORT TERM                            1\n",
       "                           NEW TOWN                                     1\n",
       "                           SURRY HILLS 418A ELIZABETH ST                1\n",
       "                           SYDNEY DOMESTIC TERMINAL T2 - VIRGIN         1\n",
       "                SMS        REDFERN TE                                  35\n",
       "                                                                       ..\n",
       "2015  March     Internet   NORTH SYDNEY 54 MCLAREN                      1\n",
       "                           ROSEBERY DUNNING AVE                         1\n",
       "                           SURRY HILLS 418A ELIZABETH ST                1\n",
       "                           SYDNEY 131 YORK ST                           1\n",
       "                Phone      BALGOWLAH HAYES ST                          33\n",
       "                           HARBORD 22 WAINE ST                         17\n",
       "                           CHIPPENDALE                                  8\n",
       "                           REDFERN TE                                   8\n",
       "                           HAYMARKET #                                  7\n",
       "                           DEE WHY                                      4\n",
       "                           ULTIMO; 616-620 HARRIS ST                    4\n",
       "                           BEECHWORTH                                   3\n",
       "                           BROADWAY OTC                                 2\n",
       "                           ULTIMO BULWARA RD                            2\n",
       "                           AIRPORT LINK                                 1\n",
       "                           BENALLA EAST                                 1\n",
       "                           FAIRLIGHT 137 SYDNEY RD                      1\n",
       "                           LENEVA; WODONGA TIP OFF BEACHWORTH RD        1\n",
       "                           MANLY #                                      1\n",
       "                           MASCOT INTERNATIONAL AIRPORT TERMINAL T1     1\n",
       "                           ROSEBERY DUNNING AVE                         1\n",
       "                           SEAFORTH                                     1\n",
       "                           SYDNEY INTERNATIONAL AIRPORT RAILWAY STN     1\n",
       "                           ZETLAND 757 ELIZABETH ST                     1\n",
       "                SMS        BALGOWLAH HAYES ST                          53\n",
       "                           HARBORD 22 WAINE ST                          3\n",
       "                           THOONA                                       2\n",
       "                           BALGOWLAH VILLAGE SHOPPING CENTRE IBC        1\n",
       "                           CHIPPENDALE                                  1\n",
       "                           REDFERN TE                                   1\n",
       "Name: Cell Tower Location, Length: 419, dtype: int64"
      ]
     },
     "execution_count": 91,
     "metadata": {},
     "output_type": "execute_result"
    }
   ],
   "source": [
    "group_data_loc"
   ]
  },
  {
   "cell_type": "code",
   "execution_count": 78,
   "metadata": {},
   "outputs": [],
   "source": [
    "group_data = df.groupby(['year',df['datetime'].dt.strftime('%B')])['Comm Type'].value_counts()"
   ]
  },
  {
   "cell_type": "code",
   "execution_count": 48,
   "metadata": {
    "collapsed": true
   },
   "outputs": [],
   "source": [
    "df['year'] = df['datetime'].dt.year"
   ]
  },
  {
   "cell_type": "code",
   "execution_count": 79,
   "metadata": {},
   "outputs": [
    {
     "data": {
      "text/plain": [
       "year  datetime   Comm Type\n",
       "2014  April      SMS            98\n",
       "                 Phone          60\n",
       "      August     Phone          60\n",
       "                 SMS            40\n",
       "      December   Internet     2603\n",
       "                 Phone          70\n",
       "                 SMS            49\n",
       "      July       Phone          66\n",
       "                 SMS            54\n",
       "      June       SMS            55\n",
       "                 Phone          29\n",
       "      May        SMS            73\n",
       "                 Phone          47\n",
       "      November   Internet     1772\n",
       "                 Phone          63\n",
       "                 SMS            58\n",
       "      October    Internet      825\n",
       "                 Phone          42\n",
       "                 SMS            15\n",
       "      September  Internet      257\n",
       "                 Phone          53\n",
       "                 SMS            50\n",
       "2015  April      Internet       87\n",
       "                 Phone           8\n",
       "      February   Internet      474\n",
       "                 Phone          22\n",
       "                 SMS             3\n",
       "      January    Internet     1789\n",
       "                 SMS           101\n",
       "                 Phone          99\n",
       "      March      Internet     1295\n",
       "                 Phone          98\n",
       "                 SMS            61\n",
       "Name: Comm Type, dtype: int64"
      ]
     },
     "execution_count": 79,
     "metadata": {},
     "output_type": "execute_result"
    }
   ],
   "source": [
    "group_data"
   ]
  },
  {
   "cell_type": "code",
   "execution_count": 93,
   "metadata": {},
   "outputs": [
    {
     "data": {
      "text/plain": [
       "<matplotlib.axes._subplots.AxesSubplot at 0x128ca6710>"
      ]
     },
     "execution_count": 93,
     "metadata": {},
     "output_type": "execute_result"
    },
    {
     "data": {
      "image/png": "[encoded data removed]",
      "text/plain": [
       "<matplotlib.figure.Figure at 0x128cb5ef0>"
      ]
     },
     "metadata": {},
     "output_type": "display_data"
    }
   ],
   "source": [
    "\n",
    "fig = group_data.plot(kind='bar',figsize=(15,7))\n",
    "fig\n"
   ]
  },
  {
   "cell_type": "markdown",
   "metadata": {},
   "source": []
  },
  {
   "cell_type": "code",
   "execution_count": 81,
   "metadata": {},
   "outputs": [
    {
     "data": {
      "text/plain": [
       "Internet    9102\n",
       "Phone        717\n",
       "SMS          657\n",
       "Name: Comm Type, dtype: int64"
      ]
     },
     "execution_count": 81,
     "metadata": {},
     "output_type": "execute_result"
    }
   ],
   "source": [
    "df['Comm Type'].value_counts()"
   ]
  },
  {
   "cell_type": "code",
   "execution_count": 89,
   "metadata": {},
   "outputs": [
    {
     "data": {
      "image/png": "[encoded data removed]",
      "text/plain": [
       "<matplotlib.figure.Figure at 0x1236c3198>"
      ]
     },
     "metadata": {},
     "output_type": "display_data"
    }
   ],
   "source": [
    "labels = 'Internet','Phone' 'SMS'\n",
    "X = [9102,717,657]\n",
    "plt.pie(df['Comm Type'].value_counts())\n",
    "plt.axis('equal')\n",
    "plt.show()"
   ]
  },
  {
   "cell_type": "markdown",
   "metadata": {},
   "source": [
    "- Percentage usage of Internet is more than SMS and Phone\n",
    "- Internet usgae is significantly high in following months\n",
    "    - 2014 December\n",
    "    - 2014 November\n",
    "    - 2014 OCtober\n",
    "    - 2014 Septmeber\n",
    "    - 2015 Jan\n",
    "    - 2015 March\n",
    "    - 2015 Feb\n",
    "    "
   ]
  },
  {
   "cell_type": "code",
   "execution_count": null,
   "metadata": {
    "collapsed": true
   },
   "outputs": [],
   "source": []
  }
 ],
 "metadata": {
  "kernelspec": {
   "display_name": "Python 3",
   "language": "python",
   "name": "python3"
  },
  "language_info": {
   "codemirror_mode": {
    "name": "ipython",
    "version": 3
   },
   "file_extension": ".py",
   "mimetype": "text/x-python",
   "name": "python",
   "nbconvert_exporter": "python",
   "pygments_lexer": "ipython3",
   "version": "3.6.1"
  }
 },
 "nbformat": 4,
 "nbformat_minor": 2
}
