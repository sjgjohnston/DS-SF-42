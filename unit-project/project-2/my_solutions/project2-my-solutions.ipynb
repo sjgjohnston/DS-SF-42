{
 "cells": [
  {
   "cell_type": "markdown",
   "metadata": {},
   "source": [
    "# Project 2\n",
    "\n",
    "In this project, you will implement the exploratory analysis plan developed in Project 1. This will lay the groundwork for our our first modeling exercise in Project 3."
   ]
  },
  {
   "cell_type": "markdown",
   "metadata": {},
   "source": [
    "### Step 1: Load the python libraries you will need for this project "
   ]
  },
  {
   "cell_type": "code",
   "execution_count": 1,
   "metadata": {},
   "outputs": [
    {
     "name": "stderr",
     "output_type": "stream",
     "text": [
      "/Users/sjohnston/anaconda2/lib/python2.7/site-packages/statsmodels/compat/pandas.py:56: FutureWarning: The pandas.core.datetools module is deprecated and will be removed in a future version. Please use the pandas.tseries module instead.\n",
      "  from pandas.core import datetools\n"
     ]
    }
   ],
   "source": [
    "#imports\n",
    "from __future__ import division\n",
    "import pandas as pd\n",
    "import numpy as np\n",
    "import matplotlib.pyplot as plt\n",
    "import statsmodels.api as sm\n",
    "import pylab as pl\n",
    "%matplotlib inline\n",
    "\n",
    "import seaborn as sns\n",
    "sns.set(color_codes=True)\n"
   ]
  },
  {
   "cell_type": "markdown",
   "metadata": {},
   "source": [
    "### Step 2: Read in your data set "
   ]
  },
  {
   "cell_type": "code",
   "execution_count": 2,
   "metadata": {},
   "outputs": [
    {
     "name": "stdout",
     "output_type": "stream",
     "text": [
      "   admit    gre   gpa  prestige\n",
      "0      0  380.0  3.61       3.0\n",
      "1      1  660.0  3.67       3.0\n",
      "2      1  800.0  4.00       1.0\n",
      "3      1  640.0  3.19       4.0\n",
      "4      0  520.0  2.93       4.0\n"
     ]
    }
   ],
   "source": [
    "#Read in data from source \n",
    "df_raw = pd.read_csv(\"../assets/admissions.csv\")\n",
    "print df_raw.head()"
   ]
  },
  {
   "cell_type": "markdown",
   "metadata": {},
   "source": [
    "## Questions\n",
    "#### Question 1. How many observations are in our dataset? \n"
   ]
  },
  {
   "cell_type": "code",
   "execution_count": 3,
   "metadata": {
    "scrolled": false
   },
   "outputs": [
    {
     "data": {
      "text/plain": [
       "admit       400\n",
       "gre         398\n",
       "gpa         398\n",
       "prestige    399\n",
       "dtype: int64"
      ]
     },
     "execution_count": 3,
     "metadata": {},
     "output_type": "execute_result"
    }
   ],
   "source": [
    "df_raw.count()"
   ]
  },
  {
   "cell_type": "markdown",
   "metadata": {},
   "source": [
    "Answer: \n",
    "\n",
    "400 observations\n",
    "Three of these observations contain missing data (NaN) as shown in the cell below)"
   ]
  },
  {
   "cell_type": "code",
   "execution_count": 4,
   "metadata": {},
   "outputs": [
    {
     "data": {
      "text/html": [
       "<div>\n",
       "<style>\n",
       "    .dataframe thead tr:only-child th {\n",
       "        text-align: right;\n",
       "    }\n",
       "\n",
       "    .dataframe thead th {\n",
       "        text-align: left;\n",
       "    }\n",
       "\n",
       "    .dataframe tbody tr th {\n",
       "        vertical-align: top;\n",
       "    }\n",
       "</style>\n",
       "<table border=\"1\" class=\"dataframe\">\n",
       "  <thead>\n",
       "    <tr style=\"text-align: right;\">\n",
       "      <th></th>\n",
       "      <th>admit</th>\n",
       "      <th>gre</th>\n",
       "      <th>gpa</th>\n",
       "      <th>prestige</th>\n",
       "    </tr>\n",
       "  </thead>\n",
       "  <tbody>\n",
       "    <tr>\n",
       "      <th>187</th>\n",
       "      <td>0</td>\n",
       "      <td>NaN</td>\n",
       "      <td>NaN</td>\n",
       "      <td>2.0</td>\n",
       "    </tr>\n",
       "    <tr>\n",
       "      <th>212</th>\n",
       "      <td>0</td>\n",
       "      <td>NaN</td>\n",
       "      <td>2.87</td>\n",
       "      <td>2.0</td>\n",
       "    </tr>\n",
       "    <tr>\n",
       "      <th>236</th>\n",
       "      <td>1</td>\n",
       "      <td>660.0</td>\n",
       "      <td>NaN</td>\n",
       "      <td>NaN</td>\n",
       "    </tr>\n",
       "  </tbody>\n",
       "</table>\n",
       "</div>"
      ],
      "text/plain": [
       "     admit    gre   gpa  prestige\n",
       "187      0    NaN   NaN       2.0\n",
       "212      0    NaN  2.87       2.0\n",
       "236      1  660.0   NaN       NaN"
      ]
     },
     "execution_count": 4,
     "metadata": {},
     "output_type": "execute_result"
    }
   ],
   "source": [
    "#print \"Unique entries for 'admit':\\n\", df_raw['admit'].unique(), \"\\n\\n\"\n",
    "#print \"Unique entries for 'gre':\\n\", df_raw['gre'].unique(), \"\\n\\n\"\n",
    "#print \"Unique entries for 'gpa':\\n\", df_raw['gpa'].unique(), \"\\n\\n\"\n",
    "#print \"Unique entries for 'prestige':\\n\", df_raw['prestige'].unique(), \"\\n\\n\"\n",
    "df_raw[df_raw.isnull().any(axis=1)]"
   ]
  },
  {
   "cell_type": "markdown",
   "metadata": {},
   "source": [
    "#### Question 2. Create a summary table"
   ]
  },
  {
   "cell_type": "code",
   "execution_count": 5,
   "metadata": {
    "collapsed": true
   },
   "outputs": [],
   "source": [
    "#function"
   ]
  },
  {
   "cell_type": "code",
   "execution_count": 5,
   "metadata": {},
   "outputs": [
    {
     "data": {
      "text/html": [
       "<div>\n",
       "<style>\n",
       "    .dataframe thead tr:only-child th {\n",
       "        text-align: right;\n",
       "    }\n",
       "\n",
       "    .dataframe thead th {\n",
       "        text-align: left;\n",
       "    }\n",
       "\n",
       "    .dataframe tbody tr th {\n",
       "        vertical-align: top;\n",
       "    }\n",
       "</style>\n",
       "<table border=\"1\" class=\"dataframe\">\n",
       "  <thead>\n",
       "    <tr style=\"text-align: right;\">\n",
       "      <th></th>\n",
       "      <th>count</th>\n",
       "      <th>mean</th>\n",
       "      <th>std</th>\n",
       "      <th>min</th>\n",
       "      <th>25%</th>\n",
       "      <th>50%</th>\n",
       "      <th>75%</th>\n",
       "      <th>max</th>\n",
       "    </tr>\n",
       "  </thead>\n",
       "  <tbody>\n",
       "    <tr>\n",
       "      <th>admit</th>\n",
       "      <td>400.0</td>\n",
       "      <td>0.317500</td>\n",
       "      <td>0.466087</td>\n",
       "      <td>0.00</td>\n",
       "      <td>0.00</td>\n",
       "      <td>0.000</td>\n",
       "      <td>1.00</td>\n",
       "      <td>1.0</td>\n",
       "    </tr>\n",
       "    <tr>\n",
       "      <th>gre</th>\n",
       "      <td>398.0</td>\n",
       "      <td>588.040201</td>\n",
       "      <td>115.628513</td>\n",
       "      <td>220.00</td>\n",
       "      <td>520.00</td>\n",
       "      <td>580.000</td>\n",
       "      <td>660.00</td>\n",
       "      <td>800.0</td>\n",
       "    </tr>\n",
       "    <tr>\n",
       "      <th>gpa</th>\n",
       "      <td>398.0</td>\n",
       "      <td>3.390930</td>\n",
       "      <td>0.380630</td>\n",
       "      <td>2.26</td>\n",
       "      <td>3.13</td>\n",
       "      <td>3.395</td>\n",
       "      <td>3.67</td>\n",
       "      <td>4.0</td>\n",
       "    </tr>\n",
       "    <tr>\n",
       "      <th>prestige</th>\n",
       "      <td>399.0</td>\n",
       "      <td>2.486216</td>\n",
       "      <td>0.945333</td>\n",
       "      <td>1.00</td>\n",
       "      <td>2.00</td>\n",
       "      <td>2.000</td>\n",
       "      <td>3.00</td>\n",
       "      <td>4.0</td>\n",
       "    </tr>\n",
       "  </tbody>\n",
       "</table>\n",
       "</div>"
      ],
      "text/plain": [
       "          count        mean         std     min     25%      50%     75%  \\\n",
       "admit     400.0    0.317500    0.466087    0.00    0.00    0.000    1.00   \n",
       "gre       398.0  588.040201  115.628513  220.00  520.00  580.000  660.00   \n",
       "gpa       398.0    3.390930    0.380630    2.26    3.13    3.395    3.67   \n",
       "prestige  399.0    2.486216    0.945333    1.00    2.00    2.000    3.00   \n",
       "\n",
       "            max  \n",
       "admit       1.0  \n",
       "gre       800.0  \n",
       "gpa         4.0  \n",
       "prestige    4.0  "
      ]
     },
     "execution_count": 5,
     "metadata": {},
     "output_type": "execute_result"
    }
   ],
   "source": [
    "df_raw.describe().T"
   ]
  },
  {
   "cell_type": "markdown",
   "metadata": {},
   "source": [
    "#### Question 3. Why would GRE have a larger STD than GPA?"
   ]
  },
  {
   "cell_type": "markdown",
   "metadata": {},
   "source": [
    "Answer:\n",
    "\n",
    "Both are continuous, but GRE has a much larger range of scoring (200 - 800) compared to GPA (0.0 - 4.0) so there is a greater (possible) dispersion of data points, leading to larger differences from the mean, leading to a higher STD value."
   ]
  },
  {
   "cell_type": "markdown",
   "metadata": {
    "collapsed": true
   },
   "source": [
    "#### Question 4. Drop data points with missing data\n"
   ]
  },
  {
   "cell_type": "code",
   "execution_count": 6,
   "metadata": {},
   "outputs": [
    {
     "name": "stdout",
     "output_type": "stream",
     "text": [
      "admit       397\n",
      "gre         397\n",
      "gpa         397\n",
      "prestige    397\n",
      "dtype: int64\n"
     ]
    }
   ],
   "source": [
    "# Drop any rows with null values:\n",
    "df_clean = df_raw.dropna(axis=0)\n",
    "\n",
    "# Counts should verify the three rows (shown above) reduce the count from 400 to 397\n",
    "print df_clean.count()"
   ]
  },
  {
   "cell_type": "markdown",
   "metadata": {
    "collapsed": true
   },
   "source": [
    "#### Question 5. Confirm that you dropped the correct data. How can you tell? "
   ]
  },
  {
   "cell_type": "markdown",
   "metadata": {},
   "source": [
    "Answer: \n",
    "\n",
    "You can compare the count of the number of rows in the new dataframe to the old one, and verify it is less by the the count of the null rows previously identified.\n",
    "\n",
    "See also the code below used to visually verify the dropped data rows..."
   ]
  },
  {
   "cell_type": "code",
   "execution_count": 8,
   "metadata": {},
   "outputs": [
    {
     "name": "stdout",
     "output_type": "stream",
     "text": [
      "\n",
      "3 / 400 null rows in df_raw:\n",
      "     admit    gre   gpa  prestige\n",
      "187      0    NaN   NaN       2.0\n",
      "212      0    NaN  2.87       2.0\n",
      "236      1  660.0   NaN       NaN\n",
      "\n",
      "0 / 397 null rows in df_clean:\n",
      "Empty DataFrame\n",
      "Columns: [admit, gre, gpa, prestige]\n",
      "Index: []\n"
     ]
    }
   ],
   "source": [
    "if ~df_clean.equals(df_raw):\n",
    "    print \"\\n%d / %d null rows in df_raw:\" % (len(df_raw[df_raw.isnull().any(axis=1)].index), len(df_raw.index))\n",
    "    print df_raw[df_raw.isnull().any(axis=1)]\n",
    "    \n",
    "    print \"\\n%d / %d null rows in df_clean:\" % (len(df_clean[df_clean.isnull().any(axis=1)].index), len(df_clean.index))\n",
    "    print df_clean[df_clean.isnull().any(axis=1)]"
   ]
  },
  {
   "cell_type": "markdown",
   "metadata": {},
   "source": [
    "#### Question 6. Create box plots for GRE and GPA"
   ]
  },
  {
   "cell_type": "code",
   "execution_count": 56,
   "metadata": {},
   "outputs": [
    {
     "data": {
      "text/plain": [
       "{'boxes': [<matplotlib.lines.Line2D at 0x1c18a12e10>],\n",
       " 'caps': [<matplotlib.lines.Line2D at 0x1c18a1f650>,\n",
       "  <matplotlib.lines.Line2D at 0x1c18a1fa10>],\n",
       " 'fliers': [<matplotlib.lines.Line2D at 0x1c18a2a1d0>],\n",
       " 'means': [],\n",
       " 'medians': [<matplotlib.lines.Line2D at 0x1c18a1fdd0>],\n",
       " 'whiskers': [<matplotlib.lines.Line2D at 0x1c18a12ed0>,\n",
       "  <matplotlib.lines.Line2D at 0x1c18a1f290>]}"
      ]
     },
     "execution_count": 56,
     "metadata": {},
     "output_type": "execute_result"
    },
    {
     "data": {
      "image/png": "[encoded data removed]",
      "text/plain": [
       "<matplotlib.figure.Figure at 0x1c189627d0>"
      ]
     },
     "metadata": {},
     "output_type": "display_data"
    }
   ],
   "source": [
    "#boxplot 1 GRE\n",
    "\n",
    "#df_clean.gre.plot(kind = 'box', figsize = (8, 4))\n",
    "plt.figure()\n",
    "plt.boxplot(df_clean.gre, 0, 'rs', 0, meanline=True)"
   ]
  },
  {
   "cell_type": "code",
   "execution_count": 55,
   "metadata": {},
   "outputs": [
    {
     "data": {
      "text/plain": [
       "{'boxes': [<matplotlib.lines.Line2D at 0x1c1893e250>],\n",
       " 'caps': [<matplotlib.lines.Line2D at 0x1c1893ea50>,\n",
       "  <matplotlib.lines.Line2D at 0x1c1893ee10>],\n",
       " 'fliers': [<matplotlib.lines.Line2D at 0x1c1894c5d0>],\n",
       " 'means': [],\n",
       " 'medians': [<matplotlib.lines.Line2D at 0x1c1894c210>],\n",
       " 'whiskers': [<matplotlib.lines.Line2D at 0x1c1893e310>,\n",
       "  <matplotlib.lines.Line2D at 0x1c1893e690>]}"
      ]
     },
     "execution_count": 55,
     "metadata": {},
     "output_type": "execute_result"
    },
    {
     "data": {
      "image/png": "[encoded data removed]",
      "text/plain": [
       "<matplotlib.figure.Figure at 0x1c187e3e50>"
      ]
     },
     "metadata": {},
     "output_type": "display_data"
    }
   ],
   "source": [
    "\n",
    "#boxplot 2 GPA\n",
    "#df_clean.gpa.plot(kind = 'box', figsize = (8, 4))\n",
    "plt.figure()\n",
    "plt.boxplot(df_clean.gpa, 0, 'rs', 0)\n"
   ]
  },
  {
   "cell_type": "markdown",
   "metadata": {},
   "source": [
    "#### Question 7. What do this plots show?"
   ]
  },
  {
   "cell_type": "markdown",
   "metadata": {},
   "source": [
    "Answer: \n",
    "\n",
    "In general:\n",
    "The two box plots show you the distribution of the values in these respective columns.\n",
    "Each box shows you the value range for Q2 and Q3, known as the IQR (Inter-Quartile Range) where 50% of the data points lie in the range.\n",
    "The line in the middle of the box indicates the median value of the data points.\n",
    "The lines on etiher side of the main box (called whiskers) show you the Q1 and Q4 quarter value ranges.\n",
    "The outliers are shown by circles/dots which are still part of the range of the data points.\n",
    "Outliers may deserve special attention in terms of managing the data for ongoing use/learning etc...\n",
    "The basic box plot does not tell you the total number of observations.\n",
    "\n",
    "Specifically observations (verified by my function in the cell below):\n",
    "\n",
    "* GRE box plot:\n",
    "    * median  : 580\n",
    "    * IQR     : 140\n",
    "    * range   : 580 (220 - 880)\n",
    "    * outliers: 4 [220, 300, 300, 300] on the lower end, none on the high end\n",
    "    * shape   : skewed right (slightly)\n",
    "  \n",
    "\n",
    "* GPA box plot:\n",
    "    * median  : 3.4\n",
    "    * IQR     : 0.54\n",
    "    * range   : 1.74 (2.26 - 4.0)\n",
    "    * outliers: 1 [2.26] on the lower end, none on the high end\n",
    "    * shape   : skewed right (slightly)\n"
   ]
  },
  {
   "cell_type": "code",
   "execution_count": 53,
   "metadata": {},
   "outputs": [
    {
     "name": "stdout",
     "output_type": "stream",
     "text": [
      "\n",
      "Column name: gre\n",
      "    Observations : 397\n",
      "\n",
      "    Scale Start  : 200.0\n",
      "    Min          : 220.0\n",
      "    Low outliers : 4   [ 300.  300.  220.  300.]\n",
      "    Q1           : 310.0 - 519.999 [118]\n",
      "    Q2           : 520.0 - 579.999 [79]\n",
      "    Q3           : 580.0 - 659.999 [97]\n",
      "    Q4           : 660.0 - 800.0 [99]\n",
      "    High outliers: 0   []\n",
      "    Max          : 800.0 \n",
      "    Scale End    : 800.0\n",
      "\n",
      "    Range        : 580.0\n",
      "    Median (Q2)  : 580.0\n",
      "    IQR (Q3-Q1)  : 140.0\n",
      "\n",
      "    Shape        : skewed right (skew = -0.146046988216)\n",
      "\n",
      "\n",
      "Column name: gpa\n",
      "    Observations : 397\n",
      "\n",
      "    Scale Start  : 0.0\n",
      "    Min          : 2.26\n",
      "    Low outliers : 1   [ 2.26]\n",
      "    Q1           : 2.32 - 3.129 [101]\n",
      "    Q2           : 3.13 - 3.399 [103]\n",
      "    Q3           : 3.4 - 3.669 [95]\n",
      "    Q4           : 3.67 - 4.0 [97]\n",
      "    High outliers: 0   []\n",
      "    Max          : 4.0 \n",
      "    Scale End    : 4.0\n",
      "\n",
      "    Range        : 1.74\n",
      "    Median (Q2)  : 3.4\n",
      "    IQR (Q3-Q1)  : 0.54\n",
      "\n",
      "    Shape        : skewed right (skew = -0.216888932969)\n",
      "\n"
     ]
    }
   ],
   "source": [
    "#a Verifying observations from box plots for my own curiousity...\n",
    "def describe_column(input_column, min_scale, max_scale):\n",
    "    \n",
    "    column_name  = input_column.name\n",
    "    column_count = input_column.count()\n",
    "\n",
    "    min_data_point = input_column.min()\n",
    "    max_data_point = input_column.max()\n",
    "    range = max_data_point - min_data_point\n",
    "    \n",
    "    q1 = input_column.quantile(0.25)\n",
    "    q2 = input_column.quantile(0.5)\n",
    "    q3 = input_column.quantile(0.75)\n",
    "    iqr = q3 - q1\n",
    "    \n",
    "    q1_start = max(min_data_point, (q1 - (1.5 * iqr)))\n",
    "    q4_end   = min((q3 + (1.5 * iqr)), max_data_point)\n",
    "    \n",
    "    # separate by sections of the range of data points to use later to get the counts across the span...\n",
    "    df_low_outliers = input_column[(input_column<q1_start)]\n",
    "    df_q1 = input_column[(input_column>=q1_start) & (input_column<=q1)]\n",
    "    df_q2 = input_column[(input_column>q1) & (input_column<=q2)]\n",
    "    df_q3 = input_column[(input_column>q2) & (input_column<=q3)]\n",
    "    df_q4 = input_column[(input_column>q3) & (input_column<=q4_end)]\n",
    "    df_high_outliers = input_column[(input_column>q4_end)]\n",
    "\n",
    "    median = input_column.median()\n",
    "    \n",
    "    skew = input_column.skew()\n",
    "    if skew < 0.0:\n",
    "        shape = \"skewed right\"\n",
    "    elif skew == 0.0:\n",
    "        shape = \"symmetrical\"\n",
    "    else:\n",
    "        shape = \"skewed left\"\n",
    "        \n",
    "    print \"\\nColumn name: %s\" % column_name\n",
    "    print \"    Observations : %s\\n\" % column_count\n",
    "    \n",
    "    print \"    Scale Start  : %s\" % min_scale\n",
    "    print \"    Min          : %s\" % min_data_point\n",
    "    print \"    Low outliers : %s   %s\" % (df_low_outliers.count(), df_low_outliers.values)\n",
    "    print \"    Q1           : %s - %s [%s]\" % (q1_start, (q1-0.001), df_q1.count())\n",
    "    print \"    Q2           : %s - %s [%s]\" % (q1, (q2-0.001), df_q2.count())\n",
    "    print \"    Q3           : %s - %s [%s]\" % (q2, (q3-0.001), df_q3.count())\n",
    "    print \"    Q4           : %s - %s [%s]\" % (q3, q4_end, df_q4.count())\n",
    "    print \"    High outliers: %s   %s\" % (df_high_outliers.count(), df_high_outliers.values)\n",
    "    print \"    Max          : %s \" % max_data_point\n",
    "    print \"    Scale End    : %s\\n\" % max_scale\n",
    "    \n",
    "    print \"    Range        : %s\" % range\n",
    "    print \"    Median (Q2)  : %s\" % median\n",
    "    print \"    IQR (Q3-Q1)  : %s\\n\" % iqr\n",
    "\n",
    "    print \"    Shape        : %s (skew = %s)\\n\" % (shape, skew)\n",
    "\n",
    "describe_column(df_clean['gre'], 200.0, 800.0)\n",
    "describe_column(df_clean['gpa'], 0.0, 4.0)"
   ]
  },
  {
   "cell_type": "markdown",
   "metadata": {},
   "source": [
    "#### Question 8. Describe each distribution "
   ]
  },
  {
   "cell_type": "code",
   "execution_count": 70,
   "metadata": {},
   "outputs": [
    {
     "data": {
      "text/plain": [
       "<matplotlib.axes._subplots.AxesSubplot at 0x1c1a4f8c90>"
      ]
     },
     "execution_count": 70,
     "metadata": {},
     "output_type": "execute_result"
    },
    {
     "data": {
      "image/png": "[encoded data removed]",
      "text/plain": [
       "<matplotlib.figure.Figure at 0x1c1a5169d0>"
      ]
     },
     "metadata": {},
     "output_type": "display_data"
    }
   ],
   "source": [
    "# plot the distribution of each variable \n",
    "\n",
    "#histogram plot 1 GRE\n",
    "#df_clean.gre.plot(kind = 'hist', figsize = (8, 8), bins=60)\n",
    "\n",
    "#Seaborn gives a better looking histogram plot and you can include the kernel density line and the acutal values (short lines along the x axis)...\n",
    "sns.distplot(df_clean.gre, rug=True)"
   ]
  },
  {
   "cell_type": "code",
   "execution_count": 63,
   "metadata": {},
   "outputs": [
    {
     "data": {
      "text/plain": [
       "<matplotlib.axes._subplots.AxesSubplot at 0x1c1961d510>"
      ]
     },
     "execution_count": 63,
     "metadata": {},
     "output_type": "execute_result"
    },
    {
     "data": {
      "image/png": "[encoded data removed]",
      "text/plain": [
       "<matplotlib.figure.Figure at 0x1c193b2210>"
      ]
     },
     "metadata": {},
     "output_type": "display_data"
    }
   ],
   "source": [
    "#histogram plot 1 GPA with a reasonable number of bins to show the change in the distribution\n",
    "df_clean.gpa.plot(kind = 'hist', figsize = (8, 8), bins=60)"
   ]
  },
  {
   "cell_type": "code",
   "execution_count": 64,
   "metadata": {},
   "outputs": [
    {
     "data": {
      "text/plain": [
       "<matplotlib.axes._subplots.AxesSubplot at 0x1c194ae790>"
      ]
     },
     "execution_count": 64,
     "metadata": {},
     "output_type": "execute_result"
    },
    {
     "data": {
      "image/png": "[encoded data removed]",
      "text/plain": [
       "<matplotlib.figure.Figure at 0x1c193b2cd0>"
      ]
     },
     "metadata": {},
     "output_type": "display_data"
    }
   ],
   "source": [
    "#histogram plot 1 prestige\n",
    "df_clean.prestige.plot(kind = 'hist', figsize = (8, 8))"
   ]
  },
  {
   "cell_type": "code",
   "execution_count": 65,
   "metadata": {},
   "outputs": [
    {
     "data": {
      "text/plain": [
       "<matplotlib.axes._subplots.AxesSubplot at 0x1c19908090>"
      ]
     },
     "execution_count": 65,
     "metadata": {},
     "output_type": "execute_result"
    },
    {
     "data": {
      "image/png": "[encoded data removed]",
      "text/plain": [
       "<matplotlib.figure.Figure at 0x1c19295050>"
      ]
     },
     "metadata": {},
     "output_type": "display_data"
    }
   ],
   "source": [
    "#histogram plot 1 admit\n",
    "df_clean.admit.plot(kind = 'hist', figsize = (8, 8))"
   ]
  },
  {
   "cell_type": "markdown",
   "metadata": {},
   "source": [
    "#### Question 9.  If our model had an assumption of a normal distribution would we meet that requirement? "
   ]
  },
  {
   "cell_type": "markdown",
   "metadata": {},
   "source": [
    "Answer: \n",
    "\n",
    "* No - the distribution for the:\n",
    "  * GPA is not normal - there is another spike in the frequency of GPA's near 4.0.\n",
    "  * GRE is not normal - there is a higher frequency of GRE scores near the max.\n",
    "* Both distributions are skewed right."
   ]
  },
  {
   "cell_type": "markdown",
   "metadata": {},
   "source": [
    "#### Question 10.  Does this distribution need correction? If so, why? How? "
   ]
  },
  {
   "cell_type": "code",
   "execution_count": null,
   "metadata": {
    "collapsed": true
   },
   "outputs": [],
   "source": []
  },
  {
   "cell_type": "markdown",
   "metadata": {},
   "source": [
    "Answer: \n",
    "\n",
    "We cannot know the reason for larger count of high GPAs and GREs.\n",
    "We know that there is a low correlation (see below) between GPA and GRE scores in this data set.\n",
    "It seems that the data itself my be corrupt - for example perhaps some kind of really easy grading took place at those schools leading to a high GPA which perhaps correlates to low school prestige.\n",
    "In the code samples below we can play around with the gpa values and the prestige of the school and it looks like a dispraportionate amount of high GPAs came from lower prestige schools.\n"
   ]
  },
  {
   "cell_type": "code",
   "execution_count": 7,
   "metadata": {},
   "outputs": [
    {
     "data": {
      "text/html": [
       "<div>\n",
       "<style>\n",
       "    .dataframe thead tr:only-child th {\n",
       "        text-align: right;\n",
       "    }\n",
       "\n",
       "    .dataframe thead th {\n",
       "        text-align: left;\n",
       "    }\n",
       "\n",
       "    .dataframe tbody tr th {\n",
       "        vertical-align: top;\n",
       "    }\n",
       "</style>\n",
       "<table border=\"1\" class=\"dataframe\">\n",
       "  <thead>\n",
       "    <tr style=\"text-align: right;\">\n",
       "      <th></th>\n",
       "      <th>gpa</th>\n",
       "      <th>gre</th>\n",
       "    </tr>\n",
       "  </thead>\n",
       "  <tbody>\n",
       "    <tr>\n",
       "      <th>gpa</th>\n",
       "      <td>1.000000</td>\n",
       "      <td>0.382408</td>\n",
       "    </tr>\n",
       "    <tr>\n",
       "      <th>gre</th>\n",
       "      <td>0.382408</td>\n",
       "      <td>1.000000</td>\n",
       "    </tr>\n",
       "  </tbody>\n",
       "</table>\n",
       "</div>"
      ],
      "text/plain": [
       "          gpa       gre\n",
       "gpa  1.000000  0.382408\n",
       "gre  0.382408  1.000000"
      ]
     },
     "execution_count": 7,
     "metadata": {},
     "output_type": "execute_result"
    }
   ],
   "source": [
    "df_clean[['gpa', 'gre']].corr()"
   ]
  },
  {
   "cell_type": "code",
   "execution_count": 10,
   "metadata": {},
   "outputs": [
    {
     "data": {
      "text/plain": [
       "<matplotlib.axes._subplots.AxesSubplot at 0x1c1e778450>"
      ]
     },
     "execution_count": 10,
     "metadata": {},
     "output_type": "execute_result"
    },
    {
     "data": {
      "image/png": "[encoded data removed]",
      "text/plain": [
       "<matplotlib.figure.Figure at 0x1c1e878a90>"
      ]
     },
     "metadata": {},
     "output_type": "display_data"
    }
   ],
   "source": [
    "sns.heatmap(df_clean[['gpa', 'gre']].corr())"
   ]
  },
  {
   "cell_type": "code",
   "execution_count": 11,
   "metadata": {},
   "outputs": [
    {
     "data": {
      "text/plain": [
       "<matplotlib.axes._subplots.AxesSubplot at 0x1c1e8e0210>"
      ]
     },
     "execution_count": 11,
     "metadata": {},
     "output_type": "execute_result"
    },
    {
     "data": {
      "image/png": "[encoded data removed]",
      "text/plain": [
       "<matplotlib.figure.Figure at 0x1c1e98b1d0>"
      ]
     },
     "metadata": {},
     "output_type": "display_data"
    }
   ],
   "source": [
    "sns.heatmap(df_clean.corr())"
   ]
  },
  {
   "cell_type": "code",
   "execution_count": 13,
   "metadata": {},
   "outputs": [
    {
     "data": {
      "text/plain": [
       "admit       40\n",
       "gre         40\n",
       "gpa         40\n",
       "prestige    40\n",
       "dtype: int64"
      ]
     },
     "execution_count": 13,
     "metadata": {},
     "output_type": "execute_result"
    }
   ],
   "source": [
    "# Play around with different value bounds for gpa and gre below to see when the counts become disproprtionate\n",
    "# from what would be expected in a normal distribution of data\n",
    "df_high_gpa = df_clean[(df_clean['gpa']>3.75) & (df_clean['prestige']<3.0)]\n",
    "df_high_gpa.count()"
   ]
  },
  {
   "cell_type": "code",
   "execution_count": 16,
   "metadata": {},
   "outputs": [
    {
     "data": {
      "text/plain": [
       "Text(0,0.5,u'gre')"
      ]
     },
     "execution_count": 16,
     "metadata": {},
     "output_type": "execute_result"
    },
    {
     "data": {
      "image/png": "[encoded data removed]",
      "text/plain": [
       "<matplotlib.figure.Figure at 0x1c1eaefb90>"
      ]
     },
     "metadata": {},
     "output_type": "display_data"
    }
   ],
   "source": [
    "#Plot gpa versus gre - it is easier to see the whole picture in a graph...\n",
    "plt.scatter(df_clean['gpa'], df_clean['gre'])\n",
    "plt.xlabel(\"gpa\")\n",
    "plt.ylabel(\"gre\")"
   ]
  },
  {
   "cell_type": "markdown",
   "metadata": {},
   "source": [
    "This shows that there are a lot of students with low(er) GPA's that are getting high/max GRE scores which is obviously disproportionate, especially since most of the points tend upwards to the right as expected."
   ]
  },
  {
   "cell_type": "code",
   "execution_count": 33,
   "metadata": {},
   "outputs": [
    {
     "data": {
      "text/html": [
       "<div>\n",
       "<style>\n",
       "    .dataframe thead tr:only-child th {\n",
       "        text-align: right;\n",
       "    }\n",
       "\n",
       "    .dataframe thead th {\n",
       "        text-align: left;\n",
       "    }\n",
       "\n",
       "    .dataframe tbody tr th {\n",
       "        vertical-align: top;\n",
       "    }\n",
       "</style>\n",
       "<table border=\"1\" class=\"dataframe\">\n",
       "  <thead>\n",
       "    <tr style=\"text-align: right;\">\n",
       "      <th></th>\n",
       "      <th>admit</th>\n",
       "      <th>gre</th>\n",
       "      <th>gpa</th>\n",
       "      <th>prestige</th>\n",
       "    </tr>\n",
       "  </thead>\n",
       "  <tbody>\n",
       "    <tr>\n",
       "      <th>0</th>\n",
       "      <td>0</td>\n",
       "      <td>380.0</td>\n",
       "      <td>3.61</td>\n",
       "      <td>3.0</td>\n",
       "    </tr>\n",
       "    <tr>\n",
       "      <th>1</th>\n",
       "      <td>1</td>\n",
       "      <td>660.0</td>\n",
       "      <td>3.67</td>\n",
       "      <td>3.0</td>\n",
       "    </tr>\n",
       "    <tr>\n",
       "      <th>2</th>\n",
       "      <td>1</td>\n",
       "      <td>800.0</td>\n",
       "      <td>4.00</td>\n",
       "      <td>1.0</td>\n",
       "    </tr>\n",
       "    <tr>\n",
       "      <th>3</th>\n",
       "      <td>1</td>\n",
       "      <td>640.0</td>\n",
       "      <td>3.19</td>\n",
       "      <td>4.0</td>\n",
       "    </tr>\n",
       "    <tr>\n",
       "      <th>4</th>\n",
       "      <td>0</td>\n",
       "      <td>520.0</td>\n",
       "      <td>2.93</td>\n",
       "      <td>4.0</td>\n",
       "    </tr>\n",
       "  </tbody>\n",
       "</table>\n",
       "</div>"
      ],
      "text/plain": [
       "   admit    gre   gpa  prestige\n",
       "0      0  380.0  3.61       3.0\n",
       "1      1  660.0  3.67       3.0\n",
       "2      1  800.0  4.00       1.0\n",
       "3      1  640.0  3.19       4.0\n",
       "4      0  520.0  2.93       4.0"
      ]
     },
     "execution_count": 33,
     "metadata": {},
     "output_type": "execute_result"
    }
   ],
   "source": [
    "counts = {}\n",
    "\n",
    "df_clean.head()\n",
    "\n"
   ]
  },
  {
   "cell_type": "code",
   "execution_count": 47,
   "metadata": {},
   "outputs": [
    {
     "name": "stdout",
     "output_type": "stream",
     "text": [
      "0.0, 380.0\n",
      "1.0, 660.0\n",
      "1.0, 800.0\n",
      "1.0, 640.0\n",
      "0.0, 520.0\n",
      "1.0, 760.0\n",
      "1.0, 560.0\n",
      "0.0, 400.0\n",
      "1.0, 540.0\n",
      "0.0, 700.0\n",
      "0.0, 800.0\n",
      "0.0, 440.0\n",
      "1.0, 760.0\n",
      "0.0, 700.0\n",
      "1.0, 700.0\n",
      "0.0, 480.0\n",
      "0.0, 780.0\n",
      "0.0, 360.0\n",
      "0.0, 800.0\n",
      "1.0, 540.0\n",
      "0.0, 500.0\n",
      "1.0, 660.0\n",
      "0.0, 600.0\n",
      "0.0, 680.0\n",
      "1.0, 760.0\n",
      "1.0, 800.0\n",
      "1.0, 620.0\n",
      "1.0, 520.0\n",
      "1.0, 780.0\n",
      "0.0, 520.0\n",
      "0.0, 540.0\n",
      "0.0, 760.0\n",
      "0.0, 600.0\n",
      "1.0, 800.0\n",
      "0.0, 360.0\n",
      "0.0, 400.0\n",
      "0.0, 580.0\n",
      "0.0, 520.0\n",
      "1.0, 500.0\n",
      "1.0, 520.0\n",
      "0.0, 560.0\n",
      "1.0, 580.0\n",
      "1.0, 600.0\n",
      "0.0, 500.0\n",
      "0.0, 700.0\n",
      "1.0, 460.0\n",
      "1.0, 580.0\n",
      "0.0, 500.0\n",
      "0.0, 440.0\n",
      "0.0, 400.0\n",
      "0.0, 640.0\n",
      "0.0, 440.0\n",
      "0.0, 740.0\n",
      "1.0, 680.0\n",
      "0.0, 660.0\n",
      "1.0, 740.0\n",
      "0.0, 560.0\n",
      "0.0, 380.0\n",
      "0.0, 400.0\n",
      "0.0, 600.0\n",
      "1.0, 620.0\n",
      "0.0, 560.0\n",
      "0.0, 640.0\n",
      "1.0, 680.0\n",
      "0.0, 580.0\n",
      "0.0, 600.0\n",
      "0.0, 740.0\n",
      "0.0, 620.0\n",
      "0.0, 580.0\n",
      "0.0, 800.0\n",
      "0.0, 640.0\n",
      "0.0, 300.0\n",
      "0.0, 480.0\n",
      "0.0, 580.0\n",
      "0.0, 720.0\n",
      "0.0, 720.0\n",
      "0.0, 560.0\n",
      "1.0, 800.0\n",
      "0.0, 540.0\n",
      "1.0, 620.0\n",
      "0.0, 700.0\n",
      "0.0, 620.0\n",
      "0.0, 500.0\n",
      "0.0, 380.0\n",
      "1.0, 500.0\n",
      "0.0, 520.0\n",
      "0.0, 600.0\n",
      "0.0, 600.0\n",
      "0.0, 700.0\n",
      "1.0, 660.0\n",
      "0.0, 700.0\n",
      "1.0, 720.0\n",
      "0.0, 800.0\n",
      "0.0, 580.0\n",
      "1.0, 660.0\n",
      "0.0, 660.0\n",
      "0.0, 640.0\n",
      "0.0, 480.0\n",
      "0.0, 700.0\n",
      "0.0, 400.0\n",
      "0.0, 340.0\n",
      "0.0, 580.0\n",
      "0.0, 380.0\n",
      "0.0, 540.0\n",
      "1.0, 660.0\n",
      "1.0, 740.0\n",
      "1.0, 700.0\n",
      "0.0, 480.0\n",
      "0.0, 400.0\n",
      "0.0, 480.0\n",
      "0.0, 680.0\n",
      "0.0, 420.0\n",
      "0.0, 360.0\n",
      "0.0, 600.0\n",
      "0.0, 720.0\n",
      "0.0, 620.0\n",
      "1.0, 440.0\n",
      "0.0, 700.0\n",
      "1.0, 800.0\n",
      "0.0, 340.0\n",
      "1.0, 520.0\n",
      "1.0, 480.0\n",
      "0.0, 520.0\n",
      "0.0, 500.0\n",
      "0.0, 720.0\n",
      "0.0, 540.0\n",
      "1.0, 600.0\n",
      "0.0, 740.0\n",
      "0.0, 540.0\n",
      "0.0, 460.0\n",
      "1.0, 620.0\n",
      "0.0, 640.0\n",
      "0.0, 580.0\n",
      "0.0, 500.0\n",
      "0.0, 560.0\n",
      "0.0, 500.0\n",
      "0.0, 560.0\n",
      "0.0, 700.0\n",
      "0.0, 620.0\n",
      "1.0, 600.0\n",
      "0.0, 640.0\n",
      "1.0, 700.0\n",
      "0.0, 620.0\n",
      "0.0, 580.0\n",
      "0.0, 580.0\n",
      "0.0, 380.0\n",
      "0.0, 480.0\n",
      "0.0, 560.0\n",
      "1.0, 480.0\n",
      "0.0, 740.0\n",
      "1.0, 800.0\n",
      "0.0, 400.0\n",
      "1.0, 640.0\n",
      "0.0, 580.0\n",
      "0.0, 620.0\n",
      "1.0, 580.0\n",
      "0.0, 560.0\n",
      "1.0, 480.0\n",
      "0.0, 660.0\n",
      "0.0, 700.0\n",
      "0.0, 600.0\n",
      "0.0, 640.0\n",
      "1.0, 700.0\n",
      "0.0, 520.0\n",
      "0.0, 580.0\n",
      "0.0, 700.0\n",
      "0.0, 440.0\n",
      "0.0, 720.0\n",
      "0.0, 500.0\n",
      "0.0, 600.0\n",
      "0.0, 400.0\n",
      "0.0, 540.0\n",
      "0.0, 680.0\n",
      "1.0, 800.0\n",
      "0.0, 500.0\n",
      "1.0, 620.0\n",
      "0.0, 520.0\n",
      "1.0, 620.0\n",
      "0.0, 620.0\n",
      "0.0, 300.0\n",
      "0.0, 620.0\n",
      "0.0, 500.0\n",
      "0.0, 700.0\n",
      "1.0, 540.0\n",
      "0.0, 500.0\n",
      "0.0, 800.0\n",
      "0.0, 560.0\n",
      "0.0, 560.0\n",
      "0.0, 500.0\n",
      "1.0, 640.0\n",
      "0.0, 800.0\n",
      "0.0, 640.0\n",
      "0.0, 380.0\n",
      "1.0, 600.0\n",
      "0.0, 560.0\n",
      "0.0, 660.0\n",
      "1.0, 400.0\n",
      "0.0, 600.0\n",
      "0.0, 580.0\n",
      "0.0, 800.0\n",
      "1.0, 580.0\n",
      "1.0, 700.0\n",
      "0.0, 420.0\n",
      "1.0, 600.0\n",
      "1.0, 780.0\n",
      "0.0, 740.0\n",
      "1.0, 640.0\n",
      "0.0, 540.0\n",
      "0.0, 580.0\n",
      "0.0, 740.0\n",
      "0.0, 580.0\n",
      "0.0, 640.0\n",
      "1.0, 600.0\n",
      "1.0, 660.0\n",
      "0.0, 340.0\n",
      "1.0, 460.0\n",
      "0.0, 460.0\n",
      "1.0, 560.0\n",
      "0.0, 540.0\n",
      "0.0, 680.0\n",
      "1.0, 480.0\n",
      "0.0, 800.0\n",
      "0.0, 800.0\n",
      "1.0, 720.0\n",
      "0.0, 620.0\n",
      "0.0, 540.0\n",
      "0.0, 480.0\n",
      "1.0, 720.0\n",
      "0.0, 580.0\n",
      "0.0, 600.0\n",
      "0.0, 380.0\n",
      "0.0, 420.0\n",
      "1.0, 800.0\n",
      "0.0, 620.0\n",
      "0.0, 480.0\n",
      "0.0, 500.0\n",
      "0.0, 700.0\n",
      "0.0, 440.0\n",
      "1.0, 520.0\n",
      "1.0, 680.0\n",
      "0.0, 620.0\n",
      "0.0, 540.0\n",
      "0.0, 800.0\n",
      "0.0, 680.0\n",
      "0.0, 440.0\n",
      "0.0, 680.0\n",
      "0.0, 640.0\n",
      "0.0, 660.0\n",
      "0.0, 620.0\n",
      "1.0, 520.0\n",
      "1.0, 540.0\n",
      "1.0, 740.0\n",
      "0.0, 640.0\n",
      "1.0, 520.0\n",
      "1.0, 620.0\n",
      "0.0, 520.0\n",
      "0.0, 640.0\n",
      "0.0, 680.0\n",
      "0.0, 440.0\n",
      "1.0, 520.0\n",
      "1.0, 620.0\n",
      "1.0, 520.0\n",
      "0.0, 380.0\n",
      "0.0, 560.0\n",
      "1.0, 600.0\n",
      "1.0, 680.0\n",
      "0.0, 500.0\n",
      "1.0, 640.0\n",
      "0.0, 540.0\n",
      "1.0, 680.0\n",
      "0.0, 660.0\n",
      "0.0, 520.0\n",
      "1.0, 600.0\n",
      "0.0, 460.0\n",
      "1.0, 580.0\n",
      "1.0, 680.0\n",
      "1.0, 660.0\n",
      "0.0, 660.0\n",
      "0.0, 360.0\n",
      "0.0, 660.0\n",
      "0.0, 520.0\n",
      "1.0, 440.0\n",
      "0.0, 600.0\n",
      "1.0, 800.0\n",
      "1.0, 660.0\n",
      "0.0, 800.0\n",
      "0.0, 420.0\n",
      "1.0, 620.0\n",
      "0.0, 800.0\n",
      "0.0, 680.0\n",
      "0.0, 800.0\n",
      "0.0, 480.0\n",
      "0.0, 520.0\n",
      "0.0, 560.0\n",
      "0.0, 460.0\n",
      "0.0, 540.0\n",
      "0.0, 720.0\n",
      "0.0, 640.0\n",
      "1.0, 660.0\n",
      "1.0, 400.0\n",
      "1.0, 680.0\n",
      "0.0, 220.0\n",
      "0.0, 580.0\n",
      "1.0, 540.0\n",
      "0.0, 580.0\n",
      "0.0, 540.0\n",
      "0.0, 440.0\n",
      "0.0, 560.0\n",
      "0.0, 660.0\n",
      "0.0, 660.0\n",
      "1.0, 520.0\n",
      "0.0, 540.0\n",
      "1.0, 300.0\n",
      "1.0, 340.0\n",
      "1.0, 780.0\n",
      "1.0, 480.0\n",
      "0.0, 540.0\n",
      "0.0, 460.0\n",
      "0.0, 460.0\n",
      "0.0, 500.0\n",
      "0.0, 420.0\n",
      "0.0, 520.0\n",
      "0.0, 680.0\n",
      "0.0, 680.0\n",
      "1.0, 560.0\n",
      "0.0, 580.0\n",
      "0.0, 500.0\n",
      "0.0, 740.0\n",
      "0.0, 660.0\n",
      "0.0, 420.0\n",
      "0.0, 560.0\n",
      "1.0, 460.0\n",
      "1.0, 620.0\n",
      "0.0, 520.0\n",
      "0.0, 620.0\n",
      "0.0, 540.0\n",
      "1.0, 660.0\n",
      "0.0, 500.0\n",
      "1.0, 560.0\n",
      "0.0, 500.0\n",
      "0.0, 580.0\n",
      "0.0, 520.0\n",
      "0.0, 500.0\n",
      "0.0, 600.0\n",
      "0.0, 580.0\n",
      "0.0, 400.0\n",
      "0.0, 620.0\n",
      "1.0, 780.0\n",
      "0.0, 620.0\n",
      "1.0, 580.0\n",
      "0.0, 700.0\n",
      "1.0, 540.0\n",
      "1.0, 760.0\n",
      "0.0, 700.0\n",
      "0.0, 720.0\n",
      "1.0, 560.0\n",
      "0.0, 720.0\n",
      "1.0, 520.0\n",
      "1.0, 540.0\n",
      "0.0, 680.0\n",
      "0.0, 460.0\n",
      "1.0, 560.0\n",
      "0.0, 480.0\n",
      "0.0, 460.0\n",
      "0.0, 620.0\n",
      "0.0, 580.0\n",
      "0.0, 800.0\n",
      "1.0, 540.0\n",
      "1.0, 680.0\n",
      "1.0, 680.0\n",
      "1.0, 620.0\n",
      "0.0, 560.0\n",
      "0.0, 560.0\n",
      "0.0, 620.0\n",
      "1.0, 800.0\n",
      "0.0, 640.0\n",
      "0.0, 540.0\n",
      "0.0, 700.0\n",
      "1.0, 540.0\n",
      "0.0, 540.0\n",
      "0.0, 660.0\n",
      "1.0, 480.0\n",
      "0.0, 420.0\n",
      "1.0, 740.0\n",
      "0.0, 580.0\n",
      "0.0, 640.0\n",
      "0.0, 640.0\n",
      "1.0, 800.0\n",
      "1.0, 660.0\n",
      "1.0, 600.0\n",
      "1.0, 620.0\n",
      "1.0, 460.0\n",
      "0.0, 620.0\n",
      "0.0, 560.0\n",
      "0.0, 460.0\n",
      "0.0, 700.0\n",
      "0.0, 600.0\n"
     ]
    }
   ],
   "source": [
    "for index, row in df_clean.iterrows():\n",
    "    \n",
    "    admit = row['admit']\n",
    "    value = row['gre']\n",
    "    \n",
    "    print \"%s, %s\" % (admit, value)\n",
    "    "
   ]
  },
  {
   "cell_type": "code",
   "execution_count": 146,
   "metadata": {},
   "outputs": [
    {
     "data": {
      "image/png": "[encoded data removed]",
      "text/plain": [
       "<matplotlib.figure.Figure at 0x1c1eb01810>"
      ]
     },
     "metadata": {},
     "output_type": "display_data"
    }
   ],
   "source": [
    "# Let's get a histogram of the admit counts versus the gpa, gre, and prestige...\n",
    "\n",
    "def plot_admit_counts(input_col):\n",
    "    counts = {}\n",
    "\n",
    "    for index, row in df_clean.iterrows():\n",
    "        admit_val = row['admit']\n",
    "        input_val = row[input_col]\n",
    "\n",
    "        if input_val in counts:  \n",
    "            if (admit_val == 1.0):\n",
    "                counts[input_val]['admitted'] += 1.0\n",
    "            else:\n",
    "                counts[input_val]['rejected'] += 1.0\n",
    "        else:\n",
    "            if (admit_val == 1.0):\n",
    "                counts[input_val] = {'admitted': 1.0, 'rejected': 0.0}\n",
    "            else:\n",
    "                counts[input_val] = {'admitted': 0.0, 'rejected': 1.0}\n",
    "    \n",
    "    df_counts = (pd.DataFrame(counts)).T\n",
    "    #df_counts[input_col] = df_counts.index\n",
    "    #df_counts.index.names = [input_col]\n",
    "\n",
    "    #plt.bar(df_counts[input_col], df_counts['admitted'], color = 'b')\n",
    "    #plt.bar(df_counts[input_col], df_counts['rejected'], color = 'r', bottom = df_counts['rejected'])\n",
    "    #plt.show()\n",
    "    \n",
    "    \n",
    "    ax = df_counts[['admitted','rejected']].plot(kind='bar', figsize=(15, 10), legend=True, fontsize=16, color=['green', 'red'], stacked=True, )\n",
    "    title_str = \"How Admission Count Varies With '%s'\" % input_col\n",
    "    ax.set_title(title_str, fontsize=16)\n",
    "    ax.set_xlabel(input_col, fontsize=14)\n",
    "    ax.set_ylabel(\"Counts\", fontsize=14)\n",
    "    plt.legend(loc=1, fontsize = 'large')\n",
    "    plt.show()\n",
    "    \n",
    "    #return df_counts\n",
    "    \n",
    "\n",
    "plot_admit_counts('gre')\n"
   ]
  },
  {
   "cell_type": "code",
   "execution_count": 141,
   "metadata": {},
   "outputs": [
    {
     "data": {
      "image/png": "[encoded data removed]",
      "text/plain": [
       "<matplotlib.figure.Figure at 0x1c203fcb50>"
      ]
     },
     "metadata": {},
     "output_type": "display_data"
    }
   ],
   "source": [
    "plot_admit_counts('gpa')\n"
   ]
  },
  {
   "cell_type": "code",
   "execution_count": 143,
   "metadata": {},
   "outputs": [
    {
     "data": {
      "image/png": "[encoded data removed]",
      "text/plain": [
       "<matplotlib.figure.Figure at 0x1113288d0>"
      ]
     },
     "metadata": {},
     "output_type": "display_data"
    }
   ],
   "source": [
    "plot_admit_counts('prestige')"
   ]
  },
  {
   "cell_type": "markdown",
   "metadata": {},
   "source": [
    "#### Question 11. Which of our variables are potentially colinear? "
   ]
  },
  {
   "cell_type": "markdown",
   "metadata": {},
   "source": [
    "Answer: \n",
    "\n",
    "gpa and prestige, since they are on the same scale from 0.0 - 4.0"
   ]
  },
  {
   "cell_type": "code",
   "execution_count": 17,
   "metadata": {},
   "outputs": [
    {
     "data": {
      "text/html": [
       "<div>\n",
       "<style>\n",
       "    .dataframe thead tr:only-child th {\n",
       "        text-align: right;\n",
       "    }\n",
       "\n",
       "    .dataframe thead th {\n",
       "        text-align: left;\n",
       "    }\n",
       "\n",
       "    .dataframe tbody tr th {\n",
       "        vertical-align: top;\n",
       "    }\n",
       "</style>\n",
       "<table border=\"1\" class=\"dataframe\">\n",
       "  <thead>\n",
       "    <tr style=\"text-align: right;\">\n",
       "      <th></th>\n",
       "      <th>admit</th>\n",
       "      <th>gre</th>\n",
       "      <th>gpa</th>\n",
       "      <th>prestige</th>\n",
       "    </tr>\n",
       "  </thead>\n",
       "  <tbody>\n",
       "    <tr>\n",
       "      <th>admit</th>\n",
       "      <td>1.000000</td>\n",
       "      <td>0.181202</td>\n",
       "      <td>0.174116</td>\n",
       "      <td>-0.243563</td>\n",
       "    </tr>\n",
       "    <tr>\n",
       "      <th>gre</th>\n",
       "      <td>0.181202</td>\n",
       "      <td>1.000000</td>\n",
       "      <td>0.382408</td>\n",
       "      <td>-0.124533</td>\n",
       "    </tr>\n",
       "    <tr>\n",
       "      <th>gpa</th>\n",
       "      <td>0.174116</td>\n",
       "      <td>0.382408</td>\n",
       "      <td>1.000000</td>\n",
       "      <td>-0.060976</td>\n",
       "    </tr>\n",
       "    <tr>\n",
       "      <th>prestige</th>\n",
       "      <td>-0.243563</td>\n",
       "      <td>-0.124533</td>\n",
       "      <td>-0.060976</td>\n",
       "      <td>1.000000</td>\n",
       "    </tr>\n",
       "  </tbody>\n",
       "</table>\n",
       "</div>"
      ],
      "text/plain": [
       "             admit       gre       gpa  prestige\n",
       "admit     1.000000  0.181202  0.174116 -0.243563\n",
       "gre       0.181202  1.000000  0.382408 -0.124533\n",
       "gpa       0.174116  0.382408  1.000000 -0.060976\n",
       "prestige -0.243563 -0.124533 -0.060976  1.000000"
      ]
     },
     "execution_count": 17,
     "metadata": {},
     "output_type": "execute_result"
    }
   ],
   "source": [
    "# create a correlation matrix for the data\n",
    "df_clean.corr()\n"
   ]
  },
  {
   "cell_type": "code",
   "execution_count": 18,
   "metadata": {},
   "outputs": [
    {
     "data": {
      "text/plain": [
       "<matplotlib.axes._subplots.AxesSubplot at 0x1c1ef32bd0>"
      ]
     },
     "execution_count": 18,
     "metadata": {},
     "output_type": "execute_result"
    },
    {
     "data": {
      "image/png": "[encoded data removed]",
      "text/plain": [
       "<matplotlib.figure.Figure at 0x1c1ef44590>"
      ]
     },
     "metadata": {},
     "output_type": "display_data"
    }
   ],
   "source": [
    "sns.heatmap(df_clean.corr())"
   ]
  },
  {
   "cell_type": "markdown",
   "metadata": {},
   "source": [
    "#### Question 12. What did you find?"
   ]
  },
  {
   "cell_type": "markdown",
   "metadata": {},
   "source": [
    "Answer: \n",
    "\n",
    "Aa mentioned before there is a surprisingly low correlation between gpa and gre, but all correlations are low (as illustrated in the heat map) which is surprising. I would have expected a higher correlation between admit and each of the three other variables, and between all the variables.\n"
   ]
  },
  {
   "cell_type": "markdown",
   "metadata": {},
   "source": [
    "#### Question 13. Write an analysis plan for exploring the association between grad school admissions rates and prestige of  undergraduate schools."
   ]
  },
  {
   "cell_type": "markdown",
   "metadata": {},
   "source": [
    "Answer: \n",
    "\n",
    "1. Find the frequency counts of those applicants admitted versus rejected by prestige class of school\n",
    "2. Examine counts for unexpected disparity\n",
    "3. Plot bar chart of counts for prestige for visual comparison\n",
    "\n",
    "See code below that implements the above plan"
   ]
  },
  {
   "cell_type": "code",
   "execution_count": null,
   "metadata": {
    "collapsed": true
   },
   "outputs": [],
   "source": [
    "# Create a new dataframe with only admitted rows\n",
    "df_admit = df_clean[(df_clean['admit']==1.00)]\n",
    "\n",
    "# Reduce to only 'prestige' and 'admit' columns\n",
    "df_prestige_admit = df_admit[['prestige', 'admit']]\n",
    "\n",
    "# Get the total counts of the admitted students by prestige...\n",
    "df_prestige_admit_counts = df_prestige_admit['prestige'].value_counts()\n",
    "\n",
    "#df_prestige_admit_counts\n",
    "\n",
    "\n",
    "# Create a new dataframe with only rejected rows\n",
    "df_reject = df_clean[(df_clean['admit']==0.00)]\n",
    "\n",
    "# Reduce to only 'prestige' and 'admit' columns\n",
    "df_prestige_reject = df_reject[['prestige', 'admit']]\n",
    "\n",
    "# Get the total counts of the rejected students by prestige...\n",
    "df_prestige_reject_counts = df_prestige_reject['prestige'].value_counts()\n",
    "\n",
    "#df_prestige_reject_counts\n",
    "\n",
    "\n",
    "# Combine the two data frames\n",
    "df_combined = pd.concat([df_prestige_admit_counts, df_prestige_reject_counts], axis=1, join_axes=[df_prestige_admit_counts.index])\n",
    "\n",
    "# Sort the combined data frame in the numerical order of the prestige of the school...\n",
    "df_combined.sort_index(inplace=True)\n",
    "\n",
    "# Rename the columns for the output\n",
    "df_combined.columns = ['admitted', 'rejected']\n",
    "df_combined.index.names = ['prestige']\n",
    "\n",
    "# Display the results\n",
    "df_combined"
   ]
  },
  {
   "cell_type": "code",
   "execution_count": null,
   "metadata": {
    "collapsed": true
   },
   "outputs": [],
   "source": [
    "# Make a bar plot showing the relative distribution of admited to rejected by prestige of the school\n",
    "df_combined.plot(kind = \"bar\")"
   ]
  },
  {
   "cell_type": "markdown",
   "metadata": {},
   "source": [
    "#### Question 14. What is your hypothesis? "
   ]
  },
  {
   "cell_type": "markdown",
   "metadata": {},
   "source": [
    "Answer: \n",
    "\n",
    "My hypothesis is that there i"
   ]
  },
  {
   "cell_type": "markdown",
   "metadata": {},
   "source": [
    "## Bonus/Advanced"
   ]
  },
  {
   "cell_type": "markdown",
   "metadata": {},
   "source": [
    "#### 1. Bonus: Explore alternatives to dropping obervations with missing data"
   ]
  },
  {
   "cell_type": "markdown",
   "metadata": {},
   "source": [
    "#### 2. Bonus: Log transform the skewed data"
   ]
  },
  {
   "cell_type": "markdown",
   "metadata": {},
   "source": [
    "#### 3. Advanced: Impute missing data"
   ]
  }
 ],
 "metadata": {
  "kernelspec": {
   "display_name": "Python 2",
   "language": "python",
   "name": "python2"
  },
  "language_info": {
   "codemirror_mode": {
    "name": "ipython",
    "version": 2
   },
   "file_extension": ".py",
   "mimetype": "text/x-python",
   "name": "python",
   "nbconvert_exporter": "python",
   "pygments_lexer": "ipython2",
   "version": "2.7.14"
  }
 },
 "nbformat": 4,
 "nbformat_minor": 1
}
